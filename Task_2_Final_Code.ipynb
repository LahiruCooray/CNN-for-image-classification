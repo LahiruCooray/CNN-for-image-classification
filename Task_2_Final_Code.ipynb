{
  "cells": [
    {
      "cell_type": "markdown",
      "metadata": {
        "id": "view-in-github",
        "colab_type": "text"
      },
      "source": [
        "<a href=\"https://colab.research.google.com/github/nipuni1313/CNN-for-image-classification/blob/main/Task_2_Final_Code.ipynb\" target=\"_parent\"><img src=\"https://colab.research.google.com/assets/colab-badge.svg\" alt=\"Open In Colab\"/></a>"
      ]
    },
    {
      "cell_type": "markdown",
      "source": [
        "# Custom CNN creation & Evaluation\n"
      ],
      "metadata": {
        "id": "FHciMQ47z9_b"
      }
    },
    {
      "cell_type": "code",
      "execution_count": null,
      "metadata": {
        "colab": {
          "base_uri": "https://localhost:8080/",
          "height": 1000
        },
        "id": "KWy_XxKkWINx",
        "outputId": "b421ee2f-81dd-487d-d682-da495c79c615"
      },
      "outputs": [
        {
          "output_type": "stream",
          "name": "stdout",
          "text": [
            "--2024-12-12 09:04:12--  https://archive.ics.uci.edu/static/public/908/realwaste.zip\n",
            "Resolving archive.ics.uci.edu (archive.ics.uci.edu)... 128.195.10.252\n",
            "Connecting to archive.ics.uci.edu (archive.ics.uci.edu)|128.195.10.252|:443... connected.\n",
            "HTTP request sent, awaiting response... 200 OK\n",
            "Length: unspecified\n",
            "Saving to: ‘/content/realwaste.zip’\n",
            "\n",
            "/content/realwaste.     [             <=>    ] 463.09M  13.9MB/s    in 31s     \n",
            "\n",
            "2024-12-12 09:19:44 (14.8 MB/s) - Read error at byte 485584896 (Connection timed out).Retrying.\n",
            "\n",
            "--2024-12-12 09:19:45--  (try: 2)  https://archive.ics.uci.edu/static/public/908/realwaste.zip\n",
            "Connecting to archive.ics.uci.edu (archive.ics.uci.edu)|128.195.10.252|:443... connected.\n",
            "HTTP request sent, awaiting response... 200 OK\n",
            "Length: unspecified\n",
            "Saving to: ‘/content/realwaste.zip’\n",
            "\n",
            "/content/realwaste.     [               <=>  ] 541.37M  17.3MB/s    in 33s     \n",
            "\n",
            "2024-12-12 09:35:19 (16.3 MB/s) - Read error at byte 567668736 (Connection timed out).Retrying.\n",
            "\n",
            "--2024-12-12 09:35:21--  (try: 3)  https://archive.ics.uci.edu/static/public/908/realwaste.zip\n",
            "Connecting to archive.ics.uci.edu (archive.ics.uci.edu)|128.195.10.252|:443... connected.\n",
            "HTTP request sent, awaiting response... 200 OK\n",
            "Length: unspecified\n",
            "Saving to: ‘/content/realwaste.zip’\n",
            "\n",
            "/content/realwaste.     [       <=>          ] 473.84M  11.9MB/s    in 36s     \n",
            "\n",
            "2024-12-12 09:50:58 (13.1 MB/s) - Read error at byte 567668736 (Connection timed out).Retrying.\n",
            "\n",
            "--2024-12-12 09:51:01--  (try: 4)  https://archive.ics.uci.edu/static/public/908/realwaste.zip\n",
            "Connecting to archive.ics.uci.edu (archive.ics.uci.edu)|128.195.10.252|:443... connected.\n",
            "HTTP request sent, awaiting response... 200 OK\n",
            "Length: unspecified\n",
            "Saving to: ‘/content/realwaste.zip’\n",
            "\n",
            "/content/realwaste.     [            <=>     ] 656.65M  17.4MB/s    in 40s     \n",
            "\n",
            "2024-12-12 09:51:42 (16.3 MB/s) - ‘/content/realwaste.zip’ saved [688545323]\n",
            "\n"
          ]
        },
        {
          "output_type": "stream",
          "name": "stderr",
          "text": [
            "\rProcessing Images:   0%|          | 0/4752 [00:00<?, ?it/s]"
          ]
        },
        {
          "output_type": "stream",
          "name": "stdout",
          "text": [
            "Found 1 validated image filenames.\n",
            "Found 1 validated image filenames.\n",
            "Found 1 validated image filenames.\n",
            "Found 1 validated image filenames.\n",
            "Found 1 validated image filenames.\n",
            "Found 1 validated image filenames.\n",
            "Found 1 validated image filenames.\n"
          ]
        },
        {
          "output_type": "stream",
          "name": "stderr",
          "text": [
            "\rProcessing Images:   0%|          | 7/4752 [00:00<01:08, 69.44it/s]"
          ]
        },
        {
          "output_type": "stream",
          "name": "stdout",
          "text": [
            "Found 1 validated image filenames.\n",
            "Found 1 validated image filenames.\n",
            "Found 1 validated image filenames.\n",
            "Found 1 validated image filenames.\n",
            "Found 1 validated image filenames.\n",
            "Found 1 validated image filenames.\n",
            "Found 1 validated image filenames.\n",
            "Found 1 validated image filenames.\n",
            "Found 1 validated image filenames.\n",
            "Found 1 validated image filenames.\n",
            "Found 1 validated image filenames.\n",
            "Found 1 validated image filenames.\n",
            "Found 1 validated image filenames.\n",
            "Found 1 validated image filenames.\n",
            "Found 1 validated image filenames.\n",
            "Found 1 validated image filenames.\n"
          ]
        },
        {
          "output_type": "stream",
          "name": "stderr",
          "text": [
            "\rProcessing Images:   0%|          | 23/4752 [00:00<00:39, 120.94it/s]"
          ]
        },
        {
          "output_type": "stream",
          "name": "stdout",
          "text": [
            "Found 1 validated image filenames.\n",
            "Found 1 validated image filenames.\n",
            "Found 1 validated image filenames.\n",
            "Found 1 validated image filenames.\n",
            "Found 1 validated image filenames.\n",
            "Found 1 validated image filenames.\n",
            "Found 1 validated image filenames.\n",
            "Found 1 validated image filenames.\n",
            "Found 1 validated image filenames.\n",
            "Found 1 validated image filenames.\n",
            "Found 1 validated image filenames.\n",
            "Found 1 validated image filenames.\n",
            "Found 1 validated image filenames.\n",
            "Found 1 validated image filenames.\n",
            "Found 1 validated image filenames.\n"
          ]
        },
        {
          "output_type": "stream",
          "name": "stderr",
          "text": [
            "\rProcessing Images:   1%|          | 38/4752 [00:00<00:36, 130.77it/s]"
          ]
        },
        {
          "output_type": "stream",
          "name": "stdout",
          "text": [
            "Found 1 validated image filenames.\n",
            "Found 1 validated image filenames.\n",
            "Found 1 validated image filenames.\n",
            "Found 1 validated image filenames.\n",
            "Found 1 validated image filenames.\n",
            "Found 1 validated image filenames.\n",
            "Found 1 validated image filenames.\n",
            "Found 1 validated image filenames.\n",
            "Found 1 validated image filenames.\n",
            "Found 1 validated image filenames.\n",
            "Found 1 validated image filenames.\n",
            "Found 1 validated image filenames.\n",
            "Found 1 validated image filenames.\n",
            "Found 1 validated image filenames.\n"
          ]
        },
        {
          "output_type": "stream",
          "name": "stderr",
          "text": [
            "\rProcessing Images:   1%|          | 52/4752 [00:00<00:36, 130.53it/s]"
          ]
        },
        {
          "output_type": "stream",
          "name": "stdout",
          "text": [
            "Found 1 validated image filenames.\n",
            "Found 1 validated image filenames.\n",
            "Found 1 validated image filenames.\n",
            "Found 1 validated image filenames.\n",
            "Found 1 validated image filenames.\n",
            "Found 1 validated image filenames.\n",
            "Found 1 validated image filenames.\n",
            "Found 1 validated image filenames.\n",
            "Found 1 validated image filenames.\n",
            "Found 1 validated image filenames.\n",
            "Found 1 validated image filenames.\n",
            "Found 1 validated image filenames.\n",
            "Found 1 validated image filenames.\n",
            "Found 1 validated image filenames.\n"
          ]
        },
        {
          "output_type": "stream",
          "name": "stderr",
          "text": [
            "\rProcessing Images:   1%|▏         | 66/4752 [00:00<00:35, 133.59it/s]"
          ]
        },
        {
          "output_type": "stream",
          "name": "stdout",
          "text": [
            "Found 1 validated image filenames.\n",
            "Found 1 validated image filenames.\n",
            "Found 1 validated image filenames.\n",
            "Found 1 validated image filenames.\n",
            "Found 1 validated image filenames.\n",
            "Found 1 validated image filenames.\n",
            "Found 1 validated image filenames.\n",
            "Found 1 validated image filenames.\n",
            "Found 1 validated image filenames.\n",
            "Found 1 validated image filenames.\n",
            "Found 1 validated image filenames.\n",
            "Found 1 validated image filenames.\n",
            "Found 1 validated image filenames.\n",
            "Found 1 validated image filenames.\n",
            "Found 1 validated image filenames.\n"
          ]
        },
        {
          "output_type": "stream",
          "name": "stderr",
          "text": [
            "\rProcessing Images:   2%|▏         | 81/4752 [00:00<00:34, 136.12it/s]"
          ]
        },
        {
          "output_type": "stream",
          "name": "stdout",
          "text": [
            "Found 1 validated image filenames.\n",
            "Found 1 validated image filenames.\n",
            "Found 1 validated image filenames.\n",
            "Found 1 validated image filenames.\n",
            "Found 1 validated image filenames.\n",
            "Found 1 validated image filenames.\n",
            "Found 1 validated image filenames.\n",
            "Found 1 validated image filenames.\n",
            "Found 1 validated image filenames.\n",
            "Found 1 validated image filenames.\n",
            "Found 1 validated image filenames.\n",
            "Found 1 validated image filenames.\n",
            "Found 1 validated image filenames.\n",
            "Found 1 validated image filenames.\n",
            "Found 1 validated image filenames.\n"
          ]
        },
        {
          "output_type": "stream",
          "name": "stderr",
          "text": [
            "\rProcessing Images:   2%|▏         | 96/4752 [00:00<00:33, 139.05it/s]"
          ]
        },
        {
          "output_type": "stream",
          "name": "stdout",
          "text": [
            "Found 1 validated image filenames.\n",
            "Found 1 validated image filenames.\n",
            "Found 1 validated image filenames.\n",
            "Found 1 validated image filenames.\n",
            "Found 1 validated image filenames.\n",
            "Found 1 validated image filenames.\n",
            "Found 1 validated image filenames.\n",
            "Found 1 validated image filenames.\n",
            "Found 1 validated image filenames.\n",
            "Found 1 validated image filenames.\n",
            "Found 1 validated image filenames.\n",
            "Found 1 validated image filenames.\n",
            "Found 1 validated image filenames.\n",
            "Found 1 validated image filenames.\n",
            "Found 1 validated image filenames.\n",
            "Found 1 validated image filenames.\n"
          ]
        },
        {
          "output_type": "stream",
          "name": "stderr",
          "text": [
            "\rProcessing Images:   2%|▏         | 112/4752 [00:00<00:31, 145.48it/s]"
          ]
        },
        {
          "output_type": "stream",
          "name": "stdout",
          "text": [
            "Found 1 validated image filenames.\n",
            "Found 1 validated image filenames.\n",
            "Found 1 validated image filenames.\n",
            "Found 1 validated image filenames.\n",
            "Found 1 validated image filenames.\n",
            "Found 1 validated image filenames.\n",
            "Found 1 validated image filenames.\n",
            "Found 1 validated image filenames.\n",
            "Found 1 validated image filenames.\n",
            "Found 1 validated image filenames.\n",
            "Found 1 validated image filenames.\n",
            "Found 1 validated image filenames.\n",
            "Found 1 validated image filenames.\n",
            "Found 1 validated image filenames.\n",
            "Found 1 validated image filenames.\n"
          ]
        },
        {
          "output_type": "stream",
          "name": "stderr",
          "text": [
            "\rProcessing Images:   3%|▎         | 127/4752 [00:00<00:31, 146.77it/s]"
          ]
        },
        {
          "output_type": "stream",
          "name": "stdout",
          "text": [
            "Found 1 validated image filenames.\n",
            "Found 1 validated image filenames.\n",
            "Found 1 validated image filenames.\n",
            "Found 1 validated image filenames.\n",
            "Found 1 validated image filenames.\n",
            "Found 1 validated image filenames.\n",
            "Found 1 validated image filenames.\n",
            "Found 1 validated image filenames.\n",
            "Found 1 validated image filenames.\n",
            "Found 1 validated image filenames.\n",
            "Found 1 validated image filenames.\n",
            "Found 1 validated image filenames.\n",
            "Found 1 validated image filenames.\n",
            "Found 1 validated image filenames.\n",
            "Found 1 validated image filenames.\n",
            "Found 1 validated image filenames.\n"
          ]
        },
        {
          "output_type": "stream",
          "name": "stderr",
          "text": [
            "\rProcessing Images:   3%|▎         | 143/4752 [00:01<00:30, 149.80it/s]"
          ]
        },
        {
          "output_type": "stream",
          "name": "stdout",
          "text": [
            "Found 1 validated image filenames.\n",
            "Found 1 validated image filenames.\n",
            "Found 1 validated image filenames.\n",
            "Found 1 validated image filenames.\n",
            "Found 1 validated image filenames.\n",
            "Found 1 validated image filenames.\n",
            "Found 1 validated image filenames.\n",
            "Found 1 validated image filenames.\n",
            "Found 1 validated image filenames.\n",
            "Found 1 validated image filenames.\n",
            "Found 1 validated image filenames.\n",
            "Found 1 validated image filenames.\n",
            "Found 1 validated image filenames.\n",
            "Found 1 validated image filenames.\n",
            "Found 1 validated image filenames.\n",
            "Found 1 validated image filenames.\n",
            "Found 1 validated image filenames.\n"
          ]
        },
        {
          "output_type": "stream",
          "name": "stderr",
          "text": [
            "\rProcessing Images:   3%|▎         | 160/4752 [00:01<00:29, 153.43it/s]"
          ]
        },
        {
          "output_type": "stream",
          "name": "stdout",
          "text": [
            "Found 1 validated image filenames.\n",
            "Found 1 validated image filenames.\n",
            "Found 1 validated image filenames.\n",
            "Found 1 validated image filenames.\n",
            "Found 1 validated image filenames.\n",
            "Found 1 validated image filenames.\n",
            "Found 1 validated image filenames.\n",
            "Found 1 validated image filenames.\n",
            "Found 1 validated image filenames.\n",
            "Found 1 validated image filenames.\n",
            "Found 1 validated image filenames.\n",
            "Found 1 validated image filenames.\n",
            "Found 1 validated image filenames.\n",
            "Found 1 validated image filenames.\n",
            "Found 1 validated image filenames.\n",
            "Found 1 validated image filenames.\n"
          ]
        },
        {
          "output_type": "stream",
          "name": "stderr",
          "text": [
            "\rProcessing Images:   4%|▎         | 176/4752 [00:01<00:30, 151.07it/s]"
          ]
        },
        {
          "output_type": "stream",
          "name": "stdout",
          "text": [
            "Found 1 validated image filenames.\n",
            "Found 1 validated image filenames.\n",
            "Found 1 validated image filenames.\n",
            "Found 1 validated image filenames.\n",
            "Found 1 validated image filenames.\n",
            "Found 1 validated image filenames.\n",
            "Found 1 validated image filenames.\n",
            "Found 1 validated image filenames.\n",
            "Found 1 validated image filenames.\n",
            "Found 1 validated image filenames.\n",
            "Found 1 validated image filenames.\n",
            "Found 1 validated image filenames.\n",
            "Found 1 validated image filenames.\n",
            "Found 1 validated image filenames.\n",
            "Found 1 validated image filenames.\n",
            "Found 1 validated image filenames.\n"
          ]
        },
        {
          "output_type": "stream",
          "name": "stderr",
          "text": [
            "\rProcessing Images:   4%|▍         | 192/4752 [00:01<00:31, 143.49it/s]"
          ]
        },
        {
          "output_type": "stream",
          "name": "stdout",
          "text": [
            "Found 1 validated image filenames.\n",
            "Found 1 validated image filenames.\n",
            "Found 1 validated image filenames.\n",
            "Found 1 validated image filenames.\n",
            "Found 1 validated image filenames.\n",
            "Found 1 validated image filenames.\n",
            "Found 1 validated image filenames.\n",
            "Found 1 validated image filenames.\n",
            "Found 1 validated image filenames.\n",
            "Found 1 validated image filenames.\n",
            "Found 1 validated image filenames.\n",
            "Found 1 validated image filenames.\n",
            "Found 1 validated image filenames.\n",
            "Found 1 validated image filenames.\n",
            "Found 1 validated image filenames.\n"
          ]
        },
        {
          "output_type": "stream",
          "name": "stderr",
          "text": [
            "\rProcessing Images:   4%|▍         | 207/4752 [00:01<00:32, 141.07it/s]"
          ]
        },
        {
          "output_type": "stream",
          "name": "stdout",
          "text": [
            "Found 1 validated image filenames.\n",
            "Found 1 validated image filenames.\n",
            "Found 1 validated image filenames.\n",
            "Found 1 validated image filenames.\n",
            "Found 1 validated image filenames.\n",
            "Found 1 validated image filenames.\n",
            "Found 1 validated image filenames.\n",
            "Found 1 validated image filenames.\n",
            "Found 1 validated image filenames.\n",
            "Found 1 validated image filenames.\n",
            "Found 1 validated image filenames.\n",
            "Found 1 validated image filenames.\n",
            "Found 1 validated image filenames.\n",
            "Found 1 validated image filenames.\n",
            "Found 1 validated image filenames.\n"
          ]
        },
        {
          "output_type": "stream",
          "name": "stderr",
          "text": [
            "\rProcessing Images:   5%|▍         | 222/4752 [00:01<00:32, 140.08it/s]"
          ]
        },
        {
          "output_type": "stream",
          "name": "stdout",
          "text": [
            "Found 1 validated image filenames.\n",
            "Found 1 validated image filenames.\n",
            "Found 1 validated image filenames.\n",
            "Found 1 validated image filenames.\n",
            "Found 1 validated image filenames.\n",
            "Found 1 validated image filenames.\n",
            "Found 1 validated image filenames.\n",
            "Found 1 validated image filenames.\n",
            "Found 1 validated image filenames.\n",
            "Found 1 validated image filenames.\n",
            "Found 1 validated image filenames.\n",
            "Found 1 validated image filenames.\n",
            "Found 1 validated image filenames.\n",
            "Found 1 validated image filenames.\n",
            "Found 1 validated image filenames.\n"
          ]
        },
        {
          "output_type": "stream",
          "name": "stderr",
          "text": [
            "\rProcessing Images:   5%|▍         | 237/4752 [00:01<00:33, 134.41it/s]"
          ]
        },
        {
          "output_type": "stream",
          "name": "stdout",
          "text": [
            "Found 1 validated image filenames.\n",
            "Found 1 validated image filenames.\n",
            "Found 1 validated image filenames.\n",
            "Found 1 validated image filenames.\n",
            "Found 1 validated image filenames.\n",
            "Found 1 validated image filenames.\n",
            "Found 1 validated image filenames.\n",
            "Found 1 validated image filenames.\n",
            "Found 1 validated image filenames.\n",
            "Found 1 validated image filenames.\n",
            "Found 1 validated image filenames.\n",
            "Found 1 validated image filenames.\n",
            "Found 1 validated image filenames.\n",
            "Found 1 validated image filenames.\n"
          ]
        },
        {
          "output_type": "stream",
          "name": "stderr",
          "text": [
            "\rProcessing Images:   5%|▌         | 251/4752 [00:01<00:33, 132.86it/s]"
          ]
        },
        {
          "output_type": "stream",
          "name": "stdout",
          "text": [
            "Found 1 validated image filenames.\n",
            "Found 1 validated image filenames.\n",
            "Found 1 validated image filenames.\n",
            "Found 1 validated image filenames.\n",
            "Found 1 validated image filenames.\n",
            "Found 1 validated image filenames.\n",
            "Found 1 validated image filenames.\n",
            "Found 1 validated image filenames.\n",
            "Found 1 validated image filenames.\n",
            "Found 1 validated image filenames.\n",
            "Found 1 validated image filenames.\n",
            "Found 1 validated image filenames.\n",
            "Found 1 validated image filenames.\n",
            "Found 1 validated image filenames.\n"
          ]
        },
        {
          "output_type": "stream",
          "name": "stderr",
          "text": [
            "\rProcessing Images:   6%|▌         | 265/4752 [00:01<00:34, 129.78it/s]"
          ]
        },
        {
          "output_type": "stream",
          "name": "stdout",
          "text": [
            "Found 1 validated image filenames.\n",
            "Found 1 validated image filenames.\n",
            "Found 1 validated image filenames.\n",
            "Found 1 validated image filenames.\n",
            "Found 1 validated image filenames.\n",
            "Found 1 validated image filenames.\n",
            "Found 1 validated image filenames.\n",
            "Found 1 validated image filenames.\n",
            "Found 1 validated image filenames.\n",
            "Found 1 validated image filenames.\n",
            "Found 1 validated image filenames.\n",
            "Found 1 validated image filenames.\n",
            "Found 1 validated image filenames.\n",
            "Found 1 validated image filenames.\n"
          ]
        },
        {
          "output_type": "stream",
          "name": "stderr",
          "text": [
            "\rProcessing Images:   6%|▌         | 279/4752 [00:02<00:34, 128.86it/s]"
          ]
        },
        {
          "output_type": "stream",
          "name": "stdout",
          "text": [
            "Found 1 validated image filenames.\n",
            "Found 1 validated image filenames.\n",
            "Found 1 validated image filenames.\n",
            "Found 1 validated image filenames.\n",
            "Found 1 validated image filenames.\n",
            "Found 1 validated image filenames.\n",
            "Found 1 validated image filenames.\n",
            "Found 1 validated image filenames.\n",
            "Found 1 validated image filenames.\n",
            "Found 1 validated image filenames.\n",
            "Found 1 validated image filenames.\n",
            "Found 1 validated image filenames.\n",
            "Found 1 validated image filenames.\n"
          ]
        },
        {
          "output_type": "stream",
          "name": "stderr",
          "text": [
            "\rProcessing Images:   6%|▌         | 292/4752 [00:02<00:34, 128.59it/s]"
          ]
        },
        {
          "output_type": "stream",
          "name": "stdout",
          "text": [
            "Found 1 validated image filenames.\n",
            "Found 1 validated image filenames.\n",
            "Found 1 validated image filenames.\n",
            "Found 1 validated image filenames.\n",
            "Found 1 validated image filenames.\n",
            "Found 1 validated image filenames.\n",
            "Found 1 validated image filenames.\n",
            "Found 1 validated image filenames.\n",
            "Found 1 validated image filenames.\n",
            "Found 1 validated image filenames.\n",
            "Found 1 validated image filenames.\n",
            "Found 1 validated image filenames.\n",
            "Found 1 validated image filenames.\n",
            "Found 1 validated image filenames.\n"
          ]
        },
        {
          "output_type": "stream",
          "name": "stderr",
          "text": [
            "\rProcessing Images:   6%|▋         | 306/4752 [00:02<00:33, 130.91it/s]"
          ]
        },
        {
          "output_type": "stream",
          "name": "stdout",
          "text": [
            "Found 1 validated image filenames.\n",
            "Found 1 validated image filenames.\n",
            "Found 1 validated image filenames.\n",
            "Found 1 validated image filenames.\n",
            "Found 1 validated image filenames.\n",
            "Found 1 validated image filenames.\n",
            "Found 1 validated image filenames.\n",
            "Found 1 validated image filenames.\n",
            "Found 1 validated image filenames.\n",
            "Found 1 validated image filenames.\n",
            "Found 1 validated image filenames.\n",
            "Found 1 validated image filenames.\n",
            "Found 1 validated image filenames.\n",
            "Found 1 validated image filenames.\n"
          ]
        },
        {
          "output_type": "stream",
          "name": "stderr",
          "text": [
            "\rProcessing Images:   7%|▋         | 320/4752 [00:02<00:34, 130.13it/s]"
          ]
        },
        {
          "output_type": "stream",
          "name": "stdout",
          "text": [
            "Found 1 validated image filenames.\n",
            "Found 1 validated image filenames.\n",
            "Found 1 validated image filenames.\n",
            "Found 1 validated image filenames.\n",
            "Found 1 validated image filenames.\n",
            "Found 1 validated image filenames.\n",
            "Found 1 validated image filenames.\n",
            "Found 1 validated image filenames.\n",
            "Found 1 validated image filenames.\n",
            "Found 1 validated image filenames.\n",
            "Found 1 validated image filenames.\n",
            "Found 1 validated image filenames.\n",
            "Found 1 validated image filenames.\n",
            "Found 1 validated image filenames.\n"
          ]
        },
        {
          "output_type": "stream",
          "name": "stderr",
          "text": [
            "\rProcessing Images:   7%|▋         | 334/4752 [00:02<00:34, 127.46it/s]"
          ]
        },
        {
          "output_type": "stream",
          "name": "stdout",
          "text": [
            "Found 1 validated image filenames.\n",
            "Found 1 validated image filenames.\n",
            "Found 1 validated image filenames.\n",
            "Found 1 validated image filenames.\n",
            "Found 1 validated image filenames.\n",
            "Found 1 validated image filenames.\n",
            "Found 1 validated image filenames.\n",
            "Found 1 validated image filenames.\n",
            "Found 1 validated image filenames.\n",
            "Found 1 validated image filenames.\n",
            "Found 1 validated image filenames.\n",
            "Found 1 validated image filenames.\n",
            "Found 1 validated image filenames.\n"
          ]
        },
        {
          "output_type": "stream",
          "name": "stderr",
          "text": [
            "\rProcessing Images:   7%|▋         | 347/4752 [00:02<00:34, 126.98it/s]"
          ]
        },
        {
          "output_type": "stream",
          "name": "stdout",
          "text": [
            "Found 1 validated image filenames.\n",
            "Found 1 validated image filenames.\n",
            "Found 1 validated image filenames.\n",
            "Found 1 validated image filenames.\n",
            "Found 1 validated image filenames.\n",
            "Found 1 validated image filenames.\n",
            "Found 1 validated image filenames.\n",
            "Found 1 validated image filenames.\n",
            "Found 1 validated image filenames.\n",
            "Found 1 validated image filenames.\n",
            "Found 1 validated image filenames.\n",
            "Found 1 validated image filenames.\n",
            "Found 1 validated image filenames.\n"
          ]
        },
        {
          "output_type": "stream",
          "name": "stderr",
          "text": [
            "\rProcessing Images:   8%|▊         | 360/4752 [00:02<00:34, 126.37it/s]"
          ]
        },
        {
          "output_type": "stream",
          "name": "stdout",
          "text": [
            "Found 1 validated image filenames.\n",
            "Found 1 validated image filenames.\n",
            "Found 1 validated image filenames.\n",
            "Found 1 validated image filenames.\n",
            "Found 1 validated image filenames.\n",
            "Found 1 validated image filenames.\n",
            "Found 1 validated image filenames.\n",
            "Found 1 validated image filenames.\n",
            "Found 1 validated image filenames.\n",
            "Found 1 validated image filenames.\n",
            "Found 1 validated image filenames.\n",
            "Found 1 validated image filenames.\n",
            "Found 1 validated image filenames.\n"
          ]
        },
        {
          "output_type": "stream",
          "name": "stderr",
          "text": [
            "\rProcessing Images:   8%|▊         | 373/4752 [00:02<00:34, 125.39it/s]"
          ]
        },
        {
          "output_type": "stream",
          "name": "stdout",
          "text": [
            "Found 1 validated image filenames.\n",
            "Found 1 validated image filenames.\n",
            "Found 1 validated image filenames.\n",
            "Found 1 validated image filenames.\n",
            "Found 1 validated image filenames.\n",
            "Found 1 validated image filenames.\n",
            "Found 1 validated image filenames.\n",
            "Found 1 validated image filenames.\n",
            "Found 1 validated image filenames.\n",
            "Found 1 validated image filenames.\n",
            "Found 1 validated image filenames.\n",
            "Found 1 validated image filenames.\n",
            "Found 1 validated image filenames.\n",
            "Found 1 validated image filenames.\n",
            "Found 1 validated image filenames.\n"
          ]
        },
        {
          "output_type": "stream",
          "name": "stderr",
          "text": [
            "\rProcessing Images:   8%|▊         | 388/4752 [00:02<00:33, 131.38it/s]"
          ]
        },
        {
          "output_type": "stream",
          "name": "stdout",
          "text": [
            "Found 1 validated image filenames.\n",
            "Found 1 validated image filenames.\n",
            "Found 1 validated image filenames.\n",
            "Found 1 validated image filenames.\n",
            "Found 1 validated image filenames.\n",
            "Found 1 validated image filenames.\n",
            "Found 1 validated image filenames.\n",
            "Found 1 validated image filenames.\n",
            "Found 1 validated image filenames.\n",
            "Found 1 validated image filenames.\n",
            "Found 1 validated image filenames.\n",
            "Found 1 validated image filenames.\n",
            "Found 1 validated image filenames.\n",
            "Found 1 validated image filenames.\n",
            "Found 1 validated image filenames.\n"
          ]
        },
        {
          "output_type": "stream",
          "name": "stderr",
          "text": [
            "\rProcessing Images:   8%|▊         | 403/4752 [00:02<00:32, 135.71it/s]"
          ]
        },
        {
          "output_type": "stream",
          "name": "stdout",
          "text": [
            "Found 1 validated image filenames.\n",
            "Found 1 validated image filenames.\n",
            "Found 1 validated image filenames.\n",
            "Found 1 validated image filenames.\n",
            "Found 1 validated image filenames.\n",
            "Found 1 validated image filenames.\n",
            "Found 1 validated image filenames.\n",
            "Found 1 validated image filenames.\n",
            "Found 1 validated image filenames.\n",
            "Found 1 validated image filenames.\n",
            "Found 1 validated image filenames.\n",
            "Found 1 validated image filenames.\n",
            "Found 1 validated image filenames.\n",
            "Found 1 validated image filenames.\n",
            "Found 1 validated image filenames.\n"
          ]
        },
        {
          "output_type": "stream",
          "name": "stderr",
          "text": [
            "\rProcessing Images:   9%|▉         | 418/4752 [00:03<00:31, 138.99it/s]"
          ]
        },
        {
          "output_type": "stream",
          "name": "stdout",
          "text": [
            "Found 1 validated image filenames.\n",
            "Found 1 validated image filenames.\n",
            "Found 1 validated image filenames.\n",
            "Found 1 validated image filenames.\n",
            "Found 1 validated image filenames.\n",
            "Found 1 validated image filenames.\n",
            "Found 1 validated image filenames.\n",
            "Found 1 validated image filenames.\n",
            "Found 1 validated image filenames.\n",
            "Found 1 validated image filenames.\n",
            "Found 1 validated image filenames.\n",
            "Found 1 validated image filenames.\n",
            "Found 1 validated image filenames.\n",
            "Found 1 validated image filenames.\n",
            "Found 1 validated image filenames.\n"
          ]
        },
        {
          "output_type": "stream",
          "name": "stderr",
          "text": [
            "\rProcessing Images:   9%|▉         | 433/4752 [00:03<00:30, 141.12it/s]"
          ]
        },
        {
          "output_type": "stream",
          "name": "stdout",
          "text": [
            "Found 1 validated image filenames.\n",
            "Found 1 validated image filenames.\n",
            "Found 1 validated image filenames.\n",
            "Found 1 validated image filenames.\n",
            "Found 1 validated image filenames.\n",
            "Found 1 validated image filenames.\n",
            "Found 1 validated image filenames.\n",
            "Found 1 validated image filenames.\n",
            "Found 1 validated image filenames.\n",
            "Found 1 validated image filenames.\n",
            "Found 1 validated image filenames.\n",
            "Found 1 validated image filenames.\n",
            "Found 1 validated image filenames.\n",
            "Found 1 validated image filenames.\n",
            "Found 1 validated image filenames.\n"
          ]
        },
        {
          "output_type": "stream",
          "name": "stderr",
          "text": [
            "\rProcessing Images:   9%|▉         | 448/4752 [00:03<00:31, 137.41it/s]"
          ]
        },
        {
          "output_type": "stream",
          "name": "stdout",
          "text": [
            "Found 1 validated image filenames.\n",
            "Found 1 validated image filenames.\n",
            "Found 1 validated image filenames.\n",
            "Found 1 validated image filenames.\n",
            "Found 1 validated image filenames.\n",
            "Found 1 validated image filenames.\n",
            "Found 1 validated image filenames.\n",
            "Found 1 validated image filenames.\n",
            "Found 1 validated image filenames.\n",
            "Found 1 validated image filenames.\n",
            "Found 1 validated image filenames.\n",
            "Found 1 validated image filenames.\n",
            "Found 1 validated image filenames.\n",
            "Found 1 validated image filenames.\n"
          ]
        },
        {
          "output_type": "stream",
          "name": "stderr",
          "text": [
            "\rProcessing Images:  10%|▉         | 462/4752 [00:03<00:33, 129.47it/s]"
          ]
        },
        {
          "output_type": "stream",
          "name": "stdout",
          "text": [
            "Found 1 validated image filenames.\n",
            "Found 1 validated image filenames.\n",
            "Found 1 validated image filenames.\n",
            "Found 1 validated image filenames.\n",
            "Found 1 validated image filenames.\n",
            "Found 1 validated image filenames.\n",
            "Found 1 validated image filenames.\n",
            "Found 1 validated image filenames.\n",
            "Found 1 validated image filenames.\n",
            "Found 1 validated image filenames.\n",
            "Found 1 validated image filenames.\n",
            "Found 1 validated image filenames.\n",
            "Found 1 validated image filenames.\n",
            "Found 1 validated image filenames.\n"
          ]
        },
        {
          "output_type": "stream",
          "name": "stderr",
          "text": [
            "\rProcessing Images:  10%|█         | 476/4752 [00:03<00:33, 126.45it/s]"
          ]
        },
        {
          "output_type": "stream",
          "name": "stdout",
          "text": [
            "Found 1 validated image filenames.\n",
            "Found 1 validated image filenames.\n",
            "Found 1 validated image filenames.\n",
            "Found 1 validated image filenames.\n",
            "Found 1 validated image filenames.\n",
            "Found 1 validated image filenames.\n",
            "Found 1 validated image filenames.\n",
            "Found 1 validated image filenames.\n",
            "Found 1 validated image filenames.\n",
            "Found 1 validated image filenames.\n",
            "Found 1 validated image filenames.\n",
            "Found 1 validated image filenames.\n",
            "Found 1 validated image filenames.\n"
          ]
        },
        {
          "output_type": "stream",
          "name": "stderr",
          "text": [
            "\rProcessing Images:  10%|█         | 489/4752 [00:03<00:33, 125.90it/s]"
          ]
        },
        {
          "output_type": "stream",
          "name": "stdout",
          "text": [
            "Found 1 validated image filenames.\n",
            "Found 1 validated image filenames.\n",
            "Found 1 validated image filenames.\n",
            "Found 1 validated image filenames.\n",
            "Found 1 validated image filenames.\n",
            "Found 1 validated image filenames.\n",
            "Found 1 validated image filenames.\n",
            "Found 1 validated image filenames.\n",
            "Found 1 validated image filenames.\n",
            "Found 1 validated image filenames.\n",
            "Found 1 validated image filenames.\n",
            "Found 1 validated image filenames.\n",
            "Found 1 validated image filenames.\n",
            "Found 1 validated image filenames.\n"
          ]
        },
        {
          "output_type": "stream",
          "name": "stderr",
          "text": [
            "\rProcessing Images:  11%|█         | 503/4752 [00:03<00:33, 127.13it/s]"
          ]
        },
        {
          "output_type": "stream",
          "name": "stdout",
          "text": [
            "Found 1 validated image filenames.\n",
            "Found 1 validated image filenames.\n",
            "Found 1 validated image filenames.\n",
            "Found 1 validated image filenames.\n",
            "Found 1 validated image filenames.\n",
            "Found 1 validated image filenames.\n",
            "Found 1 validated image filenames.\n",
            "Found 1 validated image filenames.\n",
            "Found 1 validated image filenames.\n",
            "Found 1 validated image filenames.\n",
            "Found 1 validated image filenames.\n",
            "Found 1 validated image filenames.\n",
            "Found 1 validated image filenames.\n"
          ]
        },
        {
          "output_type": "stream",
          "name": "stderr",
          "text": [
            "\rProcessing Images:  11%|█         | 516/4752 [00:03<00:34, 123.67it/s]"
          ]
        },
        {
          "output_type": "stream",
          "name": "stdout",
          "text": [
            "Found 1 validated image filenames.\n",
            "Found 1 validated image filenames.\n",
            "Found 1 validated image filenames.\n",
            "Found 1 validated image filenames.\n",
            "Found 1 validated image filenames.\n",
            "Found 1 validated image filenames.\n",
            "Found 1 validated image filenames.\n",
            "Found 1 validated image filenames.\n",
            "Found 1 validated image filenames.\n",
            "Found 1 validated image filenames.\n",
            "Found 1 validated image filenames.\n",
            "Found 1 validated image filenames.\n",
            "Found 1 validated image filenames.\n"
          ]
        },
        {
          "output_type": "stream",
          "name": "stderr",
          "text": [
            "\rProcessing Images:  11%|█         | 529/4752 [00:03<00:34, 121.35it/s]"
          ]
        },
        {
          "output_type": "stream",
          "name": "stdout",
          "text": [
            "Found 1 validated image filenames.\n",
            "Found 1 validated image filenames.\n",
            "Found 1 validated image filenames.\n",
            "Found 1 validated image filenames.\n",
            "Found 1 validated image filenames.\n",
            "Found 1 validated image filenames.\n",
            "Found 1 validated image filenames.\n",
            "Found 1 validated image filenames.\n",
            "Found 1 validated image filenames.\n",
            "Found 1 validated image filenames.\n",
            "Found 1 validated image filenames.\n",
            "Found 1 validated image filenames.\n",
            "Found 1 validated image filenames.\n"
          ]
        },
        {
          "output_type": "stream",
          "name": "stderr",
          "text": [
            "\rProcessing Images:  11%|█▏        | 542/4752 [00:04<00:34, 122.07it/s]"
          ]
        },
        {
          "output_type": "stream",
          "name": "stdout",
          "text": [
            "Found 1 validated image filenames.\n",
            "Found 1 validated image filenames.\n",
            "Found 1 validated image filenames.\n",
            "Found 1 validated image filenames.\n",
            "Found 1 validated image filenames.\n",
            "Found 1 validated image filenames.\n",
            "Found 1 validated image filenames.\n",
            "Found 1 validated image filenames.\n",
            "Found 1 validated image filenames.\n",
            "Found 1 validated image filenames.\n",
            "Found 1 validated image filenames.\n",
            "Found 1 validated image filenames.\n",
            "Found 1 validated image filenames.\n",
            "Found 1 validated image filenames.\n"
          ]
        },
        {
          "output_type": "stream",
          "name": "stderr",
          "text": [
            "\rProcessing Images:  12%|█▏        | 556/4752 [00:04<00:33, 126.01it/s]"
          ]
        },
        {
          "output_type": "stream",
          "name": "stdout",
          "text": [
            "Found 1 validated image filenames.\n",
            "Found 1 validated image filenames.\n",
            "Found 1 validated image filenames.\n",
            "Found 1 validated image filenames.\n",
            "Found 1 validated image filenames.\n",
            "Found 1 validated image filenames.\n",
            "Found 1 validated image filenames.\n",
            "Found 1 validated image filenames.\n",
            "Found 1 validated image filenames.\n",
            "Found 1 validated image filenames.\n",
            "Found 1 validated image filenames.\n",
            "Found 1 validated image filenames.\n",
            "Found 1 validated image filenames.\n",
            "Found 1 validated image filenames.\n"
          ]
        },
        {
          "output_type": "stream",
          "name": "stderr",
          "text": [
            "\rProcessing Images:  12%|█▏        | 570/4752 [00:04<00:32, 128.35it/s]"
          ]
        },
        {
          "output_type": "stream",
          "name": "stdout",
          "text": [
            "Found 1 validated image filenames.\n",
            "Found 1 validated image filenames.\n",
            "Found 1 validated image filenames.\n",
            "Found 1 validated image filenames.\n",
            "Found 1 validated image filenames.\n",
            "Found 1 validated image filenames.\n",
            "Found 1 validated image filenames.\n",
            "Found 1 validated image filenames.\n",
            "Found 1 validated image filenames.\n",
            "Found 1 validated image filenames.\n",
            "Found 1 validated image filenames.\n",
            "Found 1 validated image filenames.\n",
            "Found 1 validated image filenames.\n",
            "Found 1 validated image filenames.\n",
            "Found 1 validated image filenames.\n"
          ]
        },
        {
          "output_type": "stream",
          "name": "stderr",
          "text": [
            "\rProcessing Images:  12%|█▏        | 585/4752 [00:04<00:31, 132.33it/s]"
          ]
        },
        {
          "output_type": "stream",
          "name": "stdout",
          "text": [
            "Found 1 validated image filenames.\n",
            "Found 1 validated image filenames.\n",
            "Found 1 validated image filenames.\n",
            "Found 1 validated image filenames.\n",
            "Found 1 validated image filenames.\n",
            "Found 1 validated image filenames.\n",
            "Found 1 validated image filenames.\n",
            "Found 1 validated image filenames.\n",
            "Found 1 validated image filenames.\n",
            "Found 1 validated image filenames.\n",
            "Found 1 validated image filenames.\n",
            "Found 1 validated image filenames.\n",
            "Found 1 validated image filenames.\n",
            "Found 1 validated image filenames.\n",
            "Found 1 validated image filenames.\n"
          ]
        },
        {
          "output_type": "stream",
          "name": "stderr",
          "text": [
            "\rProcessing Images:  13%|█▎        | 600/4752 [00:04<00:30, 135.65it/s]"
          ]
        },
        {
          "output_type": "stream",
          "name": "stdout",
          "text": [
            "Found 1 validated image filenames.\n",
            "Found 1 validated image filenames.\n",
            "Found 1 validated image filenames.\n",
            "Found 1 validated image filenames.\n",
            "Found 1 validated image filenames.\n",
            "Found 1 validated image filenames.\n",
            "Found 1 validated image filenames.\n",
            "Found 1 validated image filenames.\n",
            "Found 1 validated image filenames.\n",
            "Found 1 validated image filenames.\n",
            "Found 1 validated image filenames.\n",
            "Found 1 validated image filenames.\n",
            "Found 1 validated image filenames.\n",
            "Found 1 validated image filenames.\n",
            "Found 1 validated image filenames.\n",
            "Found 1 validated image filenames.\n"
          ]
        },
        {
          "output_type": "stream",
          "name": "stderr",
          "text": [
            "\rProcessing Images:  13%|█▎        | 616/4752 [00:04<00:29, 140.69it/s]"
          ]
        },
        {
          "output_type": "stream",
          "name": "stdout",
          "text": [
            "Found 1 validated image filenames.\n",
            "Found 1 validated image filenames.\n",
            "Found 1 validated image filenames.\n",
            "Found 1 validated image filenames.\n",
            "Found 1 validated image filenames.\n",
            "Found 1 validated image filenames.\n",
            "Found 1 validated image filenames.\n",
            "Found 1 validated image filenames.\n",
            "Found 1 validated image filenames.\n",
            "Found 1 validated image filenames.\n",
            "Found 1 validated image filenames.\n",
            "Found 1 validated image filenames.\n",
            "Found 1 validated image filenames.\n",
            "Found 1 validated image filenames.\n",
            "Found 1 validated image filenames.\n",
            "Found 1 validated image filenames.\n"
          ]
        },
        {
          "output_type": "stream",
          "name": "stderr",
          "text": [
            "\rProcessing Images:  13%|█▎        | 632/4752 [00:04<00:28, 144.58it/s]"
          ]
        },
        {
          "output_type": "stream",
          "name": "stdout",
          "text": [
            "Found 1 validated image filenames.\n",
            "Found 1 validated image filenames.\n",
            "Found 1 validated image filenames.\n",
            "Found 1 validated image filenames.\n",
            "Found 1 validated image filenames.\n",
            "Found 1 validated image filenames.\n",
            "Found 1 validated image filenames.\n",
            "Found 1 validated image filenames.\n",
            "Found 1 validated image filenames.\n",
            "Found 1 validated image filenames.\n",
            "Found 1 validated image filenames.\n",
            "Found 1 validated image filenames.\n",
            "Found 1 validated image filenames.\n",
            "Found 1 validated image filenames.\n",
            "Found 1 validated image filenames.\n"
          ]
        },
        {
          "output_type": "stream",
          "name": "stderr",
          "text": [
            "\rProcessing Images:  14%|█▎        | 647/4752 [00:04<00:29, 139.42it/s]"
          ]
        },
        {
          "output_type": "stream",
          "name": "stdout",
          "text": [
            "Found 1 validated image filenames.\n",
            "Found 1 validated image filenames.\n",
            "Found 1 validated image filenames.\n",
            "Found 1 validated image filenames.\n",
            "Found 1 validated image filenames.\n",
            "Found 1 validated image filenames.\n",
            "Found 1 validated image filenames.\n",
            "Found 1 validated image filenames.\n",
            "Found 1 validated image filenames.\n",
            "Found 1 validated image filenames.\n",
            "Found 1 validated image filenames.\n",
            "Found 1 validated image filenames.\n",
            "Found 1 validated image filenames.\n",
            "Found 1 validated image filenames.\n"
          ]
        },
        {
          "output_type": "stream",
          "name": "stderr",
          "text": [
            "\rProcessing Images:  14%|█▍        | 661/4752 [00:04<00:30, 132.07it/s]"
          ]
        },
        {
          "output_type": "stream",
          "name": "stdout",
          "text": [
            "Found 1 validated image filenames.\n",
            "Found 1 validated image filenames.\n",
            "Found 1 validated image filenames.\n",
            "Found 1 validated image filenames.\n",
            "Found 1 validated image filenames.\n",
            "Found 1 validated image filenames.\n",
            "Found 1 validated image filenames.\n",
            "Found 1 validated image filenames.\n",
            "Found 1 validated image filenames.\n",
            "Found 1 validated image filenames.\n",
            "Found 1 validated image filenames.\n",
            "Found 1 validated image filenames.\n",
            "Found 1 validated image filenames.\n",
            "Found 1 validated image filenames.\n"
          ]
        },
        {
          "output_type": "stream",
          "name": "stderr",
          "text": [
            "\rProcessing Images:  14%|█▍        | 675/4752 [00:05<00:31, 131.19it/s]"
          ]
        },
        {
          "output_type": "stream",
          "name": "stdout",
          "text": [
            "Found 1 validated image filenames.\n",
            "Found 1 validated image filenames.\n",
            "Found 1 validated image filenames.\n",
            "Found 1 validated image filenames.\n",
            "Found 1 validated image filenames.\n",
            "Found 1 validated image filenames.\n",
            "Found 1 validated image filenames.\n",
            "Found 1 validated image filenames.\n",
            "Found 1 validated image filenames.\n",
            "Found 1 validated image filenames.\n",
            "Found 1 validated image filenames.\n",
            "Found 1 validated image filenames.\n",
            "Found 1 validated image filenames.\n",
            "Found 1 validated image filenames.\n",
            "Found 1 validated image filenames.\n"
          ]
        },
        {
          "output_type": "stream",
          "name": "stderr",
          "text": [
            "\rProcessing Images:  15%|█▍        | 690/4752 [00:05<00:29, 135.54it/s]"
          ]
        },
        {
          "output_type": "stream",
          "name": "stdout",
          "text": [
            "Found 1 validated image filenames.\n",
            "Found 1 validated image filenames.\n",
            "Found 1 validated image filenames.\n",
            "Found 1 validated image filenames.\n",
            "Found 1 validated image filenames.\n",
            "Found 1 validated image filenames.\n",
            "Found 1 validated image filenames.\n",
            "Found 1 validated image filenames.\n",
            "Found 1 validated image filenames.\n",
            "Found 1 validated image filenames.\n",
            "Found 1 validated image filenames.\n",
            "Found 1 validated image filenames.\n",
            "Found 1 validated image filenames.\n",
            "Found 1 validated image filenames.\n"
          ]
        },
        {
          "output_type": "stream",
          "name": "stderr",
          "text": [
            "\rProcessing Images:  15%|█▍        | 704/4752 [00:05<00:30, 132.66it/s]"
          ]
        },
        {
          "output_type": "stream",
          "name": "stdout",
          "text": [
            "Found 1 validated image filenames.\n",
            "Found 1 validated image filenames.\n",
            "Found 1 validated image filenames.\n",
            "Found 1 validated image filenames.\n",
            "Found 1 validated image filenames.\n",
            "Found 1 validated image filenames.\n",
            "Found 1 validated image filenames.\n",
            "Found 1 validated image filenames.\n",
            "Found 1 validated image filenames.\n",
            "Found 1 validated image filenames.\n",
            "Found 1 validated image filenames.\n",
            "Found 1 validated image filenames.\n",
            "Found 1 validated image filenames.\n",
            "Found 1 validated image filenames.\n"
          ]
        },
        {
          "output_type": "stream",
          "name": "stderr",
          "text": [
            "\rProcessing Images:  15%|█▌        | 718/4752 [00:05<00:31, 126.83it/s]"
          ]
        },
        {
          "output_type": "stream",
          "name": "stdout",
          "text": [
            "Found 1 validated image filenames.\n",
            "Found 1 validated image filenames.\n",
            "Found 1 validated image filenames.\n",
            "Found 1 validated image filenames.\n",
            "Found 1 validated image filenames.\n",
            "Found 1 validated image filenames.\n",
            "Found 1 validated image filenames.\n",
            "Found 1 validated image filenames.\n",
            "Found 1 validated image filenames.\n",
            "Found 1 validated image filenames.\n",
            "Found 1 validated image filenames.\n",
            "Found 1 validated image filenames.\n",
            "Found 1 validated image filenames.\n"
          ]
        },
        {
          "output_type": "stream",
          "name": "stderr",
          "text": [
            "\rProcessing Images:  15%|█▌        | 731/4752 [00:05<00:31, 126.01it/s]"
          ]
        },
        {
          "output_type": "stream",
          "name": "stdout",
          "text": [
            "Found 1 validated image filenames.\n",
            "Found 1 validated image filenames.\n",
            "Found 1 validated image filenames.\n",
            "Found 1 validated image filenames.\n",
            "Found 1 validated image filenames.\n",
            "Found 1 validated image filenames.\n",
            "Found 1 validated image filenames.\n",
            "Found 1 validated image filenames.\n",
            "Found 1 validated image filenames.\n",
            "Found 1 validated image filenames.\n",
            "Found 1 validated image filenames.\n",
            "Found 1 validated image filenames.\n",
            "Found 1 validated image filenames.\n",
            "Found 1 validated image filenames.\n",
            "Found 1 validated image filenames.\n"
          ]
        },
        {
          "output_type": "stream",
          "name": "stderr",
          "text": [
            "\rProcessing Images:  16%|█▌        | 746/4752 [00:05<00:30, 130.39it/s]"
          ]
        },
        {
          "output_type": "stream",
          "name": "stdout",
          "text": [
            "Found 1 validated image filenames.\n",
            "Found 1 validated image filenames.\n",
            "Found 1 validated image filenames.\n",
            "Found 1 validated image filenames.\n",
            "Found 1 validated image filenames.\n",
            "Found 1 validated image filenames.\n",
            "Found 1 validated image filenames.\n",
            "Found 1 validated image filenames.\n",
            "Found 1 validated image filenames.\n",
            "Found 1 validated image filenames.\n",
            "Found 1 validated image filenames.\n",
            "Found 1 validated image filenames.\n",
            "Found 1 validated image filenames.\n",
            "Found 1 validated image filenames.\n"
          ]
        },
        {
          "output_type": "stream",
          "name": "stderr",
          "text": [
            "\rProcessing Images:  16%|█▌        | 760/4752 [00:05<00:31, 128.75it/s]"
          ]
        },
        {
          "output_type": "stream",
          "name": "stdout",
          "text": [
            "Found 1 validated image filenames.\n",
            "Found 1 validated image filenames.\n",
            "Found 1 validated image filenames.\n",
            "Found 1 validated image filenames.\n",
            "Found 1 validated image filenames.\n",
            "Found 1 validated image filenames.\n",
            "Found 1 validated image filenames.\n",
            "Found 1 validated image filenames.\n",
            "Found 1 validated image filenames.\n",
            "Found 1 validated image filenames.\n",
            "Found 1 validated image filenames.\n",
            "Found 1 validated image filenames.\n",
            "Found 1 validated image filenames.\n"
          ]
        },
        {
          "output_type": "stream",
          "name": "stderr",
          "text": [
            "\rProcessing Images:  16%|█▋        | 773/4752 [00:05<00:32, 123.29it/s]"
          ]
        },
        {
          "output_type": "stream",
          "name": "stdout",
          "text": [
            "Found 1 validated image filenames.\n",
            "Found 1 validated image filenames.\n",
            "Found 1 validated image filenames.\n",
            "Found 1 validated image filenames.\n",
            "Found 1 validated image filenames.\n",
            "Found 1 validated image filenames.\n",
            "Found 1 validated image filenames.\n",
            "Found 1 validated image filenames.\n",
            "Found 1 validated image filenames.\n",
            "Found 1 validated image filenames.\n",
            "Found 1 validated image filenames.\n",
            "Found 1 validated image filenames.\n",
            "Found 1 validated image filenames.\n"
          ]
        },
        {
          "output_type": "stream",
          "name": "stderr",
          "text": [
            "\rProcessing Images:  17%|█▋        | 786/4752 [00:05<00:34, 115.41it/s]"
          ]
        },
        {
          "output_type": "stream",
          "name": "stdout",
          "text": [
            "Found 1 validated image filenames.\n",
            "Found 1 validated image filenames.\n",
            "Found 1 validated image filenames.\n",
            "Found 1 validated image filenames.\n",
            "Found 1 validated image filenames.\n",
            "Found 1 validated image filenames.\n",
            "Found 1 validated image filenames.\n",
            "Found 1 validated image filenames.\n",
            "Found 1 validated image filenames.\n",
            "Found 1 validated image filenames.\n",
            "Found 1 validated image filenames.\n",
            "Found 1 validated image filenames.\n"
          ]
        },
        {
          "output_type": "stream",
          "name": "stderr",
          "text": [
            "\rProcessing Images:  17%|█▋        | 798/4752 [00:06<00:34, 113.12it/s]"
          ]
        },
        {
          "output_type": "stream",
          "name": "stdout",
          "text": [
            "Found 1 validated image filenames.\n",
            "Found 1 validated image filenames.\n",
            "Found 1 validated image filenames.\n",
            "Found 1 validated image filenames.\n",
            "Found 1 validated image filenames.\n",
            "Found 1 validated image filenames.\n",
            "Found 1 validated image filenames.\n",
            "Found 1 validated image filenames.\n",
            "Found 1 validated image filenames.\n",
            "Found 1 validated image filenames.\n",
            "Found 1 validated image filenames.\n",
            "Found 1 validated image filenames.\n"
          ]
        },
        {
          "output_type": "stream",
          "name": "stderr",
          "text": [
            "\rProcessing Images:  17%|█▋        | 810/4752 [00:06<00:34, 112.85it/s]"
          ]
        },
        {
          "output_type": "stream",
          "name": "stdout",
          "text": [
            "Found 1 validated image filenames.\n",
            "Found 1 validated image filenames.\n",
            "Found 1 validated image filenames.\n",
            "Found 1 validated image filenames.\n",
            "Found 1 validated image filenames.\n",
            "Found 1 validated image filenames.\n",
            "Found 1 validated image filenames.\n",
            "Found 1 validated image filenames.\n",
            "Found 1 validated image filenames.\n",
            "Found 1 validated image filenames.\n",
            "Found 1 validated image filenames.\n",
            "Found 1 validated image filenames.\n"
          ]
        },
        {
          "output_type": "stream",
          "name": "stderr",
          "text": [
            "\rProcessing Images:  17%|█▋        | 822/4752 [00:06<00:35, 110.88it/s]"
          ]
        },
        {
          "output_type": "stream",
          "name": "stdout",
          "text": [
            "Found 1 validated image filenames.\n",
            "Found 1 validated image filenames.\n",
            "Found 1 validated image filenames.\n",
            "Found 1 validated image filenames.\n",
            "Found 1 validated image filenames.\n",
            "Found 1 validated image filenames.\n",
            "Found 1 validated image filenames.\n",
            "Found 1 validated image filenames.\n",
            "Found 1 validated image filenames.\n",
            "Found 1 validated image filenames.\n",
            "Found 1 validated image filenames.\n",
            "Found 1 validated image filenames.\n"
          ]
        },
        {
          "output_type": "stream",
          "name": "stderr",
          "text": [
            "\rProcessing Images:  18%|█▊        | 834/4752 [00:06<00:34, 112.66it/s]"
          ]
        },
        {
          "output_type": "stream",
          "name": "stdout",
          "text": [
            "Found 1 validated image filenames.\n",
            "Found 1 validated image filenames.\n",
            "Found 1 validated image filenames.\n",
            "Found 1 validated image filenames.\n",
            "Found 1 validated image filenames.\n",
            "Found 1 validated image filenames.\n",
            "Found 1 validated image filenames.\n",
            "Found 1 validated image filenames.\n",
            "Found 1 validated image filenames.\n",
            "Found 1 validated image filenames.\n",
            "Found 1 validated image filenames.\n",
            "Found 1 validated image filenames.\n",
            "Found 1 validated image filenames.\n"
          ]
        },
        {
          "output_type": "stream",
          "name": "stderr",
          "text": [
            "\rProcessing Images:  18%|█▊        | 847/4752 [00:06<00:33, 116.94it/s]"
          ]
        },
        {
          "output_type": "stream",
          "name": "stdout",
          "text": [
            "Found 1 validated image filenames.\n",
            "Found 1 validated image filenames.\n",
            "Found 1 validated image filenames.\n",
            "Found 1 validated image filenames.\n",
            "Found 1 validated image filenames.\n",
            "Found 1 validated image filenames.\n",
            "Found 1 validated image filenames.\n",
            "Found 1 validated image filenames.\n",
            "Found 1 validated image filenames.\n",
            "Found 1 validated image filenames.\n",
            "Found 1 validated image filenames.\n",
            "Found 1 validated image filenames.\n",
            "Found 1 validated image filenames.\n"
          ]
        },
        {
          "output_type": "stream",
          "name": "stderr",
          "text": [
            "\rProcessing Images:  18%|█▊        | 860/4752 [00:06<00:32, 118.63it/s]"
          ]
        },
        {
          "output_type": "stream",
          "name": "stdout",
          "text": [
            "Found 1 validated image filenames.\n",
            "Found 1 validated image filenames.\n",
            "Found 1 validated image filenames.\n",
            "Found 1 validated image filenames.\n",
            "Found 1 validated image filenames.\n",
            "Found 1 validated image filenames.\n",
            "Found 1 validated image filenames.\n",
            "Found 1 validated image filenames.\n",
            "Found 1 validated image filenames.\n",
            "Found 1 validated image filenames.\n",
            "Found 1 validated image filenames.\n",
            "Found 1 validated image filenames.\n"
          ]
        },
        {
          "output_type": "stream",
          "name": "stderr",
          "text": [
            "\rProcessing Images:  18%|█▊        | 872/4752 [00:06<00:35, 108.77it/s]"
          ]
        },
        {
          "output_type": "stream",
          "name": "stdout",
          "text": [
            "Found 1 validated image filenames.\n",
            "Found 1 validated image filenames.\n",
            "Found 1 validated image filenames.\n",
            "Found 1 validated image filenames.\n",
            "Found 1 validated image filenames.\n",
            "Found 1 validated image filenames.\n",
            "Found 1 validated image filenames.\n",
            "Found 1 validated image filenames.\n",
            "Found 1 validated image filenames.\n",
            "Found 1 validated image filenames.\n",
            "Found 1 validated image filenames.\n",
            "Found 1 validated image filenames.\n"
          ]
        },
        {
          "output_type": "stream",
          "name": "stderr",
          "text": [
            "\rProcessing Images:  19%|█▊        | 884/4752 [00:06<00:37, 104.35it/s]"
          ]
        },
        {
          "output_type": "stream",
          "name": "stdout",
          "text": [
            "Found 1 validated image filenames.\n",
            "Found 1 validated image filenames.\n",
            "Found 1 validated image filenames.\n",
            "Found 1 validated image filenames.\n",
            "Found 1 validated image filenames.\n",
            "Found 1 validated image filenames.\n",
            "Found 1 validated image filenames.\n",
            "Found 1 validated image filenames.\n",
            "Found 1 validated image filenames.\n",
            "Found 1 validated image filenames.\n",
            "Found 1 validated image filenames.\n"
          ]
        },
        {
          "output_type": "stream",
          "name": "stderr",
          "text": [
            "\rProcessing Images:  19%|█▉        | 895/4752 [00:06<00:37, 101.59it/s]"
          ]
        },
        {
          "output_type": "stream",
          "name": "stdout",
          "text": [
            "Found 1 validated image filenames.\n",
            "Found 1 validated image filenames.\n",
            "Found 1 validated image filenames.\n",
            "Found 1 validated image filenames.\n",
            "Found 1 validated image filenames.\n",
            "Found 1 validated image filenames.\n",
            "Found 1 validated image filenames.\n",
            "Found 1 validated image filenames.\n",
            "Found 1 validated image filenames.\n",
            "Found 1 validated image filenames.\n",
            "Found 1 validated image filenames.\n"
          ]
        },
        {
          "output_type": "stream",
          "name": "stderr",
          "text": [
            "\rProcessing Images:  19%|█▉        | 906/4752 [00:07<00:38, 98.85it/s] "
          ]
        },
        {
          "output_type": "stream",
          "name": "stdout",
          "text": [
            "Found 1 validated image filenames.\n",
            "Found 1 validated image filenames.\n",
            "Found 1 validated image filenames.\n",
            "Found 1 validated image filenames.\n",
            "Found 1 validated image filenames.\n",
            "Found 1 validated image filenames.\n",
            "Found 1 validated image filenames.\n",
            "Found 1 validated image filenames.\n",
            "Found 1 validated image filenames.\n",
            "Found 1 validated image filenames.\n"
          ]
        },
        {
          "output_type": "stream",
          "name": "stderr",
          "text": [
            "\rProcessing Images:  19%|█▉        | 916/4752 [00:07<00:38, 98.64it/s]"
          ]
        },
        {
          "output_type": "stream",
          "name": "stdout",
          "text": [
            "Found 1 validated image filenames.\n",
            "Found 1 validated image filenames.\n",
            "Found 1 validated image filenames.\n",
            "Found 1 validated image filenames.\n",
            "Found 1 validated image filenames.\n",
            "Found 1 validated image filenames.\n",
            "Found 1 validated image filenames.\n",
            "Found 1 validated image filenames.\n",
            "Found 1 validated image filenames.\n",
            "Found 1 validated image filenames.\n",
            "Found 1 validated image filenames.\n",
            "Found 1 validated image filenames.\n",
            "Found 1 validated image filenames.\n"
          ]
        },
        {
          "output_type": "stream",
          "name": "stderr",
          "text": [
            "\rProcessing Images:  20%|█▉        | 929/4752 [00:07<00:36, 104.74it/s]"
          ]
        },
        {
          "output_type": "stream",
          "name": "stdout",
          "text": [
            "Found 1 validated image filenames.\n",
            "Found 1 validated image filenames.\n",
            "Found 1 validated image filenames.\n",
            "Found 1 validated image filenames.\n",
            "Found 1 validated image filenames.\n",
            "Found 1 validated image filenames.\n",
            "Found 1 validated image filenames.\n",
            "Found 1 validated image filenames.\n",
            "Found 1 validated image filenames.\n",
            "Found 1 validated image filenames.\n",
            "Found 1 validated image filenames.\n"
          ]
        },
        {
          "output_type": "stream",
          "name": "stderr",
          "text": [
            "\rProcessing Images:  20%|█▉        | 940/4752 [00:07<00:38, 99.56it/s] "
          ]
        },
        {
          "output_type": "stream",
          "name": "stdout",
          "text": [
            "Found 1 validated image filenames.\n",
            "Found 1 validated image filenames.\n",
            "Found 1 validated image filenames.\n",
            "Found 1 validated image filenames.\n",
            "Found 1 validated image filenames.\n",
            "Found 1 validated image filenames.\n",
            "Found 1 validated image filenames.\n",
            "Found 1 validated image filenames.\n",
            "Found 1 validated image filenames.\n",
            "Found 1 validated image filenames.\n",
            "Found 1 validated image filenames.\n"
          ]
        },
        {
          "output_type": "stream",
          "name": "stderr",
          "text": [
            "\rProcessing Images:  20%|██        | 951/4752 [00:07<00:38, 99.39it/s]"
          ]
        },
        {
          "output_type": "stream",
          "name": "stdout",
          "text": [
            "Found 1 validated image filenames.\n",
            "Found 1 validated image filenames.\n",
            "Found 1 validated image filenames.\n",
            "Found 1 validated image filenames.\n",
            "Found 1 validated image filenames.\n",
            "Found 1 validated image filenames.\n",
            "Found 1 validated image filenames.\n",
            "Found 1 validated image filenames.\n",
            "Found 1 validated image filenames.\n",
            "Found 1 validated image filenames.\n"
          ]
        },
        {
          "output_type": "stream",
          "name": "stderr",
          "text": [
            "\rProcessing Images:  20%|██        | 961/4752 [00:07<00:38, 99.49it/s]"
          ]
        },
        {
          "output_type": "stream",
          "name": "stdout",
          "text": [
            "Found 1 validated image filenames.\n",
            "Found 1 validated image filenames.\n",
            "Found 1 validated image filenames.\n",
            "Found 1 validated image filenames.\n",
            "Found 1 validated image filenames.\n",
            "Found 1 validated image filenames.\n",
            "Found 1 validated image filenames.\n",
            "Found 1 validated image filenames.\n",
            "Found 1 validated image filenames.\n",
            "Found 1 validated image filenames.\n"
          ]
        },
        {
          "output_type": "stream",
          "name": "stderr",
          "text": [
            "\rProcessing Images:  20%|██        | 971/4752 [00:07<00:39, 95.67it/s]"
          ]
        },
        {
          "output_type": "stream",
          "name": "stdout",
          "text": [
            "Found 1 validated image filenames.\n",
            "Found 1 validated image filenames.\n",
            "Found 1 validated image filenames.\n",
            "Found 1 validated image filenames.\n",
            "Found 1 validated image filenames.\n",
            "Found 1 validated image filenames.\n",
            "Found 1 validated image filenames.\n",
            "Found 1 validated image filenames.\n",
            "Found 1 validated image filenames.\n",
            "Found 1 validated image filenames.\n",
            "Found 1 validated image filenames.\n",
            "Found 1 validated image filenames.\n"
          ]
        },
        {
          "output_type": "stream",
          "name": "stderr",
          "text": [
            "\rProcessing Images:  21%|██        | 983/4752 [00:07<00:37, 100.58it/s]"
          ]
        },
        {
          "output_type": "stream",
          "name": "stdout",
          "text": [
            "Found 1 validated image filenames.\n",
            "Found 1 validated image filenames.\n",
            "Found 1 validated image filenames.\n",
            "Found 1 validated image filenames.\n",
            "Found 1 validated image filenames.\n",
            "Found 1 validated image filenames.\n",
            "Found 1 validated image filenames.\n",
            "Found 1 validated image filenames.\n",
            "Found 1 validated image filenames.\n",
            "Found 1 validated image filenames.\n",
            "Found 1 validated image filenames.\n",
            "Found 1 validated image filenames.\n",
            "Found 1 validated image filenames.\n",
            "Found 1 validated image filenames.\n"
          ]
        },
        {
          "output_type": "stream",
          "name": "stderr",
          "text": [
            "\rProcessing Images:  21%|██        | 997/4752 [00:07<00:34, 110.18it/s]"
          ]
        },
        {
          "output_type": "stream",
          "name": "stdout",
          "text": [
            "Found 1 validated image filenames.\n",
            "Found 1 validated image filenames.\n",
            "Found 1 validated image filenames.\n",
            "Found 1 validated image filenames.\n",
            "Found 1 validated image filenames.\n",
            "Found 1 validated image filenames.\n",
            "Found 1 validated image filenames.\n",
            "Found 1 validated image filenames.\n",
            "Found 1 validated image filenames.\n",
            "Found 1 validated image filenames.\n",
            "Found 1 validated image filenames.\n",
            "Found 1 validated image filenames.\n",
            "Found 1 validated image filenames.\n",
            "Found 1 validated image filenames.\n"
          ]
        },
        {
          "output_type": "stream",
          "name": "stderr",
          "text": [
            "\rProcessing Images:  21%|██▏       | 1011/4752 [00:08<00:32, 115.98it/s]"
          ]
        },
        {
          "output_type": "stream",
          "name": "stdout",
          "text": [
            "Found 1 validated image filenames.\n",
            "Found 1 validated image filenames.\n",
            "Found 1 validated image filenames.\n",
            "Found 1 validated image filenames.\n",
            "Found 1 validated image filenames.\n",
            "Found 1 validated image filenames.\n",
            "Found 1 validated image filenames.\n",
            "Found 1 validated image filenames.\n",
            "Found 1 validated image filenames.\n",
            "Found 1 validated image filenames.\n",
            "Found 1 validated image filenames.\n",
            "Found 1 validated image filenames.\n",
            "Found 1 validated image filenames.\n"
          ]
        },
        {
          "output_type": "stream",
          "name": "stderr",
          "text": [
            "\rProcessing Images:  22%|██▏       | 1024/4752 [00:08<00:31, 117.95it/s]"
          ]
        },
        {
          "output_type": "stream",
          "name": "stdout",
          "text": [
            "Found 1 validated image filenames.\n",
            "Found 1 validated image filenames.\n",
            "Found 1 validated image filenames.\n",
            "Found 1 validated image filenames.\n",
            "Found 1 validated image filenames.\n",
            "Found 1 validated image filenames.\n",
            "Found 1 validated image filenames.\n",
            "Found 1 validated image filenames.\n",
            "Found 1 validated image filenames.\n",
            "Found 1 validated image filenames.\n",
            "Found 1 validated image filenames.\n",
            "Found 1 validated image filenames.\n"
          ]
        },
        {
          "output_type": "stream",
          "name": "stderr",
          "text": [
            "\rProcessing Images:  22%|██▏       | 1036/4752 [00:08<00:31, 117.57it/s]"
          ]
        },
        {
          "output_type": "stream",
          "name": "stdout",
          "text": [
            "Found 1 validated image filenames.\n",
            "Found 1 validated image filenames.\n",
            "Found 1 validated image filenames.\n",
            "Found 1 validated image filenames.\n",
            "Found 1 validated image filenames.\n",
            "Found 1 validated image filenames.\n",
            "Found 1 validated image filenames.\n",
            "Found 1 validated image filenames.\n",
            "Found 1 validated image filenames.\n",
            "Found 1 validated image filenames.\n",
            "Found 1 validated image filenames.\n",
            "Found 1 validated image filenames.\n"
          ]
        },
        {
          "output_type": "stream",
          "name": "stderr",
          "text": [
            "\rProcessing Images:  22%|██▏       | 1048/4752 [00:08<00:31, 115.78it/s]"
          ]
        },
        {
          "output_type": "stream",
          "name": "stdout",
          "text": [
            "Found 1 validated image filenames.\n",
            "Found 1 validated image filenames.\n",
            "Found 1 validated image filenames.\n",
            "Found 1 validated image filenames.\n",
            "Found 1 validated image filenames.\n",
            "Found 1 validated image filenames.\n",
            "Found 1 validated image filenames.\n",
            "Found 1 validated image filenames.\n",
            "Found 1 validated image filenames.\n",
            "Found 1 validated image filenames.\n",
            "Found 1 validated image filenames.\n",
            "Found 1 validated image filenames.\n"
          ]
        },
        {
          "output_type": "stream",
          "name": "stderr",
          "text": [
            "\rProcessing Images:  22%|██▏       | 1060/4752 [00:08<00:31, 115.90it/s]"
          ]
        },
        {
          "output_type": "stream",
          "name": "stdout",
          "text": [
            "Found 1 validated image filenames.\n",
            "Found 1 validated image filenames.\n",
            "Found 1 validated image filenames.\n",
            "Found 1 validated image filenames.\n",
            "Found 1 validated image filenames.\n",
            "Found 1 validated image filenames.\n",
            "Found 1 validated image filenames.\n",
            "Found 1 validated image filenames.\n",
            "Found 1 validated image filenames.\n",
            "Found 1 validated image filenames.\n",
            "Found 1 validated image filenames.\n",
            "Found 1 validated image filenames.\n",
            "Found 1 validated image filenames.\n"
          ]
        },
        {
          "output_type": "stream",
          "name": "stderr",
          "text": [
            "\rProcessing Images:  23%|██▎       | 1073/4752 [00:08<00:31, 118.38it/s]"
          ]
        },
        {
          "output_type": "stream",
          "name": "stdout",
          "text": [
            "Found 1 validated image filenames.\n",
            "Found 1 validated image filenames.\n",
            "Found 1 validated image filenames.\n",
            "Found 1 validated image filenames.\n",
            "Found 1 validated image filenames.\n",
            "Found 1 validated image filenames.\n",
            "Found 1 validated image filenames.\n",
            "Found 1 validated image filenames.\n",
            "Found 1 validated image filenames.\n",
            "Found 1 validated image filenames.\n",
            "Found 1 validated image filenames.\n",
            "Found 1 validated image filenames.\n"
          ]
        },
        {
          "output_type": "stream",
          "name": "stderr",
          "text": [
            "\rProcessing Images:  23%|██▎       | 1085/4752 [00:08<00:31, 117.79it/s]"
          ]
        },
        {
          "output_type": "stream",
          "name": "stdout",
          "text": [
            "Found 1 validated image filenames.\n",
            "Found 1 validated image filenames.\n",
            "Found 1 validated image filenames.\n",
            "Found 1 validated image filenames.\n",
            "Found 1 validated image filenames.\n",
            "Found 1 validated image filenames.\n",
            "Found 1 validated image filenames.\n",
            "Found 1 validated image filenames.\n",
            "Found 1 validated image filenames.\n",
            "Found 1 validated image filenames.\n",
            "Found 1 validated image filenames.\n",
            "Found 1 validated image filenames.\n"
          ]
        },
        {
          "output_type": "stream",
          "name": "stderr",
          "text": [
            "\rProcessing Images:  23%|██▎       | 1097/4752 [00:08<00:30, 118.07it/s]"
          ]
        },
        {
          "output_type": "stream",
          "name": "stdout",
          "text": [
            "Found 1 validated image filenames.\n",
            "Found 1 validated image filenames.\n",
            "Found 1 validated image filenames.\n",
            "Found 1 validated image filenames.\n",
            "Found 1 validated image filenames.\n",
            "Found 1 validated image filenames.\n",
            "Found 1 validated image filenames.\n",
            "Found 1 validated image filenames.\n",
            "Found 1 validated image filenames.\n",
            "Found 1 validated image filenames.\n",
            "Found 1 validated image filenames.\n",
            "Found 1 validated image filenames.\n",
            "Found 1 validated image filenames.\n"
          ]
        },
        {
          "output_type": "stream",
          "name": "stderr",
          "text": [
            "\rProcessing Images:  23%|██▎       | 1110/4752 [00:08<00:30, 119.59it/s]"
          ]
        },
        {
          "output_type": "stream",
          "name": "stdout",
          "text": [
            "Found 1 validated image filenames.\n",
            "Found 1 validated image filenames.\n",
            "Found 1 validated image filenames.\n",
            "Found 1 validated image filenames.\n",
            "Found 1 validated image filenames.\n",
            "Found 1 validated image filenames.\n",
            "Found 1 validated image filenames.\n",
            "Found 1 validated image filenames.\n",
            "Found 1 validated image filenames.\n",
            "Found 1 validated image filenames.\n",
            "Found 1 validated image filenames.\n",
            "Found 1 validated image filenames.\n",
            "Found 1 validated image filenames.\n"
          ]
        },
        {
          "output_type": "stream",
          "name": "stderr",
          "text": [
            "\rProcessing Images:  24%|██▎       | 1123/4752 [00:09<00:30, 120.28it/s]"
          ]
        },
        {
          "output_type": "stream",
          "name": "stdout",
          "text": [
            "Found 1 validated image filenames.\n",
            "Found 1 validated image filenames.\n",
            "Found 1 validated image filenames.\n",
            "Found 1 validated image filenames.\n",
            "Found 1 validated image filenames.\n",
            "Found 1 validated image filenames.\n",
            "Found 1 validated image filenames.\n",
            "Found 1 validated image filenames.\n",
            "Found 1 validated image filenames.\n",
            "Found 1 validated image filenames.\n",
            "Found 1 validated image filenames.\n",
            "Found 1 validated image filenames.\n",
            "Found 1 validated image filenames.\n"
          ]
        },
        {
          "output_type": "stream",
          "name": "stderr",
          "text": [
            "\rProcessing Images:  24%|██▍       | 1136/4752 [00:09<00:30, 118.35it/s]"
          ]
        },
        {
          "output_type": "stream",
          "name": "stdout",
          "text": [
            "Found 1 validated image filenames.\n",
            "Found 1 validated image filenames.\n",
            "Found 1 validated image filenames.\n",
            "Found 1 validated image filenames.\n",
            "Found 1 validated image filenames.\n",
            "Found 1 validated image filenames.\n",
            "Found 1 validated image filenames.\n",
            "Found 1 validated image filenames.\n",
            "Found 1 validated image filenames.\n",
            "Found 1 validated image filenames.\n",
            "Found 1 validated image filenames.\n",
            "Found 1 validated image filenames.\n"
          ]
        },
        {
          "output_type": "stream",
          "name": "stderr",
          "text": [
            "\rProcessing Images:  24%|██▍       | 1148/4752 [00:09<00:31, 116.14it/s]"
          ]
        },
        {
          "output_type": "stream",
          "name": "stdout",
          "text": [
            "Found 1 validated image filenames.\n",
            "Found 1 validated image filenames.\n",
            "Found 1 validated image filenames.\n",
            "Found 1 validated image filenames.\n",
            "Found 1 validated image filenames.\n",
            "Found 1 validated image filenames.\n",
            "Found 1 validated image filenames.\n",
            "Found 1 validated image filenames.\n",
            "Found 1 validated image filenames.\n",
            "Found 1 validated image filenames.\n",
            "Found 1 validated image filenames.\n",
            "Found 1 validated image filenames.\n"
          ]
        },
        {
          "output_type": "stream",
          "name": "stderr",
          "text": [
            "\rProcessing Images:  24%|██▍       | 1160/4752 [00:09<00:32, 108.87it/s]"
          ]
        },
        {
          "output_type": "stream",
          "name": "stdout",
          "text": [
            "Found 1 validated image filenames.\n",
            "Found 1 validated image filenames.\n",
            "Found 1 validated image filenames.\n",
            "Found 1 validated image filenames.\n",
            "Found 1 validated image filenames.\n",
            "Found 1 validated image filenames.\n",
            "Found 1 validated image filenames.\n",
            "Found 1 validated image filenames.\n",
            "Found 1 validated image filenames.\n",
            "Found 1 validated image filenames.\n",
            "Found 1 validated image filenames.\n"
          ]
        },
        {
          "output_type": "stream",
          "name": "stderr",
          "text": [
            "\rProcessing Images:  25%|██▍       | 1171/4752 [00:09<00:34, 104.60it/s]"
          ]
        },
        {
          "output_type": "stream",
          "name": "stdout",
          "text": [
            "Found 1 validated image filenames.\n",
            "Found 1 validated image filenames.\n",
            "Found 1 validated image filenames.\n",
            "Found 1 validated image filenames.\n",
            "Found 1 validated image filenames.\n",
            "Found 1 validated image filenames.\n",
            "Found 1 validated image filenames.\n",
            "Found 1 validated image filenames.\n",
            "Found 1 validated image filenames.\n",
            "Found 1 validated image filenames.\n",
            "Found 1 validated image filenames.\n"
          ]
        },
        {
          "output_type": "stream",
          "name": "stderr",
          "text": [
            "\rProcessing Images:  25%|██▍       | 1182/4752 [00:09<00:33, 105.37it/s]"
          ]
        },
        {
          "output_type": "stream",
          "name": "stdout",
          "text": [
            "Found 1 validated image filenames.\n",
            "Found 1 validated image filenames.\n",
            "Found 1 validated image filenames.\n",
            "Found 1 validated image filenames.\n",
            "Found 1 validated image filenames.\n",
            "Found 1 validated image filenames.\n",
            "Found 1 validated image filenames.\n",
            "Found 1 validated image filenames.\n",
            "Found 1 validated image filenames.\n",
            "Found 1 validated image filenames.\n",
            "Found 1 validated image filenames.\n",
            "Found 1 validated image filenames.\n"
          ]
        },
        {
          "output_type": "stream",
          "name": "stderr",
          "text": [
            "\rProcessing Images:  25%|██▌       | 1194/4752 [00:09<00:33, 107.76it/s]"
          ]
        },
        {
          "output_type": "stream",
          "name": "stdout",
          "text": [
            "Found 1 validated image filenames.\n",
            "Found 1 validated image filenames.\n",
            "Found 1 validated image filenames.\n",
            "Found 1 validated image filenames.\n",
            "Found 1 validated image filenames.\n",
            "Found 1 validated image filenames.\n",
            "Found 1 validated image filenames.\n",
            "Found 1 validated image filenames.\n",
            "Found 1 validated image filenames.\n",
            "Found 1 validated image filenames.\n",
            "Found 1 validated image filenames.\n",
            "Found 1 validated image filenames.\n"
          ]
        },
        {
          "output_type": "stream",
          "name": "stderr",
          "text": [
            "\rProcessing Images:  25%|██▌       | 1206/4752 [00:09<00:32, 108.48it/s]"
          ]
        },
        {
          "output_type": "stream",
          "name": "stdout",
          "text": [
            "Found 1 validated image filenames.\n",
            "Found 1 validated image filenames.\n",
            "Found 1 validated image filenames.\n",
            "Found 1 validated image filenames.\n",
            "Found 1 validated image filenames.\n",
            "Found 1 validated image filenames.\n",
            "Found 1 validated image filenames.\n",
            "Found 1 validated image filenames.\n",
            "Found 1 validated image filenames.\n",
            "Found 1 validated image filenames.\n",
            "Found 1 validated image filenames.\n"
          ]
        },
        {
          "output_type": "stream",
          "name": "stderr",
          "text": [
            "\rProcessing Images:  26%|██▌       | 1217/4752 [00:09<00:34, 103.27it/s]"
          ]
        },
        {
          "output_type": "stream",
          "name": "stdout",
          "text": [
            "Found 1 validated image filenames.\n",
            "Found 1 validated image filenames.\n",
            "Found 1 validated image filenames.\n",
            "Found 1 validated image filenames.\n",
            "Found 1 validated image filenames.\n",
            "Found 1 validated image filenames.\n",
            "Found 1 validated image filenames.\n",
            "Found 1 validated image filenames.\n",
            "Found 1 validated image filenames.\n",
            "Found 1 validated image filenames.\n",
            "Found 1 validated image filenames.\n"
          ]
        },
        {
          "output_type": "stream",
          "name": "stderr",
          "text": [
            "\rProcessing Images:  26%|██▌       | 1228/4752 [00:10<00:35, 99.07it/s] "
          ]
        },
        {
          "output_type": "stream",
          "name": "stdout",
          "text": [
            "Found 1 validated image filenames.\n",
            "Found 1 validated image filenames.\n",
            "Found 1 validated image filenames.\n",
            "Found 1 validated image filenames.\n",
            "Found 1 validated image filenames.\n",
            "Found 1 validated image filenames.\n",
            "Found 1 validated image filenames.\n",
            "Found 1 validated image filenames.\n",
            "Found 1 validated image filenames.\n",
            "Found 1 validated image filenames.\n",
            "Found 1 validated image filenames.\n"
          ]
        },
        {
          "output_type": "stream",
          "name": "stderr",
          "text": [
            "\rProcessing Images:  26%|██▌       | 1239/4752 [00:10<00:34, 101.21it/s]"
          ]
        },
        {
          "output_type": "stream",
          "name": "stdout",
          "text": [
            "Found 1 validated image filenames.\n",
            "Found 1 validated image filenames.\n",
            "Found 1 validated image filenames.\n",
            "Found 1 validated image filenames.\n",
            "Found 1 validated image filenames.\n",
            "Found 1 validated image filenames.\n",
            "Found 1 validated image filenames.\n",
            "Found 1 validated image filenames.\n",
            "Found 1 validated image filenames.\n",
            "Found 1 validated image filenames.\n",
            "Found 1 validated image filenames.\n"
          ]
        },
        {
          "output_type": "stream",
          "name": "stderr",
          "text": [
            "\rProcessing Images:  26%|██▋       | 1250/4752 [00:10<00:33, 103.55it/s]"
          ]
        },
        {
          "output_type": "stream",
          "name": "stdout",
          "text": [
            "Found 1 validated image filenames.\n",
            "Found 1 validated image filenames.\n",
            "Found 1 validated image filenames.\n",
            "Found 1 validated image filenames.\n",
            "Found 1 validated image filenames.\n",
            "Found 1 validated image filenames.\n",
            "Found 1 validated image filenames.\n",
            "Found 1 validated image filenames.\n",
            "Found 1 validated image filenames.\n",
            "Found 1 validated image filenames.\n",
            "Found 1 validated image filenames.\n",
            "Found 1 validated image filenames.\n",
            "Found 1 validated image filenames.\n"
          ]
        },
        {
          "output_type": "stream",
          "name": "stderr",
          "text": [
            "\rProcessing Images:  27%|██▋       | 1263/4752 [00:10<00:31, 109.47it/s]"
          ]
        },
        {
          "output_type": "stream",
          "name": "stdout",
          "text": [
            "Found 1 validated image filenames.\n",
            "Found 1 validated image filenames.\n",
            "Found 1 validated image filenames.\n",
            "Found 1 validated image filenames.\n",
            "Found 1 validated image filenames.\n",
            "Found 1 validated image filenames.\n",
            "Found 1 validated image filenames.\n",
            "Found 1 validated image filenames.\n",
            "Found 1 validated image filenames.\n",
            "Found 1 validated image filenames.\n",
            "Found 1 validated image filenames.\n",
            "Found 1 validated image filenames.\n"
          ]
        },
        {
          "output_type": "stream",
          "name": "stderr",
          "text": [
            "\rProcessing Images:  27%|██▋       | 1275/4752 [00:10<00:32, 108.44it/s]"
          ]
        },
        {
          "output_type": "stream",
          "name": "stdout",
          "text": [
            "Found 1 validated image filenames.\n",
            "Found 1 validated image filenames.\n",
            "Found 1 validated image filenames.\n",
            "Found 1 validated image filenames.\n",
            "Found 1 validated image filenames.\n",
            "Found 1 validated image filenames.\n",
            "Found 1 validated image filenames.\n",
            "Found 1 validated image filenames.\n",
            "Found 1 validated image filenames.\n",
            "Found 1 validated image filenames.\n",
            "Found 1 validated image filenames.\n"
          ]
        },
        {
          "output_type": "stream",
          "name": "stderr",
          "text": [
            "\rProcessing Images:  27%|██▋       | 1286/4752 [00:10<00:32, 106.75it/s]"
          ]
        },
        {
          "output_type": "stream",
          "name": "stdout",
          "text": [
            "Found 1 validated image filenames.\n",
            "Found 1 validated image filenames.\n",
            "Found 1 validated image filenames.\n",
            "Found 1 validated image filenames.\n",
            "Found 1 validated image filenames.\n",
            "Found 1 validated image filenames.\n",
            "Found 1 validated image filenames.\n",
            "Found 1 validated image filenames.\n",
            "Found 1 validated image filenames.\n",
            "Found 1 validated image filenames.\n",
            "Found 1 validated image filenames.\n",
            "Found 1 validated image filenames.\n"
          ]
        },
        {
          "output_type": "stream",
          "name": "stderr",
          "text": [
            "\rProcessing Images:  27%|██▋       | 1298/4752 [00:10<00:31, 108.38it/s]"
          ]
        },
        {
          "output_type": "stream",
          "name": "stdout",
          "text": [
            "Found 1 validated image filenames.\n",
            "Found 1 validated image filenames.\n",
            "Found 1 validated image filenames.\n",
            "Found 1 validated image filenames.\n",
            "Found 1 validated image filenames.\n",
            "Found 1 validated image filenames.\n",
            "Found 1 validated image filenames.\n",
            "Found 1 validated image filenames.\n",
            "Found 1 validated image filenames.\n",
            "Found 1 validated image filenames.\n",
            "Found 1 validated image filenames.\n",
            "Found 1 validated image filenames.\n"
          ]
        },
        {
          "output_type": "stream",
          "name": "stderr",
          "text": [
            "\rProcessing Images:  28%|██▊       | 1310/4752 [00:10<00:31, 109.19it/s]"
          ]
        },
        {
          "output_type": "stream",
          "name": "stdout",
          "text": [
            "Found 1 validated image filenames.\n",
            "Found 1 validated image filenames.\n",
            "Found 1 validated image filenames.\n",
            "Found 1 validated image filenames.\n",
            "Found 1 validated image filenames.\n",
            "Found 1 validated image filenames.\n",
            "Found 1 validated image filenames.\n",
            "Found 1 validated image filenames.\n",
            "Found 1 validated image filenames.\n",
            "Found 1 validated image filenames.\n",
            "Found 1 validated image filenames.\n"
          ]
        },
        {
          "output_type": "stream",
          "name": "stderr",
          "text": [
            "\rProcessing Images:  28%|██▊       | 1321/4752 [00:10<00:32, 106.95it/s]"
          ]
        },
        {
          "output_type": "stream",
          "name": "stdout",
          "text": [
            "Found 1 validated image filenames.\n",
            "Found 1 validated image filenames.\n",
            "Found 1 validated image filenames.\n",
            "Found 1 validated image filenames.\n",
            "Found 1 validated image filenames.\n",
            "Found 1 validated image filenames.\n",
            "Found 1 validated image filenames.\n",
            "Found 1 validated image filenames.\n",
            "Found 1 validated image filenames.\n",
            "Found 1 validated image filenames.\n",
            "Found 1 validated image filenames.\n",
            "Found 1 validated image filenames.\n"
          ]
        },
        {
          "output_type": "stream",
          "name": "stderr",
          "text": [
            "\rProcessing Images:  28%|██▊       | 1333/4752 [00:11<00:31, 109.48it/s]"
          ]
        },
        {
          "output_type": "stream",
          "name": "stdout",
          "text": [
            "Found 1 validated image filenames.\n",
            "Found 1 validated image filenames.\n",
            "Found 1 validated image filenames.\n",
            "Found 1 validated image filenames.\n",
            "Found 1 validated image filenames.\n",
            "Found 1 validated image filenames.\n",
            "Found 1 validated image filenames.\n",
            "Found 1 validated image filenames.\n",
            "Found 1 validated image filenames.\n",
            "Found 1 validated image filenames.\n",
            "Found 1 validated image filenames.\n",
            "Found 1 validated image filenames.\n",
            "Found 1 validated image filenames.\n"
          ]
        },
        {
          "output_type": "stream",
          "name": "stderr",
          "text": [
            "\rProcessing Images:  28%|██▊       | 1346/4752 [00:11<00:29, 113.68it/s]"
          ]
        },
        {
          "output_type": "stream",
          "name": "stdout",
          "text": [
            "Found 1 validated image filenames.\n",
            "Found 1 validated image filenames.\n",
            "Found 1 validated image filenames.\n",
            "Found 1 validated image filenames.\n",
            "Found 1 validated image filenames.\n",
            "Found 1 validated image filenames.\n",
            "Found 1 validated image filenames.\n",
            "Found 1 validated image filenames.\n",
            "Found 1 validated image filenames.\n",
            "Found 1 validated image filenames.\n",
            "Found 1 validated image filenames.\n",
            "Found 1 validated image filenames.\n"
          ]
        },
        {
          "output_type": "stream",
          "name": "stderr",
          "text": [
            "\rProcessing Images:  29%|██▊       | 1358/4752 [00:11<00:29, 113.69it/s]"
          ]
        },
        {
          "output_type": "stream",
          "name": "stdout",
          "text": [
            "Found 1 validated image filenames.\n",
            "Found 1 validated image filenames.\n",
            "Found 1 validated image filenames.\n",
            "Found 1 validated image filenames.\n",
            "Found 1 validated image filenames.\n",
            "Found 1 validated image filenames.\n",
            "Found 1 validated image filenames.\n",
            "Found 1 validated image filenames.\n",
            "Found 1 validated image filenames.\n",
            "Found 1 validated image filenames.\n",
            "Found 1 validated image filenames.\n",
            "Found 1 validated image filenames.\n",
            "Found 1 validated image filenames.\n"
          ]
        },
        {
          "output_type": "stream",
          "name": "stderr",
          "text": [
            "\rProcessing Images:  29%|██▉       | 1371/4752 [00:11<00:28, 118.27it/s]"
          ]
        },
        {
          "output_type": "stream",
          "name": "stdout",
          "text": [
            "Found 1 validated image filenames.\n",
            "Found 1 validated image filenames.\n",
            "Found 1 validated image filenames.\n",
            "Found 1 validated image filenames.\n",
            "Found 1 validated image filenames.\n",
            "Found 1 validated image filenames.\n",
            "Found 1 validated image filenames.\n",
            "Found 1 validated image filenames.\n",
            "Found 1 validated image filenames.\n",
            "Found 1 validated image filenames.\n",
            "Found 1 validated image filenames.\n",
            "Found 1 validated image filenames.\n",
            "Found 1 validated image filenames.\n"
          ]
        },
        {
          "output_type": "stream",
          "name": "stderr",
          "text": [
            "\rProcessing Images:  29%|██▉       | 1384/4752 [00:11<00:28, 118.80it/s]"
          ]
        },
        {
          "output_type": "stream",
          "name": "stdout",
          "text": [
            "Found 1 validated image filenames.\n",
            "Found 1 validated image filenames.\n",
            "Found 1 validated image filenames.\n",
            "Found 1 validated image filenames.\n",
            "Found 1 validated image filenames.\n",
            "Found 1 validated image filenames.\n",
            "Found 1 validated image filenames.\n",
            "Found 1 validated image filenames.\n",
            "Found 1 validated image filenames.\n",
            "Found 1 validated image filenames.\n",
            "Found 1 validated image filenames.\n",
            "Found 1 validated image filenames.\n"
          ]
        },
        {
          "output_type": "stream",
          "name": "stderr",
          "text": [
            "\rProcessing Images:  29%|██▉       | 1396/4752 [00:11<00:29, 113.02it/s]"
          ]
        },
        {
          "output_type": "stream",
          "name": "stdout",
          "text": [
            "Found 1 validated image filenames.\n",
            "Found 1 validated image filenames.\n",
            "Found 1 validated image filenames.\n",
            "Found 1 validated image filenames.\n",
            "Found 1 validated image filenames.\n",
            "Found 1 validated image filenames.\n",
            "Found 1 validated image filenames.\n",
            "Found 1 validated image filenames.\n",
            "Found 1 validated image filenames.\n",
            "Found 1 validated image filenames.\n",
            "Found 1 validated image filenames.\n",
            "Found 1 validated image filenames.\n"
          ]
        },
        {
          "output_type": "stream",
          "name": "stderr",
          "text": [
            "\rProcessing Images:  30%|██▉       | 1408/4752 [00:11<00:30, 110.45it/s]"
          ]
        },
        {
          "output_type": "stream",
          "name": "stdout",
          "text": [
            "Found 1 validated image filenames.\n",
            "Found 1 validated image filenames.\n",
            "Found 1 validated image filenames.\n",
            "Found 1 validated image filenames.\n",
            "Found 1 validated image filenames.\n",
            "Found 1 validated image filenames.\n",
            "Found 1 validated image filenames.\n",
            "Found 1 validated image filenames.\n",
            "Found 1 validated image filenames.\n",
            "Found 1 validated image filenames.\n",
            "Found 1 validated image filenames.\n",
            "Found 1 validated image filenames.\n",
            "Found 1 validated image filenames.\n"
          ]
        },
        {
          "output_type": "stream",
          "name": "stderr",
          "text": [
            "\rProcessing Images:  30%|██▉       | 1421/4752 [00:11<00:29, 114.76it/s]"
          ]
        },
        {
          "output_type": "stream",
          "name": "stdout",
          "text": [
            "Found 1 validated image filenames.\n",
            "Found 1 validated image filenames.\n",
            "Found 1 validated image filenames.\n",
            "Found 1 validated image filenames.\n",
            "Found 1 validated image filenames.\n",
            "Found 1 validated image filenames.\n",
            "Found 1 validated image filenames.\n",
            "Found 1 validated image filenames.\n",
            "Found 1 validated image filenames.\n",
            "Found 1 validated image filenames.\n",
            "Found 1 validated image filenames.\n",
            "Found 1 validated image filenames.\n"
          ]
        },
        {
          "output_type": "stream",
          "name": "stderr",
          "text": [
            "\rProcessing Images:  30%|███       | 1433/4752 [00:11<00:28, 114.56it/s]"
          ]
        },
        {
          "output_type": "stream",
          "name": "stdout",
          "text": [
            "Found 1 validated image filenames.\n",
            "Found 1 validated image filenames.\n",
            "Found 1 validated image filenames.\n",
            "Found 1 validated image filenames.\n",
            "Found 1 validated image filenames.\n",
            "Found 1 validated image filenames.\n",
            "Found 1 validated image filenames.\n",
            "Found 1 validated image filenames.\n",
            "Found 1 validated image filenames.\n",
            "Found 1 validated image filenames.\n",
            "Found 1 validated image filenames.\n",
            "Found 1 validated image filenames.\n"
          ]
        },
        {
          "output_type": "stream",
          "name": "stderr",
          "text": [
            "\rProcessing Images:  30%|███       | 1445/4752 [00:11<00:28, 115.22it/s]"
          ]
        },
        {
          "output_type": "stream",
          "name": "stdout",
          "text": [
            "Found 1 validated image filenames.\n",
            "Found 1 validated image filenames.\n",
            "Found 1 validated image filenames.\n",
            "Found 1 validated image filenames.\n",
            "Found 1 validated image filenames.\n",
            "Found 1 validated image filenames.\n",
            "Found 1 validated image filenames.\n",
            "Found 1 validated image filenames.\n",
            "Found 1 validated image filenames.\n",
            "Found 1 validated image filenames.\n",
            "Found 1 validated image filenames.\n",
            "Found 1 validated image filenames.\n",
            "Found 1 validated image filenames.\n"
          ]
        },
        {
          "output_type": "stream",
          "name": "stderr",
          "text": [
            "\rProcessing Images:  31%|███       | 1458/4752 [00:12<00:27, 117.69it/s]"
          ]
        },
        {
          "output_type": "stream",
          "name": "stdout",
          "text": [
            "Found 1 validated image filenames.\n",
            "Found 1 validated image filenames.\n",
            "Found 1 validated image filenames.\n",
            "Found 1 validated image filenames.\n",
            "Found 1 validated image filenames.\n",
            "Found 1 validated image filenames.\n",
            "Found 1 validated image filenames.\n",
            "Found 1 validated image filenames.\n",
            "Found 1 validated image filenames.\n",
            "Found 1 validated image filenames.\n",
            "Found 1 validated image filenames.\n",
            "Found 1 validated image filenames.\n",
            "Found 1 validated image filenames.\n"
          ]
        },
        {
          "output_type": "stream",
          "name": "stderr",
          "text": [
            "\rProcessing Images:  31%|███       | 1471/4752 [00:12<00:27, 120.90it/s]"
          ]
        },
        {
          "output_type": "stream",
          "name": "stdout",
          "text": [
            "Found 1 validated image filenames.\n",
            "Found 1 validated image filenames.\n",
            "Found 1 validated image filenames.\n",
            "Found 1 validated image filenames.\n",
            "Found 1 validated image filenames.\n",
            "Found 1 validated image filenames.\n",
            "Found 1 validated image filenames.\n",
            "Found 1 validated image filenames.\n",
            "Found 1 validated image filenames.\n",
            "Found 1 validated image filenames.\n",
            "Found 1 validated image filenames.\n",
            "Found 1 validated image filenames.\n",
            "Found 1 validated image filenames.\n",
            "Found 1 validated image filenames.\n"
          ]
        },
        {
          "output_type": "stream",
          "name": "stderr",
          "text": [
            "\rProcessing Images:  31%|███▏      | 1485/4752 [00:12<00:26, 124.80it/s]"
          ]
        },
        {
          "output_type": "stream",
          "name": "stdout",
          "text": [
            "Found 1 validated image filenames.\n",
            "Found 1 validated image filenames.\n",
            "Found 1 validated image filenames.\n",
            "Found 1 validated image filenames.\n",
            "Found 1 validated image filenames.\n",
            "Found 1 validated image filenames.\n",
            "Found 1 validated image filenames.\n",
            "Found 1 validated image filenames.\n",
            "Found 1 validated image filenames.\n",
            "Found 1 validated image filenames.\n",
            "Found 1 validated image filenames.\n",
            "Found 1 validated image filenames.\n",
            "Found 1 validated image filenames.\n"
          ]
        },
        {
          "output_type": "stream",
          "name": "stderr",
          "text": [
            "\rProcessing Images:  32%|███▏      | 1498/4752 [00:12<00:26, 121.81it/s]"
          ]
        },
        {
          "output_type": "stream",
          "name": "stdout",
          "text": [
            "Found 1 validated image filenames.\n",
            "Found 1 validated image filenames.\n",
            "Found 1 validated image filenames.\n",
            "Found 1 validated image filenames.\n",
            "Found 1 validated image filenames.\n",
            "Found 1 validated image filenames.\n",
            "Found 1 validated image filenames.\n",
            "Found 1 validated image filenames.\n",
            "Found 1 validated image filenames.\n",
            "Found 1 validated image filenames.\n",
            "Found 1 validated image filenames.\n",
            "Found 1 validated image filenames.\n",
            "Found 1 validated image filenames.\n"
          ]
        },
        {
          "output_type": "stream",
          "name": "stderr",
          "text": [
            "\rProcessing Images:  32%|███▏      | 1511/4752 [00:12<00:26, 122.92it/s]"
          ]
        },
        {
          "output_type": "stream",
          "name": "stdout",
          "text": [
            "Found 1 validated image filenames.\n",
            "Found 1 validated image filenames.\n",
            "Found 1 validated image filenames.\n",
            "Found 1 validated image filenames.\n",
            "Found 1 validated image filenames.\n",
            "Found 1 validated image filenames.\n",
            "Found 1 validated image filenames.\n",
            "Found 1 validated image filenames.\n",
            "Found 1 validated image filenames.\n",
            "Found 1 validated image filenames.\n",
            "Found 1 validated image filenames.\n",
            "Found 1 validated image filenames.\n",
            "Found 1 validated image filenames.\n"
          ]
        },
        {
          "output_type": "stream",
          "name": "stderr",
          "text": [
            "\rProcessing Images:  32%|███▏      | 1524/4752 [00:12<00:26, 122.64it/s]"
          ]
        },
        {
          "output_type": "stream",
          "name": "stdout",
          "text": [
            "Found 1 validated image filenames.\n",
            "Found 1 validated image filenames.\n",
            "Found 1 validated image filenames.\n",
            "Found 1 validated image filenames.\n",
            "Found 1 validated image filenames.\n",
            "Found 1 validated image filenames.\n",
            "Found 1 validated image filenames.\n",
            "Found 1 validated image filenames.\n",
            "Found 1 validated image filenames.\n",
            "Found 1 validated image filenames.\n",
            "Found 1 validated image filenames.\n",
            "Found 1 validated image filenames.\n",
            "Found 1 validated image filenames.\n"
          ]
        },
        {
          "output_type": "stream",
          "name": "stderr",
          "text": [
            "\rProcessing Images:  32%|███▏      | 1537/4752 [00:12<00:26, 121.77it/s]"
          ]
        },
        {
          "output_type": "stream",
          "name": "stdout",
          "text": [
            "Found 1 validated image filenames.\n",
            "Found 1 validated image filenames.\n",
            "Found 1 validated image filenames.\n",
            "Found 1 validated image filenames.\n",
            "Found 1 validated image filenames.\n",
            "Found 1 validated image filenames.\n",
            "Found 1 validated image filenames.\n",
            "Found 1 validated image filenames.\n",
            "Found 1 validated image filenames.\n",
            "Found 1 validated image filenames.\n",
            "Found 1 validated image filenames.\n",
            "Found 1 validated image filenames.\n",
            "Found 1 validated image filenames.\n"
          ]
        },
        {
          "output_type": "stream",
          "name": "stderr",
          "text": [
            "\rProcessing Images:  33%|███▎      | 1550/4752 [00:12<00:26, 120.54it/s]"
          ]
        },
        {
          "output_type": "stream",
          "name": "stdout",
          "text": [
            "Found 1 validated image filenames.\n",
            "Found 1 validated image filenames.\n",
            "Found 1 validated image filenames.\n",
            "Found 1 validated image filenames.\n",
            "Found 1 validated image filenames.\n",
            "Found 1 validated image filenames.\n",
            "Found 1 validated image filenames.\n",
            "Found 1 validated image filenames.\n",
            "Found 1 validated image filenames.\n",
            "Found 1 validated image filenames.\n",
            "Found 1 validated image filenames.\n",
            "Found 1 validated image filenames.\n",
            "Found 1 validated image filenames.\n"
          ]
        },
        {
          "output_type": "stream",
          "name": "stderr",
          "text": [
            "\rProcessing Images:  33%|███▎      | 1563/4752 [00:12<00:26, 120.04it/s]"
          ]
        },
        {
          "output_type": "stream",
          "name": "stdout",
          "text": [
            "Found 1 validated image filenames.\n",
            "Found 1 validated image filenames.\n",
            "Found 1 validated image filenames.\n",
            "Found 1 validated image filenames.\n",
            "Found 1 validated image filenames.\n",
            "Found 1 validated image filenames.\n",
            "Found 1 validated image filenames.\n",
            "Found 1 validated image filenames.\n",
            "Found 1 validated image filenames.\n",
            "Found 1 validated image filenames.\n",
            "Found 1 validated image filenames.\n",
            "Found 1 validated image filenames.\n",
            "Found 1 validated image filenames.\n"
          ]
        },
        {
          "output_type": "stream",
          "name": "stderr",
          "text": [
            "\rProcessing Images:  33%|███▎      | 1576/4752 [00:13<00:26, 120.09it/s]"
          ]
        },
        {
          "output_type": "stream",
          "name": "stdout",
          "text": [
            "Found 1 validated image filenames.\n",
            "Found 1 validated image filenames.\n",
            "Found 1 validated image filenames.\n",
            "Found 1 validated image filenames.\n",
            "Found 1 validated image filenames.\n",
            "Found 1 validated image filenames.\n",
            "Found 1 validated image filenames.\n",
            "Found 1 validated image filenames.\n",
            "Found 1 validated image filenames.\n",
            "Found 1 validated image filenames.\n",
            "Found 1 validated image filenames.\n",
            "Found 1 validated image filenames.\n",
            "Found 1 validated image filenames.\n"
          ]
        },
        {
          "output_type": "stream",
          "name": "stderr",
          "text": [
            "\rProcessing Images:  33%|███▎      | 1589/4752 [00:13<00:26, 117.70it/s]"
          ]
        },
        {
          "output_type": "stream",
          "name": "stdout",
          "text": [
            "Found 1 validated image filenames.\n",
            "Found 1 validated image filenames.\n",
            "Found 1 validated image filenames.\n",
            "Found 1 validated image filenames.\n",
            "Found 1 validated image filenames.\n",
            "Found 1 validated image filenames.\n",
            "Found 1 validated image filenames.\n",
            "Found 1 validated image filenames.\n",
            "Found 1 validated image filenames.\n",
            "Found 1 validated image filenames.\n",
            "Found 1 validated image filenames.\n",
            "Found 1 validated image filenames.\n",
            "Found 1 validated image filenames.\n"
          ]
        },
        {
          "output_type": "stream",
          "name": "stderr",
          "text": [
            "\rProcessing Images:  34%|███▎      | 1602/4752 [00:13<00:26, 118.73it/s]"
          ]
        },
        {
          "output_type": "stream",
          "name": "stdout",
          "text": [
            "Found 1 validated image filenames.\n",
            "Found 1 validated image filenames.\n",
            "Found 1 validated image filenames.\n",
            "Found 1 validated image filenames.\n",
            "Found 1 validated image filenames.\n",
            "Found 1 validated image filenames.\n",
            "Found 1 validated image filenames.\n",
            "Found 1 validated image filenames.\n",
            "Found 1 validated image filenames.\n",
            "Found 1 validated image filenames.\n",
            "Found 1 validated image filenames.\n",
            "Found 1 validated image filenames.\n"
          ]
        },
        {
          "output_type": "stream",
          "name": "stderr",
          "text": [
            "\rProcessing Images:  34%|███▍      | 1614/4752 [00:13<00:26, 118.07it/s]"
          ]
        },
        {
          "output_type": "stream",
          "name": "stdout",
          "text": [
            "Found 1 validated image filenames.\n",
            "Found 1 validated image filenames.\n",
            "Found 1 validated image filenames.\n",
            "Found 1 validated image filenames.\n",
            "Found 1 validated image filenames.\n",
            "Found 1 validated image filenames.\n",
            "Found 1 validated image filenames.\n",
            "Found 1 validated image filenames.\n",
            "Found 1 validated image filenames.\n",
            "Found 1 validated image filenames.\n",
            "Found 1 validated image filenames.\n",
            "Found 1 validated image filenames.\n",
            "Found 1 validated image filenames.\n"
          ]
        },
        {
          "output_type": "stream",
          "name": "stderr",
          "text": [
            "\rProcessing Images:  34%|███▍      | 1627/4752 [00:13<00:25, 121.25it/s]"
          ]
        },
        {
          "output_type": "stream",
          "name": "stdout",
          "text": [
            "Found 1 validated image filenames.\n",
            "Found 1 validated image filenames.\n",
            "Found 1 validated image filenames.\n",
            "Found 1 validated image filenames.\n",
            "Found 1 validated image filenames.\n",
            "Found 1 validated image filenames.\n",
            "Found 1 validated image filenames.\n",
            "Found 1 validated image filenames.\n",
            "Found 1 validated image filenames.\n",
            "Found 1 validated image filenames.\n",
            "Found 1 validated image filenames.\n",
            "Found 1 validated image filenames.\n",
            "Found 1 validated image filenames.\n"
          ]
        },
        {
          "output_type": "stream",
          "name": "stderr",
          "text": [
            "\rProcessing Images:  35%|███▍      | 1640/4752 [00:13<00:26, 116.12it/s]"
          ]
        },
        {
          "output_type": "stream",
          "name": "stdout",
          "text": [
            "Found 1 validated image filenames.\n",
            "Found 1 validated image filenames.\n",
            "Found 1 validated image filenames.\n",
            "Found 1 validated image filenames.\n",
            "Found 1 validated image filenames.\n",
            "Found 1 validated image filenames.\n",
            "Found 1 validated image filenames.\n",
            "Found 1 validated image filenames.\n",
            "Found 1 validated image filenames.\n",
            "Found 1 validated image filenames.\n",
            "Found 1 validated image filenames.\n",
            "Found 1 validated image filenames.\n",
            "Found 1 validated image filenames.\n"
          ]
        },
        {
          "output_type": "stream",
          "name": "stderr",
          "text": [
            "\rProcessing Images:  35%|███▍      | 1653/4752 [00:13<00:25, 119.24it/s]"
          ]
        },
        {
          "output_type": "stream",
          "name": "stdout",
          "text": [
            "Found 1 validated image filenames.\n",
            "Found 1 validated image filenames.\n",
            "Found 1 validated image filenames.\n",
            "Found 1 validated image filenames.\n",
            "Found 1 validated image filenames.\n",
            "Found 1 validated image filenames.\n",
            "Found 1 validated image filenames.\n",
            "Found 1 validated image filenames.\n",
            "Found 1 validated image filenames.\n",
            "Found 1 validated image filenames.\n",
            "Found 1 validated image filenames.\n",
            "Found 1 validated image filenames.\n"
          ]
        },
        {
          "output_type": "stream",
          "name": "stderr",
          "text": [
            "\rProcessing Images:  35%|███▌      | 1665/4752 [00:13<00:25, 119.04it/s]"
          ]
        },
        {
          "output_type": "stream",
          "name": "stdout",
          "text": [
            "Found 1 validated image filenames.\n",
            "Found 1 validated image filenames.\n",
            "Found 1 validated image filenames.\n",
            "Found 1 validated image filenames.\n",
            "Found 1 validated image filenames.\n",
            "Found 1 validated image filenames.\n",
            "Found 1 validated image filenames.\n",
            "Found 1 validated image filenames.\n",
            "Found 1 validated image filenames.\n",
            "Found 1 validated image filenames.\n",
            "Found 1 validated image filenames.\n",
            "Found 1 validated image filenames.\n",
            "Found 1 validated image filenames.\n"
          ]
        },
        {
          "output_type": "stream",
          "name": "stderr",
          "text": [
            "\rProcessing Images:  35%|███▌      | 1678/4752 [00:13<00:25, 120.28it/s]"
          ]
        },
        {
          "output_type": "stream",
          "name": "stdout",
          "text": [
            "Found 1 validated image filenames.\n",
            "Found 1 validated image filenames.\n",
            "Found 1 validated image filenames.\n",
            "Found 1 validated image filenames.\n",
            "Found 1 validated image filenames.\n",
            "Found 1 validated image filenames.\n",
            "Found 1 validated image filenames.\n",
            "Found 1 validated image filenames.\n",
            "Found 1 validated image filenames.\n",
            "Found 1 validated image filenames.\n",
            "Found 1 validated image filenames.\n",
            "Found 1 validated image filenames.\n",
            "Found 1 validated image filenames.\n",
            "Found 1 validated image filenames.\n",
            "Found 1 validated image filenames.\n"
          ]
        },
        {
          "output_type": "stream",
          "name": "stderr",
          "text": [
            "\rProcessing Images:  36%|███▌      | 1693/4752 [00:14<00:24, 126.03it/s]"
          ]
        },
        {
          "output_type": "stream",
          "name": "stdout",
          "text": [
            "Found 1 validated image filenames.\n",
            "Found 1 validated image filenames.\n",
            "Found 1 validated image filenames.\n",
            "Found 1 validated image filenames.\n",
            "Found 1 validated image filenames.\n",
            "Found 1 validated image filenames.\n",
            "Found 1 validated image filenames.\n",
            "Found 1 validated image filenames.\n",
            "Found 1 validated image filenames.\n",
            "Found 1 validated image filenames.\n",
            "Found 1 validated image filenames.\n",
            "Found 1 validated image filenames.\n",
            "Found 1 validated image filenames.\n"
          ]
        },
        {
          "output_type": "stream",
          "name": "stderr",
          "text": [
            "\rProcessing Images:  36%|███▌      | 1706/4752 [00:14<00:23, 127.16it/s]"
          ]
        },
        {
          "output_type": "stream",
          "name": "stdout",
          "text": [
            "Found 1 validated image filenames.\n",
            "Found 1 validated image filenames.\n",
            "Found 1 validated image filenames.\n",
            "Found 1 validated image filenames.\n",
            "Found 1 validated image filenames.\n",
            "Found 1 validated image filenames.\n",
            "Found 1 validated image filenames.\n",
            "Found 1 validated image filenames.\n",
            "Found 1 validated image filenames.\n",
            "Found 1 validated image filenames.\n",
            "Found 1 validated image filenames.\n",
            "Found 1 validated image filenames.\n",
            "Found 1 validated image filenames.\n",
            "Found 1 validated image filenames.\n"
          ]
        },
        {
          "output_type": "stream",
          "name": "stderr",
          "text": [
            "\rProcessing Images:  36%|███▌      | 1720/4752 [00:14<00:23, 130.13it/s]"
          ]
        },
        {
          "output_type": "stream",
          "name": "stdout",
          "text": [
            "Found 1 validated image filenames.\n",
            "Found 1 validated image filenames.\n",
            "Found 1 validated image filenames.\n",
            "Found 1 validated image filenames.\n",
            "Found 1 validated image filenames.\n",
            "Found 1 validated image filenames.\n",
            "Found 1 validated image filenames.\n",
            "Found 1 validated image filenames.\n",
            "Found 1 validated image filenames.\n",
            "Found 1 validated image filenames.\n",
            "Found 1 validated image filenames.\n",
            "Found 1 validated image filenames.\n",
            "Found 1 validated image filenames.\n",
            "Found 1 validated image filenames.\n",
            "Found 1 validated image filenames.\n"
          ]
        },
        {
          "output_type": "stream",
          "name": "stderr",
          "text": [
            "\rProcessing Images:  37%|███▋      | 1735/4752 [00:14<00:22, 134.01it/s]"
          ]
        },
        {
          "output_type": "stream",
          "name": "stdout",
          "text": [
            "Found 1 validated image filenames.\n",
            "Found 1 validated image filenames.\n",
            "Found 1 validated image filenames.\n",
            "Found 1 validated image filenames.\n",
            "Found 1 validated image filenames.\n",
            "Found 1 validated image filenames.\n",
            "Found 1 validated image filenames.\n",
            "Found 1 validated image filenames.\n",
            "Found 1 validated image filenames.\n",
            "Found 1 validated image filenames.\n",
            "Found 1 validated image filenames.\n",
            "Found 1 validated image filenames.\n",
            "Found 1 validated image filenames.\n",
            "Found 1 validated image filenames.\n"
          ]
        },
        {
          "output_type": "stream",
          "name": "stderr",
          "text": [
            "\rProcessing Images:  37%|███▋      | 1749/4752 [00:14<00:22, 132.85it/s]"
          ]
        },
        {
          "output_type": "stream",
          "name": "stdout",
          "text": [
            "Found 1 validated image filenames.\n",
            "Found 1 validated image filenames.\n",
            "Found 1 validated image filenames.\n",
            "Found 1 validated image filenames.\n",
            "Found 1 validated image filenames.\n",
            "Found 1 validated image filenames.\n",
            "Found 1 validated image filenames.\n",
            "Found 1 validated image filenames.\n",
            "Found 1 validated image filenames.\n",
            "Found 1 validated image filenames.\n",
            "Found 1 validated image filenames.\n",
            "Found 1 validated image filenames.\n",
            "Found 1 validated image filenames.\n",
            "Found 1 validated image filenames.\n"
          ]
        },
        {
          "output_type": "stream",
          "name": "stderr",
          "text": [
            "\rProcessing Images:  37%|███▋      | 1763/4752 [00:14<00:22, 134.17it/s]"
          ]
        },
        {
          "output_type": "stream",
          "name": "stdout",
          "text": [
            "Found 1 validated image filenames.\n",
            "Found 1 validated image filenames.\n",
            "Found 1 validated image filenames.\n",
            "Found 1 validated image filenames.\n",
            "Found 1 validated image filenames.\n",
            "Found 1 validated image filenames.\n",
            "Found 1 validated image filenames.\n",
            "Found 1 validated image filenames.\n",
            "Found 1 validated image filenames.\n",
            "Found 1 validated image filenames.\n",
            "Found 1 validated image filenames.\n",
            "Found 1 validated image filenames.\n",
            "Found 1 validated image filenames.\n",
            "Found 1 validated image filenames.\n"
          ]
        },
        {
          "output_type": "stream",
          "name": "stderr",
          "text": [
            "\rProcessing Images:  37%|███▋      | 1777/4752 [00:14<00:22, 132.04it/s]"
          ]
        },
        {
          "output_type": "stream",
          "name": "stdout",
          "text": [
            "Found 1 validated image filenames.\n",
            "Found 1 validated image filenames.\n",
            "Found 1 validated image filenames.\n",
            "Found 1 validated image filenames.\n",
            "Found 1 validated image filenames.\n",
            "Found 1 validated image filenames.\n",
            "Found 1 validated image filenames.\n",
            "Found 1 validated image filenames.\n",
            "Found 1 validated image filenames.\n",
            "Found 1 validated image filenames.\n",
            "Found 1 validated image filenames.\n",
            "Found 1 validated image filenames.\n",
            "Found 1 validated image filenames.\n",
            "Found 1 validated image filenames.\n",
            "Found 1 validated image filenames.\n"
          ]
        },
        {
          "output_type": "stream",
          "name": "stderr",
          "text": [
            "\rProcessing Images:  38%|███▊      | 1792/4752 [00:14<00:21, 134.85it/s]"
          ]
        },
        {
          "output_type": "stream",
          "name": "stdout",
          "text": [
            "Found 1 validated image filenames.\n",
            "Found 1 validated image filenames.\n",
            "Found 1 validated image filenames.\n",
            "Found 1 validated image filenames.\n",
            "Found 1 validated image filenames.\n",
            "Found 1 validated image filenames.\n",
            "Found 1 validated image filenames.\n",
            "Found 1 validated image filenames.\n",
            "Found 1 validated image filenames.\n",
            "Found 1 validated image filenames.\n",
            "Found 1 validated image filenames.\n",
            "Found 1 validated image filenames.\n",
            "Found 1 validated image filenames.\n",
            "Found 1 validated image filenames.\n"
          ]
        },
        {
          "output_type": "stream",
          "name": "stderr",
          "text": [
            "\rProcessing Images:  38%|███▊      | 1806/4752 [00:14<00:22, 133.58it/s]"
          ]
        },
        {
          "output_type": "stream",
          "name": "stdout",
          "text": [
            "Found 1 validated image filenames.\n",
            "Found 1 validated image filenames.\n",
            "Found 1 validated image filenames.\n",
            "Found 1 validated image filenames.\n",
            "Found 1 validated image filenames.\n",
            "Found 1 validated image filenames.\n",
            "Found 1 validated image filenames.\n",
            "Found 1 validated image filenames.\n",
            "Found 1 validated image filenames.\n",
            "Found 1 validated image filenames.\n",
            "Found 1 validated image filenames.\n",
            "Found 1 validated image filenames.\n",
            "Found 1 validated image filenames.\n",
            "Found 1 validated image filenames.\n"
          ]
        },
        {
          "output_type": "stream",
          "name": "stderr",
          "text": [
            "\rProcessing Images:  38%|███▊      | 1820/4752 [00:14<00:21, 134.69it/s]"
          ]
        },
        {
          "output_type": "stream",
          "name": "stdout",
          "text": [
            "Found 1 validated image filenames.\n",
            "Found 1 validated image filenames.\n",
            "Found 1 validated image filenames.\n",
            "Found 1 validated image filenames.\n",
            "Found 1 validated image filenames.\n",
            "Found 1 validated image filenames.\n",
            "Found 1 validated image filenames.\n",
            "Found 1 validated image filenames.\n",
            "Found 1 validated image filenames.\n",
            "Found 1 validated image filenames.\n",
            "Found 1 validated image filenames.\n",
            "Found 1 validated image filenames.\n",
            "Found 1 validated image filenames.\n",
            "Found 1 validated image filenames.\n"
          ]
        },
        {
          "output_type": "stream",
          "name": "stderr",
          "text": [
            "\rProcessing Images:  39%|███▊      | 1834/4752 [00:15<00:22, 130.13it/s]"
          ]
        },
        {
          "output_type": "stream",
          "name": "stdout",
          "text": [
            "Found 1 validated image filenames.\n",
            "Found 1 validated image filenames.\n",
            "Found 1 validated image filenames.\n",
            "Found 1 validated image filenames.\n",
            "Found 1 validated image filenames.\n",
            "Found 1 validated image filenames.\n",
            "Found 1 validated image filenames.\n",
            "Found 1 validated image filenames.\n",
            "Found 1 validated image filenames.\n",
            "Found 1 validated image filenames.\n",
            "Found 1 validated image filenames.\n",
            "Found 1 validated image filenames.\n",
            "Found 1 validated image filenames.\n",
            "Found 1 validated image filenames.\n"
          ]
        },
        {
          "output_type": "stream",
          "name": "stderr",
          "text": [
            "\rProcessing Images:  39%|███▉      | 1848/4752 [00:15<00:23, 125.52it/s]"
          ]
        },
        {
          "output_type": "stream",
          "name": "stdout",
          "text": [
            "Found 1 validated image filenames.\n",
            "Found 1 validated image filenames.\n",
            "Found 1 validated image filenames.\n",
            "Found 1 validated image filenames.\n",
            "Found 1 validated image filenames.\n",
            "Found 1 validated image filenames.\n",
            "Found 1 validated image filenames.\n",
            "Found 1 validated image filenames.\n",
            "Found 1 validated image filenames.\n",
            "Found 1 validated image filenames.\n",
            "Found 1 validated image filenames.\n",
            "Found 1 validated image filenames.\n",
            "Found 1 validated image filenames.\n"
          ]
        },
        {
          "output_type": "stream",
          "name": "stderr",
          "text": [
            "\rProcessing Images:  39%|███▉      | 1861/4752 [00:15<00:23, 122.44it/s]"
          ]
        },
        {
          "output_type": "stream",
          "name": "stdout",
          "text": [
            "Found 1 validated image filenames.\n",
            "Found 1 validated image filenames.\n",
            "Found 1 validated image filenames.\n",
            "Found 1 validated image filenames.\n",
            "Found 1 validated image filenames.\n",
            "Found 1 validated image filenames.\n",
            "Found 1 validated image filenames.\n",
            "Found 1 validated image filenames.\n",
            "Found 1 validated image filenames.\n",
            "Found 1 validated image filenames.\n",
            "Found 1 validated image filenames.\n",
            "Found 1 validated image filenames.\n",
            "Found 1 validated image filenames.\n"
          ]
        },
        {
          "output_type": "stream",
          "name": "stderr",
          "text": [
            "\rProcessing Images:  39%|███▉      | 1874/4752 [00:15<00:23, 120.41it/s]"
          ]
        },
        {
          "output_type": "stream",
          "name": "stdout",
          "text": [
            "Found 1 validated image filenames.\n",
            "Found 1 validated image filenames.\n",
            "Found 1 validated image filenames.\n",
            "Found 1 validated image filenames.\n",
            "Found 1 validated image filenames.\n",
            "Found 1 validated image filenames.\n",
            "Found 1 validated image filenames.\n",
            "Found 1 validated image filenames.\n",
            "Found 1 validated image filenames.\n",
            "Found 1 validated image filenames.\n",
            "Found 1 validated image filenames.\n",
            "Found 1 validated image filenames.\n",
            "Found 1 validated image filenames.\n"
          ]
        },
        {
          "output_type": "stream",
          "name": "stderr",
          "text": [
            "\rProcessing Images:  40%|███▉      | 1887/4752 [00:15<00:23, 120.44it/s]"
          ]
        },
        {
          "output_type": "stream",
          "name": "stdout",
          "text": [
            "Found 1 validated image filenames.\n",
            "Found 1 validated image filenames.\n",
            "Found 1 validated image filenames.\n",
            "Found 1 validated image filenames.\n",
            "Found 1 validated image filenames.\n",
            "Found 1 validated image filenames.\n",
            "Found 1 validated image filenames.\n",
            "Found 1 validated image filenames.\n",
            "Found 1 validated image filenames.\n",
            "Found 1 validated image filenames.\n",
            "Found 1 validated image filenames.\n",
            "Found 1 validated image filenames.\n",
            "Found 1 validated image filenames.\n"
          ]
        },
        {
          "output_type": "stream",
          "name": "stderr",
          "text": [
            "\rProcessing Images:  40%|███▉      | 1900/4752 [00:15<00:23, 122.36it/s]"
          ]
        },
        {
          "output_type": "stream",
          "name": "stdout",
          "text": [
            "Found 1 validated image filenames.\n",
            "Found 1 validated image filenames.\n",
            "Found 1 validated image filenames.\n",
            "Found 1 validated image filenames.\n",
            "Found 1 validated image filenames.\n",
            "Found 1 validated image filenames.\n",
            "Found 1 validated image filenames.\n",
            "Found 1 validated image filenames.\n",
            "Found 1 validated image filenames.\n",
            "Found 1 validated image filenames.\n",
            "Found 1 validated image filenames.\n",
            "Found 1 validated image filenames.\n",
            "Found 1 validated image filenames.\n"
          ]
        },
        {
          "output_type": "stream",
          "name": "stderr",
          "text": [
            "\rProcessing Images:  40%|████      | 1913/4752 [00:15<00:23, 120.17it/s]"
          ]
        },
        {
          "output_type": "stream",
          "name": "stdout",
          "text": [
            "Found 1 validated image filenames.\n",
            "Found 1 validated image filenames.\n",
            "Found 1 validated image filenames.\n",
            "Found 1 validated image filenames.\n",
            "Found 1 validated image filenames.\n",
            "Found 1 validated image filenames.\n",
            "Found 1 validated image filenames.\n",
            "Found 1 validated image filenames.\n",
            "Found 1 validated image filenames.\n",
            "Found 1 validated image filenames.\n",
            "Found 1 validated image filenames.\n",
            "Found 1 validated image filenames.\n",
            "Found 1 validated image filenames.\n"
          ]
        },
        {
          "output_type": "stream",
          "name": "stderr",
          "text": [
            "\rProcessing Images:  41%|████      | 1926/4752 [00:15<00:23, 120.00it/s]"
          ]
        },
        {
          "output_type": "stream",
          "name": "stdout",
          "text": [
            "Found 1 validated image filenames.\n",
            "Found 1 validated image filenames.\n",
            "Found 1 validated image filenames.\n",
            "Found 1 validated image filenames.\n",
            "Found 1 validated image filenames.\n",
            "Found 1 validated image filenames.\n",
            "Found 1 validated image filenames.\n",
            "Found 1 validated image filenames.\n",
            "Found 1 validated image filenames.\n",
            "Found 1 validated image filenames.\n",
            "Found 1 validated image filenames.\n",
            "Found 1 validated image filenames.\n",
            "Found 1 validated image filenames.\n"
          ]
        },
        {
          "output_type": "stream",
          "name": "stderr",
          "text": [
            "\rProcessing Images:  41%|████      | 1939/4752 [00:15<00:23, 120.01it/s]"
          ]
        },
        {
          "output_type": "stream",
          "name": "stdout",
          "text": [
            "Found 1 validated image filenames.\n",
            "Found 1 validated image filenames.\n",
            "Found 1 validated image filenames.\n",
            "Found 1 validated image filenames.\n",
            "Found 1 validated image filenames.\n",
            "Found 1 validated image filenames.\n",
            "Found 1 validated image filenames.\n",
            "Found 1 validated image filenames.\n",
            "Found 1 validated image filenames.\n",
            "Found 1 validated image filenames.\n",
            "Found 1 validated image filenames.\n",
            "Found 1 validated image filenames.\n",
            "Found 1 validated image filenames.\n"
          ]
        },
        {
          "output_type": "stream",
          "name": "stderr",
          "text": [
            "\rProcessing Images:  41%|████      | 1952/4752 [00:16<00:24, 115.69it/s]"
          ]
        },
        {
          "output_type": "stream",
          "name": "stdout",
          "text": [
            "Found 1 validated image filenames.\n",
            "Found 1 validated image filenames.\n",
            "Found 1 validated image filenames.\n",
            "Found 1 validated image filenames.\n",
            "Found 1 validated image filenames.\n",
            "Found 1 validated image filenames.\n",
            "Found 1 validated image filenames.\n",
            "Found 1 validated image filenames.\n",
            "Found 1 validated image filenames.\n",
            "Found 1 validated image filenames.\n",
            "Found 1 validated image filenames.\n",
            "Found 1 validated image filenames.\n"
          ]
        },
        {
          "output_type": "stream",
          "name": "stderr",
          "text": [
            "\rProcessing Images:  41%|████▏     | 1964/4752 [00:16<00:23, 116.77it/s]"
          ]
        },
        {
          "output_type": "stream",
          "name": "stdout",
          "text": [
            "Found 1 validated image filenames.\n",
            "Found 1 validated image filenames.\n",
            "Found 1 validated image filenames.\n",
            "Found 1 validated image filenames.\n",
            "Found 1 validated image filenames.\n",
            "Found 1 validated image filenames.\n",
            "Found 1 validated image filenames.\n",
            "Found 1 validated image filenames.\n",
            "Found 1 validated image filenames.\n",
            "Found 1 validated image filenames.\n",
            "Found 1 validated image filenames.\n",
            "Found 1 validated image filenames.\n",
            "Found 1 validated image filenames.\n"
          ]
        },
        {
          "output_type": "stream",
          "name": "stderr",
          "text": [
            "\rProcessing Images:  42%|████▏     | 1977/4752 [00:16<00:23, 118.55it/s]"
          ]
        },
        {
          "output_type": "stream",
          "name": "stdout",
          "text": [
            "Found 1 validated image filenames.\n",
            "Found 1 validated image filenames.\n",
            "Found 1 validated image filenames.\n",
            "Found 1 validated image filenames.\n",
            "Found 1 validated image filenames.\n",
            "Found 1 validated image filenames.\n",
            "Found 1 validated image filenames.\n",
            "Found 1 validated image filenames.\n",
            "Found 1 validated image filenames.\n",
            "Found 1 validated image filenames.\n",
            "Found 1 validated image filenames.\n",
            "Found 1 validated image filenames.\n"
          ]
        },
        {
          "output_type": "stream",
          "name": "stderr",
          "text": [
            "\rProcessing Images:  42%|████▏     | 1989/4752 [00:16<00:23, 116.66it/s]"
          ]
        },
        {
          "output_type": "stream",
          "name": "stdout",
          "text": [
            "Found 1 validated image filenames.\n",
            "Found 1 validated image filenames.\n",
            "Found 1 validated image filenames.\n",
            "Found 1 validated image filenames.\n",
            "Found 1 validated image filenames.\n",
            "Found 1 validated image filenames.\n",
            "Found 1 validated image filenames.\n",
            "Found 1 validated image filenames.\n",
            "Found 1 validated image filenames.\n",
            "Found 1 validated image filenames.\n",
            "Found 1 validated image filenames.\n",
            "Found 1 validated image filenames.\n"
          ]
        },
        {
          "output_type": "stream",
          "name": "stderr",
          "text": [
            "\rProcessing Images:  42%|████▏     | 2001/4752 [00:16<00:23, 116.63it/s]"
          ]
        },
        {
          "output_type": "stream",
          "name": "stdout",
          "text": [
            "Found 1 validated image filenames.\n",
            "Found 1 validated image filenames.\n",
            "Found 1 validated image filenames.\n",
            "Found 1 validated image filenames.\n",
            "Found 1 validated image filenames.\n",
            "Found 1 validated image filenames.\n",
            "Found 1 validated image filenames.\n",
            "Found 1 validated image filenames.\n",
            "Found 1 validated image filenames.\n",
            "Found 1 validated image filenames.\n",
            "Found 1 validated image filenames.\n",
            "Found 1 validated image filenames.\n"
          ]
        },
        {
          "output_type": "stream",
          "name": "stderr",
          "text": [
            "\rProcessing Images:  42%|████▏     | 2013/4752 [00:16<00:23, 115.62it/s]"
          ]
        },
        {
          "output_type": "stream",
          "name": "stdout",
          "text": [
            "Found 1 validated image filenames.\n",
            "Found 1 validated image filenames.\n",
            "Found 1 validated image filenames.\n",
            "Found 1 validated image filenames.\n",
            "Found 1 validated image filenames.\n",
            "Found 1 validated image filenames.\n",
            "Found 1 validated image filenames.\n",
            "Found 1 validated image filenames.\n",
            "Found 1 validated image filenames.\n",
            "Found 1 validated image filenames.\n",
            "Found 1 validated image filenames.\n",
            "Found 1 validated image filenames.\n"
          ]
        },
        {
          "output_type": "stream",
          "name": "stderr",
          "text": [
            "\rProcessing Images:  43%|████▎     | 2025/4752 [00:16<00:24, 111.70it/s]"
          ]
        },
        {
          "output_type": "stream",
          "name": "stdout",
          "text": [
            "Found 1 validated image filenames.\n",
            "Found 1 validated image filenames.\n",
            "Found 1 validated image filenames.\n",
            "Found 1 validated image filenames.\n",
            "Found 1 validated image filenames.\n",
            "Found 1 validated image filenames.\n",
            "Found 1 validated image filenames.\n",
            "Found 1 validated image filenames.\n",
            "Found 1 validated image filenames.\n",
            "Found 1 validated image filenames.\n",
            "Found 1 validated image filenames.\n",
            "Found 1 validated image filenames.\n"
          ]
        },
        {
          "output_type": "stream",
          "name": "stderr",
          "text": [
            "\rProcessing Images:  43%|████▎     | 2037/4752 [00:16<00:24, 112.08it/s]"
          ]
        },
        {
          "output_type": "stream",
          "name": "stdout",
          "text": [
            "Found 1 validated image filenames.\n",
            "Found 1 validated image filenames.\n",
            "Found 1 validated image filenames.\n",
            "Found 1 validated image filenames.\n",
            "Found 1 validated image filenames.\n",
            "Found 1 validated image filenames.\n",
            "Found 1 validated image filenames.\n",
            "Found 1 validated image filenames.\n",
            "Found 1 validated image filenames.\n",
            "Found 1 validated image filenames.\n",
            "Found 1 validated image filenames.\n",
            "Found 1 validated image filenames.\n"
          ]
        },
        {
          "output_type": "stream",
          "name": "stderr",
          "text": [
            "\rProcessing Images:  43%|████▎     | 2049/4752 [00:16<00:24, 112.11it/s]"
          ]
        },
        {
          "output_type": "stream",
          "name": "stdout",
          "text": [
            "Found 1 validated image filenames.\n",
            "Found 1 validated image filenames.\n",
            "Found 1 validated image filenames.\n",
            "Found 1 validated image filenames.\n",
            "Found 1 validated image filenames.\n",
            "Found 1 validated image filenames.\n",
            "Found 1 validated image filenames.\n",
            "Found 1 validated image filenames.\n",
            "Found 1 validated image filenames.\n",
            "Found 1 validated image filenames.\n",
            "Found 1 validated image filenames.\n",
            "Found 1 validated image filenames.\n",
            "Found 1 validated image filenames.\n"
          ]
        },
        {
          "output_type": "stream",
          "name": "stderr",
          "text": [
            "\rProcessing Images:  43%|████▎     | 2062/4752 [00:17<00:23, 115.80it/s]"
          ]
        },
        {
          "output_type": "stream",
          "name": "stdout",
          "text": [
            "Found 1 validated image filenames.\n",
            "Found 1 validated image filenames.\n",
            "Found 1 validated image filenames.\n",
            "Found 1 validated image filenames.\n",
            "Found 1 validated image filenames.\n",
            "Found 1 validated image filenames.\n",
            "Found 1 validated image filenames.\n",
            "Found 1 validated image filenames.\n",
            "Found 1 validated image filenames.\n",
            "Found 1 validated image filenames.\n",
            "Found 1 validated image filenames.\n",
            "Found 1 validated image filenames.\n",
            "Found 1 validated image filenames.\n"
          ]
        },
        {
          "output_type": "stream",
          "name": "stderr",
          "text": [
            "\rProcessing Images:  44%|████▎     | 2075/4752 [00:17<00:22, 118.47it/s]"
          ]
        },
        {
          "output_type": "stream",
          "name": "stdout",
          "text": [
            "Found 1 validated image filenames.\n",
            "Found 1 validated image filenames.\n",
            "Found 1 validated image filenames.\n",
            "Found 1 validated image filenames.\n",
            "Found 1 validated image filenames.\n",
            "Found 1 validated image filenames.\n",
            "Found 1 validated image filenames.\n",
            "Found 1 validated image filenames.\n",
            "Found 1 validated image filenames.\n",
            "Found 1 validated image filenames.\n",
            "Found 1 validated image filenames.\n",
            "Found 1 validated image filenames.\n",
            "Found 1 validated image filenames.\n",
            "Found 1 validated image filenames.\n"
          ]
        },
        {
          "output_type": "stream",
          "name": "stderr",
          "text": [
            "\rProcessing Images:  44%|████▍     | 2089/4752 [00:17<00:21, 123.86it/s]"
          ]
        },
        {
          "output_type": "stream",
          "name": "stdout",
          "text": [
            "Found 1 validated image filenames.\n",
            "Found 1 validated image filenames.\n",
            "Found 1 validated image filenames.\n",
            "Found 1 validated image filenames.\n",
            "Found 1 validated image filenames.\n",
            "Found 1 validated image filenames.\n",
            "Found 1 validated image filenames.\n",
            "Found 1 validated image filenames.\n",
            "Found 1 validated image filenames.\n",
            "Found 1 validated image filenames.\n",
            "Found 1 validated image filenames.\n",
            "Found 1 validated image filenames.\n",
            "Found 1 validated image filenames.\n",
            "Found 1 validated image filenames.\n"
          ]
        },
        {
          "output_type": "stream",
          "name": "stderr",
          "text": [
            "\rProcessing Images:  44%|████▍     | 2103/4752 [00:17<00:20, 126.80it/s]"
          ]
        },
        {
          "output_type": "stream",
          "name": "stdout",
          "text": [
            "Found 1 validated image filenames.\n",
            "Found 1 validated image filenames.\n",
            "Found 1 validated image filenames.\n",
            "Found 1 validated image filenames.\n",
            "Found 1 validated image filenames.\n",
            "Found 1 validated image filenames.\n",
            "Found 1 validated image filenames.\n",
            "Found 1 validated image filenames.\n",
            "Found 1 validated image filenames.\n",
            "Found 1 validated image filenames.\n",
            "Found 1 validated image filenames.\n",
            "Found 1 validated image filenames.\n",
            "Found 1 validated image filenames.\n"
          ]
        },
        {
          "output_type": "stream",
          "name": "stderr",
          "text": [
            "\rProcessing Images:  45%|████▍     | 2116/4752 [00:17<00:20, 127.40it/s]"
          ]
        },
        {
          "output_type": "stream",
          "name": "stdout",
          "text": [
            "Found 1 validated image filenames.\n",
            "Found 1 validated image filenames.\n",
            "Found 1 validated image filenames.\n",
            "Found 1 validated image filenames.\n",
            "Found 1 validated image filenames.\n",
            "Found 1 validated image filenames.\n",
            "Found 1 validated image filenames.\n",
            "Found 1 validated image filenames.\n",
            "Found 1 validated image filenames.\n",
            "Found 1 validated image filenames.\n",
            "Found 1 validated image filenames.\n",
            "Found 1 validated image filenames.\n",
            "Found 1 validated image filenames.\n",
            "Found 1 validated image filenames.\n"
          ]
        },
        {
          "output_type": "stream",
          "name": "stderr",
          "text": [
            "\rProcessing Images:  45%|████▍     | 2130/4752 [00:17<00:20, 129.79it/s]"
          ]
        },
        {
          "output_type": "stream",
          "name": "stdout",
          "text": [
            "Found 1 validated image filenames.\n",
            "Found 1 validated image filenames.\n",
            "Found 1 validated image filenames.\n",
            "Found 1 validated image filenames.\n",
            "Found 1 validated image filenames.\n",
            "Found 1 validated image filenames.\n",
            "Found 1 validated image filenames.\n",
            "Found 1 validated image filenames.\n",
            "Found 1 validated image filenames.\n",
            "Found 1 validated image filenames.\n",
            "Found 1 validated image filenames.\n",
            "Found 1 validated image filenames.\n",
            "Found 1 validated image filenames.\n",
            "Found 1 validated image filenames.\n"
          ]
        },
        {
          "output_type": "stream",
          "name": "stderr",
          "text": [
            "\rProcessing Images:  45%|████▌     | 2144/4752 [00:17<00:19, 130.73it/s]"
          ]
        },
        {
          "output_type": "stream",
          "name": "stdout",
          "text": [
            "Found 1 validated image filenames.\n",
            "Found 1 validated image filenames.\n",
            "Found 1 validated image filenames.\n",
            "Found 1 validated image filenames.\n",
            "Found 1 validated image filenames.\n",
            "Found 1 validated image filenames.\n",
            "Found 1 validated image filenames.\n",
            "Found 1 validated image filenames.\n",
            "Found 1 validated image filenames.\n",
            "Found 1 validated image filenames.\n",
            "Found 1 validated image filenames.\n",
            "Found 1 validated image filenames.\n",
            "Found 1 validated image filenames.\n",
            "Found 1 validated image filenames.\n"
          ]
        },
        {
          "output_type": "stream",
          "name": "stderr",
          "text": [
            "\rProcessing Images:  45%|████▌     | 2158/4752 [00:17<00:20, 129.25it/s]"
          ]
        },
        {
          "output_type": "stream",
          "name": "stdout",
          "text": [
            "Found 1 validated image filenames.\n",
            "Found 1 validated image filenames.\n",
            "Found 1 validated image filenames.\n",
            "Found 1 validated image filenames.\n",
            "Found 1 validated image filenames.\n",
            "Found 1 validated image filenames.\n",
            "Found 1 validated image filenames.\n",
            "Found 1 validated image filenames.\n",
            "Found 1 validated image filenames.\n",
            "Found 1 validated image filenames.\n",
            "Found 1 validated image filenames.\n",
            "Found 1 validated image filenames.\n",
            "Found 1 validated image filenames.\n"
          ]
        },
        {
          "output_type": "stream",
          "name": "stderr",
          "text": [
            "\rProcessing Images:  46%|████▌     | 2171/4752 [00:17<00:20, 128.72it/s]"
          ]
        },
        {
          "output_type": "stream",
          "name": "stdout",
          "text": [
            "Found 1 validated image filenames.\n",
            "Found 1 validated image filenames.\n",
            "Found 1 validated image filenames.\n",
            "Found 1 validated image filenames.\n",
            "Found 1 validated image filenames.\n",
            "Found 1 validated image filenames.\n",
            "Found 1 validated image filenames.\n",
            "Found 1 validated image filenames.\n",
            "Found 1 validated image filenames.\n",
            "Found 1 validated image filenames.\n",
            "Found 1 validated image filenames.\n",
            "Found 1 validated image filenames.\n",
            "Found 1 validated image filenames.\n",
            "Found 1 validated image filenames.\n",
            "Found 1 validated image filenames.\n"
          ]
        },
        {
          "output_type": "stream",
          "name": "stderr",
          "text": [
            "\rProcessing Images:  46%|████▌     | 2186/4752 [00:17<00:19, 132.86it/s]"
          ]
        },
        {
          "output_type": "stream",
          "name": "stdout",
          "text": [
            "Found 1 validated image filenames.\n",
            "Found 1 validated image filenames.\n",
            "Found 1 validated image filenames.\n",
            "Found 1 validated image filenames.\n",
            "Found 1 validated image filenames.\n",
            "Found 1 validated image filenames.\n",
            "Found 1 validated image filenames.\n",
            "Found 1 validated image filenames.\n",
            "Found 1 validated image filenames.\n",
            "Found 1 validated image filenames.\n",
            "Found 1 validated image filenames.\n",
            "Found 1 validated image filenames.\n",
            "Found 1 validated image filenames.\n",
            "Found 1 validated image filenames.\n"
          ]
        },
        {
          "output_type": "stream",
          "name": "stderr",
          "text": [
            "\rProcessing Images:  46%|████▋     | 2200/4752 [00:18<00:20, 124.22it/s]"
          ]
        },
        {
          "output_type": "stream",
          "name": "stdout",
          "text": [
            "Found 1 validated image filenames.\n",
            "Found 1 validated image filenames.\n",
            "Found 1 validated image filenames.\n",
            "Found 1 validated image filenames.\n",
            "Found 1 validated image filenames.\n",
            "Found 1 validated image filenames.\n",
            "Found 1 validated image filenames.\n",
            "Found 1 validated image filenames.\n",
            "Found 1 validated image filenames.\n",
            "Found 1 validated image filenames.\n",
            "Found 1 validated image filenames.\n",
            "Found 1 validated image filenames.\n",
            "Found 1 validated image filenames.\n"
          ]
        },
        {
          "output_type": "stream",
          "name": "stderr",
          "text": [
            "\rProcessing Images:  47%|████▋     | 2213/4752 [00:18<00:20, 123.05it/s]"
          ]
        },
        {
          "output_type": "stream",
          "name": "stdout",
          "text": [
            "Found 1 validated image filenames.\n",
            "Found 1 validated image filenames.\n",
            "Found 1 validated image filenames.\n",
            "Found 1 validated image filenames.\n",
            "Found 1 validated image filenames.\n",
            "Found 1 validated image filenames.\n",
            "Found 1 validated image filenames.\n",
            "Found 1 validated image filenames.\n",
            "Found 1 validated image filenames.\n",
            "Found 1 validated image filenames.\n",
            "Found 1 validated image filenames.\n",
            "Found 1 validated image filenames.\n",
            "Found 1 validated image filenames.\n",
            "Found 1 validated image filenames.\n"
          ]
        },
        {
          "output_type": "stream",
          "name": "stderr",
          "text": [
            "\rProcessing Images:  47%|████▋     | 2227/4752 [00:18<00:20, 124.95it/s]"
          ]
        },
        {
          "output_type": "stream",
          "name": "stdout",
          "text": [
            "Found 1 validated image filenames.\n",
            "Found 1 validated image filenames.\n",
            "Found 1 validated image filenames.\n",
            "Found 1 validated image filenames.\n",
            "Found 1 validated image filenames.\n",
            "Found 1 validated image filenames.\n",
            "Found 1 validated image filenames.\n",
            "Found 1 validated image filenames.\n",
            "Found 1 validated image filenames.\n",
            "Found 1 validated image filenames.\n",
            "Found 1 validated image filenames.\n",
            "Found 1 validated image filenames.\n",
            "Found 1 validated image filenames.\n"
          ]
        },
        {
          "output_type": "stream",
          "name": "stderr",
          "text": [
            "\rProcessing Images:  47%|████▋     | 2240/4752 [00:18<00:20, 124.50it/s]"
          ]
        },
        {
          "output_type": "stream",
          "name": "stdout",
          "text": [
            "Found 1 validated image filenames.\n",
            "Found 1 validated image filenames.\n",
            "Found 1 validated image filenames.\n",
            "Found 1 validated image filenames.\n",
            "Found 1 validated image filenames.\n",
            "Found 1 validated image filenames.\n",
            "Found 1 validated image filenames.\n",
            "Found 1 validated image filenames.\n",
            "Found 1 validated image filenames.\n",
            "Found 1 validated image filenames.\n",
            "Found 1 validated image filenames.\n",
            "Found 1 validated image filenames.\n",
            "Found 1 validated image filenames.\n"
          ]
        },
        {
          "output_type": "stream",
          "name": "stderr",
          "text": [
            "\rProcessing Images:  47%|████▋     | 2253/4752 [00:18<00:20, 124.80it/s]"
          ]
        },
        {
          "output_type": "stream",
          "name": "stdout",
          "text": [
            "Found 1 validated image filenames.\n",
            "Found 1 validated image filenames.\n",
            "Found 1 validated image filenames.\n",
            "Found 1 validated image filenames.\n",
            "Found 1 validated image filenames.\n",
            "Found 1 validated image filenames.\n",
            "Found 1 validated image filenames.\n",
            "Found 1 validated image filenames.\n",
            "Found 1 validated image filenames.\n",
            "Found 1 validated image filenames.\n",
            "Found 1 validated image filenames.\n",
            "Found 1 validated image filenames.\n",
            "Found 1 validated image filenames.\n"
          ]
        },
        {
          "output_type": "stream",
          "name": "stderr",
          "text": [
            "\rProcessing Images:  48%|████▊     | 2266/4752 [00:18<00:19, 125.40it/s]"
          ]
        },
        {
          "output_type": "stream",
          "name": "stdout",
          "text": [
            "Found 1 validated image filenames.\n",
            "Found 1 validated image filenames.\n",
            "Found 1 validated image filenames.\n",
            "Found 1 validated image filenames.\n",
            "Found 1 validated image filenames.\n",
            "Found 1 validated image filenames.\n",
            "Found 1 validated image filenames.\n",
            "Found 1 validated image filenames.\n",
            "Found 1 validated image filenames.\n",
            "Found 1 validated image filenames.\n",
            "Found 1 validated image filenames.\n",
            "Found 1 validated image filenames.\n",
            "Found 1 validated image filenames.\n"
          ]
        },
        {
          "output_type": "stream",
          "name": "stderr",
          "text": [
            "\rProcessing Images:  48%|████▊     | 2279/4752 [00:18<00:21, 115.37it/s]"
          ]
        },
        {
          "output_type": "stream",
          "name": "stdout",
          "text": [
            "Found 1 validated image filenames.\n",
            "Found 1 validated image filenames.\n",
            "Found 1 validated image filenames.\n",
            "Found 1 validated image filenames.\n",
            "Found 1 validated image filenames.\n",
            "Found 1 validated image filenames.\n",
            "Found 1 validated image filenames.\n",
            "Found 1 validated image filenames.\n",
            "Found 1 validated image filenames.\n",
            "Found 1 validated image filenames.\n",
            "Found 1 validated image filenames.\n",
            "Found 1 validated image filenames.\n"
          ]
        },
        {
          "output_type": "stream",
          "name": "stderr",
          "text": [
            "\rProcessing Images:  48%|████▊     | 2291/4752 [00:18<00:21, 113.05it/s]"
          ]
        },
        {
          "output_type": "stream",
          "name": "stdout",
          "text": [
            "Found 1 validated image filenames.\n",
            "Found 1 validated image filenames.\n",
            "Found 1 validated image filenames.\n",
            "Found 1 validated image filenames.\n",
            "Found 1 validated image filenames.\n",
            "Found 1 validated image filenames.\n",
            "Found 1 validated image filenames.\n",
            "Found 1 validated image filenames.\n",
            "Found 1 validated image filenames.\n",
            "Found 1 validated image filenames.\n",
            "Found 1 validated image filenames.\n",
            "Found 1 validated image filenames.\n",
            "Found 1 validated image filenames.\n"
          ]
        },
        {
          "output_type": "stream",
          "name": "stderr",
          "text": [
            "\rProcessing Images:  48%|████▊     | 2304/4752 [00:18<00:21, 115.33it/s]"
          ]
        },
        {
          "output_type": "stream",
          "name": "stdout",
          "text": [
            "Found 1 validated image filenames.\n",
            "Found 1 validated image filenames.\n",
            "Found 1 validated image filenames.\n",
            "Found 1 validated image filenames.\n",
            "Found 1 validated image filenames.\n",
            "Found 1 validated image filenames.\n",
            "Found 1 validated image filenames.\n",
            "Found 1 validated image filenames.\n",
            "Found 1 validated image filenames.\n",
            "Found 1 validated image filenames.\n",
            "Found 1 validated image filenames.\n",
            "Found 1 validated image filenames.\n"
          ]
        },
        {
          "output_type": "stream",
          "name": "stderr",
          "text": [
            "\rProcessing Images:  49%|████▊     | 2316/4752 [00:19<00:21, 111.83it/s]"
          ]
        },
        {
          "output_type": "stream",
          "name": "stdout",
          "text": [
            "Found 1 validated image filenames.\n",
            "Found 1 validated image filenames.\n",
            "Found 1 validated image filenames.\n",
            "Found 1 validated image filenames.\n",
            "Found 1 validated image filenames.\n",
            "Found 1 validated image filenames.\n",
            "Found 1 validated image filenames.\n",
            "Found 1 validated image filenames.\n",
            "Found 1 validated image filenames.\n",
            "Found 1 validated image filenames.\n",
            "Found 1 validated image filenames.\n",
            "Found 1 validated image filenames.\n"
          ]
        },
        {
          "output_type": "stream",
          "name": "stderr",
          "text": [
            "\rProcessing Images:  49%|████▉     | 2328/4752 [00:19<00:21, 110.98it/s]"
          ]
        },
        {
          "output_type": "stream",
          "name": "stdout",
          "text": [
            "Found 1 validated image filenames.\n",
            "Found 1 validated image filenames.\n",
            "Found 1 validated image filenames.\n",
            "Found 1 validated image filenames.\n",
            "Found 1 validated image filenames.\n",
            "Found 1 validated image filenames.\n",
            "Found 1 validated image filenames.\n",
            "Found 1 validated image filenames.\n",
            "Found 1 validated image filenames.\n",
            "Found 1 validated image filenames.\n",
            "Found 1 validated image filenames.\n",
            "Found 1 validated image filenames.\n",
            "Found 1 validated image filenames.\n"
          ]
        },
        {
          "output_type": "stream",
          "name": "stderr",
          "text": [
            "\rProcessing Images:  49%|████▉     | 2341/4752 [00:19<00:20, 114.99it/s]"
          ]
        },
        {
          "output_type": "stream",
          "name": "stdout",
          "text": [
            "Found 1 validated image filenames.\n",
            "Found 1 validated image filenames.\n",
            "Found 1 validated image filenames.\n",
            "Found 1 validated image filenames.\n",
            "Found 1 validated image filenames.\n",
            "Found 1 validated image filenames.\n",
            "Found 1 validated image filenames.\n",
            "Found 1 validated image filenames.\n",
            "Found 1 validated image filenames.\n",
            "Found 1 validated image filenames.\n",
            "Found 1 validated image filenames.\n",
            "Found 1 validated image filenames.\n",
            "Found 1 validated image filenames.\n"
          ]
        },
        {
          "output_type": "stream",
          "name": "stderr",
          "text": [
            "\rProcessing Images:  50%|████▉     | 2354/4752 [00:19<00:20, 117.40it/s]"
          ]
        },
        {
          "output_type": "stream",
          "name": "stdout",
          "text": [
            "Found 1 validated image filenames.\n",
            "Found 1 validated image filenames.\n",
            "Found 1 validated image filenames.\n",
            "Found 1 validated image filenames.\n",
            "Found 1 validated image filenames.\n",
            "Found 1 validated image filenames.\n",
            "Found 1 validated image filenames.\n",
            "Found 1 validated image filenames.\n",
            "Found 1 validated image filenames.\n",
            "Found 1 validated image filenames.\n",
            "Found 1 validated image filenames.\n",
            "Found 1 validated image filenames.\n",
            "Found 1 validated image filenames.\n"
          ]
        },
        {
          "output_type": "stream",
          "name": "stderr",
          "text": [
            "\rProcessing Images:  50%|████▉     | 2367/4752 [00:19<00:20, 119.08it/s]"
          ]
        },
        {
          "output_type": "stream",
          "name": "stdout",
          "text": [
            "Found 1 validated image filenames.\n",
            "Found 1 validated image filenames.\n",
            "Found 1 validated image filenames.\n",
            "Found 1 validated image filenames.\n",
            "Found 1 validated image filenames.\n",
            "Found 1 validated image filenames.\n",
            "Found 1 validated image filenames.\n",
            "Found 1 validated image filenames.\n",
            "Found 1 validated image filenames.\n",
            "Found 1 validated image filenames.\n",
            "Found 1 validated image filenames.\n",
            "Found 1 validated image filenames.\n",
            "Found 1 validated image filenames.\n",
            "Found 1 validated image filenames.\n"
          ]
        },
        {
          "output_type": "stream",
          "name": "stderr",
          "text": [
            "\rProcessing Images:  50%|█████     | 2381/4752 [00:19<00:19, 122.49it/s]"
          ]
        },
        {
          "output_type": "stream",
          "name": "stdout",
          "text": [
            "Found 1 validated image filenames.\n",
            "Found 1 validated image filenames.\n",
            "Found 1 validated image filenames.\n",
            "Found 1 validated image filenames.\n",
            "Found 1 validated image filenames.\n",
            "Found 1 validated image filenames.\n",
            "Found 1 validated image filenames.\n",
            "Found 1 validated image filenames.\n",
            "Found 1 validated image filenames.\n",
            "Found 1 validated image filenames.\n",
            "Found 1 validated image filenames.\n",
            "Found 1 validated image filenames.\n",
            "Found 1 validated image filenames.\n"
          ]
        },
        {
          "output_type": "stream",
          "name": "stderr",
          "text": [
            "\rProcessing Images:  50%|█████     | 2394/4752 [00:19<00:19, 123.79it/s]"
          ]
        },
        {
          "output_type": "stream",
          "name": "stdout",
          "text": [
            "Found 1 validated image filenames.\n",
            "Found 1 validated image filenames.\n",
            "Found 1 validated image filenames.\n",
            "Found 1 validated image filenames.\n",
            "Found 1 validated image filenames.\n",
            "Found 1 validated image filenames.\n",
            "Found 1 validated image filenames.\n",
            "Found 1 validated image filenames.\n",
            "Found 1 validated image filenames.\n",
            "Found 1 validated image filenames.\n",
            "Found 1 validated image filenames.\n",
            "Found 1 validated image filenames.\n",
            "Found 1 validated image filenames.\n",
            "Found 1 validated image filenames.\n",
            "Found 1 validated image filenames.\n"
          ]
        },
        {
          "output_type": "stream",
          "name": "stderr",
          "text": [
            "\rProcessing Images:  51%|█████     | 2409/4752 [00:19<00:18, 128.83it/s]"
          ]
        },
        {
          "output_type": "stream",
          "name": "stdout",
          "text": [
            "Found 1 validated image filenames.\n",
            "Found 1 validated image filenames.\n",
            "Found 1 validated image filenames.\n",
            "Found 1 validated image filenames.\n",
            "Found 1 validated image filenames.\n",
            "Found 1 validated image filenames.\n",
            "Found 1 validated image filenames.\n",
            "Found 1 validated image filenames.\n",
            "Found 1 validated image filenames.\n",
            "Found 1 validated image filenames.\n",
            "Found 1 validated image filenames.\n",
            "Found 1 validated image filenames.\n",
            "Found 1 validated image filenames.\n"
          ]
        },
        {
          "output_type": "stream",
          "name": "stderr",
          "text": [
            "\rProcessing Images:  51%|█████     | 2422/4752 [00:19<00:18, 125.67it/s]"
          ]
        },
        {
          "output_type": "stream",
          "name": "stdout",
          "text": [
            "Found 1 validated image filenames.\n",
            "Found 1 validated image filenames.\n",
            "Found 1 validated image filenames.\n",
            "Found 1 validated image filenames.\n",
            "Found 1 validated image filenames.\n",
            "Found 1 validated image filenames.\n",
            "Found 1 validated image filenames.\n",
            "Found 1 validated image filenames.\n",
            "Found 1 validated image filenames.\n",
            "Found 1 validated image filenames.\n",
            "Found 1 validated image filenames.\n",
            "Found 1 validated image filenames.\n",
            "Found 1 validated image filenames.\n"
          ]
        },
        {
          "output_type": "stream",
          "name": "stderr",
          "text": [
            "\rProcessing Images:  51%|█████     | 2435/4752 [00:20<00:18, 122.72it/s]"
          ]
        },
        {
          "output_type": "stream",
          "name": "stdout",
          "text": [
            "Found 1 validated image filenames.\n",
            "Found 1 validated image filenames.\n",
            "Found 1 validated image filenames.\n",
            "Found 1 validated image filenames.\n",
            "Found 1 validated image filenames.\n",
            "Found 1 validated image filenames.\n",
            "Found 1 validated image filenames.\n",
            "Found 1 validated image filenames.\n",
            "Found 1 validated image filenames.\n",
            "Found 1 validated image filenames.\n",
            "Found 1 validated image filenames.\n",
            "Found 1 validated image filenames.\n",
            "Found 1 validated image filenames.\n"
          ]
        },
        {
          "output_type": "stream",
          "name": "stderr",
          "text": [
            "\rProcessing Images:  52%|█████▏    | 2448/4752 [00:20<00:19, 119.31it/s]"
          ]
        },
        {
          "output_type": "stream",
          "name": "stdout",
          "text": [
            "Found 1 validated image filenames.\n",
            "Found 1 validated image filenames.\n",
            "Found 1 validated image filenames.\n",
            "Found 1 validated image filenames.\n",
            "Found 1 validated image filenames.\n",
            "Found 1 validated image filenames.\n",
            "Found 1 validated image filenames.\n",
            "Found 1 validated image filenames.\n",
            "Found 1 validated image filenames.\n",
            "Found 1 validated image filenames.\n",
            "Found 1 validated image filenames.\n",
            "Found 1 validated image filenames.\n"
          ]
        },
        {
          "output_type": "stream",
          "name": "stderr",
          "text": [
            "\rProcessing Images:  52%|█████▏    | 2460/4752 [00:20<00:19, 117.70it/s]"
          ]
        },
        {
          "output_type": "stream",
          "name": "stdout",
          "text": [
            "Found 1 validated image filenames.\n",
            "Found 1 validated image filenames.\n",
            "Found 1 validated image filenames.\n",
            "Found 1 validated image filenames.\n",
            "Found 1 validated image filenames.\n",
            "Found 1 validated image filenames.\n",
            "Found 1 validated image filenames.\n",
            "Found 1 validated image filenames.\n",
            "Found 1 validated image filenames.\n",
            "Found 1 validated image filenames.\n",
            "Found 1 validated image filenames.\n",
            "Found 1 validated image filenames.\n"
          ]
        },
        {
          "output_type": "stream",
          "name": "stderr",
          "text": [
            "\rProcessing Images:  52%|█████▏    | 2472/4752 [00:20<00:19, 117.23it/s]"
          ]
        },
        {
          "output_type": "stream",
          "name": "stdout",
          "text": [
            "Found 1 validated image filenames.\n",
            "Found 1 validated image filenames.\n",
            "Found 1 validated image filenames.\n",
            "Found 1 validated image filenames.\n",
            "Found 1 validated image filenames.\n",
            "Found 1 validated image filenames.\n",
            "Found 1 validated image filenames.\n",
            "Found 1 validated image filenames.\n",
            "Found 1 validated image filenames.\n",
            "Found 1 validated image filenames.\n",
            "Found 1 validated image filenames.\n",
            "Found 1 validated image filenames.\n",
            "Found 1 validated image filenames.\n"
          ]
        },
        {
          "output_type": "stream",
          "name": "stderr",
          "text": [
            "\rProcessing Images:  52%|█████▏    | 2485/4752 [00:20<00:19, 118.38it/s]"
          ]
        },
        {
          "output_type": "stream",
          "name": "stdout",
          "text": [
            "Found 1 validated image filenames.\n",
            "Found 1 validated image filenames.\n",
            "Found 1 validated image filenames.\n",
            "Found 1 validated image filenames.\n",
            "Found 1 validated image filenames.\n",
            "Found 1 validated image filenames.\n",
            "Found 1 validated image filenames.\n",
            "Found 1 validated image filenames.\n",
            "Found 1 validated image filenames.\n",
            "Found 1 validated image filenames.\n",
            "Found 1 validated image filenames.\n",
            "Found 1 validated image filenames.\n",
            "Found 1 validated image filenames.\n"
          ]
        },
        {
          "output_type": "stream",
          "name": "stderr",
          "text": [
            "\rProcessing Images:  53%|█████▎    | 2498/4752 [00:20<00:18, 118.92it/s]"
          ]
        },
        {
          "output_type": "stream",
          "name": "stdout",
          "text": [
            "Found 1 validated image filenames.\n",
            "Found 1 validated image filenames.\n",
            "Found 1 validated image filenames.\n",
            "Found 1 validated image filenames.\n",
            "Found 1 validated image filenames.\n",
            "Found 1 validated image filenames.\n",
            "Found 1 validated image filenames.\n",
            "Found 1 validated image filenames.\n",
            "Found 1 validated image filenames.\n",
            "Found 1 validated image filenames.\n",
            "Found 1 validated image filenames.\n",
            "Found 1 validated image filenames.\n"
          ]
        },
        {
          "output_type": "stream",
          "name": "stderr",
          "text": [
            "\rProcessing Images:  53%|█████▎    | 2510/4752 [00:20<00:19, 115.74it/s]"
          ]
        },
        {
          "output_type": "stream",
          "name": "stdout",
          "text": [
            "Found 1 validated image filenames.\n",
            "Found 1 validated image filenames.\n",
            "Found 1 validated image filenames.\n",
            "Found 1 validated image filenames.\n",
            "Found 1 validated image filenames.\n",
            "Found 1 validated image filenames.\n",
            "Found 1 validated image filenames.\n",
            "Found 1 validated image filenames.\n",
            "Found 1 validated image filenames.\n",
            "Found 1 validated image filenames.\n",
            "Found 1 validated image filenames.\n",
            "Found 1 validated image filenames.\n"
          ]
        },
        {
          "output_type": "stream",
          "name": "stderr",
          "text": [
            "\rProcessing Images:  53%|█████▎    | 2522/4752 [00:20<00:19, 116.24it/s]"
          ]
        },
        {
          "output_type": "stream",
          "name": "stdout",
          "text": [
            "Found 1 validated image filenames.\n",
            "Found 1 validated image filenames.\n",
            "Found 1 validated image filenames.\n",
            "Found 1 validated image filenames.\n",
            "Found 1 validated image filenames.\n",
            "Found 1 validated image filenames.\n",
            "Found 1 validated image filenames.\n",
            "Found 1 validated image filenames.\n",
            "Found 1 validated image filenames.\n",
            "Found 1 validated image filenames.\n",
            "Found 1 validated image filenames.\n",
            "Found 1 validated image filenames.\n"
          ]
        },
        {
          "output_type": "stream",
          "name": "stderr",
          "text": [
            "\rProcessing Images:  53%|█████▎    | 2534/4752 [00:20<00:19, 115.78it/s]"
          ]
        },
        {
          "output_type": "stream",
          "name": "stdout",
          "text": [
            "Found 1 validated image filenames.\n",
            "Found 1 validated image filenames.\n",
            "Found 1 validated image filenames.\n",
            "Found 1 validated image filenames.\n",
            "Found 1 validated image filenames.\n",
            "Found 1 validated image filenames.\n",
            "Found 1 validated image filenames.\n",
            "Found 1 validated image filenames.\n",
            "Found 1 validated image filenames.\n",
            "Found 1 validated image filenames.\n",
            "Found 1 validated image filenames.\n",
            "Found 1 validated image filenames.\n"
          ]
        },
        {
          "output_type": "stream",
          "name": "stderr",
          "text": [
            "\rProcessing Images:  54%|█████▎    | 2546/4752 [00:21<00:19, 113.09it/s]"
          ]
        },
        {
          "output_type": "stream",
          "name": "stdout",
          "text": [
            "Found 1 validated image filenames.\n",
            "Found 1 validated image filenames.\n",
            "Found 1 validated image filenames.\n",
            "Found 1 validated image filenames.\n",
            "Found 1 validated image filenames.\n",
            "Found 1 validated image filenames.\n",
            "Found 1 validated image filenames.\n",
            "Found 1 validated image filenames.\n",
            "Found 1 validated image filenames.\n",
            "Found 1 validated image filenames.\n",
            "Found 1 validated image filenames.\n",
            "Found 1 validated image filenames.\n"
          ]
        },
        {
          "output_type": "stream",
          "name": "stderr",
          "text": [
            "\rProcessing Images:  54%|█████▍    | 2558/4752 [00:21<00:19, 112.19it/s]"
          ]
        },
        {
          "output_type": "stream",
          "name": "stdout",
          "text": [
            "Found 1 validated image filenames.\n",
            "Found 1 validated image filenames.\n",
            "Found 1 validated image filenames.\n",
            "Found 1 validated image filenames.\n",
            "Found 1 validated image filenames.\n",
            "Found 1 validated image filenames.\n",
            "Found 1 validated image filenames.\n",
            "Found 1 validated image filenames.\n",
            "Found 1 validated image filenames.\n",
            "Found 1 validated image filenames.\n",
            "Found 1 validated image filenames.\n",
            "Found 1 validated image filenames.\n"
          ]
        },
        {
          "output_type": "stream",
          "name": "stderr",
          "text": [
            "\rProcessing Images:  54%|█████▍    | 2570/4752 [00:21<00:19, 110.26it/s]"
          ]
        },
        {
          "output_type": "stream",
          "name": "stdout",
          "text": [
            "Found 1 validated image filenames.\n",
            "Found 1 validated image filenames.\n",
            "Found 1 validated image filenames.\n",
            "Found 1 validated image filenames.\n",
            "Found 1 validated image filenames.\n",
            "Found 1 validated image filenames.\n",
            "Found 1 validated image filenames.\n",
            "Found 1 validated image filenames.\n",
            "Found 1 validated image filenames.\n",
            "Found 1 validated image filenames.\n",
            "Found 1 validated image filenames.\n",
            "Found 1 validated image filenames.\n",
            "Found 1 validated image filenames.\n"
          ]
        },
        {
          "output_type": "stream",
          "name": "stderr",
          "text": [
            "\rProcessing Images:  54%|█████▍    | 2583/4752 [00:21<00:19, 113.83it/s]"
          ]
        },
        {
          "output_type": "stream",
          "name": "stdout",
          "text": [
            "Found 1 validated image filenames.\n",
            "Found 1 validated image filenames.\n",
            "Found 1 validated image filenames.\n",
            "Found 1 validated image filenames.\n",
            "Found 1 validated image filenames.\n",
            "Found 1 validated image filenames.\n",
            "Found 1 validated image filenames.\n",
            "Found 1 validated image filenames.\n",
            "Found 1 validated image filenames.\n",
            "Found 1 validated image filenames.\n",
            "Found 1 validated image filenames.\n",
            "Found 1 validated image filenames.\n",
            "Found 1 validated image filenames.\n",
            "Found 1 validated image filenames.\n"
          ]
        },
        {
          "output_type": "stream",
          "name": "stderr",
          "text": [
            "\rProcessing Images:  55%|█████▍    | 2597/4752 [00:21<00:17, 119.76it/s]"
          ]
        },
        {
          "output_type": "stream",
          "name": "stdout",
          "text": [
            "Found 1 validated image filenames.\n",
            "Found 1 validated image filenames.\n",
            "Found 1 validated image filenames.\n",
            "Found 1 validated image filenames.\n",
            "Found 1 validated image filenames.\n",
            "Found 1 validated image filenames.\n",
            "Found 1 validated image filenames.\n",
            "Found 1 validated image filenames.\n",
            "Found 1 validated image filenames.\n",
            "Found 1 validated image filenames.\n",
            "Found 1 validated image filenames.\n",
            "Found 1 validated image filenames.\n",
            "Found 1 validated image filenames.\n",
            "Found 1 validated image filenames.\n"
          ]
        },
        {
          "output_type": "stream",
          "name": "stderr",
          "text": [
            "\rProcessing Images:  55%|█████▍    | 2611/4752 [00:21<00:17, 124.52it/s]"
          ]
        },
        {
          "output_type": "stream",
          "name": "stdout",
          "text": [
            "Found 1 validated image filenames.\n",
            "Found 1 validated image filenames.\n",
            "Found 1 validated image filenames.\n",
            "Found 1 validated image filenames.\n",
            "Found 1 validated image filenames.\n",
            "Found 1 validated image filenames.\n",
            "Found 1 validated image filenames.\n",
            "Found 1 validated image filenames.\n",
            "Found 1 validated image filenames.\n",
            "Found 1 validated image filenames.\n",
            "Found 1 validated image filenames.\n",
            "Found 1 validated image filenames.\n",
            "Found 1 validated image filenames.\n",
            "Found 1 validated image filenames.\n"
          ]
        },
        {
          "output_type": "stream",
          "name": "stderr",
          "text": [
            "\rProcessing Images:  55%|█████▌    | 2625/4752 [00:21<00:16, 126.13it/s]"
          ]
        },
        {
          "output_type": "stream",
          "name": "stdout",
          "text": [
            "Found 1 validated image filenames.\n",
            "Found 1 validated image filenames.\n",
            "Found 1 validated image filenames.\n",
            "Found 1 validated image filenames.\n",
            "Found 1 validated image filenames.\n",
            "Found 1 validated image filenames.\n",
            "Found 1 validated image filenames.\n",
            "Found 1 validated image filenames.\n",
            "Found 1 validated image filenames.\n",
            "Found 1 validated image filenames.\n",
            "Found 1 validated image filenames.\n",
            "Found 1 validated image filenames.\n",
            "Found 1 validated image filenames.\n"
          ]
        },
        {
          "output_type": "stream",
          "name": "stderr",
          "text": [
            "\rProcessing Images:  56%|█████▌    | 2638/4752 [00:21<00:17, 120.04it/s]"
          ]
        },
        {
          "output_type": "stream",
          "name": "stdout",
          "text": [
            "Found 1 validated image filenames.\n",
            "Found 1 validated image filenames.\n",
            "Found 1 validated image filenames.\n",
            "Found 1 validated image filenames.\n",
            "Found 1 validated image filenames.\n",
            "Found 1 validated image filenames.\n",
            "Found 1 validated image filenames.\n",
            "Found 1 validated image filenames.\n",
            "Found 1 validated image filenames.\n",
            "Found 1 validated image filenames.\n",
            "Found 1 validated image filenames.\n",
            "Found 1 validated image filenames.\n",
            "Found 1 validated image filenames.\n"
          ]
        },
        {
          "output_type": "stream",
          "name": "stderr",
          "text": [
            "\rProcessing Images:  56%|█████▌    | 2651/4752 [00:21<00:17, 120.21it/s]"
          ]
        },
        {
          "output_type": "stream",
          "name": "stdout",
          "text": [
            "Found 1 validated image filenames.\n",
            "Found 1 validated image filenames.\n",
            "Found 1 validated image filenames.\n",
            "Found 1 validated image filenames.\n",
            "Found 1 validated image filenames.\n",
            "Found 1 validated image filenames.\n",
            "Found 1 validated image filenames.\n",
            "Found 1 validated image filenames.\n",
            "Found 1 validated image filenames.\n",
            "Found 1 validated image filenames.\n",
            "Found 1 validated image filenames.\n",
            "Found 1 validated image filenames.\n",
            "Found 1 validated image filenames.\n"
          ]
        },
        {
          "output_type": "stream",
          "name": "stderr",
          "text": [
            "\rProcessing Images:  56%|█████▌    | 2664/4752 [00:22<00:17, 116.66it/s]"
          ]
        },
        {
          "output_type": "stream",
          "name": "stdout",
          "text": [
            "Found 1 validated image filenames.\n",
            "Found 1 validated image filenames.\n",
            "Found 1 validated image filenames.\n",
            "Found 1 validated image filenames.\n",
            "Found 1 validated image filenames.\n",
            "Found 1 validated image filenames.\n",
            "Found 1 validated image filenames.\n",
            "Found 1 validated image filenames.\n",
            "Found 1 validated image filenames.\n",
            "Found 1 validated image filenames.\n",
            "Found 1 validated image filenames.\n",
            "Found 1 validated image filenames.\n"
          ]
        },
        {
          "output_type": "stream",
          "name": "stderr",
          "text": [
            "\rProcessing Images:  56%|█████▋    | 2676/4752 [00:22<00:19, 108.85it/s]"
          ]
        },
        {
          "output_type": "stream",
          "name": "stdout",
          "text": [
            "Found 1 validated image filenames.\n",
            "Found 1 validated image filenames.\n",
            "Found 1 validated image filenames.\n",
            "Found 1 validated image filenames.\n",
            "Found 1 validated image filenames.\n",
            "Found 1 validated image filenames.\n",
            "Found 1 validated image filenames.\n",
            "Found 1 validated image filenames.\n",
            "Found 1 validated image filenames.\n",
            "Found 1 validated image filenames.\n",
            "Found 1 validated image filenames.\n"
          ]
        },
        {
          "output_type": "stream",
          "name": "stderr",
          "text": [
            "\rProcessing Images:  57%|█████▋    | 2687/4752 [00:22<00:20, 102.70it/s]"
          ]
        },
        {
          "output_type": "stream",
          "name": "stdout",
          "text": [
            "Found 1 validated image filenames.\n",
            "Found 1 validated image filenames.\n",
            "Found 1 validated image filenames.\n",
            "Found 1 validated image filenames.\n",
            "Found 1 validated image filenames.\n",
            "Found 1 validated image filenames.\n",
            "Found 1 validated image filenames.\n",
            "Found 1 validated image filenames.\n",
            "Found 1 validated image filenames.\n",
            "Found 1 validated image filenames.\n",
            "Found 1 validated image filenames.\n"
          ]
        },
        {
          "output_type": "stream",
          "name": "stderr",
          "text": [
            "\rProcessing Images:  57%|█████▋    | 2698/4752 [00:22<00:20, 98.69it/s] "
          ]
        },
        {
          "output_type": "stream",
          "name": "stdout",
          "text": [
            "Found 1 validated image filenames.\n",
            "Found 1 validated image filenames.\n",
            "Found 1 validated image filenames.\n",
            "Found 1 validated image filenames.\n",
            "Found 1 validated image filenames.\n",
            "Found 1 validated image filenames.\n",
            "Found 1 validated image filenames.\n",
            "Found 1 validated image filenames.\n",
            "Found 1 validated image filenames.\n",
            "Found 1 validated image filenames.\n"
          ]
        },
        {
          "output_type": "stream",
          "name": "stderr",
          "text": [
            "\rProcessing Images:  57%|█████▋    | 2708/4752 [00:22<00:21, 95.01it/s]"
          ]
        },
        {
          "output_type": "stream",
          "name": "stdout",
          "text": [
            "Found 1 validated image filenames.\n",
            "Found 1 validated image filenames.\n",
            "Found 1 validated image filenames.\n",
            "Found 1 validated image filenames.\n",
            "Found 1 validated image filenames.\n",
            "Found 1 validated image filenames.\n",
            "Found 1 validated image filenames.\n",
            "Found 1 validated image filenames.\n",
            "Found 1 validated image filenames.\n",
            "Found 1 validated image filenames.\n"
          ]
        },
        {
          "output_type": "stream",
          "name": "stderr",
          "text": [
            "\rProcessing Images:  57%|█████▋    | 2718/4752 [00:22<00:21, 94.24it/s]"
          ]
        },
        {
          "output_type": "stream",
          "name": "stdout",
          "text": [
            "Found 1 validated image filenames.\n",
            "Found 1 validated image filenames.\n",
            "Found 1 validated image filenames.\n",
            "Found 1 validated image filenames.\n",
            "Found 1 validated image filenames.\n",
            "Found 1 validated image filenames.\n",
            "Found 1 validated image filenames.\n",
            "Found 1 validated image filenames.\n",
            "Found 1 validated image filenames.\n",
            "Found 1 validated image filenames.\n"
          ]
        },
        {
          "output_type": "stream",
          "name": "stderr",
          "text": [
            "\rProcessing Images:  57%|█████▋    | 2728/4752 [00:22<00:21, 94.34it/s]"
          ]
        },
        {
          "output_type": "stream",
          "name": "stdout",
          "text": [
            "Found 1 validated image filenames.\n",
            "Found 1 validated image filenames.\n",
            "Found 1 validated image filenames.\n",
            "Found 1 validated image filenames.\n",
            "Found 1 validated image filenames.\n",
            "Found 1 validated image filenames.\n",
            "Found 1 validated image filenames.\n",
            "Found 1 validated image filenames.\n",
            "Found 1 validated image filenames.\n",
            "Found 1 validated image filenames.\n"
          ]
        },
        {
          "output_type": "stream",
          "name": "stderr",
          "text": [
            "\rProcessing Images:  58%|█████▊    | 2738/4752 [00:22<00:21, 92.92it/s]"
          ]
        },
        {
          "output_type": "stream",
          "name": "stdout",
          "text": [
            "Found 1 validated image filenames.\n",
            "Found 1 validated image filenames.\n",
            "Found 1 validated image filenames.\n",
            "Found 1 validated image filenames.\n",
            "Found 1 validated image filenames.\n",
            "Found 1 validated image filenames.\n",
            "Found 1 validated image filenames.\n",
            "Found 1 validated image filenames.\n",
            "Found 1 validated image filenames.\n",
            "Found 1 validated image filenames.\n"
          ]
        },
        {
          "output_type": "stream",
          "name": "stderr",
          "text": [
            "\rProcessing Images:  58%|█████▊    | 2748/4752 [00:22<00:21, 93.31it/s]"
          ]
        },
        {
          "output_type": "stream",
          "name": "stdout",
          "text": [
            "Found 1 validated image filenames.\n",
            "Found 1 validated image filenames.\n",
            "Found 1 validated image filenames.\n",
            "Found 1 validated image filenames.\n",
            "Found 1 validated image filenames.\n",
            "Found 1 validated image filenames.\n",
            "Found 1 validated image filenames.\n",
            "Found 1 validated image filenames.\n",
            "Found 1 validated image filenames.\n",
            "Found 1 validated image filenames.\n",
            "Found 1 validated image filenames.\n"
          ]
        },
        {
          "output_type": "stream",
          "name": "stderr",
          "text": [
            "\rProcessing Images:  58%|█████▊    | 2759/4752 [00:23<00:20, 97.48it/s]"
          ]
        },
        {
          "output_type": "stream",
          "name": "stdout",
          "text": [
            "Found 1 validated image filenames.\n",
            "Found 1 validated image filenames.\n",
            "Found 1 validated image filenames.\n",
            "Found 1 validated image filenames.\n",
            "Found 1 validated image filenames.\n",
            "Found 1 validated image filenames.\n",
            "Found 1 validated image filenames.\n",
            "Found 1 validated image filenames.\n",
            "Found 1 validated image filenames.\n",
            "Found 1 validated image filenames.\n",
            "Found 1 validated image filenames.\n",
            "Found 1 validated image filenames.\n"
          ]
        },
        {
          "output_type": "stream",
          "name": "stderr",
          "text": [
            "\rProcessing Images:  58%|█████▊    | 2771/4752 [00:23<00:19, 103.15it/s]"
          ]
        },
        {
          "output_type": "stream",
          "name": "stdout",
          "text": [
            "Found 1 validated image filenames.\n",
            "Found 1 validated image filenames.\n",
            "Found 1 validated image filenames.\n",
            "Found 1 validated image filenames.\n",
            "Found 1 validated image filenames.\n",
            "Found 1 validated image filenames.\n",
            "Found 1 validated image filenames.\n",
            "Found 1 validated image filenames.\n",
            "Found 1 validated image filenames.\n",
            "Found 1 validated image filenames.\n",
            "Found 1 validated image filenames.\n"
          ]
        },
        {
          "output_type": "stream",
          "name": "stderr",
          "text": [
            "\rProcessing Images:  59%|█████▊    | 2782/4752 [00:23<00:19, 102.25it/s]"
          ]
        },
        {
          "output_type": "stream",
          "name": "stdout",
          "text": [
            "Found 1 validated image filenames.\n",
            "Found 1 validated image filenames.\n",
            "Found 1 validated image filenames.\n",
            "Found 1 validated image filenames.\n",
            "Found 1 validated image filenames.\n",
            "Found 1 validated image filenames.\n",
            "Found 1 validated image filenames.\n",
            "Found 1 validated image filenames.\n",
            "Found 1 validated image filenames.\n",
            "Found 1 validated image filenames.\n",
            "Found 1 validated image filenames.\n",
            "Found 1 validated image filenames.\n",
            "Found 1 validated image filenames.\n"
          ]
        },
        {
          "output_type": "stream",
          "name": "stderr",
          "text": [
            "\rProcessing Images:  59%|█████▉    | 2795/4752 [00:23<00:17, 109.46it/s]"
          ]
        },
        {
          "output_type": "stream",
          "name": "stdout",
          "text": [
            "Found 1 validated image filenames.\n",
            "Found 1 validated image filenames.\n",
            "Found 1 validated image filenames.\n",
            "Found 1 validated image filenames.\n",
            "Found 1 validated image filenames.\n",
            "Found 1 validated image filenames.\n",
            "Found 1 validated image filenames.\n",
            "Found 1 validated image filenames.\n",
            "Found 1 validated image filenames.\n",
            "Found 1 validated image filenames.\n",
            "Found 1 validated image filenames.\n",
            "Found 1 validated image filenames.\n",
            "Found 1 validated image filenames.\n",
            "Found 1 validated image filenames.\n"
          ]
        },
        {
          "output_type": "stream",
          "name": "stderr",
          "text": [
            "\rProcessing Images:  59%|█████▉    | 2809/4752 [00:23<00:16, 115.96it/s]"
          ]
        },
        {
          "output_type": "stream",
          "name": "stdout",
          "text": [
            "Found 1 validated image filenames.\n",
            "Found 1 validated image filenames.\n",
            "Found 1 validated image filenames.\n",
            "Found 1 validated image filenames.\n",
            "Found 1 validated image filenames.\n",
            "Found 1 validated image filenames.\n",
            "Found 1 validated image filenames.\n",
            "Found 1 validated image filenames.\n",
            "Found 1 validated image filenames.\n",
            "Found 1 validated image filenames.\n",
            "Found 1 validated image filenames.\n",
            "Found 1 validated image filenames.\n"
          ]
        },
        {
          "output_type": "stream",
          "name": "stderr",
          "text": [
            "\rProcessing Images:  59%|█████▉    | 2821/4752 [00:23<00:17, 111.54it/s]"
          ]
        },
        {
          "output_type": "stream",
          "name": "stdout",
          "text": [
            "Found 1 validated image filenames.\n",
            "Found 1 validated image filenames.\n",
            "Found 1 validated image filenames.\n",
            "Found 1 validated image filenames.\n",
            "Found 1 validated image filenames.\n",
            "Found 1 validated image filenames.\n",
            "Found 1 validated image filenames.\n",
            "Found 1 validated image filenames.\n",
            "Found 1 validated image filenames.\n",
            "Found 1 validated image filenames.\n",
            "Found 1 validated image filenames.\n",
            "Found 1 validated image filenames.\n",
            "Found 1 validated image filenames.\n"
          ]
        },
        {
          "output_type": "stream",
          "name": "stderr",
          "text": [
            "\rProcessing Images:  60%|█████▉    | 2834/4752 [00:23<00:16, 116.04it/s]"
          ]
        },
        {
          "output_type": "stream",
          "name": "stdout",
          "text": [
            "Found 1 validated image filenames.\n",
            "Found 1 validated image filenames.\n",
            "Found 1 validated image filenames.\n",
            "Found 1 validated image filenames.\n",
            "Found 1 validated image filenames.\n",
            "Found 1 validated image filenames.\n",
            "Found 1 validated image filenames.\n",
            "Found 1 validated image filenames.\n",
            "Found 1 validated image filenames.\n",
            "Found 1 validated image filenames.\n",
            "Found 1 validated image filenames.\n",
            "Found 1 validated image filenames.\n",
            "Found 1 validated image filenames.\n"
          ]
        },
        {
          "output_type": "stream",
          "name": "stderr",
          "text": [
            "\rProcessing Images:  60%|█████▉    | 2847/4752 [00:23<00:15, 119.36it/s]"
          ]
        },
        {
          "output_type": "stream",
          "name": "stdout",
          "text": [
            "Found 1 validated image filenames.\n",
            "Found 1 validated image filenames.\n",
            "Found 1 validated image filenames.\n",
            "Found 1 validated image filenames.\n",
            "Found 1 validated image filenames.\n",
            "Found 1 validated image filenames.\n",
            "Found 1 validated image filenames.\n",
            "Found 1 validated image filenames.\n",
            "Found 1 validated image filenames.\n",
            "Found 1 validated image filenames.\n",
            "Found 1 validated image filenames.\n",
            "Found 1 validated image filenames.\n",
            "Found 1 validated image filenames.\n",
            "Found 1 validated image filenames.\n"
          ]
        },
        {
          "output_type": "stream",
          "name": "stderr",
          "text": [
            "\rProcessing Images:  60%|██████    | 2861/4752 [00:23<00:15, 123.69it/s]"
          ]
        },
        {
          "output_type": "stream",
          "name": "stdout",
          "text": [
            "Found 1 validated image filenames.\n",
            "Found 1 validated image filenames.\n",
            "Found 1 validated image filenames.\n",
            "Found 1 validated image filenames.\n",
            "Found 1 validated image filenames.\n",
            "Found 1 validated image filenames.\n",
            "Found 1 validated image filenames.\n",
            "Found 1 validated image filenames.\n",
            "Found 1 validated image filenames.\n",
            "Found 1 validated image filenames.\n",
            "Found 1 validated image filenames.\n",
            "Found 1 validated image filenames.\n",
            "Found 1 validated image filenames.\n",
            "Found 1 validated image filenames.\n"
          ]
        },
        {
          "output_type": "stream",
          "name": "stderr",
          "text": [
            "\rProcessing Images:  61%|██████    | 2875/4752 [00:23<00:14, 127.34it/s]"
          ]
        },
        {
          "output_type": "stream",
          "name": "stdout",
          "text": [
            "Found 1 validated image filenames.\n",
            "Found 1 validated image filenames.\n",
            "Found 1 validated image filenames.\n",
            "Found 1 validated image filenames.\n",
            "Found 1 validated image filenames.\n",
            "Found 1 validated image filenames.\n",
            "Found 1 validated image filenames.\n",
            "Found 1 validated image filenames.\n",
            "Found 1 validated image filenames.\n",
            "Found 1 validated image filenames.\n",
            "Found 1 validated image filenames.\n",
            "Found 1 validated image filenames.\n",
            "Found 1 validated image filenames.\n"
          ]
        },
        {
          "output_type": "stream",
          "name": "stderr",
          "text": [
            "\rProcessing Images:  61%|██████    | 2888/4752 [00:24<00:16, 116.01it/s]"
          ]
        },
        {
          "output_type": "stream",
          "name": "stdout",
          "text": [
            "Found 1 validated image filenames.\n",
            "Found 1 validated image filenames.\n",
            "Found 1 validated image filenames.\n",
            "Found 1 validated image filenames.\n",
            "Found 1 validated image filenames.\n",
            "Found 1 validated image filenames.\n",
            "Found 1 validated image filenames.\n",
            "Found 1 validated image filenames.\n",
            "Found 1 validated image filenames.\n",
            "Found 1 validated image filenames.\n",
            "Found 1 validated image filenames.\n",
            "Found 1 validated image filenames.\n"
          ]
        },
        {
          "output_type": "stream",
          "name": "stderr",
          "text": [
            "\rProcessing Images:  61%|██████    | 2900/4752 [00:24<00:17, 106.95it/s]"
          ]
        },
        {
          "output_type": "stream",
          "name": "stdout",
          "text": [
            "Found 1 validated image filenames.\n",
            "Found 1 validated image filenames.\n",
            "Found 1 validated image filenames.\n",
            "Found 1 validated image filenames.\n",
            "Found 1 validated image filenames.\n",
            "Found 1 validated image filenames.\n",
            "Found 1 validated image filenames.\n",
            "Found 1 validated image filenames.\n",
            "Found 1 validated image filenames.\n",
            "Found 1 validated image filenames.\n",
            "Found 1 validated image filenames.\n"
          ]
        },
        {
          "output_type": "stream",
          "name": "stderr",
          "text": [
            "\rProcessing Images:  61%|██████▏   | 2911/4752 [00:24<00:18, 101.63it/s]"
          ]
        },
        {
          "output_type": "stream",
          "name": "stdout",
          "text": [
            "Found 1 validated image filenames.\n",
            "Found 1 validated image filenames.\n",
            "Found 1 validated image filenames.\n",
            "Found 1 validated image filenames.\n",
            "Found 1 validated image filenames.\n",
            "Found 1 validated image filenames.\n",
            "Found 1 validated image filenames.\n",
            "Found 1 validated image filenames.\n",
            "Found 1 validated image filenames.\n",
            "Found 1 validated image filenames.\n",
            "Found 1 validated image filenames.\n"
          ]
        },
        {
          "output_type": "stream",
          "name": "stderr",
          "text": [
            "\rProcessing Images:  61%|██████▏   | 2922/4752 [00:24<00:18, 97.62it/s] "
          ]
        },
        {
          "output_type": "stream",
          "name": "stdout",
          "text": [
            "Found 1 validated image filenames.\n",
            "Found 1 validated image filenames.\n",
            "Found 1 validated image filenames.\n",
            "Found 1 validated image filenames.\n",
            "Found 1 validated image filenames.\n",
            "Found 1 validated image filenames.\n",
            "Found 1 validated image filenames.\n",
            "Found 1 validated image filenames.\n",
            "Found 1 validated image filenames.\n",
            "Found 1 validated image filenames.\n"
          ]
        },
        {
          "output_type": "stream",
          "name": "stderr",
          "text": [
            "\rProcessing Images:  62%|██████▏   | 2932/4752 [00:24<00:19, 93.86it/s]"
          ]
        },
        {
          "output_type": "stream",
          "name": "stdout",
          "text": [
            "Found 1 validated image filenames.\n",
            "Found 1 validated image filenames.\n",
            "Found 1 validated image filenames.\n",
            "Found 1 validated image filenames.\n",
            "Found 1 validated image filenames.\n",
            "Found 1 validated image filenames.\n",
            "Found 1 validated image filenames.\n",
            "Found 1 validated image filenames.\n",
            "Found 1 validated image filenames.\n",
            "Found 1 validated image filenames.\n"
          ]
        },
        {
          "output_type": "stream",
          "name": "stderr",
          "text": [
            "\rProcessing Images:  62%|██████▏   | 2942/4752 [00:24<00:20, 89.58it/s]"
          ]
        },
        {
          "output_type": "stream",
          "name": "stdout",
          "text": [
            "Found 1 validated image filenames.\n",
            "Found 1 validated image filenames.\n",
            "Found 1 validated image filenames.\n",
            "Found 1 validated image filenames.\n",
            "Found 1 validated image filenames.\n",
            "Found 1 validated image filenames.\n",
            "Found 1 validated image filenames.\n",
            "Found 1 validated image filenames.\n",
            "Found 1 validated image filenames.\n",
            "Found 1 validated image filenames.\n"
          ]
        },
        {
          "output_type": "stream",
          "name": "stderr",
          "text": [
            "\rProcessing Images:  62%|██████▏   | 2952/4752 [00:24<00:19, 91.45it/s]"
          ]
        },
        {
          "output_type": "stream",
          "name": "stdout",
          "text": [
            "Found 1 validated image filenames.\n",
            "Found 1 validated image filenames.\n",
            "Found 1 validated image filenames.\n",
            "Found 1 validated image filenames.\n",
            "Found 1 validated image filenames.\n",
            "Found 1 validated image filenames.\n",
            "Found 1 validated image filenames.\n",
            "Found 1 validated image filenames.\n",
            "Found 1 validated image filenames.\n",
            "Found 1 validated image filenames.\n"
          ]
        },
        {
          "output_type": "stream",
          "name": "stderr",
          "text": [
            "\rProcessing Images:  62%|██████▏   | 2962/4752 [00:24<00:19, 90.74it/s]"
          ]
        },
        {
          "output_type": "stream",
          "name": "stdout",
          "text": [
            "Found 1 validated image filenames.\n",
            "Found 1 validated image filenames.\n",
            "Found 1 validated image filenames.\n",
            "Found 1 validated image filenames.\n",
            "Found 1 validated image filenames.\n",
            "Found 1 validated image filenames.\n",
            "Found 1 validated image filenames.\n",
            "Found 1 validated image filenames.\n",
            "Found 1 validated image filenames.\n",
            "Found 1 validated image filenames.\n",
            "Found 1 validated image filenames.\n"
          ]
        },
        {
          "output_type": "stream",
          "name": "stderr",
          "text": [
            "\rProcessing Images:  63%|██████▎   | 2973/4752 [00:25<00:18, 94.17it/s]"
          ]
        },
        {
          "output_type": "stream",
          "name": "stdout",
          "text": [
            "Found 1 validated image filenames.\n",
            "Found 1 validated image filenames.\n",
            "Found 1 validated image filenames.\n",
            "Found 1 validated image filenames.\n",
            "Found 1 validated image filenames.\n",
            "Found 1 validated image filenames.\n",
            "Found 1 validated image filenames.\n",
            "Found 1 validated image filenames.\n",
            "Found 1 validated image filenames.\n",
            "Found 1 validated image filenames.\n",
            "Found 1 validated image filenames.\n"
          ]
        },
        {
          "output_type": "stream",
          "name": "stderr",
          "text": [
            "\rProcessing Images:  63%|██████▎   | 2984/4752 [00:25<00:18, 98.17it/s]"
          ]
        },
        {
          "output_type": "stream",
          "name": "stdout",
          "text": [
            "Found 1 validated image filenames.\n",
            "Found 1 validated image filenames.\n",
            "Found 1 validated image filenames.\n",
            "Found 1 validated image filenames.\n",
            "Found 1 validated image filenames.\n",
            "Found 1 validated image filenames.\n",
            "Found 1 validated image filenames.\n",
            "Found 1 validated image filenames.\n",
            "Found 1 validated image filenames.\n",
            "Found 1 validated image filenames.\n",
            "Found 1 validated image filenames.\n"
          ]
        },
        {
          "output_type": "stream",
          "name": "stderr",
          "text": [
            "\rProcessing Images:  63%|██████▎   | 2995/4752 [00:25<00:17, 100.90it/s]"
          ]
        },
        {
          "output_type": "stream",
          "name": "stdout",
          "text": [
            "Found 1 validated image filenames.\n",
            "Found 1 validated image filenames.\n",
            "Found 1 validated image filenames.\n",
            "Found 1 validated image filenames.\n",
            "Found 1 validated image filenames.\n",
            "Found 1 validated image filenames.\n",
            "Found 1 validated image filenames.\n",
            "Found 1 validated image filenames.\n",
            "Found 1 validated image filenames.\n",
            "Found 1 validated image filenames.\n",
            "Found 1 validated image filenames.\n"
          ]
        },
        {
          "output_type": "stream",
          "name": "stderr",
          "text": [
            "\rProcessing Images:  63%|██████▎   | 3006/4752 [00:25<00:17, 101.19it/s]"
          ]
        },
        {
          "output_type": "stream",
          "name": "stdout",
          "text": [
            "Found 1 validated image filenames.\n",
            "Found 1 validated image filenames.\n",
            "Found 1 validated image filenames.\n",
            "Found 1 validated image filenames.\n",
            "Found 1 validated image filenames.\n",
            "Found 1 validated image filenames.\n",
            "Found 1 validated image filenames.\n",
            "Found 1 validated image filenames.\n",
            "Found 1 validated image filenames.\n",
            "Found 1 validated image filenames.\n",
            "Found 1 validated image filenames.\n",
            "Found 1 validated image filenames.\n",
            "Found 1 validated image filenames.\n"
          ]
        },
        {
          "output_type": "stream",
          "name": "stderr",
          "text": [
            "\rProcessing Images:  64%|██████▎   | 3019/4752 [00:25<00:15, 108.94it/s]"
          ]
        },
        {
          "output_type": "stream",
          "name": "stdout",
          "text": [
            "Found 1 validated image filenames.\n",
            "Found 1 validated image filenames.\n",
            "Found 1 validated image filenames.\n",
            "Found 1 validated image filenames.\n",
            "Found 1 validated image filenames.\n",
            "Found 1 validated image filenames.\n",
            "Found 1 validated image filenames.\n",
            "Found 1 validated image filenames.\n",
            "Found 1 validated image filenames.\n",
            "Found 1 validated image filenames.\n",
            "Found 1 validated image filenames.\n",
            "Found 1 validated image filenames.\n",
            "Found 1 validated image filenames.\n"
          ]
        },
        {
          "output_type": "stream",
          "name": "stderr",
          "text": [
            "\rProcessing Images:  64%|██████▍   | 3032/4752 [00:25<00:15, 112.06it/s]"
          ]
        },
        {
          "output_type": "stream",
          "name": "stdout",
          "text": [
            "Found 1 validated image filenames.\n",
            "Found 1 validated image filenames.\n",
            "Found 1 validated image filenames.\n",
            "Found 1 validated image filenames.\n",
            "Found 1 validated image filenames.\n",
            "Found 1 validated image filenames.\n",
            "Found 1 validated image filenames.\n",
            "Found 1 validated image filenames.\n",
            "Found 1 validated image filenames.\n",
            "Found 1 validated image filenames.\n",
            "Found 1 validated image filenames.\n",
            "Found 1 validated image filenames.\n"
          ]
        },
        {
          "output_type": "stream",
          "name": "stderr",
          "text": [
            "\rProcessing Images:  64%|██████▍   | 3044/4752 [00:25<00:14, 113.93it/s]"
          ]
        },
        {
          "output_type": "stream",
          "name": "stdout",
          "text": [
            "Found 1 validated image filenames.\n",
            "Found 1 validated image filenames.\n",
            "Found 1 validated image filenames.\n",
            "Found 1 validated image filenames.\n",
            "Found 1 validated image filenames.\n",
            "Found 1 validated image filenames.\n",
            "Found 1 validated image filenames.\n",
            "Found 1 validated image filenames.\n",
            "Found 1 validated image filenames.\n",
            "Found 1 validated image filenames.\n",
            "Found 1 validated image filenames.\n",
            "Found 1 validated image filenames.\n",
            "Found 1 validated image filenames.\n"
          ]
        },
        {
          "output_type": "stream",
          "name": "stderr",
          "text": [
            "\rProcessing Images:  64%|██████▍   | 3057/4752 [00:25<00:14, 116.91it/s]"
          ]
        },
        {
          "output_type": "stream",
          "name": "stdout",
          "text": [
            "Found 1 validated image filenames.\n",
            "Found 1 validated image filenames.\n",
            "Found 1 validated image filenames.\n",
            "Found 1 validated image filenames.\n",
            "Found 1 validated image filenames.\n",
            "Found 1 validated image filenames.\n",
            "Found 1 validated image filenames.\n",
            "Found 1 validated image filenames.\n",
            "Found 1 validated image filenames.\n",
            "Found 1 validated image filenames.\n",
            "Found 1 validated image filenames.\n",
            "Found 1 validated image filenames.\n",
            "Found 1 validated image filenames.\n"
          ]
        },
        {
          "output_type": "stream",
          "name": "stderr",
          "text": [
            "\rProcessing Images:  65%|██████▍   | 3070/4752 [00:25<00:14, 119.19it/s]"
          ]
        },
        {
          "output_type": "stream",
          "name": "stdout",
          "text": [
            "Found 1 validated image filenames.\n",
            "Found 1 validated image filenames.\n",
            "Found 1 validated image filenames.\n",
            "Found 1 validated image filenames.\n",
            "Found 1 validated image filenames.\n",
            "Found 1 validated image filenames.\n",
            "Found 1 validated image filenames.\n",
            "Found 1 validated image filenames.\n",
            "Found 1 validated image filenames.\n",
            "Found 1 validated image filenames.\n",
            "Found 1 validated image filenames.\n",
            "Found 1 validated image filenames.\n",
            "Found 1 validated image filenames.\n",
            "Found 1 validated image filenames.\n"
          ]
        },
        {
          "output_type": "stream",
          "name": "stderr",
          "text": [
            "\rProcessing Images:  65%|██████▍   | 3084/4752 [00:26<00:13, 121.11it/s]"
          ]
        },
        {
          "output_type": "stream",
          "name": "stdout",
          "text": [
            "Found 1 validated image filenames.\n",
            "Found 1 validated image filenames.\n",
            "Found 1 validated image filenames.\n",
            "Found 1 validated image filenames.\n",
            "Found 1 validated image filenames.\n",
            "Found 1 validated image filenames.\n",
            "Found 1 validated image filenames.\n",
            "Found 1 validated image filenames.\n",
            "Found 1 validated image filenames.\n",
            "Found 1 validated image filenames.\n",
            "Found 1 validated image filenames.\n",
            "Found 1 validated image filenames.\n",
            "Found 1 validated image filenames.\n"
          ]
        },
        {
          "output_type": "stream",
          "name": "stderr",
          "text": [
            "\rProcessing Images:  65%|██████▌   | 3097/4752 [00:26<00:15, 108.78it/s]"
          ]
        },
        {
          "output_type": "stream",
          "name": "stdout",
          "text": [
            "Found 1 validated image filenames.\n",
            "Found 1 validated image filenames.\n",
            "Found 1 validated image filenames.\n",
            "Found 1 validated image filenames.\n",
            "Found 1 validated image filenames.\n",
            "Found 1 validated image filenames.\n",
            "Found 1 validated image filenames.\n",
            "Found 1 validated image filenames.\n",
            "Found 1 validated image filenames.\n",
            "Found 1 validated image filenames.\n",
            "Found 1 validated image filenames.\n",
            "Found 1 validated image filenames.\n"
          ]
        },
        {
          "output_type": "stream",
          "name": "stderr",
          "text": [
            "\rProcessing Images:  65%|██████▌   | 3109/4752 [00:26<00:16, 102.16it/s]"
          ]
        },
        {
          "output_type": "stream",
          "name": "stdout",
          "text": [
            "Found 1 validated image filenames.\n",
            "Found 1 validated image filenames.\n",
            "Found 1 validated image filenames.\n",
            "Found 1 validated image filenames.\n",
            "Found 1 validated image filenames.\n",
            "Found 1 validated image filenames.\n",
            "Found 1 validated image filenames.\n",
            "Found 1 validated image filenames.\n",
            "Found 1 validated image filenames.\n",
            "Found 1 validated image filenames.\n",
            "Found 1 validated image filenames.\n"
          ]
        },
        {
          "output_type": "stream",
          "name": "stderr",
          "text": [
            "\rProcessing Images:  66%|██████▌   | 3120/4752 [00:26<00:17, 95.09it/s] "
          ]
        },
        {
          "output_type": "stream",
          "name": "stdout",
          "text": [
            "Found 1 validated image filenames.\n",
            "Found 1 validated image filenames.\n",
            "Found 1 validated image filenames.\n",
            "Found 1 validated image filenames.\n",
            "Found 1 validated image filenames.\n",
            "Found 1 validated image filenames.\n",
            "Found 1 validated image filenames.\n",
            "Found 1 validated image filenames.\n",
            "Found 1 validated image filenames.\n",
            "Found 1 validated image filenames.\n"
          ]
        },
        {
          "output_type": "stream",
          "name": "stderr",
          "text": [
            "\rProcessing Images:  66%|██████▌   | 3130/4752 [00:26<00:17, 92.57it/s]"
          ]
        },
        {
          "output_type": "stream",
          "name": "stdout",
          "text": [
            "Found 1 validated image filenames.\n",
            "Found 1 validated image filenames.\n",
            "Found 1 validated image filenames.\n",
            "Found 1 validated image filenames.\n",
            "Found 1 validated image filenames.\n",
            "Found 1 validated image filenames.\n",
            "Found 1 validated image filenames.\n",
            "Found 1 validated image filenames.\n",
            "Found 1 validated image filenames.\n",
            "Found 1 validated image filenames.\n",
            "Found 1 validated image filenames.\n"
          ]
        },
        {
          "output_type": "stream",
          "name": "stderr",
          "text": [
            "\rProcessing Images:  66%|██████▌   | 3141/4752 [00:26<00:16, 95.10it/s]"
          ]
        },
        {
          "output_type": "stream",
          "name": "stdout",
          "text": [
            "Found 1 validated image filenames.\n",
            "Found 1 validated image filenames.\n",
            "Found 1 validated image filenames.\n",
            "Found 1 validated image filenames.\n",
            "Found 1 validated image filenames.\n",
            "Found 1 validated image filenames.\n",
            "Found 1 validated image filenames.\n",
            "Found 1 validated image filenames.\n",
            "Found 1 validated image filenames.\n",
            "Found 1 validated image filenames.\n",
            "Found 1 validated image filenames.\n",
            "Found 1 validated image filenames.\n"
          ]
        },
        {
          "output_type": "stream",
          "name": "stderr",
          "text": [
            "\rProcessing Images:  66%|██████▋   | 3153/4752 [00:26<00:15, 100.05it/s]"
          ]
        },
        {
          "output_type": "stream",
          "name": "stdout",
          "text": [
            "Found 1 validated image filenames.\n",
            "Found 1 validated image filenames.\n",
            "Found 1 validated image filenames.\n",
            "Found 1 validated image filenames.\n",
            "Found 1 validated image filenames.\n",
            "Found 1 validated image filenames.\n",
            "Found 1 validated image filenames.\n",
            "Found 1 validated image filenames.\n",
            "Found 1 validated image filenames.\n",
            "Found 1 validated image filenames.\n",
            "Found 1 validated image filenames.\n",
            "Found 1 validated image filenames.\n"
          ]
        },
        {
          "output_type": "stream",
          "name": "stderr",
          "text": [
            "\rProcessing Images:  67%|██████▋   | 3165/4752 [00:26<00:15, 104.73it/s]"
          ]
        },
        {
          "output_type": "stream",
          "name": "stdout",
          "text": [
            "Found 1 validated image filenames.\n",
            "Found 1 validated image filenames.\n",
            "Found 1 validated image filenames.\n",
            "Found 1 validated image filenames.\n",
            "Found 1 validated image filenames.\n",
            "Found 1 validated image filenames.\n",
            "Found 1 validated image filenames.\n",
            "Found 1 validated image filenames.\n",
            "Found 1 validated image filenames.\n",
            "Found 1 validated image filenames.\n",
            "Found 1 validated image filenames.\n",
            "Found 1 validated image filenames.\n"
          ]
        },
        {
          "output_type": "stream",
          "name": "stderr",
          "text": [
            "\rProcessing Images:  67%|██████▋   | 3177/4752 [00:26<00:14, 106.57it/s]"
          ]
        },
        {
          "output_type": "stream",
          "name": "stdout",
          "text": [
            "Found 1 validated image filenames.\n",
            "Found 1 validated image filenames.\n",
            "Found 1 validated image filenames.\n",
            "Found 1 validated image filenames.\n",
            "Found 1 validated image filenames.\n",
            "Found 1 validated image filenames.\n",
            "Found 1 validated image filenames.\n",
            "Found 1 validated image filenames.\n",
            "Found 1 validated image filenames.\n",
            "Found 1 validated image filenames.\n",
            "Found 1 validated image filenames.\n",
            "Found 1 validated image filenames.\n"
          ]
        },
        {
          "output_type": "stream",
          "name": "stderr",
          "text": [
            "\rProcessing Images:  67%|██████▋   | 3189/4752 [00:27<00:14, 109.59it/s]"
          ]
        },
        {
          "output_type": "stream",
          "name": "stdout",
          "text": [
            "Found 1 validated image filenames.\n",
            "Found 1 validated image filenames.\n",
            "Found 1 validated image filenames.\n",
            "Found 1 validated image filenames.\n",
            "Found 1 validated image filenames.\n",
            "Found 1 validated image filenames.\n",
            "Found 1 validated image filenames.\n",
            "Found 1 validated image filenames.\n",
            "Found 1 validated image filenames.\n",
            "Found 1 validated image filenames.\n",
            "Found 1 validated image filenames.\n",
            "Found 1 validated image filenames.\n"
          ]
        },
        {
          "output_type": "stream",
          "name": "stderr",
          "text": [
            "\rProcessing Images:  67%|██████▋   | 3201/4752 [00:27<00:14, 107.36it/s]"
          ]
        },
        {
          "output_type": "stream",
          "name": "stdout",
          "text": [
            "Found 1 validated image filenames.\n",
            "Found 1 validated image filenames.\n",
            "Found 1 validated image filenames.\n",
            "Found 1 validated image filenames.\n",
            "Found 1 validated image filenames.\n",
            "Found 1 validated image filenames.\n",
            "Found 1 validated image filenames.\n",
            "Found 1 validated image filenames.\n",
            "Found 1 validated image filenames.\n",
            "Found 1 validated image filenames.\n",
            "Found 1 validated image filenames.\n",
            "Found 1 validated image filenames.\n",
            "Found 1 validated image filenames.\n"
          ]
        },
        {
          "output_type": "stream",
          "name": "stderr",
          "text": [
            "\rProcessing Images:  68%|██████▊   | 3214/4752 [00:27<00:13, 112.65it/s]"
          ]
        },
        {
          "output_type": "stream",
          "name": "stdout",
          "text": [
            "Found 1 validated image filenames.\n",
            "Found 1 validated image filenames.\n",
            "Found 1 validated image filenames.\n",
            "Found 1 validated image filenames.\n",
            "Found 1 validated image filenames.\n",
            "Found 1 validated image filenames.\n",
            "Found 1 validated image filenames.\n",
            "Found 1 validated image filenames.\n",
            "Found 1 validated image filenames.\n",
            "Found 1 validated image filenames.\n",
            "Found 1 validated image filenames.\n",
            "Found 1 validated image filenames.\n",
            "Found 1 validated image filenames.\n"
          ]
        },
        {
          "output_type": "stream",
          "name": "stderr",
          "text": [
            "\rProcessing Images:  68%|██████▊   | 3227/4752 [00:27<00:13, 116.13it/s]"
          ]
        },
        {
          "output_type": "stream",
          "name": "stdout",
          "text": [
            "Found 1 validated image filenames.\n",
            "Found 1 validated image filenames.\n",
            "Found 1 validated image filenames.\n",
            "Found 1 validated image filenames.\n",
            "Found 1 validated image filenames.\n",
            "Found 1 validated image filenames.\n",
            "Found 1 validated image filenames.\n",
            "Found 1 validated image filenames.\n",
            "Found 1 validated image filenames.\n",
            "Found 1 validated image filenames.\n",
            "Found 1 validated image filenames.\n",
            "Found 1 validated image filenames.\n"
          ]
        },
        {
          "output_type": "stream",
          "name": "stderr",
          "text": [
            "\rProcessing Images:  68%|██████▊   | 3239/4752 [00:27<00:13, 115.69it/s]"
          ]
        },
        {
          "output_type": "stream",
          "name": "stdout",
          "text": [
            "Found 1 validated image filenames.\n",
            "Found 1 validated image filenames.\n",
            "Found 1 validated image filenames.\n",
            "Found 1 validated image filenames.\n",
            "Found 1 validated image filenames.\n",
            "Found 1 validated image filenames.\n",
            "Found 1 validated image filenames.\n",
            "Found 1 validated image filenames.\n",
            "Found 1 validated image filenames.\n",
            "Found 1 validated image filenames.\n",
            "Found 1 validated image filenames.\n",
            "Found 1 validated image filenames.\n"
          ]
        },
        {
          "output_type": "stream",
          "name": "stderr",
          "text": [
            "\rProcessing Images:  68%|██████▊   | 3251/4752 [00:27<00:12, 115.64it/s]"
          ]
        },
        {
          "output_type": "stream",
          "name": "stdout",
          "text": [
            "Found 1 validated image filenames.\n",
            "Found 1 validated image filenames.\n",
            "Found 1 validated image filenames.\n",
            "Found 1 validated image filenames.\n",
            "Found 1 validated image filenames.\n",
            "Found 1 validated image filenames.\n",
            "Found 1 validated image filenames.\n",
            "Found 1 validated image filenames.\n",
            "Found 1 validated image filenames.\n",
            "Found 1 validated image filenames.\n",
            "Found 1 validated image filenames.\n",
            "Found 1 validated image filenames.\n",
            "Found 1 validated image filenames.\n"
          ]
        },
        {
          "output_type": "stream",
          "name": "stderr",
          "text": [
            "\rProcessing Images:  69%|██████▊   | 3264/4752 [00:27<00:12, 117.47it/s]"
          ]
        },
        {
          "output_type": "stream",
          "name": "stdout",
          "text": [
            "Found 1 validated image filenames.\n",
            "Found 1 validated image filenames.\n",
            "Found 1 validated image filenames.\n",
            "Found 1 validated image filenames.\n",
            "Found 1 validated image filenames.\n",
            "Found 1 validated image filenames.\n",
            "Found 1 validated image filenames.\n",
            "Found 1 validated image filenames.\n",
            "Found 1 validated image filenames.\n",
            "Found 1 validated image filenames.\n",
            "Found 1 validated image filenames.\n",
            "Found 1 validated image filenames.\n",
            "Found 1 validated image filenames.\n"
          ]
        },
        {
          "output_type": "stream",
          "name": "stderr",
          "text": [
            "\rProcessing Images:  69%|██████▉   | 3277/4752 [00:27<00:12, 120.76it/s]"
          ]
        },
        {
          "output_type": "stream",
          "name": "stdout",
          "text": [
            "Found 1 validated image filenames.\n",
            "Found 1 validated image filenames.\n",
            "Found 1 validated image filenames.\n",
            "Found 1 validated image filenames.\n",
            "Found 1 validated image filenames.\n",
            "Found 1 validated image filenames.\n",
            "Found 1 validated image filenames.\n",
            "Found 1 validated image filenames.\n",
            "Found 1 validated image filenames.\n",
            "Found 1 validated image filenames.\n",
            "Found 1 validated image filenames.\n",
            "Found 1 validated image filenames.\n",
            "Found 1 validated image filenames.\n"
          ]
        },
        {
          "output_type": "stream",
          "name": "stderr",
          "text": [
            "\rProcessing Images:  69%|██████▉   | 3290/4752 [00:27<00:11, 123.05it/s]"
          ]
        },
        {
          "output_type": "stream",
          "name": "stdout",
          "text": [
            "Found 1 validated image filenames.\n",
            "Found 1 validated image filenames.\n",
            "Found 1 validated image filenames.\n",
            "Found 1 validated image filenames.\n",
            "Found 1 validated image filenames.\n",
            "Found 1 validated image filenames.\n",
            "Found 1 validated image filenames.\n",
            "Found 1 validated image filenames.\n",
            "Found 1 validated image filenames.\n",
            "Found 1 validated image filenames.\n",
            "Found 1 validated image filenames.\n",
            "Found 1 validated image filenames.\n",
            "Found 1 validated image filenames.\n"
          ]
        },
        {
          "output_type": "stream",
          "name": "stderr",
          "text": [
            "\rProcessing Images:  70%|██████▉   | 3303/4752 [00:28<00:12, 119.72it/s]"
          ]
        },
        {
          "output_type": "stream",
          "name": "stdout",
          "text": [
            "Found 1 validated image filenames.\n",
            "Found 1 validated image filenames.\n",
            "Found 1 validated image filenames.\n",
            "Found 1 validated image filenames.\n",
            "Found 1 validated image filenames.\n",
            "Found 1 validated image filenames.\n",
            "Found 1 validated image filenames.\n",
            "Found 1 validated image filenames.\n",
            "Found 1 validated image filenames.\n",
            "Found 1 validated image filenames.\n",
            "Found 1 validated image filenames.\n",
            "Found 1 validated image filenames.\n",
            "Found 1 validated image filenames.\n"
          ]
        },
        {
          "output_type": "stream",
          "name": "stderr",
          "text": [
            "\rProcessing Images:  70%|██████▉   | 3316/4752 [00:28<00:12, 116.37it/s]"
          ]
        },
        {
          "output_type": "stream",
          "name": "stdout",
          "text": [
            "Found 1 validated image filenames.\n",
            "Found 1 validated image filenames.\n",
            "Found 1 validated image filenames.\n",
            "Found 1 validated image filenames.\n",
            "Found 1 validated image filenames.\n",
            "Found 1 validated image filenames.\n",
            "Found 1 validated image filenames.\n",
            "Found 1 validated image filenames.\n",
            "Found 1 validated image filenames.\n",
            "Found 1 validated image filenames.\n",
            "Found 1 validated image filenames.\n",
            "Found 1 validated image filenames.\n"
          ]
        },
        {
          "output_type": "stream",
          "name": "stderr",
          "text": [
            "\rProcessing Images:  70%|███████   | 3328/4752 [00:28<00:12, 111.07it/s]"
          ]
        },
        {
          "output_type": "stream",
          "name": "stdout",
          "text": [
            "Found 1 validated image filenames.\n",
            "Found 1 validated image filenames.\n",
            "Found 1 validated image filenames.\n",
            "Found 1 validated image filenames.\n",
            "Found 1 validated image filenames.\n",
            "Found 1 validated image filenames.\n",
            "Found 1 validated image filenames.\n",
            "Found 1 validated image filenames.\n",
            "Found 1 validated image filenames.\n",
            "Found 1 validated image filenames.\n",
            "Found 1 validated image filenames.\n",
            "Found 1 validated image filenames.\n"
          ]
        },
        {
          "output_type": "stream",
          "name": "stderr",
          "text": [
            "\rProcessing Images:  70%|███████   | 3340/4752 [00:28<00:13, 105.30it/s]"
          ]
        },
        {
          "output_type": "stream",
          "name": "stdout",
          "text": [
            "Found 1 validated image filenames.\n",
            "Found 1 validated image filenames.\n",
            "Found 1 validated image filenames.\n",
            "Found 1 validated image filenames.\n",
            "Found 1 validated image filenames.\n",
            "Found 1 validated image filenames.\n",
            "Found 1 validated image filenames.\n",
            "Found 1 validated image filenames.\n",
            "Found 1 validated image filenames.\n",
            "Found 1 validated image filenames.\n",
            "Found 1 validated image filenames.\n"
          ]
        },
        {
          "output_type": "stream",
          "name": "stderr",
          "text": [
            "\rProcessing Images:  71%|███████   | 3351/4752 [00:28<00:13, 106.02it/s]"
          ]
        },
        {
          "output_type": "stream",
          "name": "stdout",
          "text": [
            "Found 1 validated image filenames.\n",
            "Found 1 validated image filenames.\n",
            "Found 1 validated image filenames.\n",
            "Found 1 validated image filenames.\n",
            "Found 1 validated image filenames.\n",
            "Found 1 validated image filenames.\n",
            "Found 1 validated image filenames.\n",
            "Found 1 validated image filenames.\n",
            "Found 1 validated image filenames.\n",
            "Found 1 validated image filenames.\n",
            "Found 1 validated image filenames.\n"
          ]
        },
        {
          "output_type": "stream",
          "name": "stderr",
          "text": [
            "\rProcessing Images:  71%|███████   | 3362/4752 [00:28<00:13, 100.56it/s]"
          ]
        },
        {
          "output_type": "stream",
          "name": "stdout",
          "text": [
            "Found 1 validated image filenames.\n",
            "Found 1 validated image filenames.\n",
            "Found 1 validated image filenames.\n",
            "Found 1 validated image filenames.\n",
            "Found 1 validated image filenames.\n",
            "Found 1 validated image filenames.\n",
            "Found 1 validated image filenames.\n",
            "Found 1 validated image filenames.\n",
            "Found 1 validated image filenames.\n",
            "Found 1 validated image filenames.\n",
            "Found 1 validated image filenames.\n",
            "Found 1 validated image filenames.\n"
          ]
        },
        {
          "output_type": "stream",
          "name": "stderr",
          "text": [
            "\rProcessing Images:  71%|███████   | 3374/4752 [00:28<00:13, 104.02it/s]"
          ]
        },
        {
          "output_type": "stream",
          "name": "stdout",
          "text": [
            "Found 1 validated image filenames.\n",
            "Found 1 validated image filenames.\n",
            "Found 1 validated image filenames.\n",
            "Found 1 validated image filenames.\n",
            "Found 1 validated image filenames.\n",
            "Found 1 validated image filenames.\n",
            "Found 1 validated image filenames.\n",
            "Found 1 validated image filenames.\n",
            "Found 1 validated image filenames.\n",
            "Found 1 validated image filenames.\n",
            "Found 1 validated image filenames.\n"
          ]
        },
        {
          "output_type": "stream",
          "name": "stderr",
          "text": [
            "\rProcessing Images:  71%|███████   | 3385/4752 [00:28<00:13, 103.14it/s]"
          ]
        },
        {
          "output_type": "stream",
          "name": "stdout",
          "text": [
            "Found 1 validated image filenames.\n",
            "Found 1 validated image filenames.\n",
            "Found 1 validated image filenames.\n",
            "Found 1 validated image filenames.\n",
            "Found 1 validated image filenames.\n",
            "Found 1 validated image filenames.\n",
            "Found 1 validated image filenames.\n",
            "Found 1 validated image filenames.\n",
            "Found 1 validated image filenames.\n",
            "Found 1 validated image filenames.\n",
            "Found 1 validated image filenames.\n"
          ]
        },
        {
          "output_type": "stream",
          "name": "stderr",
          "text": [
            "\rProcessing Images:  71%|███████▏  | 3396/4752 [00:28<00:12, 104.88it/s]"
          ]
        },
        {
          "output_type": "stream",
          "name": "stdout",
          "text": [
            "Found 1 validated image filenames.\n",
            "Found 1 validated image filenames.\n",
            "Found 1 validated image filenames.\n",
            "Found 1 validated image filenames.\n",
            "Found 1 validated image filenames.\n",
            "Found 1 validated image filenames.\n",
            "Found 1 validated image filenames.\n",
            "Found 1 validated image filenames.\n",
            "Found 1 validated image filenames.\n",
            "Found 1 validated image filenames.\n",
            "Found 1 validated image filenames.\n"
          ]
        },
        {
          "output_type": "stream",
          "name": "stderr",
          "text": [
            "\rProcessing Images:  72%|███████▏  | 3407/4752 [00:29<00:13, 100.73it/s]"
          ]
        },
        {
          "output_type": "stream",
          "name": "stdout",
          "text": [
            "Found 1 validated image filenames.\n",
            "Found 1 validated image filenames.\n",
            "Found 1 validated image filenames.\n",
            "Found 1 validated image filenames.\n",
            "Found 1 validated image filenames.\n",
            "Found 1 validated image filenames.\n",
            "Found 1 validated image filenames.\n",
            "Found 1 validated image filenames.\n",
            "Found 1 validated image filenames.\n",
            "Found 1 validated image filenames.\n",
            "Found 1 validated image filenames.\n"
          ]
        },
        {
          "output_type": "stream",
          "name": "stderr",
          "text": [
            "\rProcessing Images:  72%|███████▏  | 3418/4752 [00:29<00:13, 97.45it/s] "
          ]
        },
        {
          "output_type": "stream",
          "name": "stdout",
          "text": [
            "Found 1 validated image filenames.\n",
            "Found 1 validated image filenames.\n",
            "Found 1 validated image filenames.\n",
            "Found 1 validated image filenames.\n",
            "Found 1 validated image filenames.\n",
            "Found 1 validated image filenames.\n",
            "Found 1 validated image filenames.\n",
            "Found 1 validated image filenames.\n",
            "Found 1 validated image filenames.\n",
            "Found 1 validated image filenames.\n",
            "Found 1 validated image filenames.\n"
          ]
        },
        {
          "output_type": "stream",
          "name": "stderr",
          "text": [
            "\rProcessing Images:  72%|███████▏  | 3429/4752 [00:29<00:13, 98.66it/s]"
          ]
        },
        {
          "output_type": "stream",
          "name": "stdout",
          "text": [
            "Found 1 validated image filenames.\n",
            "Found 1 validated image filenames.\n",
            "Found 1 validated image filenames.\n",
            "Found 1 validated image filenames.\n",
            "Found 1 validated image filenames.\n",
            "Found 1 validated image filenames.\n",
            "Found 1 validated image filenames.\n",
            "Found 1 validated image filenames.\n",
            "Found 1 validated image filenames.\n",
            "Found 1 validated image filenames.\n",
            "Found 1 validated image filenames.\n"
          ]
        },
        {
          "output_type": "stream",
          "name": "stderr",
          "text": [
            "\rProcessing Images:  72%|███████▏  | 3440/4752 [00:29<00:12, 101.30it/s]"
          ]
        },
        {
          "output_type": "stream",
          "name": "stdout",
          "text": [
            "Found 1 validated image filenames.\n",
            "Found 1 validated image filenames.\n",
            "Found 1 validated image filenames.\n",
            "Found 1 validated image filenames.\n",
            "Found 1 validated image filenames.\n",
            "Found 1 validated image filenames.\n",
            "Found 1 validated image filenames.\n",
            "Found 1 validated image filenames.\n",
            "Found 1 validated image filenames.\n",
            "Found 1 validated image filenames.\n",
            "Found 1 validated image filenames.\n"
          ]
        },
        {
          "output_type": "stream",
          "name": "stderr",
          "text": [
            "\rProcessing Images:  73%|███████▎  | 3451/4752 [00:29<00:12, 103.37it/s]"
          ]
        },
        {
          "output_type": "stream",
          "name": "stdout",
          "text": [
            "Found 1 validated image filenames.\n",
            "Found 1 validated image filenames.\n",
            "Found 1 validated image filenames.\n",
            "Found 1 validated image filenames.\n",
            "Found 1 validated image filenames.\n",
            "Found 1 validated image filenames.\n",
            "Found 1 validated image filenames.\n",
            "Found 1 validated image filenames.\n",
            "Found 1 validated image filenames.\n",
            "Found 1 validated image filenames.\n",
            "Found 1 validated image filenames.\n"
          ]
        },
        {
          "output_type": "stream",
          "name": "stderr",
          "text": [
            "\rProcessing Images:  73%|███████▎  | 3462/4752 [00:29<00:12, 102.23it/s]"
          ]
        },
        {
          "output_type": "stream",
          "name": "stdout",
          "text": [
            "Found 1 validated image filenames.\n",
            "Found 1 validated image filenames.\n",
            "Found 1 validated image filenames.\n",
            "Found 1 validated image filenames.\n",
            "Found 1 validated image filenames.\n",
            "Found 1 validated image filenames.\n",
            "Found 1 validated image filenames.\n",
            "Found 1 validated image filenames.\n",
            "Found 1 validated image filenames.\n",
            "Found 1 validated image filenames.\n",
            "Found 1 validated image filenames.\n"
          ]
        },
        {
          "output_type": "stream",
          "name": "stderr",
          "text": [
            "\rProcessing Images:  73%|███████▎  | 3473/4752 [00:29<00:12, 99.12it/s] "
          ]
        },
        {
          "output_type": "stream",
          "name": "stdout",
          "text": [
            "Found 1 validated image filenames.\n",
            "Found 1 validated image filenames.\n",
            "Found 1 validated image filenames.\n",
            "Found 1 validated image filenames.\n",
            "Found 1 validated image filenames.\n",
            "Found 1 validated image filenames.\n",
            "Found 1 validated image filenames.\n",
            "Found 1 validated image filenames.\n",
            "Found 1 validated image filenames.\n",
            "Found 1 validated image filenames.\n",
            "Found 1 validated image filenames.\n",
            "Found 1 validated image filenames.\n",
            "Found 1 validated image filenames.\n"
          ]
        },
        {
          "output_type": "stream",
          "name": "stderr",
          "text": [
            "\rProcessing Images:  73%|███████▎  | 3486/4752 [00:29<00:11, 106.35it/s]"
          ]
        },
        {
          "output_type": "stream",
          "name": "stdout",
          "text": [
            "Found 1 validated image filenames.\n",
            "Found 1 validated image filenames.\n",
            "Found 1 validated image filenames.\n",
            "Found 1 validated image filenames.\n",
            "Found 1 validated image filenames.\n",
            "Found 1 validated image filenames.\n",
            "Found 1 validated image filenames.\n",
            "Found 1 validated image filenames.\n",
            "Found 1 validated image filenames.\n",
            "Found 1 validated image filenames.\n",
            "Found 1 validated image filenames.\n",
            "Found 1 validated image filenames.\n",
            "Found 1 validated image filenames.\n",
            "Found 1 validated image filenames.\n"
          ]
        },
        {
          "output_type": "stream",
          "name": "stderr",
          "text": [
            "\rProcessing Images:  74%|███████▎  | 3500/4752 [00:29<00:11, 113.60it/s]"
          ]
        },
        {
          "output_type": "stream",
          "name": "stdout",
          "text": [
            "Found 1 validated image filenames.\n",
            "Found 1 validated image filenames.\n",
            "Found 1 validated image filenames.\n",
            "Found 1 validated image filenames.\n",
            "Found 1 validated image filenames.\n",
            "Found 1 validated image filenames.\n",
            "Found 1 validated image filenames.\n",
            "Found 1 validated image filenames.\n",
            "Found 1 validated image filenames.\n",
            "Found 1 validated image filenames.\n",
            "Found 1 validated image filenames.\n",
            "Found 1 validated image filenames.\n"
          ]
        },
        {
          "output_type": "stream",
          "name": "stderr",
          "text": [
            "\rProcessing Images:  74%|███████▍  | 3512/4752 [00:30<00:11, 110.69it/s]"
          ]
        },
        {
          "output_type": "stream",
          "name": "stdout",
          "text": [
            "Found 1 validated image filenames.\n",
            "Found 1 validated image filenames.\n",
            "Found 1 validated image filenames.\n",
            "Found 1 validated image filenames.\n",
            "Found 1 validated image filenames.\n",
            "Found 1 validated image filenames.\n",
            "Found 1 validated image filenames.\n",
            "Found 1 validated image filenames.\n",
            "Found 1 validated image filenames.\n",
            "Found 1 validated image filenames.\n",
            "Found 1 validated image filenames.\n",
            "Found 1 validated image filenames.\n"
          ]
        },
        {
          "output_type": "stream",
          "name": "stderr",
          "text": [
            "\rProcessing Images:  74%|███████▍  | 3524/4752 [00:30<00:11, 104.11it/s]"
          ]
        },
        {
          "output_type": "stream",
          "name": "stdout",
          "text": [
            "Found 1 validated image filenames.\n",
            "Found 1 validated image filenames.\n",
            "Found 1 validated image filenames.\n",
            "Found 1 validated image filenames.\n",
            "Found 1 validated image filenames.\n",
            "Found 1 validated image filenames.\n",
            "Found 1 validated image filenames.\n",
            "Found 1 validated image filenames.\n",
            "Found 1 validated image filenames.\n",
            "Found 1 validated image filenames.\n",
            "Found 1 validated image filenames.\n"
          ]
        },
        {
          "output_type": "stream",
          "name": "stderr",
          "text": [
            "\rProcessing Images:  74%|███████▍  | 3535/4752 [00:30<00:12, 97.10it/s] "
          ]
        },
        {
          "output_type": "stream",
          "name": "stdout",
          "text": [
            "Found 1 validated image filenames.\n",
            "Found 1 validated image filenames.\n",
            "Found 1 validated image filenames.\n",
            "Found 1 validated image filenames.\n",
            "Found 1 validated image filenames.\n",
            "Found 1 validated image filenames.\n",
            "Found 1 validated image filenames.\n",
            "Found 1 validated image filenames.\n",
            "Found 1 validated image filenames.\n",
            "Found 1 validated image filenames.\n"
          ]
        },
        {
          "output_type": "stream",
          "name": "stderr",
          "text": [
            "\rProcessing Images:  75%|███████▍  | 3545/4752 [00:30<00:12, 96.51it/s]"
          ]
        },
        {
          "output_type": "stream",
          "name": "stdout",
          "text": [
            "Found 1 validated image filenames.\n",
            "Found 1 validated image filenames.\n",
            "Found 1 validated image filenames.\n",
            "Found 1 validated image filenames.\n",
            "Found 1 validated image filenames.\n",
            "Found 1 validated image filenames.\n",
            "Found 1 validated image filenames.\n",
            "Found 1 validated image filenames.\n",
            "Found 1 validated image filenames.\n",
            "Found 1 validated image filenames.\n",
            "Found 1 validated image filenames.\n",
            "Found 1 validated image filenames.\n"
          ]
        },
        {
          "output_type": "stream",
          "name": "stderr",
          "text": [
            "\rProcessing Images:  75%|███████▍  | 3557/4752 [00:30<00:11, 100.51it/s]"
          ]
        },
        {
          "output_type": "stream",
          "name": "stdout",
          "text": [
            "Found 1 validated image filenames.\n",
            "Found 1 validated image filenames.\n",
            "Found 1 validated image filenames.\n",
            "Found 1 validated image filenames.\n",
            "Found 1 validated image filenames.\n",
            "Found 1 validated image filenames.\n",
            "Found 1 validated image filenames.\n",
            "Found 1 validated image filenames.\n",
            "Found 1 validated image filenames.\n",
            "Found 1 validated image filenames.\n",
            "Found 1 validated image filenames.\n",
            "Found 1 validated image filenames.\n"
          ]
        },
        {
          "output_type": "stream",
          "name": "stderr",
          "text": [
            "\rProcessing Images:  75%|███████▌  | 3569/4752 [00:30<00:11, 104.95it/s]"
          ]
        },
        {
          "output_type": "stream",
          "name": "stdout",
          "text": [
            "Found 1 validated image filenames.\n",
            "Found 1 validated image filenames.\n",
            "Found 1 validated image filenames.\n",
            "Found 1 validated image filenames.\n",
            "Found 1 validated image filenames.\n",
            "Found 1 validated image filenames.\n",
            "Found 1 validated image filenames.\n",
            "Found 1 validated image filenames.\n",
            "Found 1 validated image filenames.\n",
            "Found 1 validated image filenames.\n",
            "Found 1 validated image filenames.\n",
            "Found 1 validated image filenames.\n"
          ]
        },
        {
          "output_type": "stream",
          "name": "stderr",
          "text": [
            "\rProcessing Images:  75%|███████▌  | 3581/4752 [00:30<00:10, 108.62it/s]"
          ]
        },
        {
          "output_type": "stream",
          "name": "stdout",
          "text": [
            "Found 1 validated image filenames.\n",
            "Found 1 validated image filenames.\n",
            "Found 1 validated image filenames.\n",
            "Found 1 validated image filenames.\n",
            "Found 1 validated image filenames.\n",
            "Found 1 validated image filenames.\n",
            "Found 1 validated image filenames.\n",
            "Found 1 validated image filenames.\n",
            "Found 1 validated image filenames.\n",
            "Found 1 validated image filenames.\n",
            "Found 1 validated image filenames.\n",
            "Found 1 validated image filenames.\n"
          ]
        },
        {
          "output_type": "stream",
          "name": "stderr",
          "text": [
            "\rProcessing Images:  76%|███████▌  | 3593/4752 [00:30<00:10, 111.81it/s]"
          ]
        },
        {
          "output_type": "stream",
          "name": "stdout",
          "text": [
            "Found 1 validated image filenames.\n",
            "Found 1 validated image filenames.\n",
            "Found 1 validated image filenames.\n",
            "Found 1 validated image filenames.\n",
            "Found 1 validated image filenames.\n",
            "Found 1 validated image filenames.\n",
            "Found 1 validated image filenames.\n",
            "Found 1 validated image filenames.\n",
            "Found 1 validated image filenames.\n",
            "Found 1 validated image filenames.\n",
            "Found 1 validated image filenames.\n",
            "Found 1 validated image filenames.\n",
            "Found 1 validated image filenames.\n"
          ]
        },
        {
          "output_type": "stream",
          "name": "stderr",
          "text": [
            "\rProcessing Images:  76%|███████▌  | 3606/4752 [00:30<00:09, 115.55it/s]"
          ]
        },
        {
          "output_type": "stream",
          "name": "stdout",
          "text": [
            "Found 1 validated image filenames.\n",
            "Found 1 validated image filenames.\n",
            "Found 1 validated image filenames.\n",
            "Found 1 validated image filenames.\n",
            "Found 1 validated image filenames.\n",
            "Found 1 validated image filenames.\n",
            "Found 1 validated image filenames.\n",
            "Found 1 validated image filenames.\n",
            "Found 1 validated image filenames.\n",
            "Found 1 validated image filenames.\n",
            "Found 1 validated image filenames.\n",
            "Found 1 validated image filenames.\n"
          ]
        },
        {
          "output_type": "stream",
          "name": "stderr",
          "text": [
            "\rProcessing Images:  76%|███████▌  | 3618/4752 [00:31<00:09, 114.08it/s]"
          ]
        },
        {
          "output_type": "stream",
          "name": "stdout",
          "text": [
            "Found 1 validated image filenames.\n",
            "Found 1 validated image filenames.\n",
            "Found 1 validated image filenames.\n",
            "Found 1 validated image filenames.\n",
            "Found 1 validated image filenames.\n",
            "Found 1 validated image filenames.\n",
            "Found 1 validated image filenames.\n",
            "Found 1 validated image filenames.\n",
            "Found 1 validated image filenames.\n",
            "Found 1 validated image filenames.\n",
            "Found 1 validated image filenames.\n",
            "Found 1 validated image filenames.\n"
          ]
        },
        {
          "output_type": "stream",
          "name": "stderr",
          "text": [
            "\rProcessing Images:  76%|███████▋  | 3630/4752 [00:31<00:10, 112.14it/s]"
          ]
        },
        {
          "output_type": "stream",
          "name": "stdout",
          "text": [
            "Found 1 validated image filenames.\n",
            "Found 1 validated image filenames.\n",
            "Found 1 validated image filenames.\n",
            "Found 1 validated image filenames.\n",
            "Found 1 validated image filenames.\n",
            "Found 1 validated image filenames.\n",
            "Found 1 validated image filenames.\n",
            "Found 1 validated image filenames.\n",
            "Found 1 validated image filenames.\n",
            "Found 1 validated image filenames.\n",
            "Found 1 validated image filenames.\n",
            "Found 1 validated image filenames.\n"
          ]
        },
        {
          "output_type": "stream",
          "name": "stderr",
          "text": [
            "\rProcessing Images:  77%|███████▋  | 3642/4752 [00:31<00:09, 111.84it/s]"
          ]
        },
        {
          "output_type": "stream",
          "name": "stdout",
          "text": [
            "Found 1 validated image filenames.\n",
            "Found 1 validated image filenames.\n",
            "Found 1 validated image filenames.\n",
            "Found 1 validated image filenames.\n",
            "Found 1 validated image filenames.\n",
            "Found 1 validated image filenames.\n",
            "Found 1 validated image filenames.\n",
            "Found 1 validated image filenames.\n",
            "Found 1 validated image filenames.\n",
            "Found 1 validated image filenames.\n",
            "Found 1 validated image filenames.\n",
            "Found 1 validated image filenames.\n"
          ]
        },
        {
          "output_type": "stream",
          "name": "stderr",
          "text": [
            "\rProcessing Images:  77%|███████▋  | 3654/4752 [00:31<00:09, 111.56it/s]"
          ]
        },
        {
          "output_type": "stream",
          "name": "stdout",
          "text": [
            "Found 1 validated image filenames.\n",
            "Found 1 validated image filenames.\n",
            "Found 1 validated image filenames.\n",
            "Found 1 validated image filenames.\n",
            "Found 1 validated image filenames.\n",
            "Found 1 validated image filenames.\n",
            "Found 1 validated image filenames.\n",
            "Found 1 validated image filenames.\n",
            "Found 1 validated image filenames.\n",
            "Found 1 validated image filenames.\n",
            "Found 1 validated image filenames.\n",
            "Found 1 validated image filenames.\n"
          ]
        },
        {
          "output_type": "stream",
          "name": "stderr",
          "text": [
            "\rProcessing Images:  77%|███████▋  | 3666/4752 [00:31<00:10, 105.18it/s]"
          ]
        },
        {
          "output_type": "stream",
          "name": "stdout",
          "text": [
            "Found 1 validated image filenames.\n",
            "Found 1 validated image filenames.\n",
            "Found 1 validated image filenames.\n",
            "Found 1 validated image filenames.\n",
            "Found 1 validated image filenames.\n",
            "Found 1 validated image filenames.\n",
            "Found 1 validated image filenames.\n",
            "Found 1 validated image filenames.\n",
            "Found 1 validated image filenames.\n",
            "Found 1 validated image filenames.\n",
            "Found 1 validated image filenames.\n"
          ]
        },
        {
          "output_type": "stream",
          "name": "stderr",
          "text": [
            "\rProcessing Images:  77%|███████▋  | 3677/4752 [00:31<00:10, 103.28it/s]"
          ]
        },
        {
          "output_type": "stream",
          "name": "stdout",
          "text": [
            "Found 1 validated image filenames.\n",
            "Found 1 validated image filenames.\n",
            "Found 1 validated image filenames.\n",
            "Found 1 validated image filenames.\n",
            "Found 1 validated image filenames.\n",
            "Found 1 validated image filenames.\n",
            "Found 1 validated image filenames.\n",
            "Found 1 validated image filenames.\n",
            "Found 1 validated image filenames.\n",
            "Found 1 validated image filenames.\n",
            "Found 1 validated image filenames.\n",
            "Found 1 validated image filenames.\n"
          ]
        },
        {
          "output_type": "stream",
          "name": "stderr",
          "text": [
            "\rProcessing Images:  78%|███████▊  | 3689/4752 [00:31<00:09, 107.51it/s]"
          ]
        },
        {
          "output_type": "stream",
          "name": "stdout",
          "text": [
            "Found 1 validated image filenames.\n",
            "Found 1 validated image filenames.\n",
            "Found 1 validated image filenames.\n",
            "Found 1 validated image filenames.\n",
            "Found 1 validated image filenames.\n",
            "Found 1 validated image filenames.\n",
            "Found 1 validated image filenames.\n",
            "Found 1 validated image filenames.\n",
            "Found 1 validated image filenames.\n",
            "Found 1 validated image filenames.\n",
            "Found 1 validated image filenames.\n",
            "Found 1 validated image filenames.\n"
          ]
        },
        {
          "output_type": "stream",
          "name": "stderr",
          "text": [
            "\rProcessing Images:  78%|███████▊  | 3701/4752 [00:31<00:09, 110.50it/s]"
          ]
        },
        {
          "output_type": "stream",
          "name": "stdout",
          "text": [
            "Found 1 validated image filenames.\n",
            "Found 1 validated image filenames.\n",
            "Found 1 validated image filenames.\n",
            "Found 1 validated image filenames.\n",
            "Found 1 validated image filenames.\n",
            "Found 1 validated image filenames.\n",
            "Found 1 validated image filenames.\n",
            "Found 1 validated image filenames.\n",
            "Found 1 validated image filenames.\n",
            "Found 1 validated image filenames.\n",
            "Found 1 validated image filenames.\n",
            "Found 1 validated image filenames.\n",
            "Found 1 validated image filenames.\n"
          ]
        },
        {
          "output_type": "stream",
          "name": "stderr",
          "text": [
            "\rProcessing Images:  78%|███████▊  | 3714/4752 [00:31<00:09, 114.13it/s]"
          ]
        },
        {
          "output_type": "stream",
          "name": "stdout",
          "text": [
            "Found 1 validated image filenames.\n",
            "Found 1 validated image filenames.\n",
            "Found 1 validated image filenames.\n",
            "Found 1 validated image filenames.\n",
            "Found 1 validated image filenames.\n",
            "Found 1 validated image filenames.\n",
            "Found 1 validated image filenames.\n",
            "Found 1 validated image filenames.\n",
            "Found 1 validated image filenames.\n",
            "Found 1 validated image filenames.\n",
            "Found 1 validated image filenames.\n",
            "Found 1 validated image filenames.\n",
            "Found 1 validated image filenames.\n"
          ]
        },
        {
          "output_type": "stream",
          "name": "stderr",
          "text": [
            "\rProcessing Images:  78%|███████▊  | 3727/4752 [00:32<00:08, 115.77it/s]"
          ]
        },
        {
          "output_type": "stream",
          "name": "stdout",
          "text": [
            "Found 1 validated image filenames.\n",
            "Found 1 validated image filenames.\n",
            "Found 1 validated image filenames.\n",
            "Found 1 validated image filenames.\n",
            "Found 1 validated image filenames.\n",
            "Found 1 validated image filenames.\n",
            "Found 1 validated image filenames.\n",
            "Found 1 validated image filenames.\n",
            "Found 1 validated image filenames.\n",
            "Found 1 validated image filenames.\n",
            "Found 1 validated image filenames.\n",
            "Found 1 validated image filenames.\n"
          ]
        },
        {
          "output_type": "stream",
          "name": "stderr",
          "text": [
            "\rProcessing Images:  79%|███████▊  | 3739/4752 [00:32<00:09, 109.52it/s]"
          ]
        },
        {
          "output_type": "stream",
          "name": "stdout",
          "text": [
            "Found 1 validated image filenames.\n",
            "Found 1 validated image filenames.\n",
            "Found 1 validated image filenames.\n",
            "Found 1 validated image filenames.\n",
            "Found 1 validated image filenames.\n",
            "Found 1 validated image filenames.\n",
            "Found 1 validated image filenames.\n",
            "Found 1 validated image filenames.\n",
            "Found 1 validated image filenames.\n",
            "Found 1 validated image filenames.\n",
            "Found 1 validated image filenames.\n",
            "Found 1 validated image filenames.\n"
          ]
        },
        {
          "output_type": "stream",
          "name": "stderr",
          "text": [
            "\rProcessing Images:  79%|███████▉  | 3751/4752 [00:32<00:09, 110.20it/s]"
          ]
        },
        {
          "output_type": "stream",
          "name": "stdout",
          "text": [
            "Found 1 validated image filenames.\n",
            "Found 1 validated image filenames.\n",
            "Found 1 validated image filenames.\n",
            "Found 1 validated image filenames.\n",
            "Found 1 validated image filenames.\n",
            "Found 1 validated image filenames.\n",
            "Found 1 validated image filenames.\n",
            "Found 1 validated image filenames.\n",
            "Found 1 validated image filenames.\n",
            "Found 1 validated image filenames.\n",
            "Found 1 validated image filenames.\n",
            "Found 1 validated image filenames.\n"
          ]
        },
        {
          "output_type": "stream",
          "name": "stderr",
          "text": [
            "\rProcessing Images:  79%|███████▉  | 3763/4752 [00:32<00:08, 112.51it/s]"
          ]
        },
        {
          "output_type": "stream",
          "name": "stdout",
          "text": [
            "Found 1 validated image filenames.\n",
            "Found 1 validated image filenames.\n",
            "Found 1 validated image filenames.\n",
            "Found 1 validated image filenames.\n",
            "Found 1 validated image filenames.\n",
            "Found 1 validated image filenames.\n",
            "Found 1 validated image filenames.\n",
            "Found 1 validated image filenames.\n",
            "Found 1 validated image filenames.\n",
            "Found 1 validated image filenames.\n",
            "Found 1 validated image filenames.\n",
            "Found 1 validated image filenames.\n",
            "Found 1 validated image filenames.\n"
          ]
        },
        {
          "output_type": "stream",
          "name": "stderr",
          "text": [
            "\rProcessing Images:  79%|███████▉  | 3776/4752 [00:32<00:08, 115.74it/s]"
          ]
        },
        {
          "output_type": "stream",
          "name": "stdout",
          "text": [
            "Found 1 validated image filenames.\n",
            "Found 1 validated image filenames.\n",
            "Found 1 validated image filenames.\n",
            "Found 1 validated image filenames.\n",
            "Found 1 validated image filenames.\n",
            "Found 1 validated image filenames.\n",
            "Found 1 validated image filenames.\n",
            "Found 1 validated image filenames.\n",
            "Found 1 validated image filenames.\n",
            "Found 1 validated image filenames.\n",
            "Found 1 validated image filenames.\n",
            "Found 1 validated image filenames.\n",
            "Found 1 validated image filenames.\n",
            "Found 1 validated image filenames.\n"
          ]
        },
        {
          "output_type": "stream",
          "name": "stderr",
          "text": [
            "\rProcessing Images:  80%|███████▉  | 3790/4752 [00:32<00:07, 120.38it/s]"
          ]
        },
        {
          "output_type": "stream",
          "name": "stdout",
          "text": [
            "Found 1 validated image filenames.\n",
            "Found 1 validated image filenames.\n",
            "Found 1 validated image filenames.\n",
            "Found 1 validated image filenames.\n",
            "Found 1 validated image filenames.\n",
            "Found 1 validated image filenames.\n",
            "Found 1 validated image filenames.\n",
            "Found 1 validated image filenames.\n",
            "Found 1 validated image filenames.\n",
            "Found 1 validated image filenames.\n",
            "Found 1 validated image filenames.\n",
            "Found 1 validated image filenames.\n",
            "Found 1 validated image filenames.\n"
          ]
        },
        {
          "output_type": "stream",
          "name": "stderr",
          "text": [
            "\rProcessing Images:  80%|████████  | 3803/4752 [00:32<00:07, 123.03it/s]"
          ]
        },
        {
          "output_type": "stream",
          "name": "stdout",
          "text": [
            "Found 1 validated image filenames.\n",
            "Found 1 validated image filenames.\n",
            "Found 1 validated image filenames.\n",
            "Found 1 validated image filenames.\n",
            "Found 1 validated image filenames.\n",
            "Found 1 validated image filenames.\n",
            "Found 1 validated image filenames.\n",
            "Found 1 validated image filenames.\n",
            "Found 1 validated image filenames.\n",
            "Found 1 validated image filenames.\n",
            "Found 1 validated image filenames.\n",
            "Found 1 validated image filenames.\n",
            "Found 1 validated image filenames.\n",
            "Found 1 validated image filenames.\n"
          ]
        },
        {
          "output_type": "stream",
          "name": "stderr",
          "text": [
            "\rProcessing Images:  80%|████████  | 3817/4752 [00:32<00:07, 125.51it/s]"
          ]
        },
        {
          "output_type": "stream",
          "name": "stdout",
          "text": [
            "Found 1 validated image filenames.\n",
            "Found 1 validated image filenames.\n",
            "Found 1 validated image filenames.\n",
            "Found 1 validated image filenames.\n",
            "Found 1 validated image filenames.\n",
            "Found 1 validated image filenames.\n",
            "Found 1 validated image filenames.\n",
            "Found 1 validated image filenames.\n",
            "Found 1 validated image filenames.\n",
            "Found 1 validated image filenames.\n",
            "Found 1 validated image filenames.\n",
            "Found 1 validated image filenames.\n",
            "Found 1 validated image filenames.\n"
          ]
        },
        {
          "output_type": "stream",
          "name": "stderr",
          "text": [
            "\rProcessing Images:  81%|████████  | 3830/4752 [00:32<00:07, 119.42it/s]"
          ]
        },
        {
          "output_type": "stream",
          "name": "stdout",
          "text": [
            "Found 1 validated image filenames.\n",
            "Found 1 validated image filenames.\n",
            "Found 1 validated image filenames.\n",
            "Found 1 validated image filenames.\n",
            "Found 1 validated image filenames.\n",
            "Found 1 validated image filenames.\n",
            "Found 1 validated image filenames.\n",
            "Found 1 validated image filenames.\n",
            "Found 1 validated image filenames.\n",
            "Found 1 validated image filenames.\n",
            "Found 1 validated image filenames.\n",
            "Found 1 validated image filenames.\n",
            "Found 1 validated image filenames.\n",
            "Found 1 validated image filenames.\n"
          ]
        },
        {
          "output_type": "stream",
          "name": "stderr",
          "text": [
            "\rProcessing Images:  81%|████████  | 3844/4752 [00:33<00:07, 123.72it/s]"
          ]
        },
        {
          "output_type": "stream",
          "name": "stdout",
          "text": [
            "Found 1 validated image filenames.\n",
            "Found 1 validated image filenames.\n",
            "Found 1 validated image filenames.\n",
            "Found 1 validated image filenames.\n",
            "Found 1 validated image filenames.\n",
            "Found 1 validated image filenames.\n",
            "Found 1 validated image filenames.\n",
            "Found 1 validated image filenames.\n",
            "Found 1 validated image filenames.\n",
            "Found 1 validated image filenames.\n",
            "Found 1 validated image filenames.\n",
            "Found 1 validated image filenames.\n",
            "Found 1 validated image filenames.\n"
          ]
        },
        {
          "output_type": "stream",
          "name": "stderr",
          "text": [
            "\rProcessing Images:  81%|████████  | 3857/4752 [00:33<00:07, 123.34it/s]"
          ]
        },
        {
          "output_type": "stream",
          "name": "stdout",
          "text": [
            "Found 1 validated image filenames.\n",
            "Found 1 validated image filenames.\n",
            "Found 1 validated image filenames.\n",
            "Found 1 validated image filenames.\n",
            "Found 1 validated image filenames.\n",
            "Found 1 validated image filenames.\n",
            "Found 1 validated image filenames.\n",
            "Found 1 validated image filenames.\n",
            "Found 1 validated image filenames.\n",
            "Found 1 validated image filenames.\n",
            "Found 1 validated image filenames.\n",
            "Found 1 validated image filenames.\n",
            "Found 1 validated image filenames.\n"
          ]
        },
        {
          "output_type": "stream",
          "name": "stderr",
          "text": [
            "\rProcessing Images:  81%|████████▏ | 3870/4752 [00:33<00:07, 124.94it/s]"
          ]
        },
        {
          "output_type": "stream",
          "name": "stdout",
          "text": [
            "Found 1 validated image filenames.\n",
            "Found 1 validated image filenames.\n",
            "Found 1 validated image filenames.\n",
            "Found 1 validated image filenames.\n",
            "Found 1 validated image filenames.\n",
            "Found 1 validated image filenames.\n",
            "Found 1 validated image filenames.\n",
            "Found 1 validated image filenames.\n",
            "Found 1 validated image filenames.\n",
            "Found 1 validated image filenames.\n",
            "Found 1 validated image filenames.\n",
            "Found 1 validated image filenames.\n",
            "Found 1 validated image filenames.\n",
            "Found 1 validated image filenames.\n"
          ]
        },
        {
          "output_type": "stream",
          "name": "stderr",
          "text": [
            "\rProcessing Images:  82%|████████▏ | 3884/4752 [00:33<00:06, 127.09it/s]"
          ]
        },
        {
          "output_type": "stream",
          "name": "stdout",
          "text": [
            "Found 1 validated image filenames.\n",
            "Found 1 validated image filenames.\n",
            "Found 1 validated image filenames.\n",
            "Found 1 validated image filenames.\n",
            "Found 1 validated image filenames.\n",
            "Found 1 validated image filenames.\n",
            "Found 1 validated image filenames.\n",
            "Found 1 validated image filenames.\n",
            "Found 1 validated image filenames.\n",
            "Found 1 validated image filenames.\n",
            "Found 1 validated image filenames.\n",
            "Found 1 validated image filenames.\n",
            "Found 1 validated image filenames.\n"
          ]
        },
        {
          "output_type": "stream",
          "name": "stderr",
          "text": [
            "\rProcessing Images:  82%|████████▏ | 3897/4752 [00:33<00:07, 118.86it/s]"
          ]
        },
        {
          "output_type": "stream",
          "name": "stdout",
          "text": [
            "Found 1 validated image filenames.\n",
            "Found 1 validated image filenames.\n",
            "Found 1 validated image filenames.\n",
            "Found 1 validated image filenames.\n",
            "Found 1 validated image filenames.\n",
            "Found 1 validated image filenames.\n",
            "Found 1 validated image filenames.\n",
            "Found 1 validated image filenames.\n",
            "Found 1 validated image filenames.\n",
            "Found 1 validated image filenames.\n",
            "Found 1 validated image filenames.\n",
            "Found 1 validated image filenames.\n"
          ]
        },
        {
          "output_type": "stream",
          "name": "stderr",
          "text": [
            "\rProcessing Images:  82%|████████▏ | 3909/4752 [00:33<00:07, 107.34it/s]"
          ]
        },
        {
          "output_type": "stream",
          "name": "stdout",
          "text": [
            "Found 1 validated image filenames.\n",
            "Found 1 validated image filenames.\n",
            "Found 1 validated image filenames.\n",
            "Found 1 validated image filenames.\n",
            "Found 1 validated image filenames.\n",
            "Found 1 validated image filenames.\n",
            "Found 1 validated image filenames.\n",
            "Found 1 validated image filenames.\n",
            "Found 1 validated image filenames.\n",
            "Found 1 validated image filenames.\n",
            "Found 1 validated image filenames.\n"
          ]
        },
        {
          "output_type": "stream",
          "name": "stderr",
          "text": [
            "\rProcessing Images:  82%|████████▏ | 3920/4752 [00:33<00:07, 107.70it/s]"
          ]
        },
        {
          "output_type": "stream",
          "name": "stdout",
          "text": [
            "Found 1 validated image filenames.\n",
            "Found 1 validated image filenames.\n",
            "Found 1 validated image filenames.\n",
            "Found 1 validated image filenames.\n",
            "Found 1 validated image filenames.\n",
            "Found 1 validated image filenames.\n",
            "Found 1 validated image filenames.\n",
            "Found 1 validated image filenames.\n",
            "Found 1 validated image filenames.\n",
            "Found 1 validated image filenames.\n",
            "Found 1 validated image filenames.\n"
          ]
        },
        {
          "output_type": "stream",
          "name": "stderr",
          "text": [
            "\rProcessing Images:  83%|████████▎ | 3931/4752 [00:33<00:07, 108.28it/s]"
          ]
        },
        {
          "output_type": "stream",
          "name": "stdout",
          "text": [
            "Found 1 validated image filenames.\n",
            "Found 1 validated image filenames.\n",
            "Found 1 validated image filenames.\n",
            "Found 1 validated image filenames.\n",
            "Found 1 validated image filenames.\n",
            "Found 1 validated image filenames.\n",
            "Found 1 validated image filenames.\n",
            "Found 1 validated image filenames.\n",
            "Found 1 validated image filenames.\n",
            "Found 1 validated image filenames.\n",
            "Found 1 validated image filenames.\n"
          ]
        },
        {
          "output_type": "stream",
          "name": "stderr",
          "text": [
            "\rProcessing Images:  83%|████████▎ | 3942/4752 [00:33<00:07, 105.59it/s]"
          ]
        },
        {
          "output_type": "stream",
          "name": "stdout",
          "text": [
            "Found 1 validated image filenames.\n",
            "Found 1 validated image filenames.\n",
            "Found 1 validated image filenames.\n",
            "Found 1 validated image filenames.\n",
            "Found 1 validated image filenames.\n",
            "Found 1 validated image filenames.\n",
            "Found 1 validated image filenames.\n",
            "Found 1 validated image filenames.\n",
            "Found 1 validated image filenames.\n",
            "Found 1 validated image filenames.\n",
            "Found 1 validated image filenames.\n"
          ]
        },
        {
          "output_type": "stream",
          "name": "stderr",
          "text": [
            "\rProcessing Images:  83%|████████▎ | 3953/4752 [00:34<00:07, 106.20it/s]"
          ]
        },
        {
          "output_type": "stream",
          "name": "stdout",
          "text": [
            "Found 1 validated image filenames.\n",
            "Found 1 validated image filenames.\n",
            "Found 1 validated image filenames.\n",
            "Found 1 validated image filenames.\n",
            "Found 1 validated image filenames.\n",
            "Found 1 validated image filenames.\n",
            "Found 1 validated image filenames.\n",
            "Found 1 validated image filenames.\n",
            "Found 1 validated image filenames.\n",
            "Found 1 validated image filenames.\n",
            "Found 1 validated image filenames.\n"
          ]
        },
        {
          "output_type": "stream",
          "name": "stderr",
          "text": [
            "\rProcessing Images:  83%|████████▎ | 3964/4752 [00:34<00:07, 105.62it/s]"
          ]
        },
        {
          "output_type": "stream",
          "name": "stdout",
          "text": [
            "Found 1 validated image filenames.\n",
            "Found 1 validated image filenames.\n",
            "Found 1 validated image filenames.\n",
            "Found 1 validated image filenames.\n",
            "Found 1 validated image filenames.\n",
            "Found 1 validated image filenames.\n",
            "Found 1 validated image filenames.\n",
            "Found 1 validated image filenames.\n",
            "Found 1 validated image filenames.\n",
            "Found 1 validated image filenames.\n",
            "Found 1 validated image filenames.\n"
          ]
        },
        {
          "output_type": "stream",
          "name": "stderr",
          "text": [
            "\rProcessing Images:  84%|████████▎ | 3975/4752 [00:34<00:07, 105.74it/s]"
          ]
        },
        {
          "output_type": "stream",
          "name": "stdout",
          "text": [
            "Found 1 validated image filenames.\n",
            "Found 1 validated image filenames.\n",
            "Found 1 validated image filenames.\n",
            "Found 1 validated image filenames.\n",
            "Found 1 validated image filenames.\n",
            "Found 1 validated image filenames.\n",
            "Found 1 validated image filenames.\n",
            "Found 1 validated image filenames.\n",
            "Found 1 validated image filenames.\n",
            "Found 1 validated image filenames.\n",
            "Found 1 validated image filenames.\n"
          ]
        },
        {
          "output_type": "stream",
          "name": "stderr",
          "text": [
            "\rProcessing Images:  84%|████████▍ | 3986/4752 [00:34<00:07, 98.39it/s] "
          ]
        },
        {
          "output_type": "stream",
          "name": "stdout",
          "text": [
            "Found 1 validated image filenames.\n",
            "Found 1 validated image filenames.\n",
            "Found 1 validated image filenames.\n",
            "Found 1 validated image filenames.\n",
            "Found 1 validated image filenames.\n",
            "Found 1 validated image filenames.\n",
            "Found 1 validated image filenames.\n",
            "Found 1 validated image filenames.\n",
            "Found 1 validated image filenames.\n",
            "Found 1 validated image filenames.\n",
            "Found 1 validated image filenames.\n"
          ]
        },
        {
          "output_type": "stream",
          "name": "stderr",
          "text": [
            "\rProcessing Images:  84%|████████▍ | 3997/4752 [00:34<00:07, 99.44it/s]"
          ]
        },
        {
          "output_type": "stream",
          "name": "stdout",
          "text": [
            "Found 1 validated image filenames.\n",
            "Found 1 validated image filenames.\n",
            "Found 1 validated image filenames.\n",
            "Found 1 validated image filenames.\n",
            "Found 1 validated image filenames.\n",
            "Found 1 validated image filenames.\n",
            "Found 1 validated image filenames.\n",
            "Found 1 validated image filenames.\n",
            "Found 1 validated image filenames.\n",
            "Found 1 validated image filenames.\n",
            "Found 1 validated image filenames.\n",
            "Found 1 validated image filenames.\n"
          ]
        },
        {
          "output_type": "stream",
          "name": "stderr",
          "text": [
            "\rProcessing Images:  84%|████████▍ | 4009/4752 [00:34<00:07, 103.13it/s]"
          ]
        },
        {
          "output_type": "stream",
          "name": "stdout",
          "text": [
            "Found 1 validated image filenames.\n",
            "Found 1 validated image filenames.\n",
            "Found 1 validated image filenames.\n",
            "Found 1 validated image filenames.\n",
            "Found 1 validated image filenames.\n",
            "Found 1 validated image filenames.\n",
            "Found 1 validated image filenames.\n",
            "Found 1 validated image filenames.\n",
            "Found 1 validated image filenames.\n",
            "Found 1 validated image filenames.\n",
            "Found 1 validated image filenames.\n"
          ]
        },
        {
          "output_type": "stream",
          "name": "stderr",
          "text": [
            "\rProcessing Images:  85%|████████▍ | 4020/4752 [00:34<00:07, 103.53it/s]"
          ]
        },
        {
          "output_type": "stream",
          "name": "stdout",
          "text": [
            "Found 1 validated image filenames.\n",
            "Found 1 validated image filenames.\n",
            "Found 1 validated image filenames.\n",
            "Found 1 validated image filenames.\n",
            "Found 1 validated image filenames.\n",
            "Found 1 validated image filenames.\n",
            "Found 1 validated image filenames.\n",
            "Found 1 validated image filenames.\n",
            "Found 1 validated image filenames.\n",
            "Found 1 validated image filenames.\n",
            "Found 1 validated image filenames.\n"
          ]
        },
        {
          "output_type": "stream",
          "name": "stderr",
          "text": [
            "\rProcessing Images:  85%|████████▍ | 4031/4752 [00:34<00:06, 104.49it/s]"
          ]
        },
        {
          "output_type": "stream",
          "name": "stdout",
          "text": [
            "Found 1 validated image filenames.\n",
            "Found 1 validated image filenames.\n",
            "Found 1 validated image filenames.\n",
            "Found 1 validated image filenames.\n",
            "Found 1 validated image filenames.\n",
            "Found 1 validated image filenames.\n",
            "Found 1 validated image filenames.\n",
            "Found 1 validated image filenames.\n",
            "Found 1 validated image filenames.\n",
            "Found 1 validated image filenames.\n",
            "Found 1 validated image filenames.\n",
            "Found 1 validated image filenames.\n"
          ]
        },
        {
          "output_type": "stream",
          "name": "stderr",
          "text": [
            "\rProcessing Images:  85%|████████▌ | 4043/4752 [00:34<00:06, 108.58it/s]"
          ]
        },
        {
          "output_type": "stream",
          "name": "stdout",
          "text": [
            "Found 1 validated image filenames.\n",
            "Found 1 validated image filenames.\n",
            "Found 1 validated image filenames.\n",
            "Found 1 validated image filenames.\n",
            "Found 1 validated image filenames.\n",
            "Found 1 validated image filenames.\n",
            "Found 1 validated image filenames.\n",
            "Found 1 validated image filenames.\n",
            "Found 1 validated image filenames.\n",
            "Found 1 validated image filenames.\n",
            "Found 1 validated image filenames.\n"
          ]
        },
        {
          "output_type": "stream",
          "name": "stderr",
          "text": [
            "\rProcessing Images:  85%|████████▌ | 4054/4752 [00:34<00:06, 105.98it/s]"
          ]
        },
        {
          "output_type": "stream",
          "name": "stdout",
          "text": [
            "Found 1 validated image filenames.\n",
            "Found 1 validated image filenames.\n",
            "Found 1 validated image filenames.\n",
            "Found 1 validated image filenames.\n",
            "Found 1 validated image filenames.\n",
            "Found 1 validated image filenames.\n",
            "Found 1 validated image filenames.\n",
            "Found 1 validated image filenames.\n",
            "Found 1 validated image filenames.\n",
            "Found 1 validated image filenames.\n",
            "Found 1 validated image filenames.\n",
            "Found 1 validated image filenames.\n"
          ]
        },
        {
          "output_type": "stream",
          "name": "stderr",
          "text": [
            "\rProcessing Images:  86%|████████▌ | 4066/4752 [00:35<00:06, 108.52it/s]"
          ]
        },
        {
          "output_type": "stream",
          "name": "stdout",
          "text": [
            "Found 1 validated image filenames.\n",
            "Found 1 validated image filenames.\n",
            "Found 1 validated image filenames.\n",
            "Found 1 validated image filenames.\n",
            "Found 1 validated image filenames.\n",
            "Found 1 validated image filenames.\n",
            "Found 1 validated image filenames.\n",
            "Found 1 validated image filenames.\n",
            "Found 1 validated image filenames.\n",
            "Found 1 validated image filenames.\n",
            "Found 1 validated image filenames.\n"
          ]
        },
        {
          "output_type": "stream",
          "name": "stderr",
          "text": [
            "\rProcessing Images:  86%|████████▌ | 4077/4752 [00:35<00:06, 106.21it/s]"
          ]
        },
        {
          "output_type": "stream",
          "name": "stdout",
          "text": [
            "Found 1 validated image filenames.\n",
            "Found 1 validated image filenames.\n",
            "Found 1 validated image filenames.\n",
            "Found 1 validated image filenames.\n",
            "Found 1 validated image filenames.\n",
            "Found 1 validated image filenames.\n",
            "Found 1 validated image filenames.\n",
            "Found 1 validated image filenames.\n",
            "Found 1 validated image filenames.\n",
            "Found 1 validated image filenames.\n",
            "Found 1 validated image filenames.\n"
          ]
        },
        {
          "output_type": "stream",
          "name": "stderr",
          "text": [
            "\rProcessing Images:  86%|████████▌ | 4088/4752 [00:35<00:06, 103.32it/s]"
          ]
        },
        {
          "output_type": "stream",
          "name": "stdout",
          "text": [
            "Found 1 validated image filenames.\n",
            "Found 1 validated image filenames.\n",
            "Found 1 validated image filenames.\n",
            "Found 1 validated image filenames.\n",
            "Found 1 validated image filenames.\n",
            "Found 1 validated image filenames.\n",
            "Found 1 validated image filenames.\n",
            "Found 1 validated image filenames.\n",
            "Found 1 validated image filenames.\n",
            "Found 1 validated image filenames.\n",
            "Found 1 validated image filenames.\n"
          ]
        },
        {
          "output_type": "stream",
          "name": "stderr",
          "text": [
            "\rProcessing Images:  86%|████████▋ | 4099/4752 [00:35<00:06, 103.54it/s]"
          ]
        },
        {
          "output_type": "stream",
          "name": "stdout",
          "text": [
            "Found 1 validated image filenames.\n",
            "Found 1 validated image filenames.\n",
            "Found 1 validated image filenames.\n",
            "Found 1 validated image filenames.\n",
            "Found 1 validated image filenames.\n",
            "Found 1 validated image filenames.\n",
            "Found 1 validated image filenames.\n",
            "Found 1 validated image filenames.\n",
            "Found 1 validated image filenames.\n",
            "Found 1 validated image filenames.\n",
            "Found 1 validated image filenames.\n"
          ]
        },
        {
          "output_type": "stream",
          "name": "stderr",
          "text": [
            "\rProcessing Images:  86%|████████▋ | 4110/4752 [00:35<00:06, 105.20it/s]"
          ]
        },
        {
          "output_type": "stream",
          "name": "stdout",
          "text": [
            "Found 1 validated image filenames.\n",
            "Found 1 validated image filenames.\n",
            "Found 1 validated image filenames.\n",
            "Found 1 validated image filenames.\n",
            "Found 1 validated image filenames.\n",
            "Found 1 validated image filenames.\n",
            "Found 1 validated image filenames.\n",
            "Found 1 validated image filenames.\n",
            "Found 1 validated image filenames.\n",
            "Found 1 validated image filenames.\n",
            "Found 1 validated image filenames.\n"
          ]
        },
        {
          "output_type": "stream",
          "name": "stderr",
          "text": [
            "\rProcessing Images:  87%|████████▋ | 4121/4752 [00:35<00:05, 105.59it/s]"
          ]
        },
        {
          "output_type": "stream",
          "name": "stdout",
          "text": [
            "Found 1 validated image filenames.\n",
            "Found 1 validated image filenames.\n",
            "Found 1 validated image filenames.\n",
            "Found 1 validated image filenames.\n",
            "Found 1 validated image filenames.\n",
            "Found 1 validated image filenames.\n",
            "Found 1 validated image filenames.\n",
            "Found 1 validated image filenames.\n",
            "Found 1 validated image filenames.\n",
            "Found 1 validated image filenames.\n",
            "Found 1 validated image filenames.\n",
            "Found 1 validated image filenames.\n"
          ]
        },
        {
          "output_type": "stream",
          "name": "stderr",
          "text": [
            "\rProcessing Images:  87%|████████▋ | 4133/4752 [00:35<00:05, 107.08it/s]"
          ]
        },
        {
          "output_type": "stream",
          "name": "stdout",
          "text": [
            "Found 1 validated image filenames.\n",
            "Found 1 validated image filenames.\n",
            "Found 1 validated image filenames.\n",
            "Found 1 validated image filenames.\n",
            "Found 1 validated image filenames.\n",
            "Found 1 validated image filenames.\n",
            "Found 1 validated image filenames.\n",
            "Found 1 validated image filenames.\n",
            "Found 1 validated image filenames.\n",
            "Found 1 validated image filenames.\n",
            "Found 1 validated image filenames.\n",
            "Found 1 validated image filenames.\n"
          ]
        },
        {
          "output_type": "stream",
          "name": "stderr",
          "text": [
            "\rProcessing Images:  87%|████████▋ | 4145/4752 [00:35<00:05, 108.93it/s]"
          ]
        },
        {
          "output_type": "stream",
          "name": "stdout",
          "text": [
            "Found 1 validated image filenames.\n",
            "Found 1 validated image filenames.\n",
            "Found 1 validated image filenames.\n",
            "Found 1 validated image filenames.\n",
            "Found 1 validated image filenames.\n",
            "Found 1 validated image filenames.\n",
            "Found 1 validated image filenames.\n",
            "Found 1 validated image filenames.\n",
            "Found 1 validated image filenames.\n",
            "Found 1 validated image filenames.\n",
            "Found 1 validated image filenames.\n"
          ]
        },
        {
          "output_type": "stream",
          "name": "stderr",
          "text": [
            "\rProcessing Images:  87%|████████▋ | 4156/4752 [00:35<00:05, 106.14it/s]"
          ]
        },
        {
          "output_type": "stream",
          "name": "stdout",
          "text": [
            "Found 1 validated image filenames.\n",
            "Found 1 validated image filenames.\n",
            "Found 1 validated image filenames.\n",
            "Found 1 validated image filenames.\n",
            "Found 1 validated image filenames.\n",
            "Found 1 validated image filenames.\n",
            "Found 1 validated image filenames.\n",
            "Found 1 validated image filenames.\n",
            "Found 1 validated image filenames.\n",
            "Found 1 validated image filenames.\n",
            "Found 1 validated image filenames.\n"
          ]
        },
        {
          "output_type": "stream",
          "name": "stderr",
          "text": [
            "\rProcessing Images:  88%|████████▊ | 4167/4752 [00:36<00:05, 100.22it/s]"
          ]
        },
        {
          "output_type": "stream",
          "name": "stdout",
          "text": [
            "Found 1 validated image filenames.\n",
            "Found 1 validated image filenames.\n",
            "Found 1 validated image filenames.\n",
            "Found 1 validated image filenames.\n",
            "Found 1 validated image filenames.\n",
            "Found 1 validated image filenames.\n",
            "Found 1 validated image filenames.\n",
            "Found 1 validated image filenames.\n",
            "Found 1 validated image filenames.\n",
            "Found 1 validated image filenames.\n",
            "Found 1 validated image filenames.\n"
          ]
        },
        {
          "output_type": "stream",
          "name": "stderr",
          "text": [
            "\rProcessing Images:  88%|████████▊ | 4178/4752 [00:36<00:05, 98.52it/s] "
          ]
        },
        {
          "output_type": "stream",
          "name": "stdout",
          "text": [
            "Found 1 validated image filenames.\n",
            "Found 1 validated image filenames.\n",
            "Found 1 validated image filenames.\n",
            "Found 1 validated image filenames.\n",
            "Found 1 validated image filenames.\n",
            "Found 1 validated image filenames.\n",
            "Found 1 validated image filenames.\n",
            "Found 1 validated image filenames.\n",
            "Found 1 validated image filenames.\n",
            "Found 1 validated image filenames.\n"
          ]
        },
        {
          "output_type": "stream",
          "name": "stderr",
          "text": [
            "\rProcessing Images:  88%|████████▊ | 4188/4752 [00:36<00:05, 96.59it/s]"
          ]
        },
        {
          "output_type": "stream",
          "name": "stdout",
          "text": [
            "Found 1 validated image filenames.\n",
            "Found 1 validated image filenames.\n",
            "Found 1 validated image filenames.\n",
            "Found 1 validated image filenames.\n",
            "Found 1 validated image filenames.\n",
            "Found 1 validated image filenames.\n",
            "Found 1 validated image filenames.\n",
            "Found 1 validated image filenames.\n",
            "Found 1 validated image filenames.\n",
            "Found 1 validated image filenames.\n"
          ]
        },
        {
          "output_type": "stream",
          "name": "stderr",
          "text": [
            "\rProcessing Images:  88%|████████▊ | 4198/4752 [00:36<00:05, 96.67it/s]"
          ]
        },
        {
          "output_type": "stream",
          "name": "stdout",
          "text": [
            "Found 1 validated image filenames.\n",
            "Found 1 validated image filenames.\n",
            "Found 1 validated image filenames.\n",
            "Found 1 validated image filenames.\n",
            "Found 1 validated image filenames.\n",
            "Found 1 validated image filenames.\n",
            "Found 1 validated image filenames.\n",
            "Found 1 validated image filenames.\n",
            "Found 1 validated image filenames.\n",
            "Found 1 validated image filenames.\n",
            "Found 1 validated image filenames.\n"
          ]
        },
        {
          "output_type": "stream",
          "name": "stderr",
          "text": [
            "\rProcessing Images:  89%|████████▊ | 4209/4752 [00:36<00:05, 97.79it/s]"
          ]
        },
        {
          "output_type": "stream",
          "name": "stdout",
          "text": [
            "Found 1 validated image filenames.\n",
            "Found 1 validated image filenames.\n",
            "Found 1 validated image filenames.\n",
            "Found 1 validated image filenames.\n",
            "Found 1 validated image filenames.\n",
            "Found 1 validated image filenames.\n",
            "Found 1 validated image filenames.\n",
            "Found 1 validated image filenames.\n",
            "Found 1 validated image filenames.\n",
            "Found 1 validated image filenames.\n",
            "Found 1 validated image filenames.\n"
          ]
        },
        {
          "output_type": "stream",
          "name": "stderr",
          "text": [
            "\rProcessing Images:  89%|████████▉ | 4220/4752 [00:36<00:05, 100.30it/s]"
          ]
        },
        {
          "output_type": "stream",
          "name": "stdout",
          "text": [
            "Found 1 validated image filenames.\n",
            "Found 1 validated image filenames.\n",
            "Found 1 validated image filenames.\n",
            "Found 1 validated image filenames.\n",
            "Found 1 validated image filenames.\n",
            "Found 1 validated image filenames.\n",
            "Found 1 validated image filenames.\n",
            "Found 1 validated image filenames.\n",
            "Found 1 validated image filenames.\n",
            "Found 1 validated image filenames.\n",
            "Found 1 validated image filenames.\n",
            "Found 1 validated image filenames.\n"
          ]
        },
        {
          "output_type": "stream",
          "name": "stderr",
          "text": [
            "\rProcessing Images:  89%|████████▉ | 4232/4752 [00:36<00:05, 104.00it/s]"
          ]
        },
        {
          "output_type": "stream",
          "name": "stdout",
          "text": [
            "Found 1 validated image filenames.\n",
            "Found 1 validated image filenames.\n",
            "Found 1 validated image filenames.\n",
            "Found 1 validated image filenames.\n",
            "Found 1 validated image filenames.\n",
            "Found 1 validated image filenames.\n",
            "Found 1 validated image filenames.\n",
            "Found 1 validated image filenames.\n",
            "Found 1 validated image filenames.\n",
            "Found 1 validated image filenames.\n",
            "Found 1 validated image filenames.\n"
          ]
        },
        {
          "output_type": "stream",
          "name": "stderr",
          "text": [
            "\rProcessing Images:  89%|████████▉ | 4243/4752 [00:36<00:04, 104.53it/s]"
          ]
        },
        {
          "output_type": "stream",
          "name": "stdout",
          "text": [
            "Found 1 validated image filenames.\n",
            "Found 1 validated image filenames.\n",
            "Found 1 validated image filenames.\n",
            "Found 1 validated image filenames.\n",
            "Found 1 validated image filenames.\n",
            "Found 1 validated image filenames.\n",
            "Found 1 validated image filenames.\n",
            "Found 1 validated image filenames.\n",
            "Found 1 validated image filenames.\n",
            "Found 1 validated image filenames.\n",
            "Found 1 validated image filenames.\n"
          ]
        },
        {
          "output_type": "stream",
          "name": "stderr",
          "text": [
            "\rProcessing Images:  90%|████████▉ | 4254/4752 [00:36<00:04, 100.62it/s]"
          ]
        },
        {
          "output_type": "stream",
          "name": "stdout",
          "text": [
            "Found 1 validated image filenames.\n",
            "Found 1 validated image filenames.\n",
            "Found 1 validated image filenames.\n",
            "Found 1 validated image filenames.\n",
            "Found 1 validated image filenames.\n",
            "Found 1 validated image filenames.\n",
            "Found 1 validated image filenames.\n",
            "Found 1 validated image filenames.\n",
            "Found 1 validated image filenames.\n",
            "Found 1 validated image filenames.\n",
            "Found 1 validated image filenames.\n"
          ]
        },
        {
          "output_type": "stream",
          "name": "stderr",
          "text": [
            "\rProcessing Images:  90%|████████▉ | 4265/4752 [00:37<00:05, 96.89it/s] "
          ]
        },
        {
          "output_type": "stream",
          "name": "stdout",
          "text": [
            "Found 1 validated image filenames.\n",
            "Found 1 validated image filenames.\n",
            "Found 1 validated image filenames.\n",
            "Found 1 validated image filenames.\n",
            "Found 1 validated image filenames.\n",
            "Found 1 validated image filenames.\n",
            "Found 1 validated image filenames.\n",
            "Found 1 validated image filenames.\n",
            "Found 1 validated image filenames.\n",
            "Found 1 validated image filenames.\n",
            "Found 1 validated image filenames.\n"
          ]
        },
        {
          "output_type": "stream",
          "name": "stderr",
          "text": [
            "\rProcessing Images:  90%|████████▉ | 4276/4752 [00:37<00:04, 98.15it/s]"
          ]
        },
        {
          "output_type": "stream",
          "name": "stdout",
          "text": [
            "Found 1 validated image filenames.\n",
            "Found 1 validated image filenames.\n",
            "Found 1 validated image filenames.\n",
            "Found 1 validated image filenames.\n",
            "Found 1 validated image filenames.\n",
            "Found 1 validated image filenames.\n",
            "Found 1 validated image filenames.\n",
            "Found 1 validated image filenames.\n",
            "Found 1 validated image filenames.\n",
            "Found 1 validated image filenames.\n",
            "Found 1 validated image filenames.\n"
          ]
        },
        {
          "output_type": "stream",
          "name": "stderr",
          "text": [
            "\rProcessing Images:  90%|█████████ | 4287/4752 [00:37<00:04, 101.23it/s]"
          ]
        },
        {
          "output_type": "stream",
          "name": "stdout",
          "text": [
            "Found 1 validated image filenames.\n",
            "Found 1 validated image filenames.\n",
            "Found 1 validated image filenames.\n",
            "Found 1 validated image filenames.\n",
            "Found 1 validated image filenames.\n",
            "Found 1 validated image filenames.\n",
            "Found 1 validated image filenames.\n",
            "Found 1 validated image filenames.\n",
            "Found 1 validated image filenames.\n",
            "Found 1 validated image filenames.\n",
            "Found 1 validated image filenames.\n"
          ]
        },
        {
          "output_type": "stream",
          "name": "stderr",
          "text": [
            "\rProcessing Images:  90%|█████████ | 4298/4752 [00:37<00:04, 103.43it/s]"
          ]
        },
        {
          "output_type": "stream",
          "name": "stdout",
          "text": [
            "Found 1 validated image filenames.\n",
            "Found 1 validated image filenames.\n",
            "Found 1 validated image filenames.\n",
            "Found 1 validated image filenames.\n",
            "Found 1 validated image filenames.\n",
            "Found 1 validated image filenames.\n",
            "Found 1 validated image filenames.\n",
            "Found 1 validated image filenames.\n",
            "Found 1 validated image filenames.\n",
            "Found 1 validated image filenames.\n",
            "Found 1 validated image filenames.\n"
          ]
        },
        {
          "output_type": "stream",
          "name": "stderr",
          "text": [
            "\rProcessing Images:  91%|█████████ | 4309/4752 [00:37<00:04, 103.05it/s]"
          ]
        },
        {
          "output_type": "stream",
          "name": "stdout",
          "text": [
            "Found 1 validated image filenames.\n",
            "Found 1 validated image filenames.\n",
            "Found 1 validated image filenames.\n",
            "Found 1 validated image filenames.\n",
            "Found 1 validated image filenames.\n",
            "Found 1 validated image filenames.\n",
            "Found 1 validated image filenames.\n",
            "Found 1 validated image filenames.\n",
            "Found 1 validated image filenames.\n",
            "Found 1 validated image filenames.\n",
            "Found 1 validated image filenames.\n"
          ]
        },
        {
          "output_type": "stream",
          "name": "stderr",
          "text": [
            "\rProcessing Images:  91%|█████████ | 4320/4752 [00:37<00:04, 104.74it/s]"
          ]
        },
        {
          "output_type": "stream",
          "name": "stdout",
          "text": [
            "Found 1 validated image filenames.\n",
            "Found 1 validated image filenames.\n",
            "Found 1 validated image filenames.\n",
            "Found 1 validated image filenames.\n",
            "Found 1 validated image filenames.\n",
            "Found 1 validated image filenames.\n",
            "Found 1 validated image filenames.\n",
            "Found 1 validated image filenames.\n",
            "Found 1 validated image filenames.\n",
            "Found 1 validated image filenames.\n",
            "Found 1 validated image filenames.\n"
          ]
        },
        {
          "output_type": "stream",
          "name": "stderr",
          "text": [
            "\rProcessing Images:  91%|█████████ | 4331/4752 [00:37<00:04, 104.45it/s]"
          ]
        },
        {
          "output_type": "stream",
          "name": "stdout",
          "text": [
            "Found 1 validated image filenames.\n",
            "Found 1 validated image filenames.\n",
            "Found 1 validated image filenames.\n",
            "Found 1 validated image filenames.\n",
            "Found 1 validated image filenames.\n",
            "Found 1 validated image filenames.\n",
            "Found 1 validated image filenames.\n",
            "Found 1 validated image filenames.\n",
            "Found 1 validated image filenames.\n",
            "Found 1 validated image filenames.\n",
            "Found 1 validated image filenames.\n",
            "Found 1 validated image filenames.\n"
          ]
        },
        {
          "output_type": "stream",
          "name": "stderr",
          "text": [
            "\rProcessing Images:  91%|█████████▏| 4343/4752 [00:37<00:03, 108.64it/s]"
          ]
        },
        {
          "output_type": "stream",
          "name": "stdout",
          "text": [
            "Found 1 validated image filenames.\n",
            "Found 1 validated image filenames.\n",
            "Found 1 validated image filenames.\n",
            "Found 1 validated image filenames.\n",
            "Found 1 validated image filenames.\n",
            "Found 1 validated image filenames.\n",
            "Found 1 validated image filenames.\n",
            "Found 1 validated image filenames.\n",
            "Found 1 validated image filenames.\n",
            "Found 1 validated image filenames.\n",
            "Found 1 validated image filenames.\n",
            "Found 1 validated image filenames.\n",
            "Found 1 validated image filenames.\n"
          ]
        },
        {
          "output_type": "stream",
          "name": "stderr",
          "text": [
            "\rProcessing Images:  92%|█████████▏| 4356/4752 [00:37<00:03, 113.38it/s]"
          ]
        },
        {
          "output_type": "stream",
          "name": "stdout",
          "text": [
            "Found 1 validated image filenames.\n",
            "Found 1 validated image filenames.\n",
            "Found 1 validated image filenames.\n",
            "Found 1 validated image filenames.\n",
            "Found 1 validated image filenames.\n",
            "Found 1 validated image filenames.\n",
            "Found 1 validated image filenames.\n",
            "Found 1 validated image filenames.\n",
            "Found 1 validated image filenames.\n",
            "Found 1 validated image filenames.\n",
            "Found 1 validated image filenames.\n",
            "Found 1 validated image filenames.\n",
            "Found 1 validated image filenames.\n"
          ]
        },
        {
          "output_type": "stream",
          "name": "stderr",
          "text": [
            "\rProcessing Images:  92%|█████████▏| 4369/4752 [00:38<00:03, 116.51it/s]"
          ]
        },
        {
          "output_type": "stream",
          "name": "stdout",
          "text": [
            "Found 1 validated image filenames.\n",
            "Found 1 validated image filenames.\n",
            "Found 1 validated image filenames.\n",
            "Found 1 validated image filenames.\n",
            "Found 1 validated image filenames.\n",
            "Found 1 validated image filenames.\n",
            "Found 1 validated image filenames.\n",
            "Found 1 validated image filenames.\n",
            "Found 1 validated image filenames.\n",
            "Found 1 validated image filenames.\n",
            "Found 1 validated image filenames.\n",
            "Found 1 validated image filenames.\n",
            "Found 1 validated image filenames.\n"
          ]
        },
        {
          "output_type": "stream",
          "name": "stderr",
          "text": [
            "\rProcessing Images:  92%|█████████▏| 4382/4752 [00:38<00:03, 119.01it/s]"
          ]
        },
        {
          "output_type": "stream",
          "name": "stdout",
          "text": [
            "Found 1 validated image filenames.\n",
            "Found 1 validated image filenames.\n",
            "Found 1 validated image filenames.\n",
            "Found 1 validated image filenames.\n",
            "Found 1 validated image filenames.\n",
            "Found 1 validated image filenames.\n",
            "Found 1 validated image filenames.\n",
            "Found 1 validated image filenames.\n",
            "Found 1 validated image filenames.\n",
            "Found 1 validated image filenames.\n",
            "Found 1 validated image filenames.\n",
            "Found 1 validated image filenames.\n"
          ]
        },
        {
          "output_type": "stream",
          "name": "stderr",
          "text": [
            "\rProcessing Images:  92%|█████████▏| 4394/4752 [00:38<00:03, 118.35it/s]"
          ]
        },
        {
          "output_type": "stream",
          "name": "stdout",
          "text": [
            "Found 1 validated image filenames.\n",
            "Found 1 validated image filenames.\n",
            "Found 1 validated image filenames.\n",
            "Found 1 validated image filenames.\n",
            "Found 1 validated image filenames.\n",
            "Found 1 validated image filenames.\n",
            "Found 1 validated image filenames.\n",
            "Found 1 validated image filenames.\n",
            "Found 1 validated image filenames.\n",
            "Found 1 validated image filenames.\n",
            "Found 1 validated image filenames.\n",
            "Found 1 validated image filenames.\n"
          ]
        },
        {
          "output_type": "stream",
          "name": "stderr",
          "text": [
            "\rProcessing Images:  93%|█████████▎| 4406/4752 [00:38<00:02, 116.61it/s]"
          ]
        },
        {
          "output_type": "stream",
          "name": "stdout",
          "text": [
            "Found 1 validated image filenames.\n",
            "Found 1 validated image filenames.\n",
            "Found 1 validated image filenames.\n",
            "Found 1 validated image filenames.\n",
            "Found 1 validated image filenames.\n",
            "Found 1 validated image filenames.\n",
            "Found 1 validated image filenames.\n",
            "Found 1 validated image filenames.\n",
            "Found 1 validated image filenames.\n",
            "Found 1 validated image filenames.\n",
            "Found 1 validated image filenames.\n",
            "Found 1 validated image filenames.\n"
          ]
        },
        {
          "output_type": "stream",
          "name": "stderr",
          "text": [
            "\rProcessing Images:  93%|█████████▎| 4418/4752 [00:38<00:02, 114.67it/s]"
          ]
        },
        {
          "output_type": "stream",
          "name": "stdout",
          "text": [
            "Found 1 validated image filenames.\n",
            "Found 1 validated image filenames.\n",
            "Found 1 validated image filenames.\n",
            "Found 1 validated image filenames.\n",
            "Found 1 validated image filenames.\n",
            "Found 1 validated image filenames.\n",
            "Found 1 validated image filenames.\n",
            "Found 1 validated image filenames.\n",
            "Found 1 validated image filenames.\n",
            "Found 1 validated image filenames.\n",
            "Found 1 validated image filenames.\n",
            "Found 1 validated image filenames.\n",
            "Found 1 validated image filenames.\n"
          ]
        },
        {
          "output_type": "stream",
          "name": "stderr",
          "text": [
            "\rProcessing Images:  93%|█████████▎| 4431/4752 [00:38<00:02, 116.85it/s]"
          ]
        },
        {
          "output_type": "stream",
          "name": "stdout",
          "text": [
            "Found 1 validated image filenames.\n",
            "Found 1 validated image filenames.\n",
            "Found 1 validated image filenames.\n",
            "Found 1 validated image filenames.\n",
            "Found 1 validated image filenames.\n",
            "Found 1 validated image filenames.\n",
            "Found 1 validated image filenames.\n",
            "Found 1 validated image filenames.\n",
            "Found 1 validated image filenames.\n",
            "Found 1 validated image filenames.\n",
            "Found 1 validated image filenames.\n",
            "Found 1 validated image filenames.\n",
            "Found 1 validated image filenames.\n",
            "Found 1 validated image filenames.\n"
          ]
        },
        {
          "output_type": "stream",
          "name": "stderr",
          "text": [
            "\rProcessing Images:  94%|█████████▎| 4445/4752 [00:38<00:02, 121.39it/s]"
          ]
        },
        {
          "output_type": "stream",
          "name": "stdout",
          "text": [
            "Found 1 validated image filenames.\n",
            "Found 1 validated image filenames.\n",
            "Found 1 validated image filenames.\n",
            "Found 1 validated image filenames.\n",
            "Found 1 validated image filenames.\n",
            "Found 1 validated image filenames.\n",
            "Found 1 validated image filenames.\n",
            "Found 1 validated image filenames.\n",
            "Found 1 validated image filenames.\n",
            "Found 1 validated image filenames.\n",
            "Found 1 validated image filenames.\n",
            "Found 1 validated image filenames.\n",
            "Found 1 validated image filenames.\n",
            "Found 1 validated image filenames.\n"
          ]
        },
        {
          "output_type": "stream",
          "name": "stderr",
          "text": [
            "\rProcessing Images:  94%|█████████▍| 4459/4752 [00:38<00:02, 126.04it/s]"
          ]
        },
        {
          "output_type": "stream",
          "name": "stdout",
          "text": [
            "Found 1 validated image filenames.\n",
            "Found 1 validated image filenames.\n",
            "Found 1 validated image filenames.\n",
            "Found 1 validated image filenames.\n",
            "Found 1 validated image filenames.\n",
            "Found 1 validated image filenames.\n",
            "Found 1 validated image filenames.\n",
            "Found 1 validated image filenames.\n",
            "Found 1 validated image filenames.\n",
            "Found 1 validated image filenames.\n",
            "Found 1 validated image filenames.\n",
            "Found 1 validated image filenames.\n",
            "Found 1 validated image filenames.\n",
            "Found 1 validated image filenames.\n",
            "Found 1 validated image filenames.\n"
          ]
        },
        {
          "output_type": "stream",
          "name": "stderr",
          "text": [
            "\rProcessing Images:  94%|█████████▍| 4474/4752 [00:38<00:02, 130.52it/s]"
          ]
        },
        {
          "output_type": "stream",
          "name": "stdout",
          "text": [
            "Found 1 validated image filenames.\n",
            "Found 1 validated image filenames.\n",
            "Found 1 validated image filenames.\n",
            "Found 1 validated image filenames.\n",
            "Found 1 validated image filenames.\n",
            "Found 1 validated image filenames.\n",
            "Found 1 validated image filenames.\n",
            "Found 1 validated image filenames.\n",
            "Found 1 validated image filenames.\n",
            "Found 1 validated image filenames.\n",
            "Found 1 validated image filenames.\n",
            "Found 1 validated image filenames.\n",
            "Found 1 validated image filenames.\n",
            "Found 1 validated image filenames.\n",
            "Found 1 validated image filenames.\n"
          ]
        },
        {
          "output_type": "stream",
          "name": "stderr",
          "text": [
            "\rProcessing Images:  94%|█████████▍| 4489/4752 [00:38<00:01, 133.97it/s]"
          ]
        },
        {
          "output_type": "stream",
          "name": "stdout",
          "text": [
            "Found 1 validated image filenames.\n",
            "Found 1 validated image filenames.\n",
            "Found 1 validated image filenames.\n",
            "Found 1 validated image filenames.\n",
            "Found 1 validated image filenames.\n",
            "Found 1 validated image filenames.\n",
            "Found 1 validated image filenames.\n",
            "Found 1 validated image filenames.\n",
            "Found 1 validated image filenames.\n",
            "Found 1 validated image filenames.\n",
            "Found 1 validated image filenames.\n",
            "Found 1 validated image filenames.\n",
            "Found 1 validated image filenames.\n",
            "Found 1 validated image filenames.\n"
          ]
        },
        {
          "output_type": "stream",
          "name": "stderr",
          "text": [
            "\rProcessing Images:  95%|█████████▍| 4503/4752 [00:39<00:01, 131.87it/s]"
          ]
        },
        {
          "output_type": "stream",
          "name": "stdout",
          "text": [
            "Found 1 validated image filenames.\n",
            "Found 1 validated image filenames.\n",
            "Found 1 validated image filenames.\n",
            "Found 1 validated image filenames.\n",
            "Found 1 validated image filenames.\n",
            "Found 1 validated image filenames.\n",
            "Found 1 validated image filenames.\n",
            "Found 1 validated image filenames.\n",
            "Found 1 validated image filenames.\n",
            "Found 1 validated image filenames.\n",
            "Found 1 validated image filenames.\n",
            "Found 1 validated image filenames.\n",
            "Found 1 validated image filenames.\n",
            "Found 1 validated image filenames.\n"
          ]
        },
        {
          "output_type": "stream",
          "name": "stderr",
          "text": [
            "\rProcessing Images:  95%|█████████▌| 4517/4752 [00:39<00:01, 129.27it/s]"
          ]
        },
        {
          "output_type": "stream",
          "name": "stdout",
          "text": [
            "Found 1 validated image filenames.\n",
            "Found 1 validated image filenames.\n",
            "Found 1 validated image filenames.\n",
            "Found 1 validated image filenames.\n",
            "Found 1 validated image filenames.\n",
            "Found 1 validated image filenames.\n",
            "Found 1 validated image filenames.\n",
            "Found 1 validated image filenames.\n",
            "Found 1 validated image filenames.\n",
            "Found 1 validated image filenames.\n",
            "Found 1 validated image filenames.\n",
            "Found 1 validated image filenames.\n",
            "Found 1 validated image filenames.\n"
          ]
        },
        {
          "output_type": "stream",
          "name": "stderr",
          "text": [
            "\rProcessing Images:  95%|█████████▌| 4530/4752 [00:39<00:01, 129.26it/s]"
          ]
        },
        {
          "output_type": "stream",
          "name": "stdout",
          "text": [
            "Found 1 validated image filenames.\n",
            "Found 1 validated image filenames.\n",
            "Found 1 validated image filenames.\n",
            "Found 1 validated image filenames.\n",
            "Found 1 validated image filenames.\n",
            "Found 1 validated image filenames.\n",
            "Found 1 validated image filenames.\n",
            "Found 1 validated image filenames.\n",
            "Found 1 validated image filenames.\n",
            "Found 1 validated image filenames.\n",
            "Found 1 validated image filenames.\n",
            "Found 1 validated image filenames.\n",
            "Found 1 validated image filenames.\n",
            "Found 1 validated image filenames.\n"
          ]
        },
        {
          "output_type": "stream",
          "name": "stderr",
          "text": [
            "\rProcessing Images:  96%|█████████▌| 4544/4752 [00:39<00:01, 131.76it/s]"
          ]
        },
        {
          "output_type": "stream",
          "name": "stdout",
          "text": [
            "Found 1 validated image filenames.\n",
            "Found 1 validated image filenames.\n",
            "Found 1 validated image filenames.\n",
            "Found 1 validated image filenames.\n",
            "Found 1 validated image filenames.\n",
            "Found 1 validated image filenames.\n",
            "Found 1 validated image filenames.\n",
            "Found 1 validated image filenames.\n",
            "Found 1 validated image filenames.\n",
            "Found 1 validated image filenames.\n",
            "Found 1 validated image filenames.\n",
            "Found 1 validated image filenames.\n",
            "Found 1 validated image filenames.\n",
            "Found 1 validated image filenames.\n"
          ]
        },
        {
          "output_type": "stream",
          "name": "stderr",
          "text": [
            "\rProcessing Images:  96%|█████████▌| 4558/4752 [00:39<00:01, 126.49it/s]"
          ]
        },
        {
          "output_type": "stream",
          "name": "stdout",
          "text": [
            "Found 1 validated image filenames.\n",
            "Found 1 validated image filenames.\n",
            "Found 1 validated image filenames.\n",
            "Found 1 validated image filenames.\n",
            "Found 1 validated image filenames.\n",
            "Found 1 validated image filenames.\n",
            "Found 1 validated image filenames.\n",
            "Found 1 validated image filenames.\n",
            "Found 1 validated image filenames.\n",
            "Found 1 validated image filenames.\n",
            "Found 1 validated image filenames.\n",
            "Found 1 validated image filenames.\n",
            "Found 1 validated image filenames.\n"
          ]
        },
        {
          "output_type": "stream",
          "name": "stderr",
          "text": [
            "\rProcessing Images:  96%|█████████▌| 4571/4752 [00:39<00:01, 126.46it/s]"
          ]
        },
        {
          "output_type": "stream",
          "name": "stdout",
          "text": [
            "Found 1 validated image filenames.\n",
            "Found 1 validated image filenames.\n",
            "Found 1 validated image filenames.\n",
            "Found 1 validated image filenames.\n",
            "Found 1 validated image filenames.\n",
            "Found 1 validated image filenames.\n",
            "Found 1 validated image filenames.\n",
            "Found 1 validated image filenames.\n",
            "Found 1 validated image filenames.\n",
            "Found 1 validated image filenames.\n",
            "Found 1 validated image filenames.\n",
            "Found 1 validated image filenames.\n",
            "Found 1 validated image filenames.\n"
          ]
        },
        {
          "output_type": "stream",
          "name": "stderr",
          "text": [
            "\rProcessing Images:  96%|█████████▋| 4584/4752 [00:39<00:01, 123.62it/s]"
          ]
        },
        {
          "output_type": "stream",
          "name": "stdout",
          "text": [
            "Found 1 validated image filenames.\n",
            "Found 1 validated image filenames.\n",
            "Found 1 validated image filenames.\n",
            "Found 1 validated image filenames.\n",
            "Found 1 validated image filenames.\n",
            "Found 1 validated image filenames.\n",
            "Found 1 validated image filenames.\n",
            "Found 1 validated image filenames.\n",
            "Found 1 validated image filenames.\n",
            "Found 1 validated image filenames.\n",
            "Found 1 validated image filenames.\n",
            "Found 1 validated image filenames.\n",
            "Found 1 validated image filenames.\n",
            "Found 1 validated image filenames.\n",
            "Found 1 validated image filenames.\n"
          ]
        },
        {
          "output_type": "stream",
          "name": "stderr",
          "text": [
            "\rProcessing Images:  97%|█████████▋| 4599/4752 [00:39<00:01, 129.14it/s]"
          ]
        },
        {
          "output_type": "stream",
          "name": "stdout",
          "text": [
            "Found 1 validated image filenames.\n",
            "Found 1 validated image filenames.\n",
            "Found 1 validated image filenames.\n",
            "Found 1 validated image filenames.\n",
            "Found 1 validated image filenames.\n",
            "Found 1 validated image filenames.\n",
            "Found 1 validated image filenames.\n",
            "Found 1 validated image filenames.\n",
            "Found 1 validated image filenames.\n",
            "Found 1 validated image filenames.\n",
            "Found 1 validated image filenames.\n",
            "Found 1 validated image filenames.\n",
            "Found 1 validated image filenames.\n"
          ]
        },
        {
          "output_type": "stream",
          "name": "stderr",
          "text": [
            "\rProcessing Images:  97%|█████████▋| 4612/4752 [00:39<00:01, 129.01it/s]"
          ]
        },
        {
          "output_type": "stream",
          "name": "stdout",
          "text": [
            "Found 1 validated image filenames.\n",
            "Found 1 validated image filenames.\n",
            "Found 1 validated image filenames.\n",
            "Found 1 validated image filenames.\n",
            "Found 1 validated image filenames.\n",
            "Found 1 validated image filenames.\n",
            "Found 1 validated image filenames.\n",
            "Found 1 validated image filenames.\n",
            "Found 1 validated image filenames.\n",
            "Found 1 validated image filenames.\n",
            "Found 1 validated image filenames.\n",
            "Found 1 validated image filenames.\n",
            "Found 1 validated image filenames.\n"
          ]
        },
        {
          "output_type": "stream",
          "name": "stderr",
          "text": [
            "\rProcessing Images:  97%|█████████▋| 4625/4752 [00:40<00:01, 124.73it/s]"
          ]
        },
        {
          "output_type": "stream",
          "name": "stdout",
          "text": [
            "Found 1 validated image filenames.\n",
            "Found 1 validated image filenames.\n",
            "Found 1 validated image filenames.\n",
            "Found 1 validated image filenames.\n",
            "Found 1 validated image filenames.\n",
            "Found 1 validated image filenames.\n",
            "Found 1 validated image filenames.\n",
            "Found 1 validated image filenames.\n",
            "Found 1 validated image filenames.\n",
            "Found 1 validated image filenames.\n",
            "Found 1 validated image filenames.\n",
            "Found 1 validated image filenames.\n",
            "Found 1 validated image filenames.\n",
            "Found 1 validated image filenames.\n",
            "Found 1 validated image filenames.\n"
          ]
        },
        {
          "output_type": "stream",
          "name": "stderr",
          "text": [
            "\rProcessing Images:  98%|█████████▊| 4640/4752 [00:40<00:00, 130.14it/s]"
          ]
        },
        {
          "output_type": "stream",
          "name": "stdout",
          "text": [
            "Found 1 validated image filenames.\n",
            "Found 1 validated image filenames.\n",
            "Found 1 validated image filenames.\n",
            "Found 1 validated image filenames.\n",
            "Found 1 validated image filenames.\n",
            "Found 1 validated image filenames.\n",
            "Found 1 validated image filenames.\n",
            "Found 1 validated image filenames.\n",
            "Found 1 validated image filenames.\n",
            "Found 1 validated image filenames.\n",
            "Found 1 validated image filenames.\n",
            "Found 1 validated image filenames.\n",
            "Found 1 validated image filenames.\n",
            "Found 1 validated image filenames.\n"
          ]
        },
        {
          "output_type": "stream",
          "name": "stderr",
          "text": [
            "\rProcessing Images:  98%|█████████▊| 4654/4752 [00:40<00:00, 131.67it/s]"
          ]
        },
        {
          "output_type": "stream",
          "name": "stdout",
          "text": [
            "Found 1 validated image filenames.\n",
            "Found 1 validated image filenames.\n",
            "Found 1 validated image filenames.\n",
            "Found 1 validated image filenames.\n",
            "Found 1 validated image filenames.\n",
            "Found 1 validated image filenames.\n",
            "Found 1 validated image filenames.\n",
            "Found 1 validated image filenames.\n",
            "Found 1 validated image filenames.\n",
            "Found 1 validated image filenames.\n",
            "Found 1 validated image filenames.\n",
            "Found 1 validated image filenames.\n",
            "Found 1 validated image filenames.\n",
            "Found 1 validated image filenames.\n"
          ]
        },
        {
          "output_type": "stream",
          "name": "stderr",
          "text": [
            "\rProcessing Images:  98%|█████████▊| 4668/4752 [00:40<00:00, 126.73it/s]"
          ]
        },
        {
          "output_type": "stream",
          "name": "stdout",
          "text": [
            "Found 1 validated image filenames.\n",
            "Found 1 validated image filenames.\n",
            "Found 1 validated image filenames.\n",
            "Found 1 validated image filenames.\n",
            "Found 1 validated image filenames.\n",
            "Found 1 validated image filenames.\n",
            "Found 1 validated image filenames.\n",
            "Found 1 validated image filenames.\n",
            "Found 1 validated image filenames.\n",
            "Found 1 validated image filenames.\n",
            "Found 1 validated image filenames.\n",
            "Found 1 validated image filenames.\n",
            "Found 1 validated image filenames.\n"
          ]
        },
        {
          "output_type": "stream",
          "name": "stderr",
          "text": [
            "\rProcessing Images:  99%|█████████▊| 4681/4752 [00:40<00:00, 125.11it/s]"
          ]
        },
        {
          "output_type": "stream",
          "name": "stdout",
          "text": [
            "Found 1 validated image filenames.\n",
            "Found 1 validated image filenames.\n",
            "Found 1 validated image filenames.\n",
            "Found 1 validated image filenames.\n",
            "Found 1 validated image filenames.\n",
            "Found 1 validated image filenames.\n",
            "Found 1 validated image filenames.\n",
            "Found 1 validated image filenames.\n",
            "Found 1 validated image filenames.\n",
            "Found 1 validated image filenames.\n",
            "Found 1 validated image filenames.\n",
            "Found 1 validated image filenames.\n",
            "Found 1 validated image filenames.\n",
            "Found 1 validated image filenames.\n"
          ]
        },
        {
          "output_type": "stream",
          "name": "stderr",
          "text": [
            "\rProcessing Images:  99%|█████████▉| 4695/4752 [00:40<00:00, 127.52it/s]"
          ]
        },
        {
          "output_type": "stream",
          "name": "stdout",
          "text": [
            "Found 1 validated image filenames.\n",
            "Found 1 validated image filenames.\n",
            "Found 1 validated image filenames.\n",
            "Found 1 validated image filenames.\n",
            "Found 1 validated image filenames.\n",
            "Found 1 validated image filenames.\n",
            "Found 1 validated image filenames.\n",
            "Found 1 validated image filenames.\n",
            "Found 1 validated image filenames.\n",
            "Found 1 validated image filenames.\n",
            "Found 1 validated image filenames.\n",
            "Found 1 validated image filenames.\n",
            "Found 1 validated image filenames.\n"
          ]
        },
        {
          "output_type": "stream",
          "name": "stderr",
          "text": [
            "\rProcessing Images:  99%|█████████▉| 4708/4752 [00:40<00:00, 123.77it/s]"
          ]
        },
        {
          "output_type": "stream",
          "name": "stdout",
          "text": [
            "Found 1 validated image filenames.\n",
            "Found 1 validated image filenames.\n",
            "Found 1 validated image filenames.\n",
            "Found 1 validated image filenames.\n",
            "Found 1 validated image filenames.\n",
            "Found 1 validated image filenames.\n",
            "Found 1 validated image filenames.\n",
            "Found 1 validated image filenames.\n",
            "Found 1 validated image filenames.\n",
            "Found 1 validated image filenames.\n",
            "Found 1 validated image filenames.\n",
            "Found 1 validated image filenames.\n",
            "Found 1 validated image filenames.\n"
          ]
        },
        {
          "output_type": "stream",
          "name": "stderr",
          "text": [
            "\rProcessing Images:  99%|█████████▉| 4721/4752 [00:40<00:00, 121.55it/s]"
          ]
        },
        {
          "output_type": "stream",
          "name": "stdout",
          "text": [
            "Found 1 validated image filenames.\n",
            "Found 1 validated image filenames.\n",
            "Found 1 validated image filenames.\n",
            "Found 1 validated image filenames.\n",
            "Found 1 validated image filenames.\n",
            "Found 1 validated image filenames.\n",
            "Found 1 validated image filenames.\n",
            "Found 1 validated image filenames.\n",
            "Found 1 validated image filenames.\n",
            "Found 1 validated image filenames.\n",
            "Found 1 validated image filenames.\n",
            "Found 1 validated image filenames.\n",
            "Found 1 validated image filenames.\n"
          ]
        },
        {
          "output_type": "stream",
          "name": "stderr",
          "text": [
            "\rProcessing Images: 100%|█████████▉| 4734/4752 [00:40<00:00, 119.29it/s]"
          ]
        },
        {
          "output_type": "stream",
          "name": "stdout",
          "text": [
            "Found 1 validated image filenames.\n",
            "Found 1 validated image filenames.\n",
            "Found 1 validated image filenames.\n",
            "Found 1 validated image filenames.\n",
            "Found 1 validated image filenames.\n",
            "Found 1 validated image filenames.\n",
            "Found 1 validated image filenames.\n",
            "Found 1 validated image filenames.\n",
            "Found 1 validated image filenames.\n",
            "Found 1 validated image filenames.\n",
            "Found 1 validated image filenames.\n",
            "Found 1 validated image filenames.\n"
          ]
        },
        {
          "output_type": "stream",
          "name": "stderr",
          "text": [
            "\rProcessing Images: 100%|█████████▉| 4746/4752 [00:41<00:00, 112.98it/s]"
          ]
        },
        {
          "output_type": "stream",
          "name": "stdout",
          "text": [
            "Found 1 validated image filenames.\n",
            "Found 1 validated image filenames.\n",
            "Found 1 validated image filenames.\n",
            "Found 1 validated image filenames.\n",
            "Found 1 validated image filenames.\n",
            "Found 1 validated image filenames.\n"
          ]
        },
        {
          "output_type": "stream",
          "name": "stderr",
          "text": [
            "\rProcessing Images: 100%|██████████| 4752/4752 [00:41<00:00, 115.68it/s]\n"
          ]
        },
        {
          "output_type": "stream",
          "name": "stdout",
          "text": [
            "Train samples: 2851\n",
            "Validation samples: 950\n",
            "Test samples: 951\n"
          ]
        },
        {
          "output_type": "stream",
          "name": "stderr",
          "text": [
            "/usr/local/lib/python3.10/dist-packages/keras/src/layers/convolutional/base_conv.py:107: UserWarning: Do not pass an `input_shape`/`input_dim` argument to a layer. When using Sequential models, prefer using an `Input(shape)` object as the first layer in the model instead.\n",
            "  super().__init__(activity_regularizer=activity_regularizer, **kwargs)\n"
          ]
        },
        {
          "output_type": "display_data",
          "data": {
            "text/plain": [
              "\u001b[1mModel: \"sequential\"\u001b[0m\n"
            ],
            "text/html": [
              "<pre style=\"white-space:pre;overflow-x:auto;line-height:normal;font-family:Menlo,'DejaVu Sans Mono',consolas,'Courier New',monospace\"><span style=\"font-weight: bold\">Model: \"sequential\"</span>\n",
              "</pre>\n"
            ]
          },
          "metadata": {}
        },
        {
          "output_type": "display_data",
          "data": {
            "text/plain": [
              "┏━━━━━━━━━━━━━━━━━━━━━━━━━━━━━━━━━━━━━━┳━━━━━━━━━━━━━━━━━━━━━━━━━━━━━┳━━━━━━━━━━━━━━━━━┓\n",
              "┃\u001b[1m \u001b[0m\u001b[1mLayer (type)                        \u001b[0m\u001b[1m \u001b[0m┃\u001b[1m \u001b[0m\u001b[1mOutput Shape               \u001b[0m\u001b[1m \u001b[0m┃\u001b[1m \u001b[0m\u001b[1m        Param #\u001b[0m\u001b[1m \u001b[0m┃\n",
              "┡━━━━━━━━━━━━━━━━━━━━━━━━━━━━━━━━━━━━━━╇━━━━━━━━━━━━━━━━━━━━━━━━━━━━━╇━━━━━━━━━━━━━━━━━┩\n",
              "│ conv2d (\u001b[38;5;33mConv2D\u001b[0m)                      │ (\u001b[38;5;45mNone\u001b[0m, \u001b[38;5;34m126\u001b[0m, \u001b[38;5;34m126\u001b[0m, \u001b[38;5;34m32\u001b[0m)        │             \u001b[38;5;34m896\u001b[0m │\n",
              "├──────────────────────────────────────┼─────────────────────────────┼─────────────────┤\n",
              "│ batch_normalization                  │ (\u001b[38;5;45mNone\u001b[0m, \u001b[38;5;34m126\u001b[0m, \u001b[38;5;34m126\u001b[0m, \u001b[38;5;34m32\u001b[0m)        │             \u001b[38;5;34m128\u001b[0m │\n",
              "│ (\u001b[38;5;33mBatchNormalization\u001b[0m)                 │                             │                 │\n",
              "├──────────────────────────────────────┼─────────────────────────────┼─────────────────┤\n",
              "│ max_pooling2d (\u001b[38;5;33mMaxPooling2D\u001b[0m)         │ (\u001b[38;5;45mNone\u001b[0m, \u001b[38;5;34m63\u001b[0m, \u001b[38;5;34m63\u001b[0m, \u001b[38;5;34m32\u001b[0m)          │               \u001b[38;5;34m0\u001b[0m │\n",
              "├──────────────────────────────────────┼─────────────────────────────┼─────────────────┤\n",
              "│ conv2d_1 (\u001b[38;5;33mConv2D\u001b[0m)                    │ (\u001b[38;5;45mNone\u001b[0m, \u001b[38;5;34m61\u001b[0m, \u001b[38;5;34m61\u001b[0m, \u001b[38;5;34m64\u001b[0m)          │          \u001b[38;5;34m18,496\u001b[0m │\n",
              "├──────────────────────────────────────┼─────────────────────────────┼─────────────────┤\n",
              "│ batch_normalization_1                │ (\u001b[38;5;45mNone\u001b[0m, \u001b[38;5;34m61\u001b[0m, \u001b[38;5;34m61\u001b[0m, \u001b[38;5;34m64\u001b[0m)          │             \u001b[38;5;34m256\u001b[0m │\n",
              "│ (\u001b[38;5;33mBatchNormalization\u001b[0m)                 │                             │                 │\n",
              "├──────────────────────────────────────┼─────────────────────────────┼─────────────────┤\n",
              "│ max_pooling2d_1 (\u001b[38;5;33mMaxPooling2D\u001b[0m)       │ (\u001b[38;5;45mNone\u001b[0m, \u001b[38;5;34m30\u001b[0m, \u001b[38;5;34m30\u001b[0m, \u001b[38;5;34m64\u001b[0m)          │               \u001b[38;5;34m0\u001b[0m │\n",
              "├──────────────────────────────────────┼─────────────────────────────┼─────────────────┤\n",
              "│ conv2d_2 (\u001b[38;5;33mConv2D\u001b[0m)                    │ (\u001b[38;5;45mNone\u001b[0m, \u001b[38;5;34m28\u001b[0m, \u001b[38;5;34m28\u001b[0m, \u001b[38;5;34m128\u001b[0m)         │          \u001b[38;5;34m73,856\u001b[0m │\n",
              "├──────────────────────────────────────┼─────────────────────────────┼─────────────────┤\n",
              "│ batch_normalization_2                │ (\u001b[38;5;45mNone\u001b[0m, \u001b[38;5;34m28\u001b[0m, \u001b[38;5;34m28\u001b[0m, \u001b[38;5;34m128\u001b[0m)         │             \u001b[38;5;34m512\u001b[0m │\n",
              "│ (\u001b[38;5;33mBatchNormalization\u001b[0m)                 │                             │                 │\n",
              "├──────────────────────────────────────┼─────────────────────────────┼─────────────────┤\n",
              "│ max_pooling2d_2 (\u001b[38;5;33mMaxPooling2D\u001b[0m)       │ (\u001b[38;5;45mNone\u001b[0m, \u001b[38;5;34m14\u001b[0m, \u001b[38;5;34m14\u001b[0m, \u001b[38;5;34m128\u001b[0m)         │               \u001b[38;5;34m0\u001b[0m │\n",
              "├──────────────────────────────────────┼─────────────────────────────┼─────────────────┤\n",
              "│ conv2d_3 (\u001b[38;5;33mConv2D\u001b[0m)                    │ (\u001b[38;5;45mNone\u001b[0m, \u001b[38;5;34m12\u001b[0m, \u001b[38;5;34m12\u001b[0m, \u001b[38;5;34m256\u001b[0m)         │         \u001b[38;5;34m295,168\u001b[0m │\n",
              "├──────────────────────────────────────┼─────────────────────────────┼─────────────────┤\n",
              "│ batch_normalization_3                │ (\u001b[38;5;45mNone\u001b[0m, \u001b[38;5;34m12\u001b[0m, \u001b[38;5;34m12\u001b[0m, \u001b[38;5;34m256\u001b[0m)         │           \u001b[38;5;34m1,024\u001b[0m │\n",
              "│ (\u001b[38;5;33mBatchNormalization\u001b[0m)                 │                             │                 │\n",
              "├──────────────────────────────────────┼─────────────────────────────┼─────────────────┤\n",
              "│ max_pooling2d_3 (\u001b[38;5;33mMaxPooling2D\u001b[0m)       │ (\u001b[38;5;45mNone\u001b[0m, \u001b[38;5;34m6\u001b[0m, \u001b[38;5;34m6\u001b[0m, \u001b[38;5;34m256\u001b[0m)           │               \u001b[38;5;34m0\u001b[0m │\n",
              "├──────────────────────────────────────┼─────────────────────────────┼─────────────────┤\n",
              "│ flatten (\u001b[38;5;33mFlatten\u001b[0m)                    │ (\u001b[38;5;45mNone\u001b[0m, \u001b[38;5;34m9216\u001b[0m)                │               \u001b[38;5;34m0\u001b[0m │\n",
              "├──────────────────────────────────────┼─────────────────────────────┼─────────────────┤\n",
              "│ dense (\u001b[38;5;33mDense\u001b[0m)                        │ (\u001b[38;5;45mNone\u001b[0m, \u001b[38;5;34m128\u001b[0m)                 │       \u001b[38;5;34m1,179,776\u001b[0m │\n",
              "├──────────────────────────────────────┼─────────────────────────────┼─────────────────┤\n",
              "│ dropout (\u001b[38;5;33mDropout\u001b[0m)                    │ (\u001b[38;5;45mNone\u001b[0m, \u001b[38;5;34m128\u001b[0m)                 │               \u001b[38;5;34m0\u001b[0m │\n",
              "├──────────────────────────────────────┼─────────────────────────────┼─────────────────┤\n",
              "│ dense_1 (\u001b[38;5;33mDense\u001b[0m)                      │ (\u001b[38;5;45mNone\u001b[0m, \u001b[38;5;34m9\u001b[0m)                   │           \u001b[38;5;34m1,161\u001b[0m │\n",
              "└──────────────────────────────────────┴─────────────────────────────┴─────────────────┘\n"
            ],
            "text/html": [
              "<pre style=\"white-space:pre;overflow-x:auto;line-height:normal;font-family:Menlo,'DejaVu Sans Mono',consolas,'Courier New',monospace\">┏━━━━━━━━━━━━━━━━━━━━━━━━━━━━━━━━━━━━━━┳━━━━━━━━━━━━━━━━━━━━━━━━━━━━━┳━━━━━━━━━━━━━━━━━┓\n",
              "┃<span style=\"font-weight: bold\"> Layer (type)                         </span>┃<span style=\"font-weight: bold\"> Output Shape                </span>┃<span style=\"font-weight: bold\">         Param # </span>┃\n",
              "┡━━━━━━━━━━━━━━━━━━━━━━━━━━━━━━━━━━━━━━╇━━━━━━━━━━━━━━━━━━━━━━━━━━━━━╇━━━━━━━━━━━━━━━━━┩\n",
              "│ conv2d (<span style=\"color: #0087ff; text-decoration-color: #0087ff\">Conv2D</span>)                      │ (<span style=\"color: #00d7ff; text-decoration-color: #00d7ff\">None</span>, <span style=\"color: #00af00; text-decoration-color: #00af00\">126</span>, <span style=\"color: #00af00; text-decoration-color: #00af00\">126</span>, <span style=\"color: #00af00; text-decoration-color: #00af00\">32</span>)        │             <span style=\"color: #00af00; text-decoration-color: #00af00\">896</span> │\n",
              "├──────────────────────────────────────┼─────────────────────────────┼─────────────────┤\n",
              "│ batch_normalization                  │ (<span style=\"color: #00d7ff; text-decoration-color: #00d7ff\">None</span>, <span style=\"color: #00af00; text-decoration-color: #00af00\">126</span>, <span style=\"color: #00af00; text-decoration-color: #00af00\">126</span>, <span style=\"color: #00af00; text-decoration-color: #00af00\">32</span>)        │             <span style=\"color: #00af00; text-decoration-color: #00af00\">128</span> │\n",
              "│ (<span style=\"color: #0087ff; text-decoration-color: #0087ff\">BatchNormalization</span>)                 │                             │                 │\n",
              "├──────────────────────────────────────┼─────────────────────────────┼─────────────────┤\n",
              "│ max_pooling2d (<span style=\"color: #0087ff; text-decoration-color: #0087ff\">MaxPooling2D</span>)         │ (<span style=\"color: #00d7ff; text-decoration-color: #00d7ff\">None</span>, <span style=\"color: #00af00; text-decoration-color: #00af00\">63</span>, <span style=\"color: #00af00; text-decoration-color: #00af00\">63</span>, <span style=\"color: #00af00; text-decoration-color: #00af00\">32</span>)          │               <span style=\"color: #00af00; text-decoration-color: #00af00\">0</span> │\n",
              "├──────────────────────────────────────┼─────────────────────────────┼─────────────────┤\n",
              "│ conv2d_1 (<span style=\"color: #0087ff; text-decoration-color: #0087ff\">Conv2D</span>)                    │ (<span style=\"color: #00d7ff; text-decoration-color: #00d7ff\">None</span>, <span style=\"color: #00af00; text-decoration-color: #00af00\">61</span>, <span style=\"color: #00af00; text-decoration-color: #00af00\">61</span>, <span style=\"color: #00af00; text-decoration-color: #00af00\">64</span>)          │          <span style=\"color: #00af00; text-decoration-color: #00af00\">18,496</span> │\n",
              "├──────────────────────────────────────┼─────────────────────────────┼─────────────────┤\n",
              "│ batch_normalization_1                │ (<span style=\"color: #00d7ff; text-decoration-color: #00d7ff\">None</span>, <span style=\"color: #00af00; text-decoration-color: #00af00\">61</span>, <span style=\"color: #00af00; text-decoration-color: #00af00\">61</span>, <span style=\"color: #00af00; text-decoration-color: #00af00\">64</span>)          │             <span style=\"color: #00af00; text-decoration-color: #00af00\">256</span> │\n",
              "│ (<span style=\"color: #0087ff; text-decoration-color: #0087ff\">BatchNormalization</span>)                 │                             │                 │\n",
              "├──────────────────────────────────────┼─────────────────────────────┼─────────────────┤\n",
              "│ max_pooling2d_1 (<span style=\"color: #0087ff; text-decoration-color: #0087ff\">MaxPooling2D</span>)       │ (<span style=\"color: #00d7ff; text-decoration-color: #00d7ff\">None</span>, <span style=\"color: #00af00; text-decoration-color: #00af00\">30</span>, <span style=\"color: #00af00; text-decoration-color: #00af00\">30</span>, <span style=\"color: #00af00; text-decoration-color: #00af00\">64</span>)          │               <span style=\"color: #00af00; text-decoration-color: #00af00\">0</span> │\n",
              "├──────────────────────────────────────┼─────────────────────────────┼─────────────────┤\n",
              "│ conv2d_2 (<span style=\"color: #0087ff; text-decoration-color: #0087ff\">Conv2D</span>)                    │ (<span style=\"color: #00d7ff; text-decoration-color: #00d7ff\">None</span>, <span style=\"color: #00af00; text-decoration-color: #00af00\">28</span>, <span style=\"color: #00af00; text-decoration-color: #00af00\">28</span>, <span style=\"color: #00af00; text-decoration-color: #00af00\">128</span>)         │          <span style=\"color: #00af00; text-decoration-color: #00af00\">73,856</span> │\n",
              "├──────────────────────────────────────┼─────────────────────────────┼─────────────────┤\n",
              "│ batch_normalization_2                │ (<span style=\"color: #00d7ff; text-decoration-color: #00d7ff\">None</span>, <span style=\"color: #00af00; text-decoration-color: #00af00\">28</span>, <span style=\"color: #00af00; text-decoration-color: #00af00\">28</span>, <span style=\"color: #00af00; text-decoration-color: #00af00\">128</span>)         │             <span style=\"color: #00af00; text-decoration-color: #00af00\">512</span> │\n",
              "│ (<span style=\"color: #0087ff; text-decoration-color: #0087ff\">BatchNormalization</span>)                 │                             │                 │\n",
              "├──────────────────────────────────────┼─────────────────────────────┼─────────────────┤\n",
              "│ max_pooling2d_2 (<span style=\"color: #0087ff; text-decoration-color: #0087ff\">MaxPooling2D</span>)       │ (<span style=\"color: #00d7ff; text-decoration-color: #00d7ff\">None</span>, <span style=\"color: #00af00; text-decoration-color: #00af00\">14</span>, <span style=\"color: #00af00; text-decoration-color: #00af00\">14</span>, <span style=\"color: #00af00; text-decoration-color: #00af00\">128</span>)         │               <span style=\"color: #00af00; text-decoration-color: #00af00\">0</span> │\n",
              "├──────────────────────────────────────┼─────────────────────────────┼─────────────────┤\n",
              "│ conv2d_3 (<span style=\"color: #0087ff; text-decoration-color: #0087ff\">Conv2D</span>)                    │ (<span style=\"color: #00d7ff; text-decoration-color: #00d7ff\">None</span>, <span style=\"color: #00af00; text-decoration-color: #00af00\">12</span>, <span style=\"color: #00af00; text-decoration-color: #00af00\">12</span>, <span style=\"color: #00af00; text-decoration-color: #00af00\">256</span>)         │         <span style=\"color: #00af00; text-decoration-color: #00af00\">295,168</span> │\n",
              "├──────────────────────────────────────┼─────────────────────────────┼─────────────────┤\n",
              "│ batch_normalization_3                │ (<span style=\"color: #00d7ff; text-decoration-color: #00d7ff\">None</span>, <span style=\"color: #00af00; text-decoration-color: #00af00\">12</span>, <span style=\"color: #00af00; text-decoration-color: #00af00\">12</span>, <span style=\"color: #00af00; text-decoration-color: #00af00\">256</span>)         │           <span style=\"color: #00af00; text-decoration-color: #00af00\">1,024</span> │\n",
              "│ (<span style=\"color: #0087ff; text-decoration-color: #0087ff\">BatchNormalization</span>)                 │                             │                 │\n",
              "├──────────────────────────────────────┼─────────────────────────────┼─────────────────┤\n",
              "│ max_pooling2d_3 (<span style=\"color: #0087ff; text-decoration-color: #0087ff\">MaxPooling2D</span>)       │ (<span style=\"color: #00d7ff; text-decoration-color: #00d7ff\">None</span>, <span style=\"color: #00af00; text-decoration-color: #00af00\">6</span>, <span style=\"color: #00af00; text-decoration-color: #00af00\">6</span>, <span style=\"color: #00af00; text-decoration-color: #00af00\">256</span>)           │               <span style=\"color: #00af00; text-decoration-color: #00af00\">0</span> │\n",
              "├──────────────────────────────────────┼─────────────────────────────┼─────────────────┤\n",
              "│ flatten (<span style=\"color: #0087ff; text-decoration-color: #0087ff\">Flatten</span>)                    │ (<span style=\"color: #00d7ff; text-decoration-color: #00d7ff\">None</span>, <span style=\"color: #00af00; text-decoration-color: #00af00\">9216</span>)                │               <span style=\"color: #00af00; text-decoration-color: #00af00\">0</span> │\n",
              "├──────────────────────────────────────┼─────────────────────────────┼─────────────────┤\n",
              "│ dense (<span style=\"color: #0087ff; text-decoration-color: #0087ff\">Dense</span>)                        │ (<span style=\"color: #00d7ff; text-decoration-color: #00d7ff\">None</span>, <span style=\"color: #00af00; text-decoration-color: #00af00\">128</span>)                 │       <span style=\"color: #00af00; text-decoration-color: #00af00\">1,179,776</span> │\n",
              "├──────────────────────────────────────┼─────────────────────────────┼─────────────────┤\n",
              "│ dropout (<span style=\"color: #0087ff; text-decoration-color: #0087ff\">Dropout</span>)                    │ (<span style=\"color: #00d7ff; text-decoration-color: #00d7ff\">None</span>, <span style=\"color: #00af00; text-decoration-color: #00af00\">128</span>)                 │               <span style=\"color: #00af00; text-decoration-color: #00af00\">0</span> │\n",
              "├──────────────────────────────────────┼─────────────────────────────┼─────────────────┤\n",
              "│ dense_1 (<span style=\"color: #0087ff; text-decoration-color: #0087ff\">Dense</span>)                      │ (<span style=\"color: #00d7ff; text-decoration-color: #00d7ff\">None</span>, <span style=\"color: #00af00; text-decoration-color: #00af00\">9</span>)                   │           <span style=\"color: #00af00; text-decoration-color: #00af00\">1,161</span> │\n",
              "└──────────────────────────────────────┴─────────────────────────────┴─────────────────┘\n",
              "</pre>\n"
            ]
          },
          "metadata": {}
        },
        {
          "output_type": "display_data",
          "data": {
            "text/plain": [
              "\u001b[1m Total params: \u001b[0m\u001b[38;5;34m1,571,273\u001b[0m (5.99 MB)\n"
            ],
            "text/html": [
              "<pre style=\"white-space:pre;overflow-x:auto;line-height:normal;font-family:Menlo,'DejaVu Sans Mono',consolas,'Courier New',monospace\"><span style=\"font-weight: bold\"> Total params: </span><span style=\"color: #00af00; text-decoration-color: #00af00\">1,571,273</span> (5.99 MB)\n",
              "</pre>\n"
            ]
          },
          "metadata": {}
        },
        {
          "output_type": "display_data",
          "data": {
            "text/plain": [
              "\u001b[1m Trainable params: \u001b[0m\u001b[38;5;34m1,570,313\u001b[0m (5.99 MB)\n"
            ],
            "text/html": [
              "<pre style=\"white-space:pre;overflow-x:auto;line-height:normal;font-family:Menlo,'DejaVu Sans Mono',consolas,'Courier New',monospace\"><span style=\"font-weight: bold\"> Trainable params: </span><span style=\"color: #00af00; text-decoration-color: #00af00\">1,570,313</span> (5.99 MB)\n",
              "</pre>\n"
            ]
          },
          "metadata": {}
        },
        {
          "output_type": "display_data",
          "data": {
            "text/plain": [
              "\u001b[1m Non-trainable params: \u001b[0m\u001b[38;5;34m960\u001b[0m (3.75 KB)\n"
            ],
            "text/html": [
              "<pre style=\"white-space:pre;overflow-x:auto;line-height:normal;font-family:Menlo,'DejaVu Sans Mono',consolas,'Courier New',monospace\"><span style=\"font-weight: bold\"> Non-trainable params: </span><span style=\"color: #00af00; text-decoration-color: #00af00\">960</span> (3.75 KB)\n",
              "</pre>\n"
            ]
          },
          "metadata": {}
        }
      ],
      "source": [
        "import os\n",
        "import numpy as np\n",
        "from sklearn.model_selection import train_test_split\n",
        "from tensorflow.keras.preprocessing.image import ImageDataGenerator\n",
        "import pandas as pd\n",
        "import matplotlib.pyplot as plt\n",
        "from tensorflow.keras.models import Sequential\n",
        "from tensorflow.keras.layers import Conv2D, MaxPooling2D, Flatten, Dense, Dropout, BatchNormalization\n",
        "from tensorflow.keras.optimizers import Adam\n",
        "\n",
        "# Download and unzip the dataset\n",
        "!wget https://archive.ics.uci.edu/static/public/908/realwaste.zip -O /content/realwaste.zip\n",
        "!unzip -q /content/realwaste.zip -d /content/dataset\n",
        "\n",
        "# Define dataset path\n",
        "dataset_path = '/content/dataset/realwaste-main/RealWaste'\n",
        "\n",
        "# List all images and their categories\n",
        "categories = os.listdir(dataset_path)\n",
        "image_paths = []\n",
        "labels = []\n",
        "\n",
        "# Collect all image paths and corresponding labels\n",
        "for label, category in enumerate(categories):\n",
        "    category_path = os.path.join(dataset_path, category)\n",
        "    for img_file in os.listdir(category_path):\n",
        "        image_paths.append(os.path.join(category_path, img_file))\n",
        "        labels.append(label)\n",
        "\n",
        "# Convert to numpy arrays\n",
        "image_paths = np.array(image_paths)\n",
        "labels = np.array(labels)\n",
        "\n",
        "# Define a function to preprocess all images\n",
        "from tqdm import tqdm  # Install via pip if not already installed\n",
        "def preprocess_all_images(image_paths, labels, target_size=(128, 128)):  # Adjusted size for faster processing\n",
        "    datagen = ImageDataGenerator(rescale=1.0 / 255)\n",
        "    processed_images = []\n",
        "    for i, path in tqdm(enumerate(image_paths), total=len(image_paths), desc=\"Processing Images\"):\n",
        "        img = datagen.flow_from_dataframe(\n",
        "            dataframe=pd.DataFrame({'filename': [path], 'class': [str(labels[i])]}),\n",
        "            x_col='filename',\n",
        "            y_col='class',\n",
        "            target_size=target_size,\n",
        "            batch_size=1,\n",
        "            class_mode=None,\n",
        "            shuffle=False\n",
        "        )[0]\n",
        "        processed_images.append(img[0])  # Extract the processed image array\n",
        "    return np.array(processed_images), labels\n",
        "\n",
        "# Preprocess all images\n",
        "processed_images, processed_labels = preprocess_all_images(image_paths, labels)\n",
        "\n",
        "# Split preprocessed data into train, validation, and test sets\n",
        "train_images, temp_images, train_labels, temp_labels = train_test_split(\n",
        "    processed_images, processed_labels, test_size=0.4, random_state=42\n",
        ")\n",
        "val_images, test_images, val_labels, test_labels = train_test_split(\n",
        "    temp_images, temp_labels, test_size=0.5, random_state=42\n",
        ")\n",
        "\n",
        "# Print split results\n",
        "print(f\"Train samples: {len(train_images)}\")\n",
        "print(f\"Validation samples: {len(val_images)}\")\n",
        "print(f\"Test samples: {len(test_images)}\")\n",
        "\n",
        "# Calculate the number of classes based on unique labels in the training data\n",
        "num_classes = len(np.unique(train_labels))  # Ensure train_labels is correctly passed here\n",
        "\n",
        "# Define the CNN model\n",
        "model = Sequential()\n",
        "\n",
        "# First Convolutional Layer\n",
        "model.add(Conv2D(32, (3, 3), activation='relu', input_shape=(128, 128, 3)))  # Updated input size\n",
        "model.add(BatchNormalization())  # Add BatchNormalization here\n",
        "model.add(MaxPooling2D(pool_size=(2, 2)))\n",
        "\n",
        "# Second Convolutional Layer\n",
        "model.add(Conv2D(64, (3, 3), activation='relu'))\n",
        "model.add(BatchNormalization())  # Add BatchNormalization here\n",
        "model.add(MaxPooling2D(pool_size=(2, 2)))\n",
        "\n",
        "# Third Convolutional Layer\n",
        "model.add(Conv2D(128, (3, 3), activation='relu'))\n",
        "model.add(BatchNormalization())  # Add BatchNormalization here\n",
        "model.add(MaxPooling2D(pool_size=(2, 2)))\n",
        "\n",
        "# Fourth Convolutional Layer\n",
        "model.add(Conv2D(256, (3, 3), activation='relu'))\n",
        "model.add(BatchNormalization())  # Add BatchNormalization here\n",
        "model.add(MaxPooling2D(pool_size=(2, 2)))\n",
        "\n",
        "# Flatten the output\n",
        "model.add(Flatten())\n",
        "\n",
        "# Fully Connected Layer\n",
        "model.add(Dense(128, activation='relu'))\n",
        "model.add(Dropout(0.5))  # Increase dropout here as well\n",
        "\n",
        "# Output Layer with softmax activation for multi-class classification\n",
        "model.add(Dense(num_classes, activation='softmax'))\n",
        "\n",
        "# Compile the model with Adam optimizer and sparse categorical crossentropy loss\n",
        "optimizer = Adam(learning_rate=0.0001)\n",
        "model.compile(optimizer=optimizer, loss='sparse_categorical_crossentropy', metrics=['accuracy'])\n",
        "\n",
        "# Summary of the model\n",
        "model.summary()\n"
      ]
    },
    {
      "cell_type": "code",
      "source": [
        "# Train the model\n",
        "history = model.fit(\n",
        "    x=train_images,\n",
        "    y=train_labels,\n",
        "    batch_size=32,\n",
        "    epochs=20,\n",
        "    validation_data=(val_images, val_labels)\n",
        ")\n",
        "\n",
        "# Plot training & validation loss and accuracy\n",
        "plt.figure(figsize=(12, 6))\n",
        "\n",
        "# Plot Training and Validation Loss\n",
        "plt.subplot(1, 2, 1)\n",
        "plt.plot(history.history['loss'], label='Training Loss')\n",
        "plt.plot(history.history['val_loss'], label='Validation Loss')\n",
        "plt.title('Training and Validation Loss')\n",
        "plt.xlabel('Epochs')\n",
        "plt.ylabel('Loss')\n",
        "plt.legend()\n",
        "\n",
        "# Plot Training and Validation Accuracy\n",
        "plt.subplot(1, 2, 2)\n",
        "plt.plot(history.history['accuracy'], label='Training Accuracy')\n",
        "plt.plot(history.history['val_accuracy'], label='Validation Accuracy')\n",
        "plt.title('Training and Validation Accuracy')\n",
        "plt.xlabel('Epochs')\n",
        "plt.ylabel('Accuracy')\n",
        "plt.legend()\n",
        "\n",
        "plt.show()"
      ],
      "metadata": {
        "colab": {
          "base_uri": "https://localhost:8080/",
          "height": 1000
        },
        "id": "5DmhQqJ-JVWB",
        "outputId": "827b45f2-e4a6-4d03-96d9-c52bb5e8d2ae"
      },
      "execution_count": null,
      "outputs": [
        {
          "output_type": "stream",
          "name": "stdout",
          "text": [
            "Epoch 1/20\n",
            "\u001b[1m90/90\u001b[0m \u001b[32m━━━━━━━━━━━━━━━━━━━━\u001b[0m\u001b[37m\u001b[0m \u001b[1m162s\u001b[0m 2s/step - accuracy: 0.2853 - loss: 2.4274 - val_accuracy: 0.0863 - val_loss: 5.5273\n",
            "Epoch 2/20\n",
            "\u001b[1m90/90\u001b[0m \u001b[32m━━━━━━━━━━━━━━━━━━━━\u001b[0m\u001b[37m\u001b[0m \u001b[1m212s\u001b[0m 2s/step - accuracy: 0.4834 - loss: 1.4579 - val_accuracy: 0.0863 - val_loss: 8.4169\n",
            "Epoch 3/20\n",
            "\u001b[1m90/90\u001b[0m \u001b[32m━━━━━━━━━━━━━━━━━━━━\u001b[0m\u001b[37m\u001b[0m \u001b[1m210s\u001b[0m 2s/step - accuracy: 0.5630 - loss: 1.2304 - val_accuracy: 0.0863 - val_loss: 7.0135\n",
            "Epoch 4/20\n",
            "\u001b[1m90/90\u001b[0m \u001b[32m━━━━━━━━━━━━━━━━━━━━\u001b[0m\u001b[37m\u001b[0m \u001b[1m187s\u001b[0m 2s/step - accuracy: 0.6483 - loss: 0.9980 - val_accuracy: 0.1032 - val_loss: 6.4528\n",
            "Epoch 5/20\n",
            "\u001b[1m90/90\u001b[0m \u001b[32m━━━━━━━━━━━━━━━━━━━━\u001b[0m\u001b[37m\u001b[0m \u001b[1m213s\u001b[0m 2s/step - accuracy: 0.6738 - loss: 0.8676 - val_accuracy: 0.2505 - val_loss: 3.3978\n",
            "Epoch 6/20\n",
            "\u001b[1m90/90\u001b[0m \u001b[32m━━━━━━━━━━━━━━━━━━━━\u001b[0m\u001b[37m\u001b[0m \u001b[1m203s\u001b[0m 2s/step - accuracy: 0.7391 - loss: 0.7155 - val_accuracy: 0.4116 - val_loss: 1.9235\n",
            "Epoch 7/20\n",
            "\u001b[1m90/90\u001b[0m \u001b[32m━━━━━━━━━━━━━━━━━━━━\u001b[0m\u001b[37m\u001b[0m \u001b[1m191s\u001b[0m 2s/step - accuracy: 0.7935 - loss: 0.6003 - val_accuracy: 0.5495 - val_loss: 1.3176\n",
            "Epoch 8/20\n",
            "\u001b[1m90/90\u001b[0m \u001b[32m━━━━━━━━━━━━━━━━━━━━\u001b[0m\u001b[37m\u001b[0m \u001b[1m200s\u001b[0m 2s/step - accuracy: 0.7944 - loss: 0.6102 - val_accuracy: 0.6221 - val_loss: 1.1875\n",
            "Epoch 9/20\n",
            "\u001b[1m90/90\u001b[0m \u001b[32m━━━━━━━━━━━━━━━━━━━━\u001b[0m\u001b[37m\u001b[0m \u001b[1m161s\u001b[0m 2s/step - accuracy: 0.8333 - loss: 0.4735 - val_accuracy: 0.6168 - val_loss: 1.1431\n",
            "Epoch 10/20\n",
            "\u001b[1m90/90\u001b[0m \u001b[32m━━━━━━━━━━━━━━━━━━━━\u001b[0m\u001b[37m\u001b[0m \u001b[1m202s\u001b[0m 2s/step - accuracy: 0.8780 - loss: 0.3604 - val_accuracy: 0.6642 - val_loss: 1.0454\n",
            "Epoch 11/20\n",
            "\u001b[1m90/90\u001b[0m \u001b[32m━━━━━━━━━━━━━━━━━━━━\u001b[0m\u001b[37m\u001b[0m \u001b[1m205s\u001b[0m 2s/step - accuracy: 0.8846 - loss: 0.3193 - val_accuracy: 0.6558 - val_loss: 1.1086\n",
            "Epoch 12/20\n",
            "\u001b[1m90/90\u001b[0m \u001b[32m━━━━━━━━━━━━━━━━━━━━\u001b[0m\u001b[37m\u001b[0m \u001b[1m199s\u001b[0m 2s/step - accuracy: 0.9059 - loss: 0.2812 - val_accuracy: 0.6611 - val_loss: 1.0378\n",
            "Epoch 13/20\n",
            "\u001b[1m90/90\u001b[0m \u001b[32m━━━━━━━━━━━━━━━━━━━━\u001b[0m\u001b[37m\u001b[0m \u001b[1m203s\u001b[0m 2s/step - accuracy: 0.9257 - loss: 0.2332 - val_accuracy: 0.6537 - val_loss: 1.0888\n",
            "Epoch 14/20\n",
            "\u001b[1m90/90\u001b[0m \u001b[32m━━━━━━━━━━━━━━━━━━━━\u001b[0m\u001b[37m\u001b[0m \u001b[1m201s\u001b[0m 2s/step - accuracy: 0.9131 - loss: 0.2678 - val_accuracy: 0.6747 - val_loss: 1.0673\n",
            "Epoch 15/20\n",
            "\u001b[1m90/90\u001b[0m \u001b[32m━━━━━━━━━━━━━━━━━━━━\u001b[0m\u001b[37m\u001b[0m \u001b[1m212s\u001b[0m 2s/step - accuracy: 0.9271 - loss: 0.2171 - val_accuracy: 0.6768 - val_loss: 1.0678\n",
            "Epoch 16/20\n",
            "\u001b[1m90/90\u001b[0m \u001b[32m━━━━━━━━━━━━━━━━━━━━\u001b[0m\u001b[37m\u001b[0m \u001b[1m199s\u001b[0m 2s/step - accuracy: 0.9591 - loss: 0.1451 - val_accuracy: 0.6811 - val_loss: 1.0199\n",
            "Epoch 17/20\n",
            "\u001b[1m90/90\u001b[0m \u001b[32m━━━━━━━━━━━━━━━━━━━━\u001b[0m\u001b[37m\u001b[0m \u001b[1m195s\u001b[0m 2s/step - accuracy: 0.9576 - loss: 0.1285 - val_accuracy: 0.6684 - val_loss: 1.1625\n",
            "Epoch 18/20\n",
            "\u001b[1m90/90\u001b[0m \u001b[32m━━━━━━━━━━━━━━━━━━━━\u001b[0m\u001b[37m\u001b[0m \u001b[1m159s\u001b[0m 2s/step - accuracy: 0.9544 - loss: 0.1362 - val_accuracy: 0.6737 - val_loss: 1.1185\n",
            "Epoch 19/20\n",
            "\u001b[1m90/90\u001b[0m \u001b[32m━━━━━━━━━━━━━━━━━━━━\u001b[0m\u001b[37m\u001b[0m \u001b[1m161s\u001b[0m 2s/step - accuracy: 0.9532 - loss: 0.1555 - val_accuracy: 0.6695 - val_loss: 1.1350\n",
            "Epoch 20/20\n",
            "\u001b[1m90/90\u001b[0m \u001b[32m━━━━━━━━━━━━━━━━━━━━\u001b[0m\u001b[37m\u001b[0m \u001b[1m201s\u001b[0m 2s/step - accuracy: 0.9775 - loss: 0.0939 - val_accuracy: 0.6663 - val_loss: 1.1880\n"
          ]
        },
        {
          "output_type": "display_data",
          "data": {
            "text/plain": [
              "<Figure size 1200x600 with 2 Axes>"
            ],
            "image/png": "[encoded data removed]"
          },
          "metadata": {}
        }
      ]
    },
    {
      "cell_type": "code",
      "source": [],
      "metadata": {
        "id": "J0611eMnHKgr"
      },
      "execution_count": null,
      "outputs": []
    },
    {
      "cell_type": "code",
      "source": [
        "\n",
        "# Function to create the model\n",
        "def create_model(learning_rate):\n",
        "    model = Sequential()\n",
        "\n",
        "    # First Convolutional Layer\n",
        "    model.add(Conv2D(32, (3, 3), activation='relu', input_shape=(128, 128, 3)))  # Updated input size\n",
        "    model.add(BatchNormalization())  # Add BatchNormalization here\n",
        "    model.add(MaxPooling2D(pool_size=(2, 2)))\n",
        "\n",
        "    # Second Convolutional Layer\n",
        "    model.add(Conv2D(64, (3, 3), activation='relu'))\n",
        "    model.add(BatchNormalization())  # Add BatchNormalization here\n",
        "    model.add(MaxPooling2D(pool_size=(2, 2)))\n",
        "\n",
        "    # Third Convolutional Layer\n",
        "    model.add(Conv2D(128, (3, 3), activation='relu'))\n",
        "    model.add(BatchNormalization())  # Add BatchNormalization here\n",
        "    model.add(MaxPooling2D(pool_size=(2, 2)))\n",
        "\n",
        "    # Fourth Convolutional Layer\n",
        "    model.add(Conv2D(256, (3, 3), activation='relu'))\n",
        "    model.add(BatchNormalization())  # Add BatchNormalization here\n",
        "    model.add(MaxPooling2D(pool_size=(2, 2)))\n",
        "\n",
        "    # Flatten the output\n",
        "    model.add(Flatten())\n",
        "\n",
        "    # Fully Connected Layer\n",
        "    model.add(Dense(128, activation='relu'))\n",
        "    model.add(Dropout(0.5))  # Increase dropout here as well\n",
        "\n",
        "    # Output Layer with softmax activation for multi-class classification\n",
        "    model.add(Dense(num_classes, activation='softmax'))\n",
        "\n",
        "    # Compile the model with Adam optimizer and sparse categorical crossentropy loss\n",
        "    optimizer = Adam(learning_rate=learning_rate)\n",
        "    model.compile(optimizer=optimizer, loss='sparse_categorical_crossentropy', metrics=['accuracy'])\n",
        "\n",
        "    return model\n",
        "\n",
        "# List of different learning rates to experiment with\n",
        "learning_rates = [0.0001, 0.001, 0.01, 0.1]\n",
        "\n",
        "# Store histories of each model for plotting later\n",
        "histories = []\n",
        "\n",
        "# Train the model with different learning rates\n",
        "for lr in learning_rates:\n",
        "    print(f\"Training model with learning rate: {lr}\")\n",
        "    model = create_model(lr)\n",
        "\n",
        "    # Train the model for 20 epochs without early stopping\n",
        "    history = model.fit(\n",
        "        x=train_images,\n",
        "        y=train_labels,\n",
        "        batch_size=32,\n",
        "        epochs=20,  # Train for a fixed 20 epochs\n",
        "        validation_data=(val_images, val_labels),\n",
        "        verbose=1\n",
        "    )\n",
        "\n",
        "    histories.append(history)\n",
        "\n",
        "# Plot training & validation loss and accuracy for all models\n",
        "plt.figure(figsize=(16, 8))\n",
        "\n",
        "# Plot Training and Validation Loss\n",
        "plt.subplot(1, 2, 1)\n",
        "for i, lr in enumerate(learning_rates):\n",
        "    plt.plot(histories[i].history['loss'], label=f'LR={lr} Training Loss')\n",
        "    plt.plot(histories[i].history['val_loss'], label=f'LR={lr} Validation Loss')\n",
        "plt.title('Training and Validation Loss for Different Learning Rates')\n",
        "plt.xlabel('Epochs')\n",
        "plt.ylabel('Loss')\n",
        "plt.legend()\n",
        "\n",
        "# Plot Training and Validation Accuracy\n",
        "plt.subplot(1, 2, 2)\n",
        "for i, lr in enumerate(learning_rates):\n",
        "    plt.plot(histories[i].history['accuracy'], label=f'LR={lr} Training Accuracy')\n",
        "    plt.plot(histories[i].history['val_accuracy'], label=f'LR={lr} Validation Accuracy')\n",
        "plt.title('Training and Validation Accuracy for Different Learning Rates')\n",
        "plt.xlabel('Epochs')\n",
        "plt.ylabel('Accuracy')\n",
        "plt.legend()\n",
        "\n",
        "plt.show()\n"
      ],
      "metadata": {
        "colab": {
          "base_uri": "https://localhost:8080/",
          "height": 1000
        },
        "id": "7zFixOTbWwMq",
        "outputId": "c13e3b10-eccc-4271-83d1-ce93e5d42df7"
      },
      "execution_count": null,
      "outputs": [
        {
          "output_type": "stream",
          "name": "stdout",
          "text": [
            "Training model with learning rate: 0.0001\n",
            "Epoch 1/20\n",
            "\u001b[1m90/90\u001b[0m \u001b[32m━━━━━━━━━━━━━━━━━━━━\u001b[0m\u001b[37m\u001b[0m \u001b[1m12s\u001b[0m 75ms/step - accuracy: 0.2707 - loss: 2.5375 - val_accuracy: 0.0905 - val_loss: 4.5997\n",
            "Epoch 2/20\n",
            "\u001b[1m90/90\u001b[0m \u001b[32m━━━━━━━━━━━━━━━━━━━━\u001b[0m\u001b[37m\u001b[0m \u001b[1m3s\u001b[0m 23ms/step - accuracy: 0.4776 - loss: 1.4613 - val_accuracy: 0.0905 - val_loss: 7.0906\n",
            "Epoch 3/20\n",
            "\u001b[1m90/90\u001b[0m \u001b[32m━━━━━━━━━━━━━━━━━━━━\u001b[0m\u001b[37m\u001b[0m \u001b[1m2s\u001b[0m 23ms/step - accuracy: 0.5632 - loss: 1.2509 - val_accuracy: 0.0905 - val_loss: 8.6685\n",
            "Epoch 4/20\n",
            "\u001b[1m90/90\u001b[0m \u001b[32m━━━━━━━━━━━━━━━━━━━━\u001b[0m\u001b[37m\u001b[0m \u001b[1m3s\u001b[0m 24ms/step - accuracy: 0.6426 - loss: 1.0156 - val_accuracy: 0.1168 - val_loss: 5.9815\n",
            "Epoch 5/20\n",
            "\u001b[1m90/90\u001b[0m \u001b[32m━━━━━━━━━━━━━━━━━━━━\u001b[0m\u001b[37m\u001b[0m \u001b[1m2s\u001b[0m 24ms/step - accuracy: 0.6758 - loss: 0.8742 - val_accuracy: 0.2716 - val_loss: 3.3141\n",
            "Epoch 6/20\n",
            "\u001b[1m90/90\u001b[0m \u001b[32m━━━━━━━━━━━━━━━━━━━━\u001b[0m\u001b[37m\u001b[0m \u001b[1m2s\u001b[0m 25ms/step - accuracy: 0.7247 - loss: 0.7856 - val_accuracy: 0.4126 - val_loss: 1.8835\n",
            "Epoch 7/20\n",
            "\u001b[1m90/90\u001b[0m \u001b[32m━━━━━━━━━━━━━━━━━━━━\u001b[0m\u001b[37m\u001b[0m \u001b[1m2s\u001b[0m 23ms/step - accuracy: 0.7675 - loss: 0.6492 - val_accuracy: 0.6095 - val_loss: 1.1515\n",
            "Epoch 8/20\n",
            "\u001b[1m90/90\u001b[0m \u001b[32m━━━━━━━━━━━━━━━━━━━━\u001b[0m\u001b[37m\u001b[0m \u001b[1m3s\u001b[0m 22ms/step - accuracy: 0.7861 - loss: 0.6090 - val_accuracy: 0.6621 - val_loss: 0.9792\n",
            "Epoch 9/20\n",
            "\u001b[1m90/90\u001b[0m \u001b[32m━━━━━━━━━━━━━━━━━━━━\u001b[0m\u001b[37m\u001b[0m \u001b[1m2s\u001b[0m 24ms/step - accuracy: 0.8217 - loss: 0.5185 - val_accuracy: 0.6821 - val_loss: 0.9122\n",
            "Epoch 10/20\n",
            "\u001b[1m90/90\u001b[0m \u001b[32m━━━━━━━━━━━━━━━━━━━━\u001b[0m\u001b[37m\u001b[0m \u001b[1m2s\u001b[0m 23ms/step - accuracy: 0.8339 - loss: 0.4669 - val_accuracy: 0.6589 - val_loss: 1.0241\n",
            "Epoch 11/20\n",
            "\u001b[1m90/90\u001b[0m \u001b[32m━━━━━━━━━━━━━━━━━━━━\u001b[0m\u001b[37m\u001b[0m \u001b[1m2s\u001b[0m 22ms/step - accuracy: 0.8685 - loss: 0.3837 - val_accuracy: 0.6916 - val_loss: 0.9430\n",
            "Epoch 12/20\n",
            "\u001b[1m90/90\u001b[0m \u001b[32m━━━━━━━━━━━━━━━━━━━━\u001b[0m\u001b[37m\u001b[0m \u001b[1m3s\u001b[0m 22ms/step - accuracy: 0.8754 - loss: 0.3688 - val_accuracy: 0.6768 - val_loss: 0.9949\n",
            "Epoch 13/20\n",
            "\u001b[1m90/90\u001b[0m \u001b[32m━━━━━━━━━━━━━━━━━━━━\u001b[0m\u001b[37m\u001b[0m \u001b[1m2s\u001b[0m 23ms/step - accuracy: 0.9001 - loss: 0.2837 - val_accuracy: 0.6874 - val_loss: 0.9847\n",
            "Epoch 14/20\n",
            "\u001b[1m90/90\u001b[0m \u001b[32m━━━━━━━━━━━━━━━━━━━━\u001b[0m\u001b[37m\u001b[0m \u001b[1m2s\u001b[0m 25ms/step - accuracy: 0.9011 - loss: 0.2726 - val_accuracy: 0.6947 - val_loss: 0.9326\n",
            "Epoch 15/20\n",
            "\u001b[1m90/90\u001b[0m \u001b[32m━━━━━━━━━━━━━━━━━━━━\u001b[0m\u001b[37m\u001b[0m \u001b[1m3s\u001b[0m 25ms/step - accuracy: 0.9076 - loss: 0.2752 - val_accuracy: 0.7032 - val_loss: 0.9854\n",
            "Epoch 16/20\n",
            "\u001b[1m90/90\u001b[0m \u001b[32m━━━━━━━━━━━━━━━━━━━━\u001b[0m\u001b[37m\u001b[0m \u001b[1m2s\u001b[0m 23ms/step - accuracy: 0.9265 - loss: 0.2126 - val_accuracy: 0.7011 - val_loss: 0.9579\n",
            "Epoch 17/20\n",
            "\u001b[1m90/90\u001b[0m \u001b[32m━━━━━━━━━━━━━━━━━━━━\u001b[0m\u001b[37m\u001b[0m \u001b[1m3s\u001b[0m 23ms/step - accuracy: 0.9414 - loss: 0.1702 - val_accuracy: 0.7053 - val_loss: 0.9940\n",
            "Epoch 18/20\n",
            "\u001b[1m90/90\u001b[0m \u001b[32m━━━━━━━━━━━━━━━━━━━━\u001b[0m\u001b[37m\u001b[0m \u001b[1m3s\u001b[0m 24ms/step - accuracy: 0.9417 - loss: 0.1616 - val_accuracy: 0.7032 - val_loss: 1.0275\n",
            "Epoch 19/20\n",
            "\u001b[1m90/90\u001b[0m \u001b[32m━━━━━━━━━━━━━━━━━━━━\u001b[0m\u001b[37m\u001b[0m \u001b[1m2s\u001b[0m 24ms/step - accuracy: 0.9547 - loss: 0.1349 - val_accuracy: 0.7137 - val_loss: 0.9961\n",
            "Epoch 20/20\n",
            "\u001b[1m90/90\u001b[0m \u001b[32m━━━━━━━━━━━━━━━━━━━━\u001b[0m\u001b[37m\u001b[0m \u001b[1m3s\u001b[0m 24ms/step - accuracy: 0.9509 - loss: 0.1494 - val_accuracy: 0.7232 - val_loss: 0.9547\n",
            "Training model with learning rate: 0.001\n",
            "Epoch 1/20\n",
            "\u001b[1m90/90\u001b[0m \u001b[32m━━━━━━━━━━━━━━━━━━━━\u001b[0m\u001b[37m\u001b[0m \u001b[1m11s\u001b[0m 75ms/step - accuracy: 0.2648 - loss: 3.3527 - val_accuracy: 0.1832 - val_loss: 5.1170\n",
            "Epoch 2/20\n",
            "\u001b[1m90/90\u001b[0m \u001b[32m━━━━━━━━━━━━━━━━━━━━\u001b[0m\u001b[37m\u001b[0m \u001b[1m2s\u001b[0m 23ms/step - accuracy: 0.3809 - loss: 1.8487 - val_accuracy: 0.0905 - val_loss: 6.4485\n",
            "Epoch 3/20\n",
            "\u001b[1m90/90\u001b[0m \u001b[32m━━━━━━━━━━━━━━━━━━━━\u001b[0m\u001b[37m\u001b[0m \u001b[1m3s\u001b[0m 24ms/step - accuracy: 0.3849 - loss: 1.7710 - val_accuracy: 0.1042 - val_loss: 9.1084\n",
            "Epoch 4/20\n",
            "\u001b[1m90/90\u001b[0m \u001b[32m━━━━━━━━━━━━━━━━━━━━\u001b[0m\u001b[37m\u001b[0m \u001b[1m2s\u001b[0m 24ms/step - accuracy: 0.4198 - loss: 1.5709 - val_accuracy: 0.1821 - val_loss: 4.8117\n",
            "Epoch 5/20\n",
            "\u001b[1m90/90\u001b[0m \u001b[32m━━━━━━━━━━━━━━━━━━━━\u001b[0m\u001b[37m\u001b[0m \u001b[1m2s\u001b[0m 24ms/step - accuracy: 0.4424 - loss: 1.5752 - val_accuracy: 0.2421 - val_loss: 3.8691\n",
            "Epoch 6/20\n",
            "\u001b[1m90/90\u001b[0m \u001b[32m━━━━━━━━━━━━━━━━━━━━\u001b[0m\u001b[37m\u001b[0m \u001b[1m3s\u001b[0m 24ms/step - accuracy: 0.4512 - loss: 1.4911 - val_accuracy: 0.3389 - val_loss: 3.5781\n",
            "Epoch 7/20\n",
            "\u001b[1m90/90\u001b[0m \u001b[32m━━━━━━━━━━━━━━━━━━━━\u001b[0m\u001b[37m\u001b[0m \u001b[1m2s\u001b[0m 22ms/step - accuracy: 0.4741 - loss: 1.4764 - val_accuracy: 0.4305 - val_loss: 1.7629\n",
            "Epoch 8/20\n",
            "\u001b[1m90/90\u001b[0m \u001b[32m━━━━━━━━━━━━━━━━━━━━\u001b[0m\u001b[37m\u001b[0m \u001b[1m2s\u001b[0m 23ms/step - accuracy: 0.4832 - loss: 1.3995 - val_accuracy: 0.4737 - val_loss: 1.8244\n",
            "Epoch 9/20\n",
            "\u001b[1m90/90\u001b[0m \u001b[32m━━━━━━━━━━━━━━━━━━━━\u001b[0m\u001b[37m\u001b[0m \u001b[1m3s\u001b[0m 24ms/step - accuracy: 0.5182 - loss: 1.3314 - val_accuracy: 0.5326 - val_loss: 1.3488\n",
            "Epoch 10/20\n",
            "\u001b[1m90/90\u001b[0m \u001b[32m━━━━━━━━━━━━━━━━━━━━\u001b[0m\u001b[37m\u001b[0m \u001b[1m3s\u001b[0m 24ms/step - accuracy: 0.5075 - loss: 1.2672 - val_accuracy: 0.5200 - val_loss: 1.3713\n",
            "Epoch 11/20\n",
            "\u001b[1m90/90\u001b[0m \u001b[32m━━━━━━━━━━━━━━━━━━━━\u001b[0m\u001b[37m\u001b[0m \u001b[1m2s\u001b[0m 26ms/step - accuracy: 0.5040 - loss: 1.3187 - val_accuracy: 0.5284 - val_loss: 1.5283\n",
            "Epoch 12/20\n",
            "\u001b[1m90/90\u001b[0m \u001b[32m━━━━━━━━━━━━━━━━━━━━\u001b[0m\u001b[37m\u001b[0m \u001b[1m2s\u001b[0m 24ms/step - accuracy: 0.5584 - loss: 1.1898 - val_accuracy: 0.4853 - val_loss: 1.7165\n",
            "Epoch 13/20\n",
            "\u001b[1m90/90\u001b[0m \u001b[32m━━━━━━━━━━━━━━━━━━━━\u001b[0m\u001b[37m\u001b[0m \u001b[1m2s\u001b[0m 24ms/step - accuracy: 0.5852 - loss: 1.0805 - val_accuracy: 0.6200 - val_loss: 1.1095\n",
            "Epoch 14/20\n",
            "\u001b[1m90/90\u001b[0m \u001b[32m━━━━━━━━━━━━━━━━━━━━\u001b[0m\u001b[37m\u001b[0m \u001b[1m2s\u001b[0m 22ms/step - accuracy: 0.6062 - loss: 1.0516 - val_accuracy: 0.5979 - val_loss: 1.4213\n",
            "Epoch 15/20\n",
            "\u001b[1m90/90\u001b[0m \u001b[32m━━━━━━━━━━━━━━━━━━━━\u001b[0m\u001b[37m\u001b[0m \u001b[1m2s\u001b[0m 23ms/step - accuracy: 0.5988 - loss: 1.1046 - val_accuracy: 0.4821 - val_loss: 2.1096\n",
            "Epoch 16/20\n",
            "\u001b[1m90/90\u001b[0m \u001b[32m━━━━━━━━━━━━━━━━━━━━\u001b[0m\u001b[37m\u001b[0m \u001b[1m3s\u001b[0m 26ms/step - accuracy: 0.6065 - loss: 0.9998 - val_accuracy: 0.5600 - val_loss: 1.5139\n",
            "Epoch 17/20\n",
            "\u001b[1m90/90\u001b[0m \u001b[32m━━━━━━━━━━━━━━━━━━━━\u001b[0m\u001b[37m\u001b[0m \u001b[1m2s\u001b[0m 25ms/step - accuracy: 0.6098 - loss: 0.9922 - val_accuracy: 0.4905 - val_loss: 2.0024\n",
            "Epoch 18/20\n",
            "\u001b[1m90/90\u001b[0m \u001b[32m━━━━━━━━━━━━━━━━━━━━\u001b[0m\u001b[37m\u001b[0m \u001b[1m2s\u001b[0m 23ms/step - accuracy: 0.6498 - loss: 0.9055 - val_accuracy: 0.5421 - val_loss: 1.4046\n",
            "Epoch 19/20\n",
            "\u001b[1m90/90\u001b[0m \u001b[32m━━━━━━━━━━━━━━━━━━━━\u001b[0m\u001b[37m\u001b[0m \u001b[1m2s\u001b[0m 23ms/step - accuracy: 0.6400 - loss: 0.9070 - val_accuracy: 0.4916 - val_loss: 1.9537\n",
            "Epoch 20/20\n",
            "\u001b[1m90/90\u001b[0m \u001b[32m━━━━━━━━━━━━━━━━━━━━\u001b[0m\u001b[37m\u001b[0m \u001b[1m2s\u001b[0m 23ms/step - accuracy: 0.6725 - loss: 0.9143 - val_accuracy: 0.5074 - val_loss: 1.5939\n",
            "Training model with learning rate: 0.01\n",
            "Epoch 1/20\n",
            "\u001b[1m90/90\u001b[0m \u001b[32m━━━━━━━━━━━━━━━━━━━━\u001b[0m\u001b[37m\u001b[0m \u001b[1m12s\u001b[0m 69ms/step - accuracy: 0.2229 - loss: 14.4415 - val_accuracy: 0.1884 - val_loss: 2.1576\n",
            "Epoch 2/20\n",
            "\u001b[1m90/90\u001b[0m \u001b[32m━━━━━━━━━━━━━━━━━━━━\u001b[0m\u001b[37m\u001b[0m \u001b[1m2s\u001b[0m 26ms/step - accuracy: 0.2120 - loss: 2.1429 - val_accuracy: 0.1884 - val_loss: 2.1509\n",
            "Epoch 3/20\n",
            "\u001b[1m90/90\u001b[0m \u001b[32m━━━━━━━━━━━━━━━━━━━━\u001b[0m\u001b[37m\u001b[0m \u001b[1m2s\u001b[0m 26ms/step - accuracy: 0.2069 - loss: 2.1407 - val_accuracy: 0.1937 - val_loss: 2.1425\n",
            "Epoch 4/20\n",
            "\u001b[1m90/90\u001b[0m \u001b[32m━━━━━━━━━━━━━━━━━━━━\u001b[0m\u001b[37m\u001b[0m \u001b[1m2s\u001b[0m 24ms/step - accuracy: 0.2005 - loss: 2.1308 - val_accuracy: 0.1737 - val_loss: 2.2286\n",
            "Epoch 5/20\n",
            "\u001b[1m90/90\u001b[0m \u001b[32m━━━━━━━━━━━━━━━━━━━━\u001b[0m\u001b[37m\u001b[0m \u001b[1m2s\u001b[0m 23ms/step - accuracy: 0.2063 - loss: 2.1036 - val_accuracy: 0.1916 - val_loss: 2.1430\n",
            "Epoch 6/20\n",
            "\u001b[1m90/90\u001b[0m \u001b[32m━━━━━━━━━━━━━━━━━━━━\u001b[0m\u001b[37m\u001b[0m \u001b[1m2s\u001b[0m 24ms/step - accuracy: 0.2077 - loss: 2.1219 - val_accuracy: 0.1895 - val_loss: 2.1508\n",
            "Epoch 7/20\n",
            "\u001b[1m90/90\u001b[0m \u001b[32m━━━━━━━━━━━━━━━━━━━━\u001b[0m\u001b[37m\u001b[0m \u001b[1m3s\u001b[0m 24ms/step - accuracy: 0.1995 - loss: 2.1379 - val_accuracy: 0.2168 - val_loss: 2.0744\n",
            "Epoch 8/20\n",
            "\u001b[1m90/90\u001b[0m \u001b[32m━━━━━━━━━━━━━━━━━━━━\u001b[0m\u001b[37m\u001b[0m \u001b[1m3s\u001b[0m 26ms/step - accuracy: 0.2176 - loss: 2.0925 - val_accuracy: 0.1316 - val_loss: 5.5261\n",
            "Epoch 9/20\n",
            "\u001b[1m90/90\u001b[0m \u001b[32m━━━━━━━━━━━━━━━━━━━━\u001b[0m\u001b[37m\u001b[0m \u001b[1m2s\u001b[0m 22ms/step - accuracy: 0.2239 - loss: 2.1200 - val_accuracy: 0.2137 - val_loss: 2.0689\n",
            "Epoch 10/20\n",
            "\u001b[1m90/90\u001b[0m \u001b[32m━━━━━━━━━━━━━━━━━━━━\u001b[0m\u001b[37m\u001b[0m \u001b[1m2s\u001b[0m 24ms/step - accuracy: 0.2228 - loss: 2.0881 - val_accuracy: 0.1905 - val_loss: 2.1542\n",
            "Epoch 11/20\n",
            "\u001b[1m90/90\u001b[0m \u001b[32m━━━━━━━━━━━━━━━━━━━━\u001b[0m\u001b[37m\u001b[0m \u001b[1m2s\u001b[0m 23ms/step - accuracy: 0.2141 - loss: 2.0797 - val_accuracy: 0.1874 - val_loss: 2.1545\n",
            "Epoch 12/20\n",
            "\u001b[1m90/90\u001b[0m \u001b[32m━━━━━━━━━━━━━━━━━━━━\u001b[0m\u001b[37m\u001b[0m \u001b[1m3s\u001b[0m 24ms/step - accuracy: 0.2004 - loss: 2.1141 - val_accuracy: 0.2147 - val_loss: 2.1893\n",
            "Epoch 13/20\n",
            "\u001b[1m90/90\u001b[0m \u001b[32m━━━━━━━━━━━━━━━━━━━━\u001b[0m\u001b[37m\u001b[0m \u001b[1m2s\u001b[0m 26ms/step - accuracy: 0.2179 - loss: 2.1731 - val_accuracy: 0.1926 - val_loss: 2.7963\n",
            "Epoch 14/20\n",
            "\u001b[1m90/90\u001b[0m \u001b[32m━━━━━━━━━━━━━━━━━━━━\u001b[0m\u001b[37m\u001b[0m \u001b[1m2s\u001b[0m 24ms/step - accuracy: 0.2083 - loss: 2.1197 - val_accuracy: 0.2221 - val_loss: 2.0613\n",
            "Epoch 15/20\n",
            "\u001b[1m90/90\u001b[0m \u001b[32m━━━━━━━━━━━━━━━━━━━━\u001b[0m\u001b[37m\u001b[0m \u001b[1m2s\u001b[0m 23ms/step - accuracy: 0.2144 - loss: 2.1047 - val_accuracy: 0.1947 - val_loss: 2.1391\n",
            "Epoch 16/20\n",
            "\u001b[1m90/90\u001b[0m \u001b[32m━━━━━━━━━━━━━━━━━━━━\u001b[0m\u001b[37m\u001b[0m \u001b[1m2s\u001b[0m 23ms/step - accuracy: 0.1999 - loss: 2.1101 - val_accuracy: 0.1884 - val_loss: 2.1535\n",
            "Epoch 17/20\n",
            "\u001b[1m90/90\u001b[0m \u001b[32m━━━━━━━━━━━━━━━━━━━━\u001b[0m\u001b[37m\u001b[0m \u001b[1m2s\u001b[0m 22ms/step - accuracy: 0.1999 - loss: 2.1505 - val_accuracy: 0.1895 - val_loss: 2.1545\n",
            "Epoch 18/20\n",
            "\u001b[1m90/90\u001b[0m \u001b[32m━━━━━━━━━━━━━━━━━━━━\u001b[0m\u001b[37m\u001b[0m \u001b[1m3s\u001b[0m 25ms/step - accuracy: 0.1967 - loss: 2.1394 - val_accuracy: 0.1895 - val_loss: 2.1498\n",
            "Epoch 19/20\n",
            "\u001b[1m90/90\u001b[0m \u001b[32m━━━━━━━━━━━━━━━━━━━━\u001b[0m\u001b[37m\u001b[0m \u001b[1m2s\u001b[0m 23ms/step - accuracy: 0.1971 - loss: 2.1363 - val_accuracy: 0.1884 - val_loss: 2.1483\n",
            "Epoch 20/20\n",
            "\u001b[1m90/90\u001b[0m \u001b[32m━━━━━━━━━━━━━━━━━━━━\u001b[0m\u001b[37m\u001b[0m \u001b[1m2s\u001b[0m 23ms/step - accuracy: 0.2035 - loss: 2.1301 - val_accuracy: 0.1884 - val_loss: 2.1514\n",
            "Training model with learning rate: 0.1\n",
            "Epoch 1/20\n",
            "\u001b[1m90/90\u001b[0m \u001b[32m━━━━━━━━━━━━━━━━━━━━\u001b[0m\u001b[37m\u001b[0m \u001b[1m12s\u001b[0m 73ms/step - accuracy: 0.1796 - loss: 121.1524 - val_accuracy: 0.0547 - val_loss: 2916.0691\n",
            "Epoch 2/20\n",
            "\u001b[1m90/90\u001b[0m \u001b[32m━━━━━━━━━━━━━━━━━━━━\u001b[0m\u001b[37m\u001b[0m \u001b[1m3s\u001b[0m 23ms/step - accuracy: 0.1970 - loss: 2.1548 - val_accuracy: 0.1842 - val_loss: 11.7231\n",
            "Epoch 3/20\n",
            "\u001b[1m90/90\u001b[0m \u001b[32m━━━━━━━━━━━━━━━━━━━━\u001b[0m\u001b[37m\u001b[0m \u001b[1m2s\u001b[0m 24ms/step - accuracy: 0.2118 - loss: 2.1431 - val_accuracy: 0.1884 - val_loss: 2.1654\n",
            "Epoch 4/20\n",
            "\u001b[1m90/90\u001b[0m \u001b[32m━━━━━━━━━━━━━━━━━━━━\u001b[0m\u001b[37m\u001b[0m \u001b[1m2s\u001b[0m 23ms/step - accuracy: 0.1939 - loss: 2.1549 - val_accuracy: 0.1737 - val_loss: 2.1566\n",
            "Epoch 5/20\n",
            "\u001b[1m90/90\u001b[0m \u001b[32m━━━━━━━━━━━━━━━━━━━━\u001b[0m\u001b[37m\u001b[0m \u001b[1m2s\u001b[0m 25ms/step - accuracy: 0.1797 - loss: 2.1570 - val_accuracy: 0.1884 - val_loss: 2.1624\n",
            "Epoch 6/20\n",
            "\u001b[1m90/90\u001b[0m \u001b[32m━━━━━━━━━━━━━━━━━━━━\u001b[0m\u001b[37m\u001b[0m \u001b[1m2s\u001b[0m 23ms/step - accuracy: 0.1895 - loss: 2.1513 - val_accuracy: 0.1884 - val_loss: 2.1604\n",
            "Epoch 7/20\n",
            "\u001b[1m90/90\u001b[0m \u001b[32m━━━━━━━━━━━━━━━━━━━━\u001b[0m\u001b[37m\u001b[0m \u001b[1m3s\u001b[0m 24ms/step - accuracy: 0.1890 - loss: 2.1615 - val_accuracy: 0.1884 - val_loss: 2.1722\n",
            "Epoch 8/20\n",
            "\u001b[1m90/90\u001b[0m \u001b[32m━━━━━━━━━━━━━━━━━━━━\u001b[0m\u001b[37m\u001b[0m \u001b[1m2s\u001b[0m 22ms/step - accuracy: 0.1859 - loss: 2.1685 - val_accuracy: 0.1884 - val_loss: 2.1781\n",
            "Epoch 9/20\n",
            "\u001b[1m90/90\u001b[0m \u001b[32m━━━━━━━━━━━━━━━━━━━━\u001b[0m\u001b[37m\u001b[0m \u001b[1m3s\u001b[0m 24ms/step - accuracy: 0.1779 - loss: 2.1512 - val_accuracy: 0.1884 - val_loss: 2.1525\n",
            "Epoch 10/20\n",
            "\u001b[1m90/90\u001b[0m \u001b[32m━━━━━━━━━━━━━━━━━━━━\u001b[0m\u001b[37m\u001b[0m \u001b[1m2s\u001b[0m 26ms/step - accuracy: 0.1936 - loss: 2.1496 - val_accuracy: 0.1884 - val_loss: 2.1564\n",
            "Epoch 11/20\n",
            "\u001b[1m90/90\u001b[0m \u001b[32m━━━━━━━━━━━━━━━━━━━━\u001b[0m\u001b[37m\u001b[0m \u001b[1m2s\u001b[0m 24ms/step - accuracy: 0.2019 - loss: 2.1453 - val_accuracy: 0.1884 - val_loss: 2.1644\n",
            "Epoch 12/20\n",
            "\u001b[1m90/90\u001b[0m \u001b[32m━━━━━━━━━━━━━━━━━━━━\u001b[0m\u001b[37m\u001b[0m \u001b[1m2s\u001b[0m 23ms/step - accuracy: 0.1959 - loss: 2.1514 - val_accuracy: 0.1884 - val_loss: 2.1558\n",
            "Epoch 13/20\n",
            "\u001b[1m90/90\u001b[0m \u001b[32m━━━━━━━━━━━━━━━━━━━━\u001b[0m\u001b[37m\u001b[0m \u001b[1m2s\u001b[0m 23ms/step - accuracy: 0.1713 - loss: 2.1550 - val_accuracy: 0.1884 - val_loss: 2.1515\n",
            "Epoch 14/20\n",
            "\u001b[1m90/90\u001b[0m \u001b[32m━━━━━━━━━━━━━━━━━━━━\u001b[0m\u001b[37m\u001b[0m \u001b[1m2s\u001b[0m 23ms/step - accuracy: 0.1873 - loss: 2.1511 - val_accuracy: 0.1884 - val_loss: 2.1746\n",
            "Epoch 15/20\n",
            "\u001b[1m90/90\u001b[0m \u001b[32m━━━━━━━━━━━━━━━━━━━━\u001b[0m\u001b[37m\u001b[0m \u001b[1m2s\u001b[0m 25ms/step - accuracy: 0.1871 - loss: 2.1710 - val_accuracy: 0.1884 - val_loss: 2.1610\n",
            "Epoch 16/20\n",
            "\u001b[1m90/90\u001b[0m \u001b[32m━━━━━━━━━━━━━━━━━━━━\u001b[0m\u001b[37m\u001b[0m \u001b[1m2s\u001b[0m 24ms/step - accuracy: 0.1884 - loss: 2.1423 - val_accuracy: 0.1884 - val_loss: 2.1585\n",
            "Epoch 17/20\n",
            "\u001b[1m90/90\u001b[0m \u001b[32m━━━━━━━━━━━━━━━━━━━━\u001b[0m\u001b[37m\u001b[0m \u001b[1m2s\u001b[0m 23ms/step - accuracy: 0.2037 - loss: 2.1490 - val_accuracy: 0.1884 - val_loss: 2.1756\n",
            "Epoch 18/20\n",
            "\u001b[1m90/90\u001b[0m \u001b[32m━━━━━━━━━━━━━━━━━━━━\u001b[0m\u001b[37m\u001b[0m \u001b[1m2s\u001b[0m 24ms/step - accuracy: 0.1991 - loss: 2.1553 - val_accuracy: 0.1884 - val_loss: 2.1489\n",
            "Epoch 19/20\n",
            "\u001b[1m90/90\u001b[0m \u001b[32m━━━━━━━━━━━━━━━━━━━━\u001b[0m\u001b[37m\u001b[0m \u001b[1m2s\u001b[0m 23ms/step - accuracy: 0.2034 - loss: 2.1377 - val_accuracy: 0.1737 - val_loss: 2.1658\n",
            "Epoch 20/20\n",
            "\u001b[1m90/90\u001b[0m \u001b[32m━━━━━━━━━━━━━━━━━━━━\u001b[0m\u001b[37m\u001b[0m \u001b[1m2s\u001b[0m 25ms/step - accuracy: 0.1695 - loss: 2.1576 - val_accuracy: 0.1884 - val_loss: 2.1630\n"
          ]
        },
        {
          "output_type": "display_data",
          "data": {
            "text/plain": [
              "<Figure size 1600x800 with 2 Axes>"
            ],
            "image/png": "[encoded data removed]"
          },
          "metadata": {}
        }
      ]
    },
    {
      "cell_type": "code",
      "source": [
        "import matplotlib.pyplot as plt\n",
        "\n",
        "# Plot training & validation loss with higher resolution and starting from epoch 2\n",
        "plt.figure(figsize=(16, 8), dpi=200)  # Increase the DPI for higher resolution\n",
        "\n",
        "# Plot Training and Validation Loss starting from epoch 2\n",
        "for i, lr in enumerate(learning_rates):\n",
        "    plt.plot(histories[i].history['loss'][1:], label=f'LR={lr} Training Loss')  # Skip the first epoch\n",
        "    plt.plot(histories[i].history['val_loss'][1:], label=f'LR={lr} Validation Loss')  # Skip the first epoch\n",
        "\n",
        "plt.title('Training and Validation Loss for Different Learning Rates (Starting from Epoch 2)')\n",
        "plt.xlabel('Epochs')\n",
        "plt.ylabel('Loss')\n",
        "plt.legend()\n",
        "\n",
        "# Save the figure with a higher DPI\n",
        "plt.savefig('loss_graph_from_epoch_2_high_resolution.png', dpi=200)  # Save the plot with higher resolution\n",
        "plt.show()\n"
      ],
      "metadata": {
        "colab": {
          "base_uri": "https://localhost:8080/",
          "height": 775
        },
        "id": "MBN-AmzaY-Ix",
        "outputId": "57ae4a72-d680-45fb-a4e0-dc95c392dbb7"
      },
      "execution_count": null,
      "outputs": [
        {
          "output_type": "display_data",
          "data": {
            "text/plain": [
              "<Figure size 3200x1600 with 1 Axes>"
            ],
            "image/png": "[encoded data removed]"
          },
          "metadata": {}
        }
      ]
    },
    {
      "cell_type": "code",
      "source": [
        "# Train the model with learning rate 0.0001\n",
        "learning_rate = 0.0001\n",
        "model = create_model(learning_rate)\n",
        "\n",
        "# Train the model\n",
        "history = model.fit(\n",
        "    x=train_images,\n",
        "    y=train_labels,\n",
        "    batch_size=32,\n",
        "    epochs=20,  # Train for a fixed 20 epochs\n",
        "    validation_data=(val_images, val_labels),\n",
        "    verbose=1\n",
        ")\n",
        "\n",
        "# Evaluate the model on the test set\n",
        "test_loss, test_accuracy = model.evaluate(test_images, test_labels, verbose=0)\n",
        "print(f\"Model with learning rate {learning_rate}:\")\n",
        "print(f\"Test Loss = {test_loss:.4f}\")\n",
        "print(f\"Test Accuracy = {test_accuracy:.4f}\")\n",
        "\n",
        "# Predictions for the test set\n",
        "predictions = model.predict(test_images)\n",
        "predicted_classes = np.argmax(predictions, axis=1)\n",
        "\n",
        "# Generate and plot confusion matrix\n",
        "from sklearn.metrics import confusion_matrix, classification_report\n",
        "import seaborn as sns\n",
        "import matplotlib.pyplot as plt\n",
        "\n",
        "# Confusion Matrix\n",
        "cm = confusion_matrix(test_labels, predicted_classes)\n",
        "plt.figure(figsize=(8, 6))\n",
        "sns.heatmap(cm, annot=True, fmt='d', cmap='Blues')\n",
        "plt.title('Confusion Matrix (LR=0.0001)')\n",
        "plt.xlabel('Predicted')\n",
        "plt.ylabel('True')\n",
        "plt.show()\n",
        "\n",
        "# Precision, Recall, and F1-score\n",
        "from sklearn.metrics import precision_score, recall_score, f1_score\n",
        "\n",
        "precision = precision_score(test_labels, predicted_classes, average='weighted')\n",
        "recall = recall_score(test_labels, predicted_classes, average='weighted')\n",
        "f1 = f1_score(test_labels, predicted_classes, average='weighted')\n",
        "\n",
        "print(f\"Precision: {precision:.4f}\")\n",
        "print(f\"Recall: {recall:.4f}\")\n",
        "print(f\"F1-Score: {f1:.4f}\")\n",
        "\n",
        "# Print classification report\n",
        "print(\"\\nClassification Report:\")\n",
        "print(classification_report(test_labels, predicted_classes))\n"
      ],
      "metadata": {
        "colab": {
          "base_uri": "https://localhost:8080/",
          "height": 1000
        },
        "id": "fPpmYBmceG7b",
        "outputId": "e1b73e6d-a30b-4d61-8a7f-9756e757c08c"
      },
      "execution_count": null,
      "outputs": [
        {
          "output_type": "stream",
          "name": "stderr",
          "text": [
            "/usr/local/lib/python3.10/dist-packages/keras/src/layers/convolutional/base_conv.py:107: UserWarning: Do not pass an `input_shape`/`input_dim` argument to a layer. When using Sequential models, prefer using an `Input(shape)` object as the first layer in the model instead.\n",
            "  super().__init__(activity_regularizer=activity_regularizer, **kwargs)\n"
          ]
        },
        {
          "output_type": "stream",
          "name": "stdout",
          "text": [
            "Epoch 1/20\n",
            "\u001b[1m90/90\u001b[0m \u001b[32m━━━━━━━━━━━━━━━━━━━━\u001b[0m\u001b[37m\u001b[0m \u001b[1m15s\u001b[0m 79ms/step - accuracy: 0.2741 - loss: 2.5679 - val_accuracy: 0.0905 - val_loss: 4.9411\n",
            "Epoch 2/20\n",
            "\u001b[1m90/90\u001b[0m \u001b[32m━━━━━━━━━━━━━━━━━━━━\u001b[0m\u001b[37m\u001b[0m \u001b[1m3s\u001b[0m 23ms/step - accuracy: 0.4899 - loss: 1.4725 - val_accuracy: 0.0905 - val_loss: 7.4028\n",
            "Epoch 3/20\n",
            "\u001b[1m90/90\u001b[0m \u001b[32m━━━━━━━━━━━━━━━━━━━━\u001b[0m\u001b[37m\u001b[0m \u001b[1m2s\u001b[0m 22ms/step - accuracy: 0.5733 - loss: 1.2236 - val_accuracy: 0.0905 - val_loss: 8.5486\n",
            "Epoch 4/20\n",
            "\u001b[1m90/90\u001b[0m \u001b[32m━━━━━━━━━━━━━━━━━━━━\u001b[0m\u001b[37m\u001b[0m \u001b[1m2s\u001b[0m 24ms/step - accuracy: 0.6183 - loss: 1.0936 - val_accuracy: 0.1084 - val_loss: 6.2968\n",
            "Epoch 5/20\n",
            "\u001b[1m90/90\u001b[0m \u001b[32m━━━━━━━━━━━━━━━━━━━━\u001b[0m\u001b[37m\u001b[0m \u001b[1m2s\u001b[0m 24ms/step - accuracy: 0.6809 - loss: 0.9248 - val_accuracy: 0.2274 - val_loss: 3.5285\n",
            "Epoch 6/20\n",
            "\u001b[1m90/90\u001b[0m \u001b[32m━━━━━━━━━━━━━━━━━━━━\u001b[0m\u001b[37m\u001b[0m \u001b[1m3s\u001b[0m 24ms/step - accuracy: 0.7074 - loss: 0.8194 - val_accuracy: 0.4684 - val_loss: 1.5888\n",
            "Epoch 7/20\n",
            "\u001b[1m90/90\u001b[0m \u001b[32m━━━━━━━━━━━━━━━━━━━━\u001b[0m\u001b[37m\u001b[0m \u001b[1m3s\u001b[0m 24ms/step - accuracy: 0.7440 - loss: 0.7354 - val_accuracy: 0.5779 - val_loss: 1.2065\n",
            "Epoch 8/20\n",
            "\u001b[1m90/90\u001b[0m \u001b[32m━━━━━━━━━━━━━━━━━━━━\u001b[0m\u001b[37m\u001b[0m \u001b[1m2s\u001b[0m 22ms/step - accuracy: 0.7706 - loss: 0.6437 - val_accuracy: 0.6653 - val_loss: 0.9709\n",
            "Epoch 9/20\n",
            "\u001b[1m90/90\u001b[0m \u001b[32m━━━━━━━━━━━━━━━━━━━━\u001b[0m\u001b[37m\u001b[0m \u001b[1m2s\u001b[0m 23ms/step - accuracy: 0.7866 - loss: 0.6012 - val_accuracy: 0.6758 - val_loss: 0.9337\n",
            "Epoch 10/20\n",
            "\u001b[1m90/90\u001b[0m \u001b[32m━━━━━━━━━━━━━━━━━━━━\u001b[0m\u001b[37m\u001b[0m \u001b[1m2s\u001b[0m 23ms/step - accuracy: 0.8305 - loss: 0.4765 - val_accuracy: 0.6789 - val_loss: 0.9335\n",
            "Epoch 11/20\n",
            "\u001b[1m90/90\u001b[0m \u001b[32m━━━━━━━━━━━━━━━━━━━━\u001b[0m\u001b[37m\u001b[0m \u001b[1m3s\u001b[0m 26ms/step - accuracy: 0.8569 - loss: 0.4125 - val_accuracy: 0.6947 - val_loss: 0.9495\n",
            "Epoch 12/20\n",
            "\u001b[1m90/90\u001b[0m \u001b[32m━━━━━━━━━━━━━━━━━━━━\u001b[0m\u001b[37m\u001b[0m \u001b[1m2s\u001b[0m 24ms/step - accuracy: 0.8472 - loss: 0.4370 - val_accuracy: 0.6937 - val_loss: 0.9352\n",
            "Epoch 13/20\n",
            "\u001b[1m90/90\u001b[0m \u001b[32m━━━━━━━━━━━━━━━━━━━━\u001b[0m\u001b[37m\u001b[0m \u001b[1m2s\u001b[0m 23ms/step - accuracy: 0.8859 - loss: 0.3415 - val_accuracy: 0.6811 - val_loss: 0.9534\n",
            "Epoch 14/20\n",
            "\u001b[1m90/90\u001b[0m \u001b[32m━━━━━━━━━━━━━━━━━━━━\u001b[0m\u001b[37m\u001b[0m \u001b[1m2s\u001b[0m 23ms/step - accuracy: 0.8997 - loss: 0.3019 - val_accuracy: 0.7084 - val_loss: 0.9183\n",
            "Epoch 15/20\n",
            "\u001b[1m90/90\u001b[0m \u001b[32m━━━━━━━━━━━━━━━━━━━━\u001b[0m\u001b[37m\u001b[0m \u001b[1m2s\u001b[0m 22ms/step - accuracy: 0.9227 - loss: 0.2452 - val_accuracy: 0.7084 - val_loss: 0.8781\n",
            "Epoch 16/20\n",
            "\u001b[1m90/90\u001b[0m \u001b[32m━━━━━━━━━━━━━━━━━━━━\u001b[0m\u001b[37m\u001b[0m \u001b[1m2s\u001b[0m 24ms/step - accuracy: 0.9355 - loss: 0.2057 - val_accuracy: 0.7126 - val_loss: 0.8974\n",
            "Epoch 17/20\n",
            "\u001b[1m90/90\u001b[0m \u001b[32m━━━━━━━━━━━━━━━━━━━━\u001b[0m\u001b[37m\u001b[0m \u001b[1m2s\u001b[0m 24ms/step - accuracy: 0.9284 - loss: 0.1988 - val_accuracy: 0.7137 - val_loss: 0.9371\n",
            "Epoch 18/20\n",
            "\u001b[1m90/90\u001b[0m \u001b[32m━━━━━━━━━━━━━━━━━━━━\u001b[0m\u001b[37m\u001b[0m \u001b[1m2s\u001b[0m 22ms/step - accuracy: 0.9446 - loss: 0.1754 - val_accuracy: 0.7189 - val_loss: 0.9180\n",
            "Epoch 19/20\n",
            "\u001b[1m90/90\u001b[0m \u001b[32m━━━━━━━━━━━━━━━━━━━━\u001b[0m\u001b[37m\u001b[0m \u001b[1m3s\u001b[0m 22ms/step - accuracy: 0.9416 - loss: 0.1666 - val_accuracy: 0.7126 - val_loss: 0.9864\n",
            "Epoch 20/20\n",
            "\u001b[1m90/90\u001b[0m \u001b[32m━━━━━━━━━━━━━━━━━━━━\u001b[0m\u001b[37m\u001b[0m \u001b[1m3s\u001b[0m 24ms/step - accuracy: 0.9559 - loss: 0.1493 - val_accuracy: 0.7242 - val_loss: 0.9331\n",
            "Model with learning rate 0.0001:\n",
            "Test Loss = 1.0048\n",
            "Test Accuracy = 0.6887\n",
            "\u001b[1m30/30\u001b[0m \u001b[32m━━━━━━━━━━━━━━━━━━━━\u001b[0m\u001b[37m\u001b[0m \u001b[1m1s\u001b[0m 18ms/step\n"
          ]
        },
        {
          "output_type": "display_data",
          "data": {
            "text/plain": [
              "<Figure size 800x600 with 2 Axes>"
            ],
            "image/png": "[encoded data removed]"
          },
          "metadata": {}
        },
        {
          "output_type": "stream",
          "name": "stdout",
          "text": [
            "Precision: 0.6925\n",
            "Recall: 0.6887\n",
            "F1-Score: 0.6861\n",
            "\n",
            "Classification Report:\n",
            "              precision    recall  f1-score   support\n",
            "\n",
            "           0       0.53      0.32      0.40        66\n",
            "           1       0.74      0.81      0.78        81\n",
            "           2       0.70      0.71      0.70       164\n",
            "           3       0.49      0.59      0.54       103\n",
            "           4       0.68      0.70      0.69       184\n",
            "           5       0.81      0.63      0.71        92\n",
            "           6       0.65      0.69      0.67        95\n",
            "           7       0.77      0.90      0.83        80\n",
            "           8       0.89      0.76      0.82        86\n",
            "\n",
            "    accuracy                           0.69       951\n",
            "   macro avg       0.69      0.68      0.68       951\n",
            "weighted avg       0.69      0.69      0.69       951\n",
            "\n"
          ]
        }
      ]
    }
  ],
  "metadata": {
    "colab": {
      "provenance": [],
      "gpuType": "T4",
      "include_colab_link": true
    },
    "kernelspec": {
      "display_name": "Python 3",
      "name": "python3"
    },
    "language_info": {
      "name": "python"
    },
    "accelerator": "GPU"
  },
  "nbformat": 4,
  "nbformat_minor": 0
}