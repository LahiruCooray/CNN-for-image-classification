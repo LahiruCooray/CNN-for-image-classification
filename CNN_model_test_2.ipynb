{
  "cells": [
    {
      "cell_type": "markdown",
      "metadata": {
        "id": "view-in-github",
        "colab_type": "text"
      },
      "source": [
        "<a href=\"https://colab.research.google.com/github/nipuni1313/CNN-for-image-classification/blob/main/CNN_model_test_2.ipynb\" target=\"_parent\"><img src=\"https://colab.research.google.com/assets/colab-badge.svg\" alt=\"Open In Colab\"/></a>"
      ]
    },
    {
      "cell_type": "code",
      "execution_count": 10,
      "metadata": {
        "colab": {
          "base_uri": "https://localhost:8080/",
          "height": 1000
        },
        "id": "KWy_XxKkWINx",
        "outputId": "0532ead5-0777-4dbe-90ee-3d5d62452205"
      },
      "outputs": [
        {
          "output_type": "stream",
          "name": "stdout",
          "text": [
            "--2024-12-12 05:49:38--  https://archive.ics.uci.edu/static/public/908/realwaste.zip\n",
            "Resolving archive.ics.uci.edu (archive.ics.uci.edu)... 128.195.10.252\n",
            "Connecting to archive.ics.uci.edu (archive.ics.uci.edu)|128.195.10.252|:443... connected.\n",
            "HTTP request sent, awaiting response... 200 OK\n",
            "Length: unspecified\n",
            "Saving to: ‘/content/realwaste.zip’\n",
            "\n",
            "/content/realwaste.     [  <=>               ] 656.65M  96.3MB/s    in 7.2s    \n",
            "\n",
            "2024-12-12 05:49:45 (90.8 MB/s) - ‘/content/realwaste.zip’ saved [688545323]\n",
            "\n",
            "replace /content/dataset/realwaste-main/README.md? [y]es, [n]o, [A]ll, [N]one, [r]ename: "
          ]
        },
        {
          "output_type": "stream",
          "name": "stderr",
          "text": [
            "\rProcessing Images:   0%|          | 0/4752 [00:00<?, ?it/s]"
          ]
        },
        {
          "output_type": "stream",
          "name": "stdout",
          "text": [
            "Found 1 validated image filenames.\n",
            "Found 1 validated image filenames.\n",
            "Found 1 validated image filenames.\n",
            "Found 1 validated image filenames.\n",
            "Found 1 validated image filenames.\n",
            "Found 1 validated image filenames.\n",
            "Found 1 validated image filenames.\n",
            "Found 1 validated image filenames.\n",
            "Found 1 validated image filenames.\n",
            "Found 1 validated image filenames.\n",
            "Found 1 validated image filenames.\n"
          ]
        },
        {
          "output_type": "stream",
          "name": "stderr",
          "text": [
            "\rProcessing Images:   0%|          | 11/4752 [00:00<00:45, 104.03it/s]"
          ]
        },
        {
          "output_type": "stream",
          "name": "stdout",
          "text": [
            "Found 1 validated image filenames.\n",
            "Found 1 validated image filenames.\n",
            "Found 1 validated image filenames.\n",
            "Found 1 validated image filenames.\n",
            "Found 1 validated image filenames.\n",
            "Found 1 validated image filenames.\n",
            "Found 1 validated image filenames.\n",
            "Found 1 validated image filenames.\n",
            "Found 1 validated image filenames.\n",
            "Found 1 validated image filenames.\n",
            "Found 1 validated image filenames.\n",
            "Found 1 validated image filenames.\n"
          ]
        },
        {
          "output_type": "stream",
          "name": "stderr",
          "text": [
            "\rProcessing Images:   0%|          | 23/4752 [00:00<00:43, 109.31it/s]"
          ]
        },
        {
          "output_type": "stream",
          "name": "stdout",
          "text": [
            "Found 1 validated image filenames.\n",
            "Found 1 validated image filenames.\n",
            "Found 1 validated image filenames.\n",
            "Found 1 validated image filenames.\n",
            "Found 1 validated image filenames.\n",
            "Found 1 validated image filenames.\n",
            "Found 1 validated image filenames.\n",
            "Found 1 validated image filenames.\n",
            "Found 1 validated image filenames.\n",
            "Found 1 validated image filenames.\n",
            "Found 1 validated image filenames.\n"
          ]
        },
        {
          "output_type": "stream",
          "name": "stderr",
          "text": [
            "\rProcessing Images:   1%|          | 34/4752 [00:00<00:43, 108.58it/s]"
          ]
        },
        {
          "output_type": "stream",
          "name": "stdout",
          "text": [
            "Found 1 validated image filenames.\n",
            "Found 1 validated image filenames.\n",
            "Found 1 validated image filenames.\n",
            "Found 1 validated image filenames.\n",
            "Found 1 validated image filenames.\n",
            "Found 1 validated image filenames.\n",
            "Found 1 validated image filenames.\n",
            "Found 1 validated image filenames.\n",
            "Found 1 validated image filenames.\n",
            "Found 1 validated image filenames.\n",
            "Found 1 validated image filenames.\n"
          ]
        },
        {
          "output_type": "stream",
          "name": "stderr",
          "text": [
            "\rProcessing Images:   1%|          | 45/4752 [00:00<00:46, 102.01it/s]"
          ]
        },
        {
          "output_type": "stream",
          "name": "stdout",
          "text": [
            "Found 1 validated image filenames.\n",
            "Found 1 validated image filenames.\n",
            "Found 1 validated image filenames.\n",
            "Found 1 validated image filenames.\n",
            "Found 1 validated image filenames.\n",
            "Found 1 validated image filenames.\n",
            "Found 1 validated image filenames.\n",
            "Found 1 validated image filenames.\n",
            "Found 1 validated image filenames.\n",
            "Found 1 validated image filenames.\n",
            "Found 1 validated image filenames.\n"
          ]
        },
        {
          "output_type": "stream",
          "name": "stderr",
          "text": [
            "\rProcessing Images:   1%|          | 56/4752 [00:00<00:47, 99.32it/s] "
          ]
        },
        {
          "output_type": "stream",
          "name": "stdout",
          "text": [
            "Found 1 validated image filenames.\n",
            "Found 1 validated image filenames.\n",
            "Found 1 validated image filenames.\n",
            "Found 1 validated image filenames.\n",
            "Found 1 validated image filenames.\n",
            "Found 1 validated image filenames.\n",
            "Found 1 validated image filenames.\n",
            "Found 1 validated image filenames.\n",
            "Found 1 validated image filenames.\n",
            "Found 1 validated image filenames.\n"
          ]
        },
        {
          "output_type": "stream",
          "name": "stderr",
          "text": [
            "\rProcessing Images:   1%|▏         | 66/4752 [00:00<00:50, 93.06it/s]"
          ]
        },
        {
          "output_type": "stream",
          "name": "stdout",
          "text": [
            "Found 1 validated image filenames.\n",
            "Found 1 validated image filenames.\n",
            "Found 1 validated image filenames.\n",
            "Found 1 validated image filenames.\n",
            "Found 1 validated image filenames.\n",
            "Found 1 validated image filenames.\n",
            "Found 1 validated image filenames.\n",
            "Found 1 validated image filenames.\n",
            "Found 1 validated image filenames.\n",
            "Found 1 validated image filenames.\n"
          ]
        },
        {
          "output_type": "stream",
          "name": "stderr",
          "text": [
            "\rProcessing Images:   2%|▏         | 76/4752 [00:00<00:51, 89.98it/s]"
          ]
        },
        {
          "output_type": "stream",
          "name": "stdout",
          "text": [
            "Found 1 validated image filenames.\n",
            "Found 1 validated image filenames.\n",
            "Found 1 validated image filenames.\n",
            "Found 1 validated image filenames.\n",
            "Found 1 validated image filenames.\n",
            "Found 1 validated image filenames.\n",
            "Found 1 validated image filenames.\n",
            "Found 1 validated image filenames.\n",
            "Found 1 validated image filenames.\n",
            "Found 1 validated image filenames.\n",
            "Found 1 validated image filenames.\n"
          ]
        },
        {
          "output_type": "stream",
          "name": "stderr",
          "text": [
            "\rProcessing Images:   2%|▏         | 87/4752 [00:00<00:48, 95.62it/s]"
          ]
        },
        {
          "output_type": "stream",
          "name": "stdout",
          "text": [
            "Found 1 validated image filenames.\n",
            "Found 1 validated image filenames.\n",
            "Found 1 validated image filenames.\n",
            "Found 1 validated image filenames.\n",
            "Found 1 validated image filenames.\n",
            "Found 1 validated image filenames.\n",
            "Found 1 validated image filenames.\n",
            "Found 1 validated image filenames.\n",
            "Found 1 validated image filenames.\n",
            "Found 1 validated image filenames.\n",
            "Found 1 validated image filenames.\n",
            "Found 1 validated image filenames.\n"
          ]
        },
        {
          "output_type": "stream",
          "name": "stderr",
          "text": [
            "\rProcessing Images:   2%|▏         | 99/4752 [00:00<00:46, 100.05it/s]"
          ]
        },
        {
          "output_type": "stream",
          "name": "stdout",
          "text": [
            "Found 1 validated image filenames.\n",
            "Found 1 validated image filenames.\n",
            "Found 1 validated image filenames.\n",
            "Found 1 validated image filenames.\n",
            "Found 1 validated image filenames.\n",
            "Found 1 validated image filenames.\n",
            "Found 1 validated image filenames.\n",
            "Found 1 validated image filenames.\n",
            "Found 1 validated image filenames.\n",
            "Found 1 validated image filenames.\n",
            "Found 1 validated image filenames.\n"
          ]
        },
        {
          "output_type": "stream",
          "name": "stderr",
          "text": [
            "\rProcessing Images:   2%|▏         | 110/4752 [00:01<00:45, 101.66it/s]"
          ]
        },
        {
          "output_type": "stream",
          "name": "stdout",
          "text": [
            "Found 1 validated image filenames.\n",
            "Found 1 validated image filenames.\n",
            "Found 1 validated image filenames.\n",
            "Found 1 validated image filenames.\n",
            "Found 1 validated image filenames.\n",
            "Found 1 validated image filenames.\n",
            "Found 1 validated image filenames.\n",
            "Found 1 validated image filenames.\n",
            "Found 1 validated image filenames.\n",
            "Found 1 validated image filenames.\n",
            "Found 1 validated image filenames.\n",
            "Found 1 validated image filenames.\n"
          ]
        },
        {
          "output_type": "stream",
          "name": "stderr",
          "text": [
            "\rProcessing Images:   3%|▎         | 122/4752 [00:01<00:43, 106.37it/s]"
          ]
        },
        {
          "output_type": "stream",
          "name": "stdout",
          "text": [
            "Found 1 validated image filenames.\n",
            "Found 1 validated image filenames.\n",
            "Found 1 validated image filenames.\n",
            "Found 1 validated image filenames.\n",
            "Found 1 validated image filenames.\n",
            "Found 1 validated image filenames.\n",
            "Found 1 validated image filenames.\n",
            "Found 1 validated image filenames.\n",
            "Found 1 validated image filenames.\n",
            "Found 1 validated image filenames.\n",
            "Found 1 validated image filenames.\n"
          ]
        },
        {
          "output_type": "stream",
          "name": "stderr",
          "text": [
            "\rProcessing Images:   3%|▎         | 133/4752 [00:01<00:43, 107.27it/s]"
          ]
        },
        {
          "output_type": "stream",
          "name": "stdout",
          "text": [
            "Found 1 validated image filenames.\n",
            "Found 1 validated image filenames.\n",
            "Found 1 validated image filenames.\n",
            "Found 1 validated image filenames.\n",
            "Found 1 validated image filenames.\n",
            "Found 1 validated image filenames.\n",
            "Found 1 validated image filenames.\n",
            "Found 1 validated image filenames.\n",
            "Found 1 validated image filenames.\n",
            "Found 1 validated image filenames.\n",
            "Found 1 validated image filenames.\n"
          ]
        },
        {
          "output_type": "stream",
          "name": "stderr",
          "text": [
            "\rProcessing Images:   3%|▎         | 144/4752 [00:01<00:45, 100.29it/s]"
          ]
        },
        {
          "output_type": "stream",
          "name": "stdout",
          "text": [
            "Found 1 validated image filenames.\n",
            "Found 1 validated image filenames.\n",
            "Found 1 validated image filenames.\n",
            "Found 1 validated image filenames.\n",
            "Found 1 validated image filenames.\n",
            "Found 1 validated image filenames.\n",
            "Found 1 validated image filenames.\n",
            "Found 1 validated image filenames.\n",
            "Found 1 validated image filenames.\n",
            "Found 1 validated image filenames.\n",
            "Found 1 validated image filenames.\n"
          ]
        },
        {
          "output_type": "stream",
          "name": "stderr",
          "text": [
            "\rProcessing Images:   3%|▎         | 155/4752 [00:01<00:47, 96.49it/s] "
          ]
        },
        {
          "output_type": "stream",
          "name": "stdout",
          "text": [
            "Found 1 validated image filenames.\n",
            "Found 1 validated image filenames.\n",
            "Found 1 validated image filenames.\n",
            "Found 1 validated image filenames.\n",
            "Found 1 validated image filenames.\n",
            "Found 1 validated image filenames.\n",
            "Found 1 validated image filenames.\n",
            "Found 1 validated image filenames.\n",
            "Found 1 validated image filenames.\n",
            "Found 1 validated image filenames.\n"
          ]
        },
        {
          "output_type": "stream",
          "name": "stderr",
          "text": [
            "\rProcessing Images:   3%|▎         | 165/4752 [00:01<00:47, 96.09it/s]"
          ]
        },
        {
          "output_type": "stream",
          "name": "stdout",
          "text": [
            "Found 1 validated image filenames.\n",
            "Found 1 validated image filenames.\n",
            "Found 1 validated image filenames.\n",
            "Found 1 validated image filenames.\n",
            "Found 1 validated image filenames.\n",
            "Found 1 validated image filenames.\n",
            "Found 1 validated image filenames.\n",
            "Found 1 validated image filenames.\n",
            "Found 1 validated image filenames.\n",
            "Found 1 validated image filenames.\n"
          ]
        },
        {
          "output_type": "stream",
          "name": "stderr",
          "text": [
            "\rProcessing Images:   4%|▎         | 175/4752 [00:01<00:49, 91.88it/s]"
          ]
        },
        {
          "output_type": "stream",
          "name": "stdout",
          "text": [
            "Found 1 validated image filenames.\n",
            "Found 1 validated image filenames.\n",
            "Found 1 validated image filenames.\n",
            "Found 1 validated image filenames.\n",
            "Found 1 validated image filenames.\n",
            "Found 1 validated image filenames.\n",
            "Found 1 validated image filenames.\n",
            "Found 1 validated image filenames.\n",
            "Found 1 validated image filenames.\n",
            "Found 1 validated image filenames.\n"
          ]
        },
        {
          "output_type": "stream",
          "name": "stderr",
          "text": [
            "\rProcessing Images:   4%|▍         | 185/4752 [00:01<00:50, 90.38it/s]"
          ]
        },
        {
          "output_type": "stream",
          "name": "stdout",
          "text": [
            "Found 1 validated image filenames.\n",
            "Found 1 validated image filenames.\n",
            "Found 1 validated image filenames.\n",
            "Found 1 validated image filenames.\n",
            "Found 1 validated image filenames.\n",
            "Found 1 validated image filenames.\n",
            "Found 1 validated image filenames.\n",
            "Found 1 validated image filenames.\n",
            "Found 1 validated image filenames.\n",
            "Found 1 validated image filenames.\n"
          ]
        },
        {
          "output_type": "stream",
          "name": "stderr",
          "text": [
            "\rProcessing Images:   4%|▍         | 195/4752 [00:02<00:50, 90.24it/s]"
          ]
        },
        {
          "output_type": "stream",
          "name": "stdout",
          "text": [
            "Found 1 validated image filenames.\n",
            "Found 1 validated image filenames.\n",
            "Found 1 validated image filenames.\n",
            "Found 1 validated image filenames.\n",
            "Found 1 validated image filenames.\n",
            "Found 1 validated image filenames.\n",
            "Found 1 validated image filenames.\n",
            "Found 1 validated image filenames.\n",
            "Found 1 validated image filenames.\n",
            "Found 1 validated image filenames.\n"
          ]
        },
        {
          "output_type": "stream",
          "name": "stderr",
          "text": [
            "\rProcessing Images:   4%|▍         | 205/4752 [00:02<00:50, 90.53it/s]"
          ]
        },
        {
          "output_type": "stream",
          "name": "stdout",
          "text": [
            "Found 1 validated image filenames.\n",
            "Found 1 validated image filenames.\n",
            "Found 1 validated image filenames.\n",
            "Found 1 validated image filenames.\n",
            "Found 1 validated image filenames.\n",
            "Found 1 validated image filenames.\n",
            "Found 1 validated image filenames.\n",
            "Found 1 validated image filenames.\n",
            "Found 1 validated image filenames.\n",
            "Found 1 validated image filenames.\n",
            "Found 1 validated image filenames.\n",
            "Found 1 validated image filenames.\n"
          ]
        },
        {
          "output_type": "stream",
          "name": "stderr",
          "text": [
            "\rProcessing Images:   5%|▍         | 217/4752 [00:02<00:46, 97.71it/s]"
          ]
        },
        {
          "output_type": "stream",
          "name": "stdout",
          "text": [
            "Found 1 validated image filenames.\n",
            "Found 1 validated image filenames.\n",
            "Found 1 validated image filenames.\n",
            "Found 1 validated image filenames.\n",
            "Found 1 validated image filenames.\n",
            "Found 1 validated image filenames.\n",
            "Found 1 validated image filenames.\n",
            "Found 1 validated image filenames.\n",
            "Found 1 validated image filenames.\n",
            "Found 1 validated image filenames.\n",
            "Found 1 validated image filenames.\n"
          ]
        },
        {
          "output_type": "stream",
          "name": "stderr",
          "text": [
            "\rProcessing Images:   5%|▍         | 228/4752 [00:02<00:45, 100.12it/s]"
          ]
        },
        {
          "output_type": "stream",
          "name": "stdout",
          "text": [
            "Found 1 validated image filenames.\n",
            "Found 1 validated image filenames.\n",
            "Found 1 validated image filenames.\n",
            "Found 1 validated image filenames.\n",
            "Found 1 validated image filenames.\n",
            "Found 1 validated image filenames.\n",
            "Found 1 validated image filenames.\n",
            "Found 1 validated image filenames.\n",
            "Found 1 validated image filenames.\n",
            "Found 1 validated image filenames.\n",
            "Found 1 validated image filenames.\n"
          ]
        },
        {
          "output_type": "stream",
          "name": "stderr",
          "text": [
            "\rProcessing Images:   5%|▌         | 239/4752 [00:02<00:47, 95.09it/s] "
          ]
        },
        {
          "output_type": "stream",
          "name": "stdout",
          "text": [
            "Found 1 validated image filenames.\n",
            "Found 1 validated image filenames.\n",
            "Found 1 validated image filenames.\n",
            "Found 1 validated image filenames.\n",
            "Found 1 validated image filenames.\n",
            "Found 1 validated image filenames.\n",
            "Found 1 validated image filenames.\n",
            "Found 1 validated image filenames.\n",
            "Found 1 validated image filenames.\n",
            "Found 1 validated image filenames.\n"
          ]
        },
        {
          "output_type": "stream",
          "name": "stderr",
          "text": [
            "\rProcessing Images:   5%|▌         | 249/4752 [00:02<00:48, 92.99it/s]"
          ]
        },
        {
          "output_type": "stream",
          "name": "stdout",
          "text": [
            "Found 1 validated image filenames.\n",
            "Found 1 validated image filenames.\n",
            "Found 1 validated image filenames.\n",
            "Found 1 validated image filenames.\n",
            "Found 1 validated image filenames.\n",
            "Found 1 validated image filenames.\n",
            "Found 1 validated image filenames.\n",
            "Found 1 validated image filenames.\n",
            "Found 1 validated image filenames.\n",
            "Found 1 validated image filenames.\n"
          ]
        },
        {
          "output_type": "stream",
          "name": "stderr",
          "text": [
            "\rProcessing Images:   5%|▌         | 259/4752 [00:02<00:48, 91.89it/s]"
          ]
        },
        {
          "output_type": "stream",
          "name": "stdout",
          "text": [
            "Found 1 validated image filenames.\n",
            "Found 1 validated image filenames.\n",
            "Found 1 validated image filenames.\n",
            "Found 1 validated image filenames.\n",
            "Found 1 validated image filenames.\n",
            "Found 1 validated image filenames.\n",
            "Found 1 validated image filenames.\n",
            "Found 1 validated image filenames.\n",
            "Found 1 validated image filenames.\n",
            "Found 1 validated image filenames.\n"
          ]
        },
        {
          "output_type": "stream",
          "name": "stderr",
          "text": [
            "\rProcessing Images:   6%|▌         | 269/4752 [00:02<00:49, 91.47it/s]"
          ]
        },
        {
          "output_type": "stream",
          "name": "stdout",
          "text": [
            "Found 1 validated image filenames.\n",
            "Found 1 validated image filenames.\n",
            "Found 1 validated image filenames.\n",
            "Found 1 validated image filenames.\n",
            "Found 1 validated image filenames.\n",
            "Found 1 validated image filenames.\n",
            "Found 1 validated image filenames.\n",
            "Found 1 validated image filenames.\n",
            "Found 1 validated image filenames.\n",
            "Found 1 validated image filenames.\n",
            "Found 1 validated image filenames.\n",
            "Found 1 validated image filenames.\n"
          ]
        },
        {
          "output_type": "stream",
          "name": "stderr",
          "text": [
            "\rProcessing Images:   6%|▌         | 281/4752 [00:02<00:45, 97.58it/s]"
          ]
        },
        {
          "output_type": "stream",
          "name": "stdout",
          "text": [
            "Found 1 validated image filenames.\n",
            "Found 1 validated image filenames.\n",
            "Found 1 validated image filenames.\n",
            "Found 1 validated image filenames.\n",
            "Found 1 validated image filenames.\n",
            "Found 1 validated image filenames.\n",
            "Found 1 validated image filenames.\n",
            "Found 1 validated image filenames.\n",
            "Found 1 validated image filenames.\n",
            "Found 1 validated image filenames.\n",
            "Found 1 validated image filenames.\n",
            "Found 1 validated image filenames.\n"
          ]
        },
        {
          "output_type": "stream",
          "name": "stderr",
          "text": [
            "\rProcessing Images:   6%|▌         | 293/4752 [00:03<00:43, 101.38it/s]"
          ]
        },
        {
          "output_type": "stream",
          "name": "stdout",
          "text": [
            "Found 1 validated image filenames.\n",
            "Found 1 validated image filenames.\n",
            "Found 1 validated image filenames.\n",
            "Found 1 validated image filenames.\n",
            "Found 1 validated image filenames.\n",
            "Found 1 validated image filenames.\n",
            "Found 1 validated image filenames.\n",
            "Found 1 validated image filenames.\n",
            "Found 1 validated image filenames.\n",
            "Found 1 validated image filenames.\n",
            "Found 1 validated image filenames.\n"
          ]
        },
        {
          "output_type": "stream",
          "name": "stderr",
          "text": [
            "\rProcessing Images:   6%|▋         | 304/4752 [00:03<00:43, 101.30it/s]"
          ]
        },
        {
          "output_type": "stream",
          "name": "stdout",
          "text": [
            "Found 1 validated image filenames.\n",
            "Found 1 validated image filenames.\n",
            "Found 1 validated image filenames.\n",
            "Found 1 validated image filenames.\n",
            "Found 1 validated image filenames.\n",
            "Found 1 validated image filenames.\n",
            "Found 1 validated image filenames.\n",
            "Found 1 validated image filenames.\n",
            "Found 1 validated image filenames.\n",
            "Found 1 validated image filenames.\n",
            "Found 1 validated image filenames.\n",
            "Found 1 validated image filenames.\n"
          ]
        },
        {
          "output_type": "stream",
          "name": "stderr",
          "text": [
            "\rProcessing Images:   7%|▋         | 316/4752 [00:03<00:42, 104.79it/s]"
          ]
        },
        {
          "output_type": "stream",
          "name": "stdout",
          "text": [
            "Found 1 validated image filenames.\n",
            "Found 1 validated image filenames.\n",
            "Found 1 validated image filenames.\n",
            "Found 1 validated image filenames.\n",
            "Found 1 validated image filenames.\n",
            "Found 1 validated image filenames.\n",
            "Found 1 validated image filenames.\n",
            "Found 1 validated image filenames.\n",
            "Found 1 validated image filenames.\n",
            "Found 1 validated image filenames.\n",
            "Found 1 validated image filenames.\n"
          ]
        },
        {
          "output_type": "stream",
          "name": "stderr",
          "text": [
            "\rProcessing Images:   7%|▋         | 327/4752 [00:03<00:43, 102.86it/s]"
          ]
        },
        {
          "output_type": "stream",
          "name": "stdout",
          "text": [
            "Found 1 validated image filenames.\n",
            "Found 1 validated image filenames.\n",
            "Found 1 validated image filenames.\n",
            "Found 1 validated image filenames.\n",
            "Found 1 validated image filenames.\n",
            "Found 1 validated image filenames.\n",
            "Found 1 validated image filenames.\n",
            "Found 1 validated image filenames.\n",
            "Found 1 validated image filenames.\n",
            "Found 1 validated image filenames.\n",
            "Found 1 validated image filenames.\n"
          ]
        },
        {
          "output_type": "stream",
          "name": "stderr",
          "text": [
            "\rProcessing Images:   7%|▋         | 338/4752 [00:03<00:45, 97.59it/s] "
          ]
        },
        {
          "output_type": "stream",
          "name": "stdout",
          "text": [
            "Found 1 validated image filenames.\n",
            "Found 1 validated image filenames.\n",
            "Found 1 validated image filenames.\n",
            "Found 1 validated image filenames.\n",
            "Found 1 validated image filenames.\n",
            "Found 1 validated image filenames.\n",
            "Found 1 validated image filenames.\n",
            "Found 1 validated image filenames.\n",
            "Found 1 validated image filenames.\n",
            "Found 1 validated image filenames.\n"
          ]
        },
        {
          "output_type": "stream",
          "name": "stderr",
          "text": [
            "\rProcessing Images:   7%|▋         | 348/4752 [00:03<00:45, 97.61it/s]"
          ]
        },
        {
          "output_type": "stream",
          "name": "stdout",
          "text": [
            "Found 1 validated image filenames.\n",
            "Found 1 validated image filenames.\n",
            "Found 1 validated image filenames.\n",
            "Found 1 validated image filenames.\n",
            "Found 1 validated image filenames.\n",
            "Found 1 validated image filenames.\n",
            "Found 1 validated image filenames.\n",
            "Found 1 validated image filenames.\n",
            "Found 1 validated image filenames.\n",
            "Found 1 validated image filenames.\n"
          ]
        },
        {
          "output_type": "stream",
          "name": "stderr",
          "text": [
            "\rProcessing Images:   8%|▊         | 358/4752 [00:03<00:45, 95.76it/s]"
          ]
        },
        {
          "output_type": "stream",
          "name": "stdout",
          "text": [
            "Found 1 validated image filenames.\n",
            "Found 1 validated image filenames.\n",
            "Found 1 validated image filenames.\n",
            "Found 1 validated image filenames.\n",
            "Found 1 validated image filenames.\n",
            "Found 1 validated image filenames.\n",
            "Found 1 validated image filenames.\n",
            "Found 1 validated image filenames.\n",
            "Found 1 validated image filenames.\n",
            "Found 1 validated image filenames.\n"
          ]
        },
        {
          "output_type": "stream",
          "name": "stderr",
          "text": [
            "\rProcessing Images:   8%|▊         | 368/4752 [00:03<00:48, 90.46it/s]"
          ]
        },
        {
          "output_type": "stream",
          "name": "stdout",
          "text": [
            "Found 1 validated image filenames.\n",
            "Found 1 validated image filenames.\n",
            "Found 1 validated image filenames.\n",
            "Found 1 validated image filenames.\n",
            "Found 1 validated image filenames.\n",
            "Found 1 validated image filenames.\n",
            "Found 1 validated image filenames.\n",
            "Found 1 validated image filenames.\n",
            "Found 1 validated image filenames.\n",
            "Found 1 validated image filenames.\n"
          ]
        },
        {
          "output_type": "stream",
          "name": "stderr",
          "text": [
            "\rProcessing Images:   8%|▊         | 378/4752 [00:03<00:48, 89.92it/s]"
          ]
        },
        {
          "output_type": "stream",
          "name": "stdout",
          "text": [
            "Found 1 validated image filenames.\n",
            "Found 1 validated image filenames.\n",
            "Found 1 validated image filenames.\n",
            "Found 1 validated image filenames.\n",
            "Found 1 validated image filenames.\n",
            "Found 1 validated image filenames.\n",
            "Found 1 validated image filenames.\n",
            "Found 1 validated image filenames.\n",
            "Found 1 validated image filenames.\n",
            "Found 1 validated image filenames.\n"
          ]
        },
        {
          "output_type": "stream",
          "name": "stderr",
          "text": [
            "\rProcessing Images:   8%|▊         | 388/4752 [00:04<00:49, 88.17it/s]"
          ]
        },
        {
          "output_type": "stream",
          "name": "stdout",
          "text": [
            "Found 1 validated image filenames.\n",
            "Found 1 validated image filenames.\n",
            "Found 1 validated image filenames.\n",
            "Found 1 validated image filenames.\n",
            "Found 1 validated image filenames.\n",
            "Found 1 validated image filenames.\n",
            "Found 1 validated image filenames.\n",
            "Found 1 validated image filenames.\n",
            "Found 1 validated image filenames.\n"
          ]
        },
        {
          "output_type": "stream",
          "name": "stderr",
          "text": [
            "\rProcessing Images:   8%|▊         | 397/4752 [00:04<00:49, 88.59it/s]"
          ]
        },
        {
          "output_type": "stream",
          "name": "stdout",
          "text": [
            "Found 1 validated image filenames.\n",
            "Found 1 validated image filenames.\n",
            "Found 1 validated image filenames.\n",
            "Found 1 validated image filenames.\n",
            "Found 1 validated image filenames.\n",
            "Found 1 validated image filenames.\n",
            "Found 1 validated image filenames.\n",
            "Found 1 validated image filenames.\n",
            "Found 1 validated image filenames.\n",
            "Found 1 validated image filenames.\n"
          ]
        },
        {
          "output_type": "stream",
          "name": "stderr",
          "text": [
            "\rProcessing Images:   9%|▊         | 407/4752 [00:04<00:48, 89.51it/s]"
          ]
        },
        {
          "output_type": "stream",
          "name": "stdout",
          "text": [
            "Found 1 validated image filenames.\n",
            "Found 1 validated image filenames.\n",
            "Found 1 validated image filenames.\n",
            "Found 1 validated image filenames.\n",
            "Found 1 validated image filenames.\n",
            "Found 1 validated image filenames.\n",
            "Found 1 validated image filenames.\n",
            "Found 1 validated image filenames.\n",
            "Found 1 validated image filenames.\n",
            "Found 1 validated image filenames.\n",
            "Found 1 validated image filenames.\n"
          ]
        },
        {
          "output_type": "stream",
          "name": "stderr",
          "text": [
            "\rProcessing Images:   9%|▉         | 418/4752 [00:04<00:45, 94.23it/s]"
          ]
        },
        {
          "output_type": "stream",
          "name": "stdout",
          "text": [
            "Found 1 validated image filenames.\n",
            "Found 1 validated image filenames.\n",
            "Found 1 validated image filenames.\n",
            "Found 1 validated image filenames.\n",
            "Found 1 validated image filenames.\n",
            "Found 1 validated image filenames.\n",
            "Found 1 validated image filenames.\n",
            "Found 1 validated image filenames.\n",
            "Found 1 validated image filenames.\n",
            "Found 1 validated image filenames.\n"
          ]
        },
        {
          "output_type": "stream",
          "name": "stderr",
          "text": [
            "\rProcessing Images:   9%|▉         | 428/4752 [00:04<00:48, 89.72it/s]"
          ]
        },
        {
          "output_type": "stream",
          "name": "stdout",
          "text": [
            "Found 1 validated image filenames.\n",
            "Found 1 validated image filenames.\n",
            "Found 1 validated image filenames.\n",
            "Found 1 validated image filenames.\n",
            "Found 1 validated image filenames.\n",
            "Found 1 validated image filenames.\n",
            "Found 1 validated image filenames.\n",
            "Found 1 validated image filenames.\n",
            "Found 1 validated image filenames.\n",
            "Found 1 validated image filenames.\n"
          ]
        },
        {
          "output_type": "stream",
          "name": "stderr",
          "text": [
            "\rProcessing Images:   9%|▉         | 438/4752 [00:04<00:47, 91.21it/s]"
          ]
        },
        {
          "output_type": "stream",
          "name": "stdout",
          "text": [
            "Found 1 validated image filenames.\n",
            "Found 1 validated image filenames.\n",
            "Found 1 validated image filenames.\n",
            "Found 1 validated image filenames.\n",
            "Found 1 validated image filenames.\n",
            "Found 1 validated image filenames.\n",
            "Found 1 validated image filenames.\n",
            "Found 1 validated image filenames.\n",
            "Found 1 validated image filenames.\n",
            "Found 1 validated image filenames.\n",
            "Found 1 validated image filenames.\n",
            "Found 1 validated image filenames.\n"
          ]
        },
        {
          "output_type": "stream",
          "name": "stderr",
          "text": [
            "\rProcessing Images:   9%|▉         | 450/4752 [00:04<00:44, 97.28it/s]"
          ]
        },
        {
          "output_type": "stream",
          "name": "stdout",
          "text": [
            "Found 1 validated image filenames.\n",
            "Found 1 validated image filenames.\n",
            "Found 1 validated image filenames.\n",
            "Found 1 validated image filenames.\n",
            "Found 1 validated image filenames.\n",
            "Found 1 validated image filenames.\n",
            "Found 1 validated image filenames.\n",
            "Found 1 validated image filenames.\n",
            "Found 1 validated image filenames.\n",
            "Found 1 validated image filenames.\n",
            "Found 1 validated image filenames.\n"
          ]
        },
        {
          "output_type": "stream",
          "name": "stderr",
          "text": [
            "\rProcessing Images:  10%|▉         | 461/4752 [00:04<00:43, 98.92it/s]"
          ]
        },
        {
          "output_type": "stream",
          "name": "stdout",
          "text": [
            "Found 1 validated image filenames.\n",
            "Found 1 validated image filenames.\n",
            "Found 1 validated image filenames.\n",
            "Found 1 validated image filenames.\n",
            "Found 1 validated image filenames.\n",
            "Found 1 validated image filenames.\n",
            "Found 1 validated image filenames.\n",
            "Found 1 validated image filenames.\n",
            "Found 1 validated image filenames.\n",
            "Found 1 validated image filenames.\n",
            "Found 1 validated image filenames.\n"
          ]
        },
        {
          "output_type": "stream",
          "name": "stderr",
          "text": [
            "\rProcessing Images:  10%|▉         | 472/4752 [00:04<00:43, 99.41it/s]"
          ]
        },
        {
          "output_type": "stream",
          "name": "stdout",
          "text": [
            "Found 1 validated image filenames.\n",
            "Found 1 validated image filenames.\n",
            "Found 1 validated image filenames.\n",
            "Found 1 validated image filenames.\n",
            "Found 1 validated image filenames.\n",
            "Found 1 validated image filenames.\n",
            "Found 1 validated image filenames.\n",
            "Found 1 validated image filenames.\n",
            "Found 1 validated image filenames.\n",
            "Found 1 validated image filenames.\n",
            "Found 1 validated image filenames.\n"
          ]
        },
        {
          "output_type": "stream",
          "name": "stderr",
          "text": [
            "\rProcessing Images:  10%|█         | 483/4752 [00:04<00:42, 101.14it/s]"
          ]
        },
        {
          "output_type": "stream",
          "name": "stdout",
          "text": [
            "Found 1 validated image filenames.\n",
            "Found 1 validated image filenames.\n",
            "Found 1 validated image filenames.\n",
            "Found 1 validated image filenames.\n",
            "Found 1 validated image filenames.\n",
            "Found 1 validated image filenames.\n",
            "Found 1 validated image filenames.\n",
            "Found 1 validated image filenames.\n",
            "Found 1 validated image filenames.\n",
            "Found 1 validated image filenames.\n",
            "Found 1 validated image filenames.\n"
          ]
        },
        {
          "output_type": "stream",
          "name": "stderr",
          "text": [
            "\rProcessing Images:  10%|█         | 494/4752 [00:05<00:41, 103.11it/s]"
          ]
        },
        {
          "output_type": "stream",
          "name": "stdout",
          "text": [
            "Found 1 validated image filenames.\n",
            "Found 1 validated image filenames.\n",
            "Found 1 validated image filenames.\n",
            "Found 1 validated image filenames.\n",
            "Found 1 validated image filenames.\n",
            "Found 1 validated image filenames.\n",
            "Found 1 validated image filenames.\n",
            "Found 1 validated image filenames.\n",
            "Found 1 validated image filenames.\n",
            "Found 1 validated image filenames.\n",
            "Found 1 validated image filenames.\n"
          ]
        },
        {
          "output_type": "stream",
          "name": "stderr",
          "text": [
            "\rProcessing Images:  11%|█         | 505/4752 [00:05<00:43, 97.57it/s] "
          ]
        },
        {
          "output_type": "stream",
          "name": "stdout",
          "text": [
            "Found 1 validated image filenames.\n",
            "Found 1 validated image filenames.\n",
            "Found 1 validated image filenames.\n",
            "Found 1 validated image filenames.\n",
            "Found 1 validated image filenames.\n",
            "Found 1 validated image filenames.\n",
            "Found 1 validated image filenames.\n",
            "Found 1 validated image filenames.\n",
            "Found 1 validated image filenames.\n",
            "Found 1 validated image filenames.\n"
          ]
        },
        {
          "output_type": "stream",
          "name": "stderr",
          "text": [
            "\rProcessing Images:  11%|█         | 515/4752 [00:05<00:45, 93.12it/s]"
          ]
        },
        {
          "output_type": "stream",
          "name": "stdout",
          "text": [
            "Found 1 validated image filenames.\n",
            "Found 1 validated image filenames.\n",
            "Found 1 validated image filenames.\n",
            "Found 1 validated image filenames.\n",
            "Found 1 validated image filenames.\n",
            "Found 1 validated image filenames.\n",
            "Found 1 validated image filenames.\n",
            "Found 1 validated image filenames.\n",
            "Found 1 validated image filenames.\n",
            "Found 1 validated image filenames.\n"
          ]
        },
        {
          "output_type": "stream",
          "name": "stderr",
          "text": [
            "\rProcessing Images:  11%|█         | 525/4752 [00:05<00:47, 88.93it/s]"
          ]
        },
        {
          "output_type": "stream",
          "name": "stdout",
          "text": [
            "Found 1 validated image filenames.\n",
            "Found 1 validated image filenames.\n",
            "Found 1 validated image filenames.\n",
            "Found 1 validated image filenames.\n",
            "Found 1 validated image filenames.\n",
            "Found 1 validated image filenames.\n",
            "Found 1 validated image filenames.\n",
            "Found 1 validated image filenames.\n",
            "Found 1 validated image filenames.\n"
          ]
        },
        {
          "output_type": "stream",
          "name": "stderr",
          "text": [
            "\rProcessing Images:  11%|█         | 534/4752 [00:05<00:47, 88.41it/s]"
          ]
        },
        {
          "output_type": "stream",
          "name": "stdout",
          "text": [
            "Found 1 validated image filenames.\n",
            "Found 1 validated image filenames.\n",
            "Found 1 validated image filenames.\n",
            "Found 1 validated image filenames.\n",
            "Found 1 validated image filenames.\n",
            "Found 1 validated image filenames.\n",
            "Found 1 validated image filenames.\n",
            "Found 1 validated image filenames.\n",
            "Found 1 validated image filenames.\n",
            "Found 1 validated image filenames.\n"
          ]
        },
        {
          "output_type": "stream",
          "name": "stderr",
          "text": [
            "\rProcessing Images:  11%|█▏        | 544/4752 [00:05<00:46, 89.61it/s]"
          ]
        },
        {
          "output_type": "stream",
          "name": "stdout",
          "text": [
            "Found 1 validated image filenames.\n",
            "Found 1 validated image filenames.\n",
            "Found 1 validated image filenames.\n",
            "Found 1 validated image filenames.\n",
            "Found 1 validated image filenames.\n",
            "Found 1 validated image filenames.\n",
            "Found 1 validated image filenames.\n",
            "Found 1 validated image filenames.\n",
            "Found 1 validated image filenames.\n",
            "Found 1 validated image filenames.\n"
          ]
        },
        {
          "output_type": "stream",
          "name": "stderr",
          "text": [
            "\rProcessing Images:  12%|█▏        | 554/4752 [00:05<00:48, 87.17it/s]"
          ]
        },
        {
          "output_type": "stream",
          "name": "stdout",
          "text": [
            "Found 1 validated image filenames.\n",
            "Found 1 validated image filenames.\n",
            "Found 1 validated image filenames.\n",
            "Found 1 validated image filenames.\n",
            "Found 1 validated image filenames.\n",
            "Found 1 validated image filenames.\n",
            "Found 1 validated image filenames.\n",
            "Found 1 validated image filenames.\n",
            "Found 1 validated image filenames.\n"
          ]
        },
        {
          "output_type": "stream",
          "name": "stderr",
          "text": [
            "\rProcessing Images:  12%|█▏        | 563/4752 [00:05<00:49, 85.41it/s]"
          ]
        },
        {
          "output_type": "stream",
          "name": "stdout",
          "text": [
            "Found 1 validated image filenames.\n",
            "Found 1 validated image filenames.\n",
            "Found 1 validated image filenames.\n",
            "Found 1 validated image filenames.\n",
            "Found 1 validated image filenames.\n",
            "Found 1 validated image filenames.\n",
            "Found 1 validated image filenames.\n",
            "Found 1 validated image filenames.\n",
            "Found 1 validated image filenames.\n"
          ]
        },
        {
          "output_type": "stream",
          "name": "stderr",
          "text": [
            "\rProcessing Images:  12%|█▏        | 572/4752 [00:06<00:49, 84.29it/s]"
          ]
        },
        {
          "output_type": "stream",
          "name": "stdout",
          "text": [
            "Found 1 validated image filenames.\n",
            "Found 1 validated image filenames.\n",
            "Found 1 validated image filenames.\n",
            "Found 1 validated image filenames.\n",
            "Found 1 validated image filenames.\n",
            "Found 1 validated image filenames.\n",
            "Found 1 validated image filenames.\n",
            "Found 1 validated image filenames.\n",
            "Found 1 validated image filenames.\n"
          ]
        },
        {
          "output_type": "stream",
          "name": "stderr",
          "text": [
            "\rProcessing Images:  12%|█▏        | 581/4752 [00:06<00:53, 77.94it/s]"
          ]
        },
        {
          "output_type": "stream",
          "name": "stdout",
          "text": [
            "Found 1 validated image filenames.\n",
            "Found 1 validated image filenames.\n",
            "Found 1 validated image filenames.\n",
            "Found 1 validated image filenames.\n",
            "Found 1 validated image filenames.\n",
            "Found 1 validated image filenames.\n",
            "Found 1 validated image filenames.\n",
            "Found 1 validated image filenames.\n"
          ]
        },
        {
          "output_type": "stream",
          "name": "stderr",
          "text": [
            "\rProcessing Images:  12%|█▏        | 589/4752 [00:06<00:55, 74.55it/s]"
          ]
        },
        {
          "output_type": "stream",
          "name": "stdout",
          "text": [
            "Found 1 validated image filenames.\n",
            "Found 1 validated image filenames.\n",
            "Found 1 validated image filenames.\n",
            "Found 1 validated image filenames.\n",
            "Found 1 validated image filenames.\n",
            "Found 1 validated image filenames.\n",
            "Found 1 validated image filenames.\n",
            "Found 1 validated image filenames.\n"
          ]
        },
        {
          "output_type": "stream",
          "name": "stderr",
          "text": [
            "\rProcessing Images:  13%|█▎        | 597/4752 [00:06<01:00, 68.14it/s]"
          ]
        },
        {
          "output_type": "stream",
          "name": "stdout",
          "text": [
            "Found 1 validated image filenames.\n",
            "Found 1 validated image filenames.\n",
            "Found 1 validated image filenames.\n",
            "Found 1 validated image filenames.\n",
            "Found 1 validated image filenames.\n",
            "Found 1 validated image filenames.\n",
            "Found 1 validated image filenames.\n"
          ]
        },
        {
          "output_type": "stream",
          "name": "stderr",
          "text": [
            "\rProcessing Images:  13%|█▎        | 604/4752 [00:06<01:01, 67.40it/s]"
          ]
        },
        {
          "output_type": "stream",
          "name": "stdout",
          "text": [
            "Found 1 validated image filenames.\n",
            "Found 1 validated image filenames.\n",
            "Found 1 validated image filenames.\n",
            "Found 1 validated image filenames.\n",
            "Found 1 validated image filenames.\n",
            "Found 1 validated image filenames.\n",
            "Found 1 validated image filenames.\n"
          ]
        },
        {
          "output_type": "stream",
          "name": "stderr",
          "text": [
            "\rProcessing Images:  13%|█▎        | 611/4752 [00:06<01:03, 65.26it/s]"
          ]
        },
        {
          "output_type": "stream",
          "name": "stdout",
          "text": [
            "Found 1 validated image filenames.\n",
            "Found 1 validated image filenames.\n",
            "Found 1 validated image filenames.\n",
            "Found 1 validated image filenames.\n",
            "Found 1 validated image filenames.\n",
            "Found 1 validated image filenames.\n",
            "Found 1 validated image filenames.\n"
          ]
        },
        {
          "output_type": "stream",
          "name": "stderr",
          "text": [
            "\rProcessing Images:  13%|█▎        | 618/4752 [00:06<01:08, 60.71it/s]"
          ]
        },
        {
          "output_type": "stream",
          "name": "stdout",
          "text": [
            "Found 1 validated image filenames.\n",
            "Found 1 validated image filenames.\n",
            "Found 1 validated image filenames.\n",
            "Found 1 validated image filenames.\n",
            "Found 1 validated image filenames.\n",
            "Found 1 validated image filenames.\n",
            "Found 1 validated image filenames.\n"
          ]
        },
        {
          "output_type": "stream",
          "name": "stderr",
          "text": [
            "\rProcessing Images:  13%|█▎        | 625/4752 [00:06<01:06, 61.68it/s]"
          ]
        },
        {
          "output_type": "stream",
          "name": "stdout",
          "text": [
            "Found 1 validated image filenames.\n",
            "Found 1 validated image filenames.\n",
            "Found 1 validated image filenames.\n",
            "Found 1 validated image filenames.\n",
            "Found 1 validated image filenames.\n",
            "Found 1 validated image filenames.\n",
            "Found 1 validated image filenames.\n",
            "Found 1 validated image filenames.\n",
            "Found 1 validated image filenames.\n",
            "Found 1 validated image filenames.\n"
          ]
        },
        {
          "output_type": "stream",
          "name": "stderr",
          "text": [
            "\rProcessing Images:  13%|█▎        | 635/4752 [00:06<00:57, 71.38it/s]"
          ]
        },
        {
          "output_type": "stream",
          "name": "stdout",
          "text": [
            "Found 1 validated image filenames.\n",
            "Found 1 validated image filenames.\n",
            "Found 1 validated image filenames.\n",
            "Found 1 validated image filenames.\n",
            "Found 1 validated image filenames.\n",
            "Found 1 validated image filenames.\n",
            "Found 1 validated image filenames.\n",
            "Found 1 validated image filenames.\n",
            "Found 1 validated image filenames.\n"
          ]
        },
        {
          "output_type": "stream",
          "name": "stderr",
          "text": [
            "\rProcessing Images:  14%|█▎        | 644/4752 [00:07<00:55, 74.40it/s]"
          ]
        },
        {
          "output_type": "stream",
          "name": "stdout",
          "text": [
            "Found 1 validated image filenames.\n",
            "Found 1 validated image filenames.\n",
            "Found 1 validated image filenames.\n",
            "Found 1 validated image filenames.\n",
            "Found 1 validated image filenames.\n",
            "Found 1 validated image filenames.\n",
            "Found 1 validated image filenames.\n",
            "Found 1 validated image filenames.\n",
            "Found 1 validated image filenames.\n",
            "Found 1 validated image filenames.\n"
          ]
        },
        {
          "output_type": "stream",
          "name": "stderr",
          "text": [
            "\rProcessing Images:  14%|█▍        | 654/4752 [00:07<00:50, 81.35it/s]"
          ]
        },
        {
          "output_type": "stream",
          "name": "stdout",
          "text": [
            "Found 1 validated image filenames.\n",
            "Found 1 validated image filenames.\n",
            "Found 1 validated image filenames.\n",
            "Found 1 validated image filenames.\n",
            "Found 1 validated image filenames.\n",
            "Found 1 validated image filenames.\n",
            "Found 1 validated image filenames.\n",
            "Found 1 validated image filenames.\n",
            "Found 1 validated image filenames.\n",
            "Found 1 validated image filenames.\n"
          ]
        },
        {
          "output_type": "stream",
          "name": "stderr",
          "text": [
            "\rProcessing Images:  14%|█▍        | 664/4752 [00:07<00:47, 85.22it/s]"
          ]
        },
        {
          "output_type": "stream",
          "name": "stdout",
          "text": [
            "Found 1 validated image filenames.\n",
            "Found 1 validated image filenames.\n",
            "Found 1 validated image filenames.\n",
            "Found 1 validated image filenames.\n",
            "Found 1 validated image filenames.\n",
            "Found 1 validated image filenames.\n",
            "Found 1 validated image filenames.\n",
            "Found 1 validated image filenames.\n",
            "Found 1 validated image filenames.\n"
          ]
        },
        {
          "output_type": "stream",
          "name": "stderr",
          "text": [
            "\rProcessing Images:  14%|█▍        | 673/4752 [00:07<00:50, 81.12it/s]"
          ]
        },
        {
          "output_type": "stream",
          "name": "stdout",
          "text": [
            "Found 1 validated image filenames.\n",
            "Found 1 validated image filenames.\n",
            "Found 1 validated image filenames.\n",
            "Found 1 validated image filenames.\n",
            "Found 1 validated image filenames.\n",
            "Found 1 validated image filenames.\n",
            "Found 1 validated image filenames.\n",
            "Found 1 validated image filenames.\n",
            "Found 1 validated image filenames.\n"
          ]
        },
        {
          "output_type": "stream",
          "name": "stderr",
          "text": [
            "\rProcessing Images:  14%|█▍        | 682/4752 [00:07<00:49, 82.97it/s]"
          ]
        },
        {
          "output_type": "stream",
          "name": "stdout",
          "text": [
            "Found 1 validated image filenames.\n",
            "Found 1 validated image filenames.\n",
            "Found 1 validated image filenames.\n",
            "Found 1 validated image filenames.\n",
            "Found 1 validated image filenames.\n",
            "Found 1 validated image filenames.\n",
            "Found 1 validated image filenames.\n",
            "Found 1 validated image filenames.\n",
            "Found 1 validated image filenames.\n"
          ]
        },
        {
          "output_type": "stream",
          "name": "stderr",
          "text": [
            "\rProcessing Images:  15%|█▍        | 691/4752 [00:07<00:49, 82.16it/s]"
          ]
        },
        {
          "output_type": "stream",
          "name": "stdout",
          "text": [
            "Found 1 validated image filenames.\n",
            "Found 1 validated image filenames.\n",
            "Found 1 validated image filenames.\n",
            "Found 1 validated image filenames.\n",
            "Found 1 validated image filenames.\n",
            "Found 1 validated image filenames.\n",
            "Found 1 validated image filenames.\n",
            "Found 1 validated image filenames.\n",
            "Found 1 validated image filenames.\n",
            "Found 1 validated image filenames.\n"
          ]
        },
        {
          "output_type": "stream",
          "name": "stderr",
          "text": [
            "\rProcessing Images:  15%|█▍        | 701/4752 [00:07<00:47, 85.93it/s]"
          ]
        },
        {
          "output_type": "stream",
          "name": "stdout",
          "text": [
            "Found 1 validated image filenames.\n",
            "Found 1 validated image filenames.\n",
            "Found 1 validated image filenames.\n",
            "Found 1 validated image filenames.\n",
            "Found 1 validated image filenames.\n",
            "Found 1 validated image filenames.\n",
            "Found 1 validated image filenames.\n",
            "Found 1 validated image filenames.\n",
            "Found 1 validated image filenames.\n",
            "Found 1 validated image filenames.\n"
          ]
        },
        {
          "output_type": "stream",
          "name": "stderr",
          "text": [
            "\rProcessing Images:  15%|█▍        | 711/4752 [00:07<00:46, 87.76it/s]"
          ]
        },
        {
          "output_type": "stream",
          "name": "stdout",
          "text": [
            "Found 1 validated image filenames.\n",
            "Found 1 validated image filenames.\n",
            "Found 1 validated image filenames.\n",
            "Found 1 validated image filenames.\n",
            "Found 1 validated image filenames.\n",
            "Found 1 validated image filenames.\n",
            "Found 1 validated image filenames.\n",
            "Found 1 validated image filenames.\n",
            "Found 1 validated image filenames.\n"
          ]
        },
        {
          "output_type": "stream",
          "name": "stderr",
          "text": [
            "\rProcessing Images:  15%|█▌        | 720/4752 [00:07<00:46, 86.64it/s]"
          ]
        },
        {
          "output_type": "stream",
          "name": "stdout",
          "text": [
            "Found 1 validated image filenames.\n",
            "Found 1 validated image filenames.\n",
            "Found 1 validated image filenames.\n",
            "Found 1 validated image filenames.\n",
            "Found 1 validated image filenames.\n",
            "Found 1 validated image filenames.\n",
            "Found 1 validated image filenames.\n",
            "Found 1 validated image filenames.\n",
            "Found 1 validated image filenames.\n",
            "Found 1 validated image filenames.\n"
          ]
        },
        {
          "output_type": "stream",
          "name": "stderr",
          "text": [
            "\rProcessing Images:  15%|█▌        | 730/4752 [00:08<00:45, 88.76it/s]"
          ]
        },
        {
          "output_type": "stream",
          "name": "stdout",
          "text": [
            "Found 1 validated image filenames.\n",
            "Found 1 validated image filenames.\n",
            "Found 1 validated image filenames.\n",
            "Found 1 validated image filenames.\n",
            "Found 1 validated image filenames.\n",
            "Found 1 validated image filenames.\n",
            "Found 1 validated image filenames.\n",
            "Found 1 validated image filenames.\n",
            "Found 1 validated image filenames.\n"
          ]
        },
        {
          "output_type": "stream",
          "name": "stderr",
          "text": [
            "\rProcessing Images:  16%|█▌        | 739/4752 [00:08<00:48, 83.17it/s]"
          ]
        },
        {
          "output_type": "stream",
          "name": "stdout",
          "text": [
            "Found 1 validated image filenames.\n",
            "Found 1 validated image filenames.\n",
            "Found 1 validated image filenames.\n",
            "Found 1 validated image filenames.\n",
            "Found 1 validated image filenames.\n",
            "Found 1 validated image filenames.\n",
            "Found 1 validated image filenames.\n",
            "Found 1 validated image filenames.\n",
            "Found 1 validated image filenames.\n"
          ]
        },
        {
          "output_type": "stream",
          "name": "stderr",
          "text": [
            "\rProcessing Images:  16%|█▌        | 748/4752 [00:08<00:51, 77.94it/s]"
          ]
        },
        {
          "output_type": "stream",
          "name": "stdout",
          "text": [
            "Found 1 validated image filenames.\n",
            "Found 1 validated image filenames.\n",
            "Found 1 validated image filenames.\n",
            "Found 1 validated image filenames.\n",
            "Found 1 validated image filenames.\n",
            "Found 1 validated image filenames.\n",
            "Found 1 validated image filenames.\n",
            "Found 1 validated image filenames.\n",
            "Found 1 validated image filenames.\n"
          ]
        },
        {
          "output_type": "stream",
          "name": "stderr",
          "text": [
            "\rProcessing Images:  16%|█▌        | 757/4752 [00:08<00:50, 78.67it/s]"
          ]
        },
        {
          "output_type": "stream",
          "name": "stdout",
          "text": [
            "Found 1 validated image filenames.\n",
            "Found 1 validated image filenames.\n",
            "Found 1 validated image filenames.\n",
            "Found 1 validated image filenames.\n",
            "Found 1 validated image filenames.\n",
            "Found 1 validated image filenames.\n",
            "Found 1 validated image filenames.\n",
            "Found 1 validated image filenames.\n",
            "Found 1 validated image filenames.\n"
          ]
        },
        {
          "output_type": "stream",
          "name": "stderr",
          "text": [
            "\rProcessing Images:  16%|█▌        | 766/4752 [00:08<00:50, 79.01it/s]"
          ]
        },
        {
          "output_type": "stream",
          "name": "stdout",
          "text": [
            "Found 1 validated image filenames.\n",
            "Found 1 validated image filenames.\n",
            "Found 1 validated image filenames.\n",
            "Found 1 validated image filenames.\n",
            "Found 1 validated image filenames.\n",
            "Found 1 validated image filenames.\n",
            "Found 1 validated image filenames.\n",
            "Found 1 validated image filenames.\n",
            "Found 1 validated image filenames.\n",
            "Found 1 validated image filenames.\n"
          ]
        },
        {
          "output_type": "stream",
          "name": "stderr",
          "text": [
            "\rProcessing Images:  16%|█▋        | 776/4752 [00:08<00:47, 83.58it/s]"
          ]
        },
        {
          "output_type": "stream",
          "name": "stdout",
          "text": [
            "Found 1 validated image filenames.\n",
            "Found 1 validated image filenames.\n",
            "Found 1 validated image filenames.\n",
            "Found 1 validated image filenames.\n",
            "Found 1 validated image filenames.\n",
            "Found 1 validated image filenames.\n",
            "Found 1 validated image filenames.\n",
            "Found 1 validated image filenames.\n",
            "Found 1 validated image filenames.\n"
          ]
        },
        {
          "output_type": "stream",
          "name": "stderr",
          "text": [
            "\rProcessing Images:  17%|█▋        | 785/4752 [00:08<00:50, 78.59it/s]"
          ]
        },
        {
          "output_type": "stream",
          "name": "stdout",
          "text": [
            "Found 1 validated image filenames.\n",
            "Found 1 validated image filenames.\n",
            "Found 1 validated image filenames.\n",
            "Found 1 validated image filenames.\n",
            "Found 1 validated image filenames.\n",
            "Found 1 validated image filenames.\n",
            "Found 1 validated image filenames.\n",
            "Found 1 validated image filenames.\n"
          ]
        },
        {
          "output_type": "stream",
          "name": "stderr",
          "text": [
            "\rProcessing Images:  17%|█▋        | 793/4752 [00:08<00:54, 72.10it/s]"
          ]
        },
        {
          "output_type": "stream",
          "name": "stdout",
          "text": [
            "Found 1 validated image filenames.\n",
            "Found 1 validated image filenames.\n",
            "Found 1 validated image filenames.\n",
            "Found 1 validated image filenames.\n",
            "Found 1 validated image filenames.\n",
            "Found 1 validated image filenames.\n",
            "Found 1 validated image filenames.\n",
            "Found 1 validated image filenames.\n"
          ]
        },
        {
          "output_type": "stream",
          "name": "stderr",
          "text": [
            "\rProcessing Images:  17%|█▋        | 801/4752 [00:09<00:58, 67.74it/s]"
          ]
        },
        {
          "output_type": "stream",
          "name": "stdout",
          "text": [
            "Found 1 validated image filenames.\n",
            "Found 1 validated image filenames.\n",
            "Found 1 validated image filenames.\n",
            "Found 1 validated image filenames.\n",
            "Found 1 validated image filenames.\n",
            "Found 1 validated image filenames.\n",
            "Found 1 validated image filenames.\n",
            "Found 1 validated image filenames.\n",
            "Found 1 validated image filenames.\n"
          ]
        },
        {
          "output_type": "stream",
          "name": "stderr",
          "text": [
            "\rProcessing Images:  17%|█▋        | 810/4752 [00:09<00:53, 73.25it/s]"
          ]
        },
        {
          "output_type": "stream",
          "name": "stdout",
          "text": [
            "Found 1 validated image filenames.\n",
            "Found 1 validated image filenames.\n",
            "Found 1 validated image filenames.\n",
            "Found 1 validated image filenames.\n",
            "Found 1 validated image filenames.\n",
            "Found 1 validated image filenames.\n",
            "Found 1 validated image filenames.\n",
            "Found 1 validated image filenames.\n"
          ]
        },
        {
          "output_type": "stream",
          "name": "stderr",
          "text": [
            "\rProcessing Images:  17%|█▋        | 818/4752 [00:09<00:52, 74.27it/s]"
          ]
        },
        {
          "output_type": "stream",
          "name": "stdout",
          "text": [
            "Found 1 validated image filenames.\n",
            "Found 1 validated image filenames.\n",
            "Found 1 validated image filenames.\n",
            "Found 1 validated image filenames.\n",
            "Found 1 validated image filenames.\n",
            "Found 1 validated image filenames.\n",
            "Found 1 validated image filenames.\n",
            "Found 1 validated image filenames.\n"
          ]
        },
        {
          "output_type": "stream",
          "name": "stderr",
          "text": [
            "\rProcessing Images:  17%|█▋        | 826/4752 [00:09<00:52, 74.99it/s]"
          ]
        },
        {
          "output_type": "stream",
          "name": "stdout",
          "text": [
            "Found 1 validated image filenames.\n",
            "Found 1 validated image filenames.\n",
            "Found 1 validated image filenames.\n",
            "Found 1 validated image filenames.\n",
            "Found 1 validated image filenames.\n",
            "Found 1 validated image filenames.\n",
            "Found 1 validated image filenames.\n",
            "Found 1 validated image filenames.\n"
          ]
        },
        {
          "output_type": "stream",
          "name": "stderr",
          "text": [
            "\rProcessing Images:  18%|█▊        | 834/4752 [00:09<00:54, 72.50it/s]"
          ]
        },
        {
          "output_type": "stream",
          "name": "stdout",
          "text": [
            "Found 1 validated image filenames.\n",
            "Found 1 validated image filenames.\n",
            "Found 1 validated image filenames.\n",
            "Found 1 validated image filenames.\n",
            "Found 1 validated image filenames.\n",
            "Found 1 validated image filenames.\n",
            "Found 1 validated image filenames.\n",
            "Found 1 validated image filenames.\n"
          ]
        },
        {
          "output_type": "stream",
          "name": "stderr",
          "text": [
            "\rProcessing Images:  18%|█▊        | 842/4752 [00:09<00:55, 70.74it/s]"
          ]
        },
        {
          "output_type": "stream",
          "name": "stdout",
          "text": [
            "Found 1 validated image filenames.\n",
            "Found 1 validated image filenames.\n",
            "Found 1 validated image filenames.\n",
            "Found 1 validated image filenames.\n",
            "Found 1 validated image filenames.\n",
            "Found 1 validated image filenames.\n",
            "Found 1 validated image filenames.\n",
            "Found 1 validated image filenames.\n"
          ]
        },
        {
          "output_type": "stream",
          "name": "stderr",
          "text": [
            "\rProcessing Images:  18%|█▊        | 850/4752 [00:09<00:54, 71.33it/s]"
          ]
        },
        {
          "output_type": "stream",
          "name": "stdout",
          "text": [
            "Found 1 validated image filenames.\n",
            "Found 1 validated image filenames.\n",
            "Found 1 validated image filenames.\n",
            "Found 1 validated image filenames.\n",
            "Found 1 validated image filenames.\n",
            "Found 1 validated image filenames.\n",
            "Found 1 validated image filenames.\n",
            "Found 1 validated image filenames.\n",
            "Found 1 validated image filenames.\n"
          ]
        },
        {
          "output_type": "stream",
          "name": "stderr",
          "text": [
            "\rProcessing Images:  18%|█▊        | 859/4752 [00:09<00:51, 74.95it/s]"
          ]
        },
        {
          "output_type": "stream",
          "name": "stdout",
          "text": [
            "Found 1 validated image filenames.\n",
            "Found 1 validated image filenames.\n",
            "Found 1 validated image filenames.\n",
            "Found 1 validated image filenames.\n",
            "Found 1 validated image filenames.\n",
            "Found 1 validated image filenames.\n",
            "Found 1 validated image filenames.\n",
            "Found 1 validated image filenames.\n",
            "Found 1 validated image filenames.\n"
          ]
        },
        {
          "output_type": "stream",
          "name": "stderr",
          "text": [
            "\rProcessing Images:  18%|█▊        | 868/4752 [00:09<00:50, 77.64it/s]"
          ]
        },
        {
          "output_type": "stream",
          "name": "stdout",
          "text": [
            "Found 1 validated image filenames.\n",
            "Found 1 validated image filenames.\n",
            "Found 1 validated image filenames.\n",
            "Found 1 validated image filenames.\n",
            "Found 1 validated image filenames.\n",
            "Found 1 validated image filenames.\n",
            "Found 1 validated image filenames.\n",
            "Found 1 validated image filenames.\n",
            "Found 1 validated image filenames.\n"
          ]
        },
        {
          "output_type": "stream",
          "name": "stderr",
          "text": [
            "\rProcessing Images:  18%|█▊        | 877/4752 [00:10<00:47, 80.80it/s]"
          ]
        },
        {
          "output_type": "stream",
          "name": "stdout",
          "text": [
            "Found 1 validated image filenames.\n",
            "Found 1 validated image filenames.\n",
            "Found 1 validated image filenames.\n",
            "Found 1 validated image filenames.\n",
            "Found 1 validated image filenames.\n",
            "Found 1 validated image filenames.\n",
            "Found 1 validated image filenames.\n",
            "Found 1 validated image filenames.\n",
            "Found 1 validated image filenames.\n",
            "Found 1 validated image filenames.\n"
          ]
        },
        {
          "output_type": "stream",
          "name": "stderr",
          "text": [
            "\rProcessing Images:  19%|█▊        | 887/4752 [00:10<00:45, 84.66it/s]"
          ]
        },
        {
          "output_type": "stream",
          "name": "stdout",
          "text": [
            "Found 1 validated image filenames.\n",
            "Found 1 validated image filenames.\n",
            "Found 1 validated image filenames.\n",
            "Found 1 validated image filenames.\n",
            "Found 1 validated image filenames.\n",
            "Found 1 validated image filenames.\n",
            "Found 1 validated image filenames.\n",
            "Found 1 validated image filenames.\n",
            "Found 1 validated image filenames.\n",
            "Found 1 validated image filenames.\n"
          ]
        },
        {
          "output_type": "stream",
          "name": "stderr",
          "text": [
            "\rProcessing Images:  19%|█▉        | 897/4752 [00:10<00:44, 86.86it/s]"
          ]
        },
        {
          "output_type": "stream",
          "name": "stdout",
          "text": [
            "Found 1 validated image filenames.\n",
            "Found 1 validated image filenames.\n",
            "Found 1 validated image filenames.\n",
            "Found 1 validated image filenames.\n",
            "Found 1 validated image filenames.\n",
            "Found 1 validated image filenames.\n",
            "Found 1 validated image filenames.\n",
            "Found 1 validated image filenames.\n",
            "Found 1 validated image filenames.\n"
          ]
        },
        {
          "output_type": "stream",
          "name": "stderr",
          "text": [
            "\rProcessing Images:  19%|█▉        | 906/4752 [00:10<00:44, 85.83it/s]"
          ]
        },
        {
          "output_type": "stream",
          "name": "stdout",
          "text": [
            "Found 1 validated image filenames.\n",
            "Found 1 validated image filenames.\n",
            "Found 1 validated image filenames.\n",
            "Found 1 validated image filenames.\n",
            "Found 1 validated image filenames.\n",
            "Found 1 validated image filenames.\n",
            "Found 1 validated image filenames.\n",
            "Found 1 validated image filenames.\n",
            "Found 1 validated image filenames.\n"
          ]
        },
        {
          "output_type": "stream",
          "name": "stderr",
          "text": [
            "\rProcessing Images:  19%|█▉        | 915/4752 [00:10<00:45, 83.95it/s]"
          ]
        },
        {
          "output_type": "stream",
          "name": "stdout",
          "text": [
            "Found 1 validated image filenames.\n",
            "Found 1 validated image filenames.\n",
            "Found 1 validated image filenames.\n",
            "Found 1 validated image filenames.\n",
            "Found 1 validated image filenames.\n",
            "Found 1 validated image filenames.\n",
            "Found 1 validated image filenames.\n",
            "Found 1 validated image filenames.\n",
            "Found 1 validated image filenames.\n"
          ]
        },
        {
          "output_type": "stream",
          "name": "stderr",
          "text": [
            "\rProcessing Images:  19%|█▉        | 924/4752 [00:10<00:51, 74.76it/s]"
          ]
        },
        {
          "output_type": "stream",
          "name": "stdout",
          "text": [
            "Found 1 validated image filenames.\n",
            "Found 1 validated image filenames.\n",
            "Found 1 validated image filenames.\n",
            "Found 1 validated image filenames.\n",
            "Found 1 validated image filenames.\n",
            "Found 1 validated image filenames.\n",
            "Found 1 validated image filenames.\n",
            "Found 1 validated image filenames.\n"
          ]
        },
        {
          "output_type": "stream",
          "name": "stderr",
          "text": [
            "\rProcessing Images:  20%|█▉        | 932/4752 [00:10<00:53, 72.02it/s]"
          ]
        },
        {
          "output_type": "stream",
          "name": "stdout",
          "text": [
            "Found 1 validated image filenames.\n",
            "Found 1 validated image filenames.\n",
            "Found 1 validated image filenames.\n",
            "Found 1 validated image filenames.\n",
            "Found 1 validated image filenames.\n",
            "Found 1 validated image filenames.\n",
            "Found 1 validated image filenames.\n",
            "Found 1 validated image filenames.\n"
          ]
        },
        {
          "output_type": "stream",
          "name": "stderr",
          "text": [
            "\rProcessing Images:  20%|█▉        | 940/4752 [00:10<00:58, 65.34it/s]"
          ]
        },
        {
          "output_type": "stream",
          "name": "stdout",
          "text": [
            "Found 1 validated image filenames.\n",
            "Found 1 validated image filenames.\n",
            "Found 1 validated image filenames.\n",
            "Found 1 validated image filenames.\n",
            "Found 1 validated image filenames.\n",
            "Found 1 validated image filenames.\n",
            "Found 1 validated image filenames.\n"
          ]
        },
        {
          "output_type": "stream",
          "name": "stderr",
          "text": [
            "\rProcessing Images:  20%|█▉        | 947/4752 [00:11<01:01, 62.36it/s]"
          ]
        },
        {
          "output_type": "stream",
          "name": "stdout",
          "text": [
            "Found 1 validated image filenames.\n",
            "Found 1 validated image filenames.\n",
            "Found 1 validated image filenames.\n",
            "Found 1 validated image filenames.\n",
            "Found 1 validated image filenames.\n",
            "Found 1 validated image filenames.\n",
            "Found 1 validated image filenames.\n"
          ]
        },
        {
          "output_type": "stream",
          "name": "stderr",
          "text": [
            "\rProcessing Images:  20%|██        | 954/4752 [00:11<01:02, 61.22it/s]"
          ]
        },
        {
          "output_type": "stream",
          "name": "stdout",
          "text": [
            "Found 1 validated image filenames.\n",
            "Found 1 validated image filenames.\n",
            "Found 1 validated image filenames.\n",
            "Found 1 validated image filenames.\n",
            "Found 1 validated image filenames.\n",
            "Found 1 validated image filenames.\n",
            "Found 1 validated image filenames.\n"
          ]
        },
        {
          "output_type": "stream",
          "name": "stderr",
          "text": [
            "\rProcessing Images:  20%|██        | 961/4752 [00:11<01:02, 60.67it/s]"
          ]
        },
        {
          "output_type": "stream",
          "name": "stdout",
          "text": [
            "Found 1 validated image filenames.\n",
            "Found 1 validated image filenames.\n",
            "Found 1 validated image filenames.\n",
            "Found 1 validated image filenames.\n",
            "Found 1 validated image filenames.\n",
            "Found 1 validated image filenames.\n",
            "Found 1 validated image filenames.\n",
            "Found 1 validated image filenames.\n"
          ]
        },
        {
          "output_type": "stream",
          "name": "stderr",
          "text": [
            "\rProcessing Images:  20%|██        | 969/4752 [00:11<00:59, 63.56it/s]"
          ]
        },
        {
          "output_type": "stream",
          "name": "stdout",
          "text": [
            "Found 1 validated image filenames.\n",
            "Found 1 validated image filenames.\n",
            "Found 1 validated image filenames.\n",
            "Found 1 validated image filenames.\n",
            "Found 1 validated image filenames.\n",
            "Found 1 validated image filenames.\n",
            "Found 1 validated image filenames.\n"
          ]
        },
        {
          "output_type": "stream",
          "name": "stderr",
          "text": [
            "\rProcessing Images:  21%|██        | 976/4752 [00:11<01:02, 60.85it/s]"
          ]
        },
        {
          "output_type": "stream",
          "name": "stdout",
          "text": [
            "Found 1 validated image filenames.\n",
            "Found 1 validated image filenames.\n",
            "Found 1 validated image filenames.\n",
            "Found 1 validated image filenames.\n",
            "Found 1 validated image filenames.\n",
            "Found 1 validated image filenames.\n",
            "Found 1 validated image filenames.\n",
            "Found 1 validated image filenames.\n"
          ]
        },
        {
          "output_type": "stream",
          "name": "stderr",
          "text": [
            "\rProcessing Images:  21%|██        | 984/4752 [00:11<00:57, 65.34it/s]"
          ]
        },
        {
          "output_type": "stream",
          "name": "stdout",
          "text": [
            "Found 1 validated image filenames.\n",
            "Found 1 validated image filenames.\n",
            "Found 1 validated image filenames.\n",
            "Found 1 validated image filenames.\n",
            "Found 1 validated image filenames.\n",
            "Found 1 validated image filenames.\n",
            "Found 1 validated image filenames.\n",
            "Found 1 validated image filenames.\n",
            "Found 1 validated image filenames.\n"
          ]
        },
        {
          "output_type": "stream",
          "name": "stderr",
          "text": [
            "\rProcessing Images:  21%|██        | 993/4752 [00:11<00:53, 70.87it/s]"
          ]
        },
        {
          "output_type": "stream",
          "name": "stdout",
          "text": [
            "Found 1 validated image filenames.\n",
            "Found 1 validated image filenames.\n",
            "Found 1 validated image filenames.\n",
            "Found 1 validated image filenames.\n",
            "Found 1 validated image filenames.\n",
            "Found 1 validated image filenames.\n",
            "Found 1 validated image filenames.\n",
            "Found 1 validated image filenames.\n"
          ]
        },
        {
          "output_type": "stream",
          "name": "stderr",
          "text": [
            "\rProcessing Images:  21%|██        | 1001/4752 [00:11<00:52, 71.54it/s]"
          ]
        },
        {
          "output_type": "stream",
          "name": "stdout",
          "text": [
            "Found 1 validated image filenames.\n",
            "Found 1 validated image filenames.\n",
            "Found 1 validated image filenames.\n",
            "Found 1 validated image filenames.\n",
            "Found 1 validated image filenames.\n",
            "Found 1 validated image filenames.\n",
            "Found 1 validated image filenames.\n",
            "Found 1 validated image filenames.\n"
          ]
        },
        {
          "output_type": "stream",
          "name": "stderr",
          "text": [
            "\rProcessing Images:  21%|██        | 1009/4752 [00:11<00:50, 73.87it/s]"
          ]
        },
        {
          "output_type": "stream",
          "name": "stdout",
          "text": [
            "Found 1 validated image filenames.\n",
            "Found 1 validated image filenames.\n",
            "Found 1 validated image filenames.\n",
            "Found 1 validated image filenames.\n",
            "Found 1 validated image filenames.\n",
            "Found 1 validated image filenames.\n",
            "Found 1 validated image filenames.\n",
            "Found 1 validated image filenames.\n",
            "Found 1 validated image filenames.\n",
            "Found 1 validated image filenames.\n"
          ]
        },
        {
          "output_type": "stream",
          "name": "stderr",
          "text": [
            "\rProcessing Images:  21%|██▏       | 1019/4752 [00:12<00:45, 81.26it/s]"
          ]
        },
        {
          "output_type": "stream",
          "name": "stdout",
          "text": [
            "Found 1 validated image filenames.\n",
            "Found 1 validated image filenames.\n",
            "Found 1 validated image filenames.\n",
            "Found 1 validated image filenames.\n",
            "Found 1 validated image filenames.\n",
            "Found 1 validated image filenames.\n",
            "Found 1 validated image filenames.\n",
            "Found 1 validated image filenames.\n",
            "Found 1 validated image filenames.\n",
            "Found 1 validated image filenames.\n",
            "Found 1 validated image filenames.\n"
          ]
        },
        {
          "output_type": "stream",
          "name": "stderr",
          "text": [
            "\rProcessing Images:  22%|██▏       | 1030/4752 [00:12<00:42, 88.38it/s]"
          ]
        },
        {
          "output_type": "stream",
          "name": "stdout",
          "text": [
            "Found 1 validated image filenames.\n",
            "Found 1 validated image filenames.\n",
            "Found 1 validated image filenames.\n",
            "Found 1 validated image filenames.\n",
            "Found 1 validated image filenames.\n",
            "Found 1 validated image filenames.\n",
            "Found 1 validated image filenames.\n",
            "Found 1 validated image filenames.\n",
            "Found 1 validated image filenames.\n",
            "Found 1 validated image filenames.\n"
          ]
        },
        {
          "output_type": "stream",
          "name": "stderr",
          "text": [
            "\rProcessing Images:  22%|██▏       | 1040/4752 [00:12<00:40, 91.53it/s]"
          ]
        },
        {
          "output_type": "stream",
          "name": "stdout",
          "text": [
            "Found 1 validated image filenames.\n",
            "Found 1 validated image filenames.\n",
            "Found 1 validated image filenames.\n",
            "Found 1 validated image filenames.\n",
            "Found 1 validated image filenames.\n",
            "Found 1 validated image filenames.\n",
            "Found 1 validated image filenames.\n",
            "Found 1 validated image filenames.\n",
            "Found 1 validated image filenames.\n",
            "Found 1 validated image filenames.\n"
          ]
        },
        {
          "output_type": "stream",
          "name": "stderr",
          "text": [
            "\rProcessing Images:  22%|██▏       | 1050/4752 [00:12<00:39, 93.66it/s]"
          ]
        },
        {
          "output_type": "stream",
          "name": "stdout",
          "text": [
            "Found 1 validated image filenames.\n",
            "Found 1 validated image filenames.\n",
            "Found 1 validated image filenames.\n",
            "Found 1 validated image filenames.\n",
            "Found 1 validated image filenames.\n",
            "Found 1 validated image filenames.\n",
            "Found 1 validated image filenames.\n",
            "Found 1 validated image filenames.\n",
            "Found 1 validated image filenames.\n",
            "Found 1 validated image filenames.\n"
          ]
        },
        {
          "output_type": "stream",
          "name": "stderr",
          "text": [
            "\rProcessing Images:  22%|██▏       | 1060/4752 [00:12<00:41, 89.75it/s]"
          ]
        },
        {
          "output_type": "stream",
          "name": "stdout",
          "text": [
            "Found 1 validated image filenames.\n",
            "Found 1 validated image filenames.\n",
            "Found 1 validated image filenames.\n",
            "Found 1 validated image filenames.\n",
            "Found 1 validated image filenames.\n",
            "Found 1 validated image filenames.\n",
            "Found 1 validated image filenames.\n",
            "Found 1 validated image filenames.\n",
            "Found 1 validated image filenames.\n",
            "Found 1 validated image filenames.\n"
          ]
        },
        {
          "output_type": "stream",
          "name": "stderr",
          "text": [
            "\rProcessing Images:  23%|██▎       | 1070/4752 [00:12<00:42, 87.00it/s]"
          ]
        },
        {
          "output_type": "stream",
          "name": "stdout",
          "text": [
            "Found 1 validated image filenames.\n",
            "Found 1 validated image filenames.\n",
            "Found 1 validated image filenames.\n",
            "Found 1 validated image filenames.\n",
            "Found 1 validated image filenames.\n",
            "Found 1 validated image filenames.\n",
            "Found 1 validated image filenames.\n",
            "Found 1 validated image filenames.\n",
            "Found 1 validated image filenames.\n"
          ]
        },
        {
          "output_type": "stream",
          "name": "stderr",
          "text": [
            "\rProcessing Images:  23%|██▎       | 1079/4752 [00:12<00:43, 84.47it/s]"
          ]
        },
        {
          "output_type": "stream",
          "name": "stdout",
          "text": [
            "Found 1 validated image filenames.\n",
            "Found 1 validated image filenames.\n",
            "Found 1 validated image filenames.\n",
            "Found 1 validated image filenames.\n",
            "Found 1 validated image filenames.\n",
            "Found 1 validated image filenames.\n",
            "Found 1 validated image filenames.\n",
            "Found 1 validated image filenames.\n",
            "Found 1 validated image filenames.\n"
          ]
        },
        {
          "output_type": "stream",
          "name": "stderr",
          "text": [
            "\rProcessing Images:  23%|██▎       | 1088/4752 [00:12<00:42, 85.68it/s]"
          ]
        },
        {
          "output_type": "stream",
          "name": "stdout",
          "text": [
            "Found 1 validated image filenames.\n",
            "Found 1 validated image filenames.\n",
            "Found 1 validated image filenames.\n",
            "Found 1 validated image filenames.\n",
            "Found 1 validated image filenames.\n",
            "Found 1 validated image filenames.\n",
            "Found 1 validated image filenames.\n",
            "Found 1 validated image filenames.\n",
            "Found 1 validated image filenames.\n"
          ]
        },
        {
          "output_type": "stream",
          "name": "stderr",
          "text": [
            "\rProcessing Images:  23%|██▎       | 1097/4752 [00:12<00:43, 83.71it/s]"
          ]
        },
        {
          "output_type": "stream",
          "name": "stdout",
          "text": [
            "Found 1 validated image filenames.\n",
            "Found 1 validated image filenames.\n",
            "Found 1 validated image filenames.\n",
            "Found 1 validated image filenames.\n",
            "Found 1 validated image filenames.\n",
            "Found 1 validated image filenames.\n",
            "Found 1 validated image filenames.\n",
            "Found 1 validated image filenames.\n",
            "Found 1 validated image filenames.\n"
          ]
        },
        {
          "output_type": "stream",
          "name": "stderr",
          "text": [
            "\rProcessing Images:  23%|██▎       | 1106/4752 [00:13<00:43, 84.05it/s]"
          ]
        },
        {
          "output_type": "stream",
          "name": "stdout",
          "text": [
            "Found 1 validated image filenames.\n",
            "Found 1 validated image filenames.\n",
            "Found 1 validated image filenames.\n",
            "Found 1 validated image filenames.\n",
            "Found 1 validated image filenames.\n",
            "Found 1 validated image filenames.\n",
            "Found 1 validated image filenames.\n",
            "Found 1 validated image filenames.\n",
            "Found 1 validated image filenames.\n"
          ]
        },
        {
          "output_type": "stream",
          "name": "stderr",
          "text": [
            "\rProcessing Images:  23%|██▎       | 1115/4752 [00:13<00:43, 84.09it/s]"
          ]
        },
        {
          "output_type": "stream",
          "name": "stdout",
          "text": [
            "Found 1 validated image filenames.\n",
            "Found 1 validated image filenames.\n",
            "Found 1 validated image filenames.\n",
            "Found 1 validated image filenames.\n",
            "Found 1 validated image filenames.\n",
            "Found 1 validated image filenames.\n",
            "Found 1 validated image filenames.\n",
            "Found 1 validated image filenames.\n",
            "Found 1 validated image filenames.\n"
          ]
        },
        {
          "output_type": "stream",
          "name": "stderr",
          "text": [
            "\rProcessing Images:  24%|██▎       | 1124/4752 [00:13<00:43, 84.28it/s]"
          ]
        },
        {
          "output_type": "stream",
          "name": "stdout",
          "text": [
            "Found 1 validated image filenames.\n",
            "Found 1 validated image filenames.\n",
            "Found 1 validated image filenames.\n",
            "Found 1 validated image filenames.\n",
            "Found 1 validated image filenames.\n",
            "Found 1 validated image filenames.\n",
            "Found 1 validated image filenames.\n",
            "Found 1 validated image filenames.\n",
            "Found 1 validated image filenames.\n"
          ]
        },
        {
          "output_type": "stream",
          "name": "stderr",
          "text": [
            "\rProcessing Images:  24%|██▍       | 1133/4752 [00:13<00:42, 85.01it/s]"
          ]
        },
        {
          "output_type": "stream",
          "name": "stdout",
          "text": [
            "Found 1 validated image filenames.\n",
            "Found 1 validated image filenames.\n",
            "Found 1 validated image filenames.\n",
            "Found 1 validated image filenames.\n",
            "Found 1 validated image filenames.\n",
            "Found 1 validated image filenames.\n",
            "Found 1 validated image filenames.\n",
            "Found 1 validated image filenames.\n",
            "Found 1 validated image filenames.\n",
            "Found 1 validated image filenames.\n",
            "Found 1 validated image filenames.\n"
          ]
        },
        {
          "output_type": "stream",
          "name": "stderr",
          "text": [
            "\rProcessing Images:  24%|██▍       | 1144/4752 [00:13<00:39, 90.58it/s]"
          ]
        },
        {
          "output_type": "stream",
          "name": "stdout",
          "text": [
            "Found 1 validated image filenames.\n",
            "Found 1 validated image filenames.\n",
            "Found 1 validated image filenames.\n",
            "Found 1 validated image filenames.\n",
            "Found 1 validated image filenames.\n",
            "Found 1 validated image filenames.\n",
            "Found 1 validated image filenames.\n",
            "Found 1 validated image filenames.\n",
            "Found 1 validated image filenames.\n",
            "Found 1 validated image filenames.\n",
            "Found 1 validated image filenames.\n",
            "Found 1 validated image filenames.\n"
          ]
        },
        {
          "output_type": "stream",
          "name": "stderr",
          "text": [
            "\rProcessing Images:  24%|██▍       | 1156/4752 [00:13<00:37, 96.06it/s]"
          ]
        },
        {
          "output_type": "stream",
          "name": "stdout",
          "text": [
            "Found 1 validated image filenames.\n",
            "Found 1 validated image filenames.\n",
            "Found 1 validated image filenames.\n",
            "Found 1 validated image filenames.\n",
            "Found 1 validated image filenames.\n",
            "Found 1 validated image filenames.\n",
            "Found 1 validated image filenames.\n",
            "Found 1 validated image filenames.\n",
            "Found 1 validated image filenames.\n",
            "Found 1 validated image filenames.\n",
            "Found 1 validated image filenames.\n"
          ]
        },
        {
          "output_type": "stream",
          "name": "stderr",
          "text": [
            "\rProcessing Images:  25%|██▍       | 1167/4752 [00:13<00:36, 98.55it/s]"
          ]
        },
        {
          "output_type": "stream",
          "name": "stdout",
          "text": [
            "Found 1 validated image filenames.\n",
            "Found 1 validated image filenames.\n",
            "Found 1 validated image filenames.\n",
            "Found 1 validated image filenames.\n",
            "Found 1 validated image filenames.\n",
            "Found 1 validated image filenames.\n",
            "Found 1 validated image filenames.\n",
            "Found 1 validated image filenames.\n",
            "Found 1 validated image filenames.\n",
            "Found 1 validated image filenames.\n",
            "Found 1 validated image filenames.\n"
          ]
        },
        {
          "output_type": "stream",
          "name": "stderr",
          "text": [
            "\rProcessing Images:  25%|██▍       | 1178/4752 [00:13<00:35, 100.14it/s]"
          ]
        },
        {
          "output_type": "stream",
          "name": "stdout",
          "text": [
            "Found 1 validated image filenames.\n",
            "Found 1 validated image filenames.\n",
            "Found 1 validated image filenames.\n",
            "Found 1 validated image filenames.\n",
            "Found 1 validated image filenames.\n",
            "Found 1 validated image filenames.\n",
            "Found 1 validated image filenames.\n",
            "Found 1 validated image filenames.\n",
            "Found 1 validated image filenames.\n",
            "Found 1 validated image filenames.\n",
            "Found 1 validated image filenames.\n"
          ]
        },
        {
          "output_type": "stream",
          "name": "stderr",
          "text": [
            "\rProcessing Images:  25%|██▌       | 1189/4752 [00:13<00:35, 101.16it/s]"
          ]
        },
        {
          "output_type": "stream",
          "name": "stdout",
          "text": [
            "Found 1 validated image filenames.\n",
            "Found 1 validated image filenames.\n",
            "Found 1 validated image filenames.\n",
            "Found 1 validated image filenames.\n",
            "Found 1 validated image filenames.\n",
            "Found 1 validated image filenames.\n",
            "Found 1 validated image filenames.\n",
            "Found 1 validated image filenames.\n",
            "Found 1 validated image filenames.\n",
            "Found 1 validated image filenames.\n",
            "Found 1 validated image filenames.\n"
          ]
        },
        {
          "output_type": "stream",
          "name": "stderr",
          "text": [
            "\rProcessing Images:  25%|██▌       | 1200/4752 [00:13<00:36, 98.27it/s] "
          ]
        },
        {
          "output_type": "stream",
          "name": "stdout",
          "text": [
            "Found 1 validated image filenames.\n",
            "Found 1 validated image filenames.\n",
            "Found 1 validated image filenames.\n",
            "Found 1 validated image filenames.\n",
            "Found 1 validated image filenames.\n",
            "Found 1 validated image filenames.\n",
            "Found 1 validated image filenames.\n",
            "Found 1 validated image filenames.\n",
            "Found 1 validated image filenames.\n",
            "Found 1 validated image filenames.\n"
          ]
        },
        {
          "output_type": "stream",
          "name": "stderr",
          "text": [
            "\rProcessing Images:  25%|██▌       | 1210/4752 [00:14<00:36, 96.96it/s]"
          ]
        },
        {
          "output_type": "stream",
          "name": "stdout",
          "text": [
            "Found 1 validated image filenames.\n",
            "Found 1 validated image filenames.\n",
            "Found 1 validated image filenames.\n",
            "Found 1 validated image filenames.\n",
            "Found 1 validated image filenames.\n",
            "Found 1 validated image filenames.\n",
            "Found 1 validated image filenames.\n",
            "Found 1 validated image filenames.\n",
            "Found 1 validated image filenames.\n",
            "Found 1 validated image filenames.\n",
            "Found 1 validated image filenames.\n"
          ]
        },
        {
          "output_type": "stream",
          "name": "stderr",
          "text": [
            "\rProcessing Images:  26%|██▌       | 1221/4752 [00:14<00:35, 98.82it/s]"
          ]
        },
        {
          "output_type": "stream",
          "name": "stdout",
          "text": [
            "Found 1 validated image filenames.\n",
            "Found 1 validated image filenames.\n",
            "Found 1 validated image filenames.\n",
            "Found 1 validated image filenames.\n",
            "Found 1 validated image filenames.\n",
            "Found 1 validated image filenames.\n",
            "Found 1 validated image filenames.\n",
            "Found 1 validated image filenames.\n",
            "Found 1 validated image filenames.\n",
            "Found 1 validated image filenames.\n",
            "Found 1 validated image filenames.\n"
          ]
        },
        {
          "output_type": "stream",
          "name": "stderr",
          "text": [
            "\rProcessing Images:  26%|██▌       | 1232/4752 [00:14<00:34, 101.01it/s]"
          ]
        },
        {
          "output_type": "stream",
          "name": "stdout",
          "text": [
            "Found 1 validated image filenames.\n",
            "Found 1 validated image filenames.\n",
            "Found 1 validated image filenames.\n",
            "Found 1 validated image filenames.\n",
            "Found 1 validated image filenames.\n",
            "Found 1 validated image filenames.\n",
            "Found 1 validated image filenames.\n",
            "Found 1 validated image filenames.\n",
            "Found 1 validated image filenames.\n",
            "Found 1 validated image filenames.\n",
            "Found 1 validated image filenames.\n"
          ]
        },
        {
          "output_type": "stream",
          "name": "stderr",
          "text": [
            "\rProcessing Images:  26%|██▌       | 1243/4752 [00:14<00:36, 95.50it/s] "
          ]
        },
        {
          "output_type": "stream",
          "name": "stdout",
          "text": [
            "Found 1 validated image filenames.\n",
            "Found 1 validated image filenames.\n",
            "Found 1 validated image filenames.\n",
            "Found 1 validated image filenames.\n",
            "Found 1 validated image filenames.\n",
            "Found 1 validated image filenames.\n",
            "Found 1 validated image filenames.\n",
            "Found 1 validated image filenames.\n",
            "Found 1 validated image filenames.\n",
            "Found 1 validated image filenames.\n"
          ]
        },
        {
          "output_type": "stream",
          "name": "stderr",
          "text": [
            "\rProcessing Images:  26%|██▋       | 1253/4752 [00:14<00:37, 94.18it/s]"
          ]
        },
        {
          "output_type": "stream",
          "name": "stdout",
          "text": [
            "Found 1 validated image filenames.\n",
            "Found 1 validated image filenames.\n",
            "Found 1 validated image filenames.\n",
            "Found 1 validated image filenames.\n",
            "Found 1 validated image filenames.\n",
            "Found 1 validated image filenames.\n",
            "Found 1 validated image filenames.\n",
            "Found 1 validated image filenames.\n",
            "Found 1 validated image filenames.\n",
            "Found 1 validated image filenames.\n"
          ]
        },
        {
          "output_type": "stream",
          "name": "stderr",
          "text": [
            "\rProcessing Images:  27%|██▋       | 1263/4752 [00:14<00:36, 94.88it/s]"
          ]
        },
        {
          "output_type": "stream",
          "name": "stdout",
          "text": [
            "Found 1 validated image filenames.\n",
            "Found 1 validated image filenames.\n",
            "Found 1 validated image filenames.\n",
            "Found 1 validated image filenames.\n",
            "Found 1 validated image filenames.\n",
            "Found 1 validated image filenames.\n",
            "Found 1 validated image filenames.\n",
            "Found 1 validated image filenames.\n",
            "Found 1 validated image filenames.\n",
            "Found 1 validated image filenames.\n"
          ]
        },
        {
          "output_type": "stream",
          "name": "stderr",
          "text": [
            "\rProcessing Images:  27%|██▋       | 1273/4752 [00:14<00:36, 94.21it/s]"
          ]
        },
        {
          "output_type": "stream",
          "name": "stdout",
          "text": [
            "Found 1 validated image filenames.\n",
            "Found 1 validated image filenames.\n",
            "Found 1 validated image filenames.\n",
            "Found 1 validated image filenames.\n",
            "Found 1 validated image filenames.\n",
            "Found 1 validated image filenames.\n",
            "Found 1 validated image filenames.\n",
            "Found 1 validated image filenames.\n",
            "Found 1 validated image filenames.\n",
            "Found 1 validated image filenames.\n"
          ]
        },
        {
          "output_type": "stream",
          "name": "stderr",
          "text": [
            "\rProcessing Images:  27%|██▋       | 1283/4752 [00:14<00:37, 91.54it/s]"
          ]
        },
        {
          "output_type": "stream",
          "name": "stdout",
          "text": [
            "Found 1 validated image filenames.\n",
            "Found 1 validated image filenames.\n",
            "Found 1 validated image filenames.\n",
            "Found 1 validated image filenames.\n",
            "Found 1 validated image filenames.\n",
            "Found 1 validated image filenames.\n",
            "Found 1 validated image filenames.\n",
            "Found 1 validated image filenames.\n",
            "Found 1 validated image filenames.\n",
            "Found 1 validated image filenames.\n"
          ]
        },
        {
          "output_type": "stream",
          "name": "stderr",
          "text": [
            "\rProcessing Images:  27%|██▋       | 1293/4752 [00:15<00:41, 83.27it/s]"
          ]
        },
        {
          "output_type": "stream",
          "name": "stdout",
          "text": [
            "Found 1 validated image filenames.\n",
            "Found 1 validated image filenames.\n",
            "Found 1 validated image filenames.\n",
            "Found 1 validated image filenames.\n",
            "Found 1 validated image filenames.\n",
            "Found 1 validated image filenames.\n",
            "Found 1 validated image filenames.\n",
            "Found 1 validated image filenames.\n",
            "Found 1 validated image filenames.\n"
          ]
        },
        {
          "output_type": "stream",
          "name": "stderr",
          "text": [
            "\rProcessing Images:  27%|██▋       | 1302/4752 [00:15<00:44, 77.73it/s]"
          ]
        },
        {
          "output_type": "stream",
          "name": "stdout",
          "text": [
            "Found 1 validated image filenames.\n",
            "Found 1 validated image filenames.\n",
            "Found 1 validated image filenames.\n",
            "Found 1 validated image filenames.\n",
            "Found 1 validated image filenames.\n",
            "Found 1 validated image filenames.\n",
            "Found 1 validated image filenames.\n",
            "Found 1 validated image filenames.\n",
            "Found 1 validated image filenames.\n"
          ]
        },
        {
          "output_type": "stream",
          "name": "stderr",
          "text": [
            "\rProcessing Images:  28%|██▊       | 1311/4752 [00:15<00:43, 79.35it/s]"
          ]
        },
        {
          "output_type": "stream",
          "name": "stdout",
          "text": [
            "Found 1 validated image filenames.\n",
            "Found 1 validated image filenames.\n",
            "Found 1 validated image filenames.\n",
            "Found 1 validated image filenames.\n",
            "Found 1 validated image filenames.\n",
            "Found 1 validated image filenames.\n",
            "Found 1 validated image filenames.\n",
            "Found 1 validated image filenames.\n",
            "Found 1 validated image filenames.\n"
          ]
        },
        {
          "output_type": "stream",
          "name": "stderr",
          "text": [
            "\rProcessing Images:  28%|██▊       | 1320/4752 [00:15<00:43, 79.59it/s]"
          ]
        },
        {
          "output_type": "stream",
          "name": "stdout",
          "text": [
            "Found 1 validated image filenames.\n",
            "Found 1 validated image filenames.\n",
            "Found 1 validated image filenames.\n",
            "Found 1 validated image filenames.\n",
            "Found 1 validated image filenames.\n",
            "Found 1 validated image filenames.\n",
            "Found 1 validated image filenames.\n",
            "Found 1 validated image filenames.\n",
            "Found 1 validated image filenames.\n"
          ]
        },
        {
          "output_type": "stream",
          "name": "stderr",
          "text": [
            "\rProcessing Images:  28%|██▊       | 1329/4752 [00:15<00:43, 78.52it/s]"
          ]
        },
        {
          "output_type": "stream",
          "name": "stdout",
          "text": [
            "Found 1 validated image filenames.\n",
            "Found 1 validated image filenames.\n",
            "Found 1 validated image filenames.\n",
            "Found 1 validated image filenames.\n",
            "Found 1 validated image filenames.\n",
            "Found 1 validated image filenames.\n",
            "Found 1 validated image filenames.\n",
            "Found 1 validated image filenames.\n",
            "Found 1 validated image filenames.\n"
          ]
        },
        {
          "output_type": "stream",
          "name": "stderr",
          "text": [
            "\rProcessing Images:  28%|██▊       | 1338/4752 [00:15<00:42, 80.04it/s]"
          ]
        },
        {
          "output_type": "stream",
          "name": "stdout",
          "text": [
            "Found 1 validated image filenames.\n",
            "Found 1 validated image filenames.\n",
            "Found 1 validated image filenames.\n",
            "Found 1 validated image filenames.\n",
            "Found 1 validated image filenames.\n",
            "Found 1 validated image filenames.\n",
            "Found 1 validated image filenames.\n",
            "Found 1 validated image filenames.\n",
            "Found 1 validated image filenames.\n",
            "Found 1 validated image filenames.\n",
            "Found 1 validated image filenames.\n"
          ]
        },
        {
          "output_type": "stream",
          "name": "stderr",
          "text": [
            "\rProcessing Images:  28%|██▊       | 1349/4752 [00:15<00:39, 85.84it/s]"
          ]
        },
        {
          "output_type": "stream",
          "name": "stdout",
          "text": [
            "Found 1 validated image filenames.\n",
            "Found 1 validated image filenames.\n",
            "Found 1 validated image filenames.\n",
            "Found 1 validated image filenames.\n",
            "Found 1 validated image filenames.\n",
            "Found 1 validated image filenames.\n",
            "Found 1 validated image filenames.\n",
            "Found 1 validated image filenames.\n",
            "Found 1 validated image filenames.\n",
            "Found 1 validated image filenames.\n",
            "Found 1 validated image filenames.\n"
          ]
        },
        {
          "output_type": "stream",
          "name": "stderr",
          "text": [
            "\rProcessing Images:  29%|██▊       | 1360/4752 [00:15<00:37, 89.69it/s]"
          ]
        },
        {
          "output_type": "stream",
          "name": "stdout",
          "text": [
            "Found 1 validated image filenames.\n",
            "Found 1 validated image filenames.\n",
            "Found 1 validated image filenames.\n",
            "Found 1 validated image filenames.\n",
            "Found 1 validated image filenames.\n",
            "Found 1 validated image filenames.\n",
            "Found 1 validated image filenames.\n",
            "Found 1 validated image filenames.\n",
            "Found 1 validated image filenames.\n",
            "Found 1 validated image filenames.\n"
          ]
        },
        {
          "output_type": "stream",
          "name": "stderr",
          "text": [
            "\rProcessing Images:  29%|██▉       | 1370/4752 [00:15<00:36, 91.57it/s]"
          ]
        },
        {
          "output_type": "stream",
          "name": "stdout",
          "text": [
            "Found 1 validated image filenames.\n",
            "Found 1 validated image filenames.\n",
            "Found 1 validated image filenames.\n",
            "Found 1 validated image filenames.\n",
            "Found 1 validated image filenames.\n",
            "Found 1 validated image filenames.\n",
            "Found 1 validated image filenames.\n",
            "Found 1 validated image filenames.\n",
            "Found 1 validated image filenames.\n",
            "Found 1 validated image filenames.\n"
          ]
        },
        {
          "output_type": "stream",
          "name": "stderr",
          "text": [
            "\rProcessing Images:  29%|██▉       | 1380/4752 [00:16<00:35, 93.75it/s]"
          ]
        },
        {
          "output_type": "stream",
          "name": "stdout",
          "text": [
            "Found 1 validated image filenames.\n",
            "Found 1 validated image filenames.\n",
            "Found 1 validated image filenames.\n",
            "Found 1 validated image filenames.\n",
            "Found 1 validated image filenames.\n",
            "Found 1 validated image filenames.\n",
            "Found 1 validated image filenames.\n",
            "Found 1 validated image filenames.\n",
            "Found 1 validated image filenames.\n",
            "Found 1 validated image filenames.\n"
          ]
        },
        {
          "output_type": "stream",
          "name": "stderr",
          "text": [
            "\rProcessing Images:  29%|██▉       | 1390/4752 [00:16<00:36, 92.83it/s]"
          ]
        },
        {
          "output_type": "stream",
          "name": "stdout",
          "text": [
            "Found 1 validated image filenames.\n",
            "Found 1 validated image filenames.\n",
            "Found 1 validated image filenames.\n",
            "Found 1 validated image filenames.\n",
            "Found 1 validated image filenames.\n",
            "Found 1 validated image filenames.\n",
            "Found 1 validated image filenames.\n",
            "Found 1 validated image filenames.\n",
            "Found 1 validated image filenames.\n",
            "Found 1 validated image filenames.\n",
            "Found 1 validated image filenames.\n"
          ]
        },
        {
          "output_type": "stream",
          "name": "stderr",
          "text": [
            "\rProcessing Images:  29%|██▉       | 1401/4752 [00:16<00:34, 95.88it/s]"
          ]
        },
        {
          "output_type": "stream",
          "name": "stdout",
          "text": [
            "Found 1 validated image filenames.\n",
            "Found 1 validated image filenames.\n",
            "Found 1 validated image filenames.\n",
            "Found 1 validated image filenames.\n",
            "Found 1 validated image filenames.\n",
            "Found 1 validated image filenames.\n",
            "Found 1 validated image filenames.\n",
            "Found 1 validated image filenames.\n",
            "Found 1 validated image filenames.\n",
            "Found 1 validated image filenames.\n"
          ]
        },
        {
          "output_type": "stream",
          "name": "stderr",
          "text": [
            "\rProcessing Images:  30%|██▉       | 1411/4752 [00:16<00:34, 96.16it/s]"
          ]
        },
        {
          "output_type": "stream",
          "name": "stdout",
          "text": [
            "Found 1 validated image filenames.\n",
            "Found 1 validated image filenames.\n",
            "Found 1 validated image filenames.\n",
            "Found 1 validated image filenames.\n",
            "Found 1 validated image filenames.\n",
            "Found 1 validated image filenames.\n",
            "Found 1 validated image filenames.\n",
            "Found 1 validated image filenames.\n",
            "Found 1 validated image filenames.\n",
            "Found 1 validated image filenames.\n",
            "Found 1 validated image filenames.\n"
          ]
        },
        {
          "output_type": "stream",
          "name": "stderr",
          "text": [
            "\rProcessing Images:  30%|██▉       | 1422/4752 [00:16<00:34, 97.13it/s]"
          ]
        },
        {
          "output_type": "stream",
          "name": "stdout",
          "text": [
            "Found 1 validated image filenames.\n",
            "Found 1 validated image filenames.\n",
            "Found 1 validated image filenames.\n",
            "Found 1 validated image filenames.\n",
            "Found 1 validated image filenames.\n",
            "Found 1 validated image filenames.\n",
            "Found 1 validated image filenames.\n",
            "Found 1 validated image filenames.\n",
            "Found 1 validated image filenames.\n",
            "Found 1 validated image filenames.\n"
          ]
        },
        {
          "output_type": "stream",
          "name": "stderr",
          "text": [
            "\rProcessing Images:  30%|███       | 1432/4752 [00:16<00:36, 91.86it/s]"
          ]
        },
        {
          "output_type": "stream",
          "name": "stdout",
          "text": [
            "Found 1 validated image filenames.\n",
            "Found 1 validated image filenames.\n",
            "Found 1 validated image filenames.\n",
            "Found 1 validated image filenames.\n",
            "Found 1 validated image filenames.\n",
            "Found 1 validated image filenames.\n",
            "Found 1 validated image filenames.\n",
            "Found 1 validated image filenames.\n",
            "Found 1 validated image filenames.\n",
            "Found 1 validated image filenames.\n"
          ]
        },
        {
          "output_type": "stream",
          "name": "stderr",
          "text": [
            "\rProcessing Images:  30%|███       | 1442/4752 [00:16<00:37, 88.26it/s]"
          ]
        },
        {
          "output_type": "stream",
          "name": "stdout",
          "text": [
            "Found 1 validated image filenames.\n",
            "Found 1 validated image filenames.\n",
            "Found 1 validated image filenames.\n",
            "Found 1 validated image filenames.\n",
            "Found 1 validated image filenames.\n",
            "Found 1 validated image filenames.\n",
            "Found 1 validated image filenames.\n",
            "Found 1 validated image filenames.\n",
            "Found 1 validated image filenames.\n"
          ]
        },
        {
          "output_type": "stream",
          "name": "stderr",
          "text": [
            "\rProcessing Images:  31%|███       | 1451/4752 [00:16<00:38, 86.85it/s]"
          ]
        },
        {
          "output_type": "stream",
          "name": "stdout",
          "text": [
            "Found 1 validated image filenames.\n",
            "Found 1 validated image filenames.\n",
            "Found 1 validated image filenames.\n",
            "Found 1 validated image filenames.\n",
            "Found 1 validated image filenames.\n",
            "Found 1 validated image filenames.\n",
            "Found 1 validated image filenames.\n",
            "Found 1 validated image filenames.\n",
            "Found 1 validated image filenames.\n"
          ]
        },
        {
          "output_type": "stream",
          "name": "stderr",
          "text": [
            "\rProcessing Images:  31%|███       | 1460/4752 [00:16<00:38, 84.69it/s]"
          ]
        },
        {
          "output_type": "stream",
          "name": "stdout",
          "text": [
            "Found 1 validated image filenames.\n",
            "Found 1 validated image filenames.\n",
            "Found 1 validated image filenames.\n",
            "Found 1 validated image filenames.\n",
            "Found 1 validated image filenames.\n",
            "Found 1 validated image filenames.\n",
            "Found 1 validated image filenames.\n",
            "Found 1 validated image filenames.\n",
            "Found 1 validated image filenames.\n"
          ]
        },
        {
          "output_type": "stream",
          "name": "stderr",
          "text": [
            "\rProcessing Images:  31%|███       | 1469/4752 [00:17<00:39, 83.50it/s]"
          ]
        },
        {
          "output_type": "stream",
          "name": "stdout",
          "text": [
            "Found 1 validated image filenames.\n",
            "Found 1 validated image filenames.\n",
            "Found 1 validated image filenames.\n",
            "Found 1 validated image filenames.\n",
            "Found 1 validated image filenames.\n",
            "Found 1 validated image filenames.\n",
            "Found 1 validated image filenames.\n",
            "Found 1 validated image filenames.\n",
            "Found 1 validated image filenames.\n"
          ]
        },
        {
          "output_type": "stream",
          "name": "stderr",
          "text": [
            "\rProcessing Images:  31%|███       | 1478/4752 [00:17<00:39, 82.86it/s]"
          ]
        },
        {
          "output_type": "stream",
          "name": "stdout",
          "text": [
            "Found 1 validated image filenames.\n",
            "Found 1 validated image filenames.\n",
            "Found 1 validated image filenames.\n",
            "Found 1 validated image filenames.\n",
            "Found 1 validated image filenames.\n",
            "Found 1 validated image filenames.\n",
            "Found 1 validated image filenames.\n",
            "Found 1 validated image filenames.\n",
            "Found 1 validated image filenames.\n"
          ]
        },
        {
          "output_type": "stream",
          "name": "stderr",
          "text": [
            "\rProcessing Images:  31%|███▏      | 1487/4752 [00:17<00:39, 83.33it/s]"
          ]
        },
        {
          "output_type": "stream",
          "name": "stdout",
          "text": [
            "Found 1 validated image filenames.\n",
            "Found 1 validated image filenames.\n",
            "Found 1 validated image filenames.\n",
            "Found 1 validated image filenames.\n",
            "Found 1 validated image filenames.\n",
            "Found 1 validated image filenames.\n",
            "Found 1 validated image filenames.\n",
            "Found 1 validated image filenames.\n",
            "Found 1 validated image filenames.\n"
          ]
        },
        {
          "output_type": "stream",
          "name": "stderr",
          "text": [
            "\rProcessing Images:  31%|███▏      | 1496/4752 [00:17<00:39, 83.01it/s]"
          ]
        },
        {
          "output_type": "stream",
          "name": "stdout",
          "text": [
            "Found 1 validated image filenames.\n",
            "Found 1 validated image filenames.\n",
            "Found 1 validated image filenames.\n",
            "Found 1 validated image filenames.\n",
            "Found 1 validated image filenames.\n",
            "Found 1 validated image filenames.\n",
            "Found 1 validated image filenames.\n",
            "Found 1 validated image filenames.\n",
            "Found 1 validated image filenames.\n",
            "Found 1 validated image filenames.\n",
            "Found 1 validated image filenames.\n"
          ]
        },
        {
          "output_type": "stream",
          "name": "stderr",
          "text": [
            "\rProcessing Images:  32%|███▏      | 1507/4752 [00:17<00:36, 88.36it/s]"
          ]
        },
        {
          "output_type": "stream",
          "name": "stdout",
          "text": [
            "Found 1 validated image filenames.\n",
            "Found 1 validated image filenames.\n",
            "Found 1 validated image filenames.\n",
            "Found 1 validated image filenames.\n",
            "Found 1 validated image filenames.\n",
            "Found 1 validated image filenames.\n",
            "Found 1 validated image filenames.\n",
            "Found 1 validated image filenames.\n",
            "Found 1 validated image filenames.\n",
            "Found 1 validated image filenames.\n"
          ]
        },
        {
          "output_type": "stream",
          "name": "stderr",
          "text": [
            "\rProcessing Images:  32%|███▏      | 1517/4752 [00:17<00:35, 90.49it/s]"
          ]
        },
        {
          "output_type": "stream",
          "name": "stdout",
          "text": [
            "Found 1 validated image filenames.\n",
            "Found 1 validated image filenames.\n",
            "Found 1 validated image filenames.\n",
            "Found 1 validated image filenames.\n",
            "Found 1 validated image filenames.\n",
            "Found 1 validated image filenames.\n",
            "Found 1 validated image filenames.\n",
            "Found 1 validated image filenames.\n",
            "Found 1 validated image filenames.\n",
            "Found 1 validated image filenames.\n",
            "Found 1 validated image filenames.\n"
          ]
        },
        {
          "output_type": "stream",
          "name": "stderr",
          "text": [
            "\rProcessing Images:  32%|███▏      | 1528/4752 [00:17<00:33, 95.94it/s]"
          ]
        },
        {
          "output_type": "stream",
          "name": "stdout",
          "text": [
            "Found 1 validated image filenames.\n",
            "Found 1 validated image filenames.\n",
            "Found 1 validated image filenames.\n",
            "Found 1 validated image filenames.\n",
            "Found 1 validated image filenames.\n",
            "Found 1 validated image filenames.\n",
            "Found 1 validated image filenames.\n",
            "Found 1 validated image filenames.\n",
            "Found 1 validated image filenames.\n",
            "Found 1 validated image filenames.\n",
            "Found 1 validated image filenames.\n"
          ]
        },
        {
          "output_type": "stream",
          "name": "stderr",
          "text": [
            "\rProcessing Images:  32%|███▏      | 1539/4752 [00:17<00:32, 98.04it/s]"
          ]
        },
        {
          "output_type": "stream",
          "name": "stdout",
          "text": [
            "Found 1 validated image filenames.\n",
            "Found 1 validated image filenames.\n",
            "Found 1 validated image filenames.\n",
            "Found 1 validated image filenames.\n",
            "Found 1 validated image filenames.\n",
            "Found 1 validated image filenames.\n",
            "Found 1 validated image filenames.\n",
            "Found 1 validated image filenames.\n",
            "Found 1 validated image filenames.\n",
            "Found 1 validated image filenames.\n",
            "Found 1 validated image filenames.\n"
          ]
        },
        {
          "output_type": "stream",
          "name": "stderr",
          "text": [
            "\rProcessing Images:  33%|███▎      | 1550/4752 [00:17<00:32, 99.81it/s]"
          ]
        },
        {
          "output_type": "stream",
          "name": "stdout",
          "text": [
            "Found 1 validated image filenames.\n",
            "Found 1 validated image filenames.\n",
            "Found 1 validated image filenames.\n",
            "Found 1 validated image filenames.\n",
            "Found 1 validated image filenames.\n",
            "Found 1 validated image filenames.\n",
            "Found 1 validated image filenames.\n",
            "Found 1 validated image filenames.\n",
            "Found 1 validated image filenames.\n",
            "Found 1 validated image filenames.\n",
            "Found 1 validated image filenames.\n"
          ]
        },
        {
          "output_type": "stream",
          "name": "stderr",
          "text": [
            "\rProcessing Images:  33%|███▎      | 1561/4752 [00:17<00:32, 99.40it/s]"
          ]
        },
        {
          "output_type": "stream",
          "name": "stdout",
          "text": [
            "Found 1 validated image filenames.\n",
            "Found 1 validated image filenames.\n",
            "Found 1 validated image filenames.\n",
            "Found 1 validated image filenames.\n",
            "Found 1 validated image filenames.\n",
            "Found 1 validated image filenames.\n",
            "Found 1 validated image filenames.\n",
            "Found 1 validated image filenames.\n",
            "Found 1 validated image filenames.\n",
            "Found 1 validated image filenames.\n"
          ]
        },
        {
          "output_type": "stream",
          "name": "stderr",
          "text": [
            "\rProcessing Images:  33%|███▎      | 1571/4752 [00:18<00:32, 98.70it/s]"
          ]
        },
        {
          "output_type": "stream",
          "name": "stdout",
          "text": [
            "Found 1 validated image filenames.\n",
            "Found 1 validated image filenames.\n",
            "Found 1 validated image filenames.\n",
            "Found 1 validated image filenames.\n",
            "Found 1 validated image filenames.\n",
            "Found 1 validated image filenames.\n",
            "Found 1 validated image filenames.\n",
            "Found 1 validated image filenames.\n",
            "Found 1 validated image filenames.\n",
            "Found 1 validated image filenames.\n"
          ]
        },
        {
          "output_type": "stream",
          "name": "stderr",
          "text": [
            "\rProcessing Images:  33%|███▎      | 1581/4752 [00:18<00:33, 95.92it/s]"
          ]
        },
        {
          "output_type": "stream",
          "name": "stdout",
          "text": [
            "Found 1 validated image filenames.\n",
            "Found 1 validated image filenames.\n",
            "Found 1 validated image filenames.\n",
            "Found 1 validated image filenames.\n",
            "Found 1 validated image filenames.\n",
            "Found 1 validated image filenames.\n",
            "Found 1 validated image filenames.\n",
            "Found 1 validated image filenames.\n",
            "Found 1 validated image filenames.\n",
            "Found 1 validated image filenames.\n"
          ]
        },
        {
          "output_type": "stream",
          "name": "stderr",
          "text": [
            "\rProcessing Images:  33%|███▎      | 1591/4752 [00:18<00:33, 94.29it/s]"
          ]
        },
        {
          "output_type": "stream",
          "name": "stdout",
          "text": [
            "Found 1 validated image filenames.\n",
            "Found 1 validated image filenames.\n",
            "Found 1 validated image filenames.\n",
            "Found 1 validated image filenames.\n",
            "Found 1 validated image filenames.\n",
            "Found 1 validated image filenames.\n",
            "Found 1 validated image filenames.\n",
            "Found 1 validated image filenames.\n",
            "Found 1 validated image filenames.\n",
            "Found 1 validated image filenames.\n"
          ]
        },
        {
          "output_type": "stream",
          "name": "stderr",
          "text": [
            "\rProcessing Images:  34%|███▎      | 1601/4752 [00:18<00:34, 90.19it/s]"
          ]
        },
        {
          "output_type": "stream",
          "name": "stdout",
          "text": [
            "Found 1 validated image filenames.\n",
            "Found 1 validated image filenames.\n",
            "Found 1 validated image filenames.\n",
            "Found 1 validated image filenames.\n",
            "Found 1 validated image filenames.\n",
            "Found 1 validated image filenames.\n",
            "Found 1 validated image filenames.\n",
            "Found 1 validated image filenames.\n",
            "Found 1 validated image filenames.\n",
            "Found 1 validated image filenames.\n"
          ]
        },
        {
          "output_type": "stream",
          "name": "stderr",
          "text": [
            "\rProcessing Images:  34%|███▍      | 1611/4752 [00:18<00:34, 90.00it/s]"
          ]
        },
        {
          "output_type": "stream",
          "name": "stdout",
          "text": [
            "Found 1 validated image filenames.\n",
            "Found 1 validated image filenames.\n",
            "Found 1 validated image filenames.\n",
            "Found 1 validated image filenames.\n",
            "Found 1 validated image filenames.\n",
            "Found 1 validated image filenames.\n",
            "Found 1 validated image filenames.\n",
            "Found 1 validated image filenames.\n",
            "Found 1 validated image filenames.\n",
            "Found 1 validated image filenames.\n"
          ]
        },
        {
          "output_type": "stream",
          "name": "stderr",
          "text": [
            "\rProcessing Images:  34%|███▍      | 1621/4752 [00:18<00:34, 91.61it/s]"
          ]
        },
        {
          "output_type": "stream",
          "name": "stdout",
          "text": [
            "Found 1 validated image filenames.\n",
            "Found 1 validated image filenames.\n",
            "Found 1 validated image filenames.\n",
            "Found 1 validated image filenames.\n",
            "Found 1 validated image filenames.\n",
            "Found 1 validated image filenames.\n",
            "Found 1 validated image filenames.\n",
            "Found 1 validated image filenames.\n",
            "Found 1 validated image filenames.\n",
            "Found 1 validated image filenames.\n"
          ]
        },
        {
          "output_type": "stream",
          "name": "stderr",
          "text": [
            "\rProcessing Images:  34%|███▍      | 1631/4752 [00:18<00:34, 89.79it/s]"
          ]
        },
        {
          "output_type": "stream",
          "name": "stdout",
          "text": [
            "Found 1 validated image filenames.\n",
            "Found 1 validated image filenames.\n",
            "Found 1 validated image filenames.\n",
            "Found 1 validated image filenames.\n",
            "Found 1 validated image filenames.\n",
            "Found 1 validated image filenames.\n",
            "Found 1 validated image filenames.\n",
            "Found 1 validated image filenames.\n",
            "Found 1 validated image filenames.\n",
            "Found 1 validated image filenames.\n"
          ]
        },
        {
          "output_type": "stream",
          "name": "stderr",
          "text": [
            "\rProcessing Images:  35%|███▍      | 1641/4752 [00:18<00:34, 90.07it/s]"
          ]
        },
        {
          "output_type": "stream",
          "name": "stdout",
          "text": [
            "Found 1 validated image filenames.\n",
            "Found 1 validated image filenames.\n",
            "Found 1 validated image filenames.\n",
            "Found 1 validated image filenames.\n",
            "Found 1 validated image filenames.\n",
            "Found 1 validated image filenames.\n",
            "Found 1 validated image filenames.\n",
            "Found 1 validated image filenames.\n",
            "Found 1 validated image filenames.\n",
            "Found 1 validated image filenames.\n"
          ]
        },
        {
          "output_type": "stream",
          "name": "stderr",
          "text": [
            "\rProcessing Images:  35%|███▍      | 1651/4752 [00:18<00:33, 92.02it/s]"
          ]
        },
        {
          "output_type": "stream",
          "name": "stdout",
          "text": [
            "Found 1 validated image filenames.\n",
            "Found 1 validated image filenames.\n",
            "Found 1 validated image filenames.\n",
            "Found 1 validated image filenames.\n",
            "Found 1 validated image filenames.\n",
            "Found 1 validated image filenames.\n",
            "Found 1 validated image filenames.\n",
            "Found 1 validated image filenames.\n",
            "Found 1 validated image filenames.\n",
            "Found 1 validated image filenames.\n"
          ]
        },
        {
          "output_type": "stream",
          "name": "stderr",
          "text": [
            "\rProcessing Images:  35%|███▍      | 1661/4752 [00:19<00:33, 91.98it/s]"
          ]
        },
        {
          "output_type": "stream",
          "name": "stdout",
          "text": [
            "Found 1 validated image filenames.\n",
            "Found 1 validated image filenames.\n",
            "Found 1 validated image filenames.\n",
            "Found 1 validated image filenames.\n",
            "Found 1 validated image filenames.\n",
            "Found 1 validated image filenames.\n",
            "Found 1 validated image filenames.\n",
            "Found 1 validated image filenames.\n",
            "Found 1 validated image filenames.\n",
            "Found 1 validated image filenames.\n"
          ]
        },
        {
          "output_type": "stream",
          "name": "stderr",
          "text": [
            "\rProcessing Images:  35%|███▌      | 1671/4752 [00:19<00:33, 92.42it/s]"
          ]
        },
        {
          "output_type": "stream",
          "name": "stdout",
          "text": [
            "Found 1 validated image filenames.\n",
            "Found 1 validated image filenames.\n",
            "Found 1 validated image filenames.\n",
            "Found 1 validated image filenames.\n",
            "Found 1 validated image filenames.\n",
            "Found 1 validated image filenames.\n",
            "Found 1 validated image filenames.\n",
            "Found 1 validated image filenames.\n",
            "Found 1 validated image filenames.\n",
            "Found 1 validated image filenames.\n"
          ]
        },
        {
          "output_type": "stream",
          "name": "stderr",
          "text": [
            "\rProcessing Images:  35%|███▌      | 1681/4752 [00:19<00:33, 90.56it/s]"
          ]
        },
        {
          "output_type": "stream",
          "name": "stdout",
          "text": [
            "Found 1 validated image filenames.\n",
            "Found 1 validated image filenames.\n",
            "Found 1 validated image filenames.\n",
            "Found 1 validated image filenames.\n",
            "Found 1 validated image filenames.\n",
            "Found 1 validated image filenames.\n",
            "Found 1 validated image filenames.\n",
            "Found 1 validated image filenames.\n",
            "Found 1 validated image filenames.\n",
            "Found 1 validated image filenames.\n"
          ]
        },
        {
          "output_type": "stream",
          "name": "stderr",
          "text": [
            "\rProcessing Images:  36%|███▌      | 1691/4752 [00:19<00:34, 89.12it/s]"
          ]
        },
        {
          "output_type": "stream",
          "name": "stdout",
          "text": [
            "Found 1 validated image filenames.\n",
            "Found 1 validated image filenames.\n",
            "Found 1 validated image filenames.\n",
            "Found 1 validated image filenames.\n",
            "Found 1 validated image filenames.\n",
            "Found 1 validated image filenames.\n",
            "Found 1 validated image filenames.\n",
            "Found 1 validated image filenames.\n",
            "Found 1 validated image filenames.\n",
            "Found 1 validated image filenames.\n"
          ]
        },
        {
          "output_type": "stream",
          "name": "stderr",
          "text": [
            "\rProcessing Images:  36%|███▌      | 1701/4752 [00:19<00:33, 91.53it/s]"
          ]
        },
        {
          "output_type": "stream",
          "name": "stdout",
          "text": [
            "Found 1 validated image filenames.\n",
            "Found 1 validated image filenames.\n",
            "Found 1 validated image filenames.\n",
            "Found 1 validated image filenames.\n",
            "Found 1 validated image filenames.\n",
            "Found 1 validated image filenames.\n",
            "Found 1 validated image filenames.\n",
            "Found 1 validated image filenames.\n",
            "Found 1 validated image filenames.\n",
            "Found 1 validated image filenames.\n"
          ]
        },
        {
          "output_type": "stream",
          "name": "stderr",
          "text": [
            "\rProcessing Images:  36%|███▌      | 1711/4752 [00:19<00:32, 93.60it/s]"
          ]
        },
        {
          "output_type": "stream",
          "name": "stdout",
          "text": [
            "Found 1 validated image filenames.\n",
            "Found 1 validated image filenames.\n",
            "Found 1 validated image filenames.\n",
            "Found 1 validated image filenames.\n",
            "Found 1 validated image filenames.\n",
            "Found 1 validated image filenames.\n",
            "Found 1 validated image filenames.\n",
            "Found 1 validated image filenames.\n",
            "Found 1 validated image filenames.\n",
            "Found 1 validated image filenames.\n"
          ]
        },
        {
          "output_type": "stream",
          "name": "stderr",
          "text": [
            "\rProcessing Images:  36%|███▌      | 1721/4752 [00:19<00:32, 94.47it/s]"
          ]
        },
        {
          "output_type": "stream",
          "name": "stdout",
          "text": [
            "Found 1 validated image filenames.\n",
            "Found 1 validated image filenames.\n",
            "Found 1 validated image filenames.\n",
            "Found 1 validated image filenames.\n",
            "Found 1 validated image filenames.\n",
            "Found 1 validated image filenames.\n",
            "Found 1 validated image filenames.\n",
            "Found 1 validated image filenames.\n",
            "Found 1 validated image filenames.\n",
            "Found 1 validated image filenames.\n"
          ]
        },
        {
          "output_type": "stream",
          "name": "stderr",
          "text": [
            "\rProcessing Images:  36%|███▋      | 1731/4752 [00:19<00:32, 92.97it/s]"
          ]
        },
        {
          "output_type": "stream",
          "name": "stdout",
          "text": [
            "Found 1 validated image filenames.\n",
            "Found 1 validated image filenames.\n",
            "Found 1 validated image filenames.\n",
            "Found 1 validated image filenames.\n",
            "Found 1 validated image filenames.\n",
            "Found 1 validated image filenames.\n",
            "Found 1 validated image filenames.\n",
            "Found 1 validated image filenames.\n",
            "Found 1 validated image filenames.\n",
            "Found 1 validated image filenames.\n"
          ]
        },
        {
          "output_type": "stream",
          "name": "stderr",
          "text": [
            "\rProcessing Images:  37%|███▋      | 1741/4752 [00:19<00:32, 93.46it/s]"
          ]
        },
        {
          "output_type": "stream",
          "name": "stdout",
          "text": [
            "Found 1 validated image filenames.\n",
            "Found 1 validated image filenames.\n",
            "Found 1 validated image filenames.\n",
            "Found 1 validated image filenames.\n",
            "Found 1 validated image filenames.\n",
            "Found 1 validated image filenames.\n",
            "Found 1 validated image filenames.\n",
            "Found 1 validated image filenames.\n",
            "Found 1 validated image filenames.\n",
            "Found 1 validated image filenames.\n"
          ]
        },
        {
          "output_type": "stream",
          "name": "stderr",
          "text": [
            "\rProcessing Images:  37%|███▋      | 1751/4752 [00:20<00:31, 94.96it/s]"
          ]
        },
        {
          "output_type": "stream",
          "name": "stdout",
          "text": [
            "Found 1 validated image filenames.\n",
            "Found 1 validated image filenames.\n",
            "Found 1 validated image filenames.\n",
            "Found 1 validated image filenames.\n",
            "Found 1 validated image filenames.\n",
            "Found 1 validated image filenames.\n",
            "Found 1 validated image filenames.\n",
            "Found 1 validated image filenames.\n",
            "Found 1 validated image filenames.\n",
            "Found 1 validated image filenames.\n"
          ]
        },
        {
          "output_type": "stream",
          "name": "stderr",
          "text": [
            "\rProcessing Images:  37%|███▋      | 1761/4752 [00:20<00:31, 94.80it/s]"
          ]
        },
        {
          "output_type": "stream",
          "name": "stdout",
          "text": [
            "Found 1 validated image filenames.\n",
            "Found 1 validated image filenames.\n",
            "Found 1 validated image filenames.\n",
            "Found 1 validated image filenames.\n",
            "Found 1 validated image filenames.\n",
            "Found 1 validated image filenames.\n",
            "Found 1 validated image filenames.\n",
            "Found 1 validated image filenames.\n",
            "Found 1 validated image filenames.\n",
            "Found 1 validated image filenames.\n"
          ]
        },
        {
          "output_type": "stream",
          "name": "stderr",
          "text": [
            "\rProcessing Images:  37%|███▋      | 1771/4752 [00:20<00:31, 94.89it/s]"
          ]
        },
        {
          "output_type": "stream",
          "name": "stdout",
          "text": [
            "Found 1 validated image filenames.\n",
            "Found 1 validated image filenames.\n",
            "Found 1 validated image filenames.\n",
            "Found 1 validated image filenames.\n",
            "Found 1 validated image filenames.\n",
            "Found 1 validated image filenames.\n",
            "Found 1 validated image filenames.\n",
            "Found 1 validated image filenames.\n",
            "Found 1 validated image filenames.\n",
            "Found 1 validated image filenames.\n"
          ]
        },
        {
          "output_type": "stream",
          "name": "stderr",
          "text": [
            "\rProcessing Images:  37%|███▋      | 1781/4752 [00:20<00:33, 89.86it/s]"
          ]
        },
        {
          "output_type": "stream",
          "name": "stdout",
          "text": [
            "Found 1 validated image filenames.\n",
            "Found 1 validated image filenames.\n",
            "Found 1 validated image filenames.\n",
            "Found 1 validated image filenames.\n",
            "Found 1 validated image filenames.\n",
            "Found 1 validated image filenames.\n",
            "Found 1 validated image filenames.\n",
            "Found 1 validated image filenames.\n",
            "Found 1 validated image filenames.\n",
            "Found 1 validated image filenames.\n"
          ]
        },
        {
          "output_type": "stream",
          "name": "stderr",
          "text": [
            "\rProcessing Images:  38%|███▊      | 1791/4752 [00:20<00:33, 87.55it/s]"
          ]
        },
        {
          "output_type": "stream",
          "name": "stdout",
          "text": [
            "Found 1 validated image filenames.\n",
            "Found 1 validated image filenames.\n",
            "Found 1 validated image filenames.\n",
            "Found 1 validated image filenames.\n",
            "Found 1 validated image filenames.\n",
            "Found 1 validated image filenames.\n",
            "Found 1 validated image filenames.\n",
            "Found 1 validated image filenames.\n",
            "Found 1 validated image filenames.\n"
          ]
        },
        {
          "output_type": "stream",
          "name": "stderr",
          "text": [
            "\rProcessing Images:  38%|███▊      | 1800/4752 [00:20<00:33, 86.86it/s]"
          ]
        },
        {
          "output_type": "stream",
          "name": "stdout",
          "text": [
            "Found 1 validated image filenames.\n",
            "Found 1 validated image filenames.\n",
            "Found 1 validated image filenames.\n",
            "Found 1 validated image filenames.\n",
            "Found 1 validated image filenames.\n",
            "Found 1 validated image filenames.\n",
            "Found 1 validated image filenames.\n",
            "Found 1 validated image filenames.\n",
            "Found 1 validated image filenames.\n"
          ]
        },
        {
          "output_type": "stream",
          "name": "stderr",
          "text": [
            "\rProcessing Images:  38%|███▊      | 1809/4752 [00:20<00:34, 86.30it/s]"
          ]
        },
        {
          "output_type": "stream",
          "name": "stdout",
          "text": [
            "Found 1 validated image filenames.\n",
            "Found 1 validated image filenames.\n",
            "Found 1 validated image filenames.\n",
            "Found 1 validated image filenames.\n",
            "Found 1 validated image filenames.\n",
            "Found 1 validated image filenames.\n",
            "Found 1 validated image filenames.\n",
            "Found 1 validated image filenames.\n",
            "Found 1 validated image filenames.\n"
          ]
        },
        {
          "output_type": "stream",
          "name": "stderr",
          "text": [
            "\rProcessing Images:  38%|███▊      | 1818/4752 [00:20<00:35, 83.35it/s]"
          ]
        },
        {
          "output_type": "stream",
          "name": "stdout",
          "text": [
            "Found 1 validated image filenames.\n",
            "Found 1 validated image filenames.\n",
            "Found 1 validated image filenames.\n",
            "Found 1 validated image filenames.\n",
            "Found 1 validated image filenames.\n",
            "Found 1 validated image filenames.\n",
            "Found 1 validated image filenames.\n",
            "Found 1 validated image filenames.\n",
            "Found 1 validated image filenames.\n"
          ]
        },
        {
          "output_type": "stream",
          "name": "stderr",
          "text": [
            "\rProcessing Images:  38%|███▊      | 1827/4752 [00:20<00:34, 85.00it/s]"
          ]
        },
        {
          "output_type": "stream",
          "name": "stdout",
          "text": [
            "Found 1 validated image filenames.\n",
            "Found 1 validated image filenames.\n",
            "Found 1 validated image filenames.\n",
            "Found 1 validated image filenames.\n",
            "Found 1 validated image filenames.\n",
            "Found 1 validated image filenames.\n",
            "Found 1 validated image filenames.\n",
            "Found 1 validated image filenames.\n",
            "Found 1 validated image filenames.\n"
          ]
        },
        {
          "output_type": "stream",
          "name": "stderr",
          "text": [
            "\rProcessing Images:  39%|███▊      | 1836/4752 [00:21<00:34, 85.44it/s]"
          ]
        },
        {
          "output_type": "stream",
          "name": "stdout",
          "text": [
            "Found 1 validated image filenames.\n",
            "Found 1 validated image filenames.\n",
            "Found 1 validated image filenames.\n",
            "Found 1 validated image filenames.\n",
            "Found 1 validated image filenames.\n",
            "Found 1 validated image filenames.\n",
            "Found 1 validated image filenames.\n",
            "Found 1 validated image filenames.\n",
            "Found 1 validated image filenames.\n"
          ]
        },
        {
          "output_type": "stream",
          "name": "stderr",
          "text": [
            "\rProcessing Images:  39%|███▉      | 1845/4752 [00:21<00:33, 85.75it/s]"
          ]
        },
        {
          "output_type": "stream",
          "name": "stdout",
          "text": [
            "Found 1 validated image filenames.\n",
            "Found 1 validated image filenames.\n",
            "Found 1 validated image filenames.\n",
            "Found 1 validated image filenames.\n",
            "Found 1 validated image filenames.\n",
            "Found 1 validated image filenames.\n",
            "Found 1 validated image filenames.\n",
            "Found 1 validated image filenames.\n",
            "Found 1 validated image filenames.\n"
          ]
        },
        {
          "output_type": "stream",
          "name": "stderr",
          "text": [
            "\rProcessing Images:  39%|███▉      | 1854/4752 [00:21<00:33, 86.24it/s]"
          ]
        },
        {
          "output_type": "stream",
          "name": "stdout",
          "text": [
            "Found 1 validated image filenames.\n",
            "Found 1 validated image filenames.\n",
            "Found 1 validated image filenames.\n",
            "Found 1 validated image filenames.\n",
            "Found 1 validated image filenames.\n",
            "Found 1 validated image filenames.\n",
            "Found 1 validated image filenames.\n",
            "Found 1 validated image filenames.\n",
            "Found 1 validated image filenames.\n"
          ]
        },
        {
          "output_type": "stream",
          "name": "stderr",
          "text": [
            "\rProcessing Images:  39%|███▉      | 1863/4752 [00:21<00:33, 85.38it/s]"
          ]
        },
        {
          "output_type": "stream",
          "name": "stdout",
          "text": [
            "Found 1 validated image filenames.\n",
            "Found 1 validated image filenames.\n",
            "Found 1 validated image filenames.\n",
            "Found 1 validated image filenames.\n",
            "Found 1 validated image filenames.\n",
            "Found 1 validated image filenames.\n",
            "Found 1 validated image filenames.\n",
            "Found 1 validated image filenames.\n",
            "Found 1 validated image filenames.\n"
          ]
        },
        {
          "output_type": "stream",
          "name": "stderr",
          "text": [
            "\rProcessing Images:  39%|███▉      | 1872/4752 [00:21<00:37, 76.33it/s]"
          ]
        },
        {
          "output_type": "stream",
          "name": "stdout",
          "text": [
            "Found 1 validated image filenames.\n",
            "Found 1 validated image filenames.\n",
            "Found 1 validated image filenames.\n",
            "Found 1 validated image filenames.\n",
            "Found 1 validated image filenames.\n",
            "Found 1 validated image filenames.\n",
            "Found 1 validated image filenames.\n",
            "Found 1 validated image filenames.\n"
          ]
        },
        {
          "output_type": "stream",
          "name": "stderr",
          "text": [
            "\rProcessing Images:  40%|███▉      | 1880/4752 [00:21<00:37, 76.84it/s]"
          ]
        },
        {
          "output_type": "stream",
          "name": "stdout",
          "text": [
            "Found 1 validated image filenames.\n",
            "Found 1 validated image filenames.\n",
            "Found 1 validated image filenames.\n",
            "Found 1 validated image filenames.\n",
            "Found 1 validated image filenames.\n",
            "Found 1 validated image filenames.\n",
            "Found 1 validated image filenames.\n",
            "Found 1 validated image filenames.\n",
            "Found 1 validated image filenames.\n"
          ]
        },
        {
          "output_type": "stream",
          "name": "stderr",
          "text": [
            "\rProcessing Images:  40%|███▉      | 1889/4752 [00:21<00:36, 78.73it/s]"
          ]
        },
        {
          "output_type": "stream",
          "name": "stdout",
          "text": [
            "Found 1 validated image filenames.\n",
            "Found 1 validated image filenames.\n",
            "Found 1 validated image filenames.\n",
            "Found 1 validated image filenames.\n",
            "Found 1 validated image filenames.\n",
            "Found 1 validated image filenames.\n",
            "Found 1 validated image filenames.\n",
            "Found 1 validated image filenames.\n",
            "Found 1 validated image filenames.\n",
            "Found 1 validated image filenames.\n"
          ]
        },
        {
          "output_type": "stream",
          "name": "stderr",
          "text": [
            "\rProcessing Images:  40%|███▉      | 1899/4752 [00:21<00:33, 83.92it/s]"
          ]
        },
        {
          "output_type": "stream",
          "name": "stdout",
          "text": [
            "Found 1 validated image filenames.\n",
            "Found 1 validated image filenames.\n",
            "Found 1 validated image filenames.\n",
            "Found 1 validated image filenames.\n",
            "Found 1 validated image filenames.\n",
            "Found 1 validated image filenames.\n",
            "Found 1 validated image filenames.\n",
            "Found 1 validated image filenames.\n",
            "Found 1 validated image filenames.\n",
            "Found 1 validated image filenames.\n"
          ]
        },
        {
          "output_type": "stream",
          "name": "stderr",
          "text": [
            "\rProcessing Images:  40%|████      | 1909/4752 [00:21<00:32, 88.00it/s]"
          ]
        },
        {
          "output_type": "stream",
          "name": "stdout",
          "text": [
            "Found 1 validated image filenames.\n",
            "Found 1 validated image filenames.\n",
            "Found 1 validated image filenames.\n",
            "Found 1 validated image filenames.\n",
            "Found 1 validated image filenames.\n",
            "Found 1 validated image filenames.\n",
            "Found 1 validated image filenames.\n",
            "Found 1 validated image filenames.\n",
            "Found 1 validated image filenames.\n"
          ]
        },
        {
          "output_type": "stream",
          "name": "stderr",
          "text": [
            "\rProcessing Images:  40%|████      | 1918/4752 [00:22<00:34, 82.19it/s]"
          ]
        },
        {
          "output_type": "stream",
          "name": "stdout",
          "text": [
            "Found 1 validated image filenames.\n",
            "Found 1 validated image filenames.\n",
            "Found 1 validated image filenames.\n",
            "Found 1 validated image filenames.\n",
            "Found 1 validated image filenames.\n",
            "Found 1 validated image filenames.\n",
            "Found 1 validated image filenames.\n",
            "Found 1 validated image filenames.\n",
            "Found 1 validated image filenames.\n"
          ]
        },
        {
          "output_type": "stream",
          "name": "stderr",
          "text": [
            "\rProcessing Images:  41%|████      | 1927/4752 [00:22<00:34, 82.80it/s]"
          ]
        },
        {
          "output_type": "stream",
          "name": "stdout",
          "text": [
            "Found 1 validated image filenames.\n",
            "Found 1 validated image filenames.\n",
            "Found 1 validated image filenames.\n",
            "Found 1 validated image filenames.\n",
            "Found 1 validated image filenames.\n",
            "Found 1 validated image filenames.\n",
            "Found 1 validated image filenames.\n",
            "Found 1 validated image filenames.\n",
            "Found 1 validated image filenames.\n"
          ]
        },
        {
          "output_type": "stream",
          "name": "stderr",
          "text": [
            "\rProcessing Images:  41%|████      | 1936/4752 [00:22<00:33, 84.37it/s]"
          ]
        },
        {
          "output_type": "stream",
          "name": "stdout",
          "text": [
            "Found 1 validated image filenames.\n",
            "Found 1 validated image filenames.\n",
            "Found 1 validated image filenames.\n",
            "Found 1 validated image filenames.\n",
            "Found 1 validated image filenames.\n",
            "Found 1 validated image filenames.\n",
            "Found 1 validated image filenames.\n",
            "Found 1 validated image filenames.\n",
            "Found 1 validated image filenames.\n"
          ]
        },
        {
          "output_type": "stream",
          "name": "stderr",
          "text": [
            "\rProcessing Images:  41%|████      | 1945/4752 [00:22<00:33, 82.66it/s]"
          ]
        },
        {
          "output_type": "stream",
          "name": "stdout",
          "text": [
            "Found 1 validated image filenames.\n",
            "Found 1 validated image filenames.\n",
            "Found 1 validated image filenames.\n",
            "Found 1 validated image filenames.\n",
            "Found 1 validated image filenames.\n",
            "Found 1 validated image filenames.\n",
            "Found 1 validated image filenames.\n",
            "Found 1 validated image filenames.\n",
            "Found 1 validated image filenames.\n"
          ]
        },
        {
          "output_type": "stream",
          "name": "stderr",
          "text": [
            "\rProcessing Images:  41%|████      | 1954/4752 [00:22<00:33, 82.34it/s]"
          ]
        },
        {
          "output_type": "stream",
          "name": "stdout",
          "text": [
            "Found 1 validated image filenames.\n",
            "Found 1 validated image filenames.\n",
            "Found 1 validated image filenames.\n",
            "Found 1 validated image filenames.\n",
            "Found 1 validated image filenames.\n",
            "Found 1 validated image filenames.\n",
            "Found 1 validated image filenames.\n",
            "Found 1 validated image filenames.\n",
            "Found 1 validated image filenames.\n"
          ]
        },
        {
          "output_type": "stream",
          "name": "stderr",
          "text": [
            "\rProcessing Images:  41%|████▏     | 1963/4752 [00:22<00:34, 81.96it/s]"
          ]
        },
        {
          "output_type": "stream",
          "name": "stdout",
          "text": [
            "Found 1 validated image filenames.\n",
            "Found 1 validated image filenames.\n",
            "Found 1 validated image filenames.\n",
            "Found 1 validated image filenames.\n",
            "Found 1 validated image filenames.\n",
            "Found 1 validated image filenames.\n",
            "Found 1 validated image filenames.\n",
            "Found 1 validated image filenames.\n",
            "Found 1 validated image filenames.\n"
          ]
        },
        {
          "output_type": "stream",
          "name": "stderr",
          "text": [
            "\rProcessing Images:  41%|████▏     | 1972/4752 [00:22<00:33, 82.95it/s]"
          ]
        },
        {
          "output_type": "stream",
          "name": "stdout",
          "text": [
            "Found 1 validated image filenames.\n",
            "Found 1 validated image filenames.\n",
            "Found 1 validated image filenames.\n",
            "Found 1 validated image filenames.\n",
            "Found 1 validated image filenames.\n",
            "Found 1 validated image filenames.\n",
            "Found 1 validated image filenames.\n",
            "Found 1 validated image filenames.\n",
            "Found 1 validated image filenames.\n"
          ]
        },
        {
          "output_type": "stream",
          "name": "stderr",
          "text": [
            "\rProcessing Images:  42%|████▏     | 1981/4752 [00:22<00:34, 81.29it/s]"
          ]
        },
        {
          "output_type": "stream",
          "name": "stdout",
          "text": [
            "Found 1 validated image filenames.\n",
            "Found 1 validated image filenames.\n",
            "Found 1 validated image filenames.\n",
            "Found 1 validated image filenames.\n",
            "Found 1 validated image filenames.\n",
            "Found 1 validated image filenames.\n",
            "Found 1 validated image filenames.\n",
            "Found 1 validated image filenames.\n",
            "Found 1 validated image filenames.\n"
          ]
        },
        {
          "output_type": "stream",
          "name": "stderr",
          "text": [
            "\rProcessing Images:  42%|████▏     | 1990/4752 [00:22<00:33, 83.00it/s]"
          ]
        },
        {
          "output_type": "stream",
          "name": "stdout",
          "text": [
            "Found 1 validated image filenames.\n",
            "Found 1 validated image filenames.\n",
            "Found 1 validated image filenames.\n",
            "Found 1 validated image filenames.\n",
            "Found 1 validated image filenames.\n",
            "Found 1 validated image filenames.\n",
            "Found 1 validated image filenames.\n",
            "Found 1 validated image filenames.\n",
            "Found 1 validated image filenames.\n"
          ]
        },
        {
          "output_type": "stream",
          "name": "stderr",
          "text": [
            "\rProcessing Images:  42%|████▏     | 1999/4752 [00:23<00:32, 84.16it/s]"
          ]
        },
        {
          "output_type": "stream",
          "name": "stdout",
          "text": [
            "Found 1 validated image filenames.\n",
            "Found 1 validated image filenames.\n",
            "Found 1 validated image filenames.\n",
            "Found 1 validated image filenames.\n",
            "Found 1 validated image filenames.\n",
            "Found 1 validated image filenames.\n",
            "Found 1 validated image filenames.\n",
            "Found 1 validated image filenames.\n",
            "Found 1 validated image filenames.\n"
          ]
        },
        {
          "output_type": "stream",
          "name": "stderr",
          "text": [
            "\rProcessing Images:  42%|████▏     | 2008/4752 [00:23<00:32, 85.24it/s]"
          ]
        },
        {
          "output_type": "stream",
          "name": "stdout",
          "text": [
            "Found 1 validated image filenames.\n",
            "Found 1 validated image filenames.\n",
            "Found 1 validated image filenames.\n",
            "Found 1 validated image filenames.\n",
            "Found 1 validated image filenames.\n",
            "Found 1 validated image filenames.\n",
            "Found 1 validated image filenames.\n",
            "Found 1 validated image filenames.\n",
            "Found 1 validated image filenames.\n"
          ]
        },
        {
          "output_type": "stream",
          "name": "stderr",
          "text": [
            "\rProcessing Images:  42%|████▏     | 2017/4752 [00:23<00:31, 86.44it/s]"
          ]
        },
        {
          "output_type": "stream",
          "name": "stdout",
          "text": [
            "Found 1 validated image filenames.\n",
            "Found 1 validated image filenames.\n",
            "Found 1 validated image filenames.\n",
            "Found 1 validated image filenames.\n",
            "Found 1 validated image filenames.\n",
            "Found 1 validated image filenames.\n",
            "Found 1 validated image filenames.\n",
            "Found 1 validated image filenames.\n",
            "Found 1 validated image filenames.\n"
          ]
        },
        {
          "output_type": "stream",
          "name": "stderr",
          "text": [
            "\rProcessing Images:  43%|████▎     | 2026/4752 [00:23<00:31, 85.21it/s]"
          ]
        },
        {
          "output_type": "stream",
          "name": "stdout",
          "text": [
            "Found 1 validated image filenames.\n",
            "Found 1 validated image filenames.\n",
            "Found 1 validated image filenames.\n",
            "Found 1 validated image filenames.\n",
            "Found 1 validated image filenames.\n",
            "Found 1 validated image filenames.\n",
            "Found 1 validated image filenames.\n",
            "Found 1 validated image filenames.\n",
            "Found 1 validated image filenames.\n"
          ]
        },
        {
          "output_type": "stream",
          "name": "stderr",
          "text": [
            "\rProcessing Images:  43%|████▎     | 2035/4752 [00:23<00:32, 83.01it/s]"
          ]
        },
        {
          "output_type": "stream",
          "name": "stdout",
          "text": [
            "Found 1 validated image filenames.\n",
            "Found 1 validated image filenames.\n",
            "Found 1 validated image filenames.\n",
            "Found 1 validated image filenames.\n",
            "Found 1 validated image filenames.\n",
            "Found 1 validated image filenames.\n",
            "Found 1 validated image filenames.\n",
            "Found 1 validated image filenames.\n",
            "Found 1 validated image filenames.\n"
          ]
        },
        {
          "output_type": "stream",
          "name": "stderr",
          "text": [
            "\rProcessing Images:  43%|████▎     | 2044/4752 [00:23<00:33, 79.67it/s]"
          ]
        },
        {
          "output_type": "stream",
          "name": "stdout",
          "text": [
            "Found 1 validated image filenames.\n",
            "Found 1 validated image filenames.\n",
            "Found 1 validated image filenames.\n",
            "Found 1 validated image filenames.\n",
            "Found 1 validated image filenames.\n",
            "Found 1 validated image filenames.\n",
            "Found 1 validated image filenames.\n",
            "Found 1 validated image filenames.\n",
            "Found 1 validated image filenames.\n"
          ]
        },
        {
          "output_type": "stream",
          "name": "stderr",
          "text": [
            "\rProcessing Images:  43%|████▎     | 2053/4752 [00:23<00:35, 76.75it/s]"
          ]
        },
        {
          "output_type": "stream",
          "name": "stdout",
          "text": [
            "Found 1 validated image filenames.\n",
            "Found 1 validated image filenames.\n",
            "Found 1 validated image filenames.\n",
            "Found 1 validated image filenames.\n",
            "Found 1 validated image filenames.\n",
            "Found 1 validated image filenames.\n",
            "Found 1 validated image filenames.\n",
            "Found 1 validated image filenames.\n"
          ]
        },
        {
          "output_type": "stream",
          "name": "stderr",
          "text": [
            "\rProcessing Images:  43%|████▎     | 2061/4752 [00:23<00:36, 74.50it/s]"
          ]
        },
        {
          "output_type": "stream",
          "name": "stdout",
          "text": [
            "Found 1 validated image filenames.\n",
            "Found 1 validated image filenames.\n",
            "Found 1 validated image filenames.\n",
            "Found 1 validated image filenames.\n",
            "Found 1 validated image filenames.\n",
            "Found 1 validated image filenames.\n",
            "Found 1 validated image filenames.\n",
            "Found 1 validated image filenames.\n"
          ]
        },
        {
          "output_type": "stream",
          "name": "stderr",
          "text": [
            "\rProcessing Images:  44%|████▎     | 2069/4752 [00:23<00:36, 73.32it/s]"
          ]
        },
        {
          "output_type": "stream",
          "name": "stdout",
          "text": [
            "Found 1 validated image filenames.\n",
            "Found 1 validated image filenames.\n",
            "Found 1 validated image filenames.\n",
            "Found 1 validated image filenames.\n",
            "Found 1 validated image filenames.\n",
            "Found 1 validated image filenames.\n",
            "Found 1 validated image filenames.\n",
            "Found 1 validated image filenames.\n",
            "Found 1 validated image filenames.\n"
          ]
        },
        {
          "output_type": "stream",
          "name": "stderr",
          "text": [
            "\rProcessing Images:  44%|████▎     | 2078/4752 [00:24<00:35, 75.67it/s]"
          ]
        },
        {
          "output_type": "stream",
          "name": "stdout",
          "text": [
            "Found 1 validated image filenames.\n",
            "Found 1 validated image filenames.\n",
            "Found 1 validated image filenames.\n",
            "Found 1 validated image filenames.\n",
            "Found 1 validated image filenames.\n",
            "Found 1 validated image filenames.\n",
            "Found 1 validated image filenames.\n",
            "Found 1 validated image filenames.\n",
            "Found 1 validated image filenames.\n"
          ]
        },
        {
          "output_type": "stream",
          "name": "stderr",
          "text": [
            "\rProcessing Images:  44%|████▍     | 2087/4752 [00:24<00:33, 78.80it/s]"
          ]
        },
        {
          "output_type": "stream",
          "name": "stdout",
          "text": [
            "Found 1 validated image filenames.\n",
            "Found 1 validated image filenames.\n",
            "Found 1 validated image filenames.\n",
            "Found 1 validated image filenames.\n",
            "Found 1 validated image filenames.\n",
            "Found 1 validated image filenames.\n",
            "Found 1 validated image filenames.\n",
            "Found 1 validated image filenames.\n",
            "Found 1 validated image filenames.\n"
          ]
        },
        {
          "output_type": "stream",
          "name": "stderr",
          "text": [
            "\rProcessing Images:  44%|████▍     | 2096/4752 [00:24<00:32, 81.04it/s]"
          ]
        },
        {
          "output_type": "stream",
          "name": "stdout",
          "text": [
            "Found 1 validated image filenames.\n",
            "Found 1 validated image filenames.\n",
            "Found 1 validated image filenames.\n",
            "Found 1 validated image filenames.\n",
            "Found 1 validated image filenames.\n",
            "Found 1 validated image filenames.\n",
            "Found 1 validated image filenames.\n",
            "Found 1 validated image filenames.\n",
            "Found 1 validated image filenames.\n"
          ]
        },
        {
          "output_type": "stream",
          "name": "stderr",
          "text": [
            "\rProcessing Images:  44%|████▍     | 2105/4752 [00:24<00:32, 82.23it/s]"
          ]
        },
        {
          "output_type": "stream",
          "name": "stdout",
          "text": [
            "Found 1 validated image filenames.\n",
            "Found 1 validated image filenames.\n",
            "Found 1 validated image filenames.\n",
            "Found 1 validated image filenames.\n",
            "Found 1 validated image filenames.\n",
            "Found 1 validated image filenames.\n",
            "Found 1 validated image filenames.\n",
            "Found 1 validated image filenames.\n",
            "Found 1 validated image filenames.\n"
          ]
        },
        {
          "output_type": "stream",
          "name": "stderr",
          "text": [
            "\rProcessing Images:  44%|████▍     | 2114/4752 [00:24<00:32, 81.61it/s]"
          ]
        },
        {
          "output_type": "stream",
          "name": "stdout",
          "text": [
            "Found 1 validated image filenames.\n",
            "Found 1 validated image filenames.\n",
            "Found 1 validated image filenames.\n",
            "Found 1 validated image filenames.\n",
            "Found 1 validated image filenames.\n",
            "Found 1 validated image filenames.\n",
            "Found 1 validated image filenames.\n",
            "Found 1 validated image filenames.\n",
            "Found 1 validated image filenames.\n"
          ]
        },
        {
          "output_type": "stream",
          "name": "stderr",
          "text": [
            "\rProcessing Images:  45%|████▍     | 2123/4752 [00:24<00:32, 81.38it/s]"
          ]
        },
        {
          "output_type": "stream",
          "name": "stdout",
          "text": [
            "Found 1 validated image filenames.\n",
            "Found 1 validated image filenames.\n",
            "Found 1 validated image filenames.\n",
            "Found 1 validated image filenames.\n",
            "Found 1 validated image filenames.\n",
            "Found 1 validated image filenames.\n",
            "Found 1 validated image filenames.\n",
            "Found 1 validated image filenames.\n",
            "Found 1 validated image filenames.\n"
          ]
        },
        {
          "output_type": "stream",
          "name": "stderr",
          "text": [
            "\rProcessing Images:  45%|████▍     | 2132/4752 [00:24<00:32, 81.67it/s]"
          ]
        },
        {
          "output_type": "stream",
          "name": "stdout",
          "text": [
            "Found 1 validated image filenames.\n",
            "Found 1 validated image filenames.\n",
            "Found 1 validated image filenames.\n",
            "Found 1 validated image filenames.\n",
            "Found 1 validated image filenames.\n",
            "Found 1 validated image filenames.\n",
            "Found 1 validated image filenames.\n",
            "Found 1 validated image filenames.\n",
            "Found 1 validated image filenames.\n"
          ]
        },
        {
          "output_type": "stream",
          "name": "stderr",
          "text": [
            "\rProcessing Images:  45%|████▌     | 2141/4752 [00:24<00:34, 76.47it/s]"
          ]
        },
        {
          "output_type": "stream",
          "name": "stdout",
          "text": [
            "Found 1 validated image filenames.\n",
            "Found 1 validated image filenames.\n",
            "Found 1 validated image filenames.\n",
            "Found 1 validated image filenames.\n",
            "Found 1 validated image filenames.\n",
            "Found 1 validated image filenames.\n",
            "Found 1 validated image filenames.\n",
            "Found 1 validated image filenames.\n"
          ]
        },
        {
          "output_type": "stream",
          "name": "stderr",
          "text": [
            "\rProcessing Images:  45%|████▌     | 2149/4752 [00:24<00:33, 76.79it/s]"
          ]
        },
        {
          "output_type": "stream",
          "name": "stdout",
          "text": [
            "Found 1 validated image filenames.\n",
            "Found 1 validated image filenames.\n",
            "Found 1 validated image filenames.\n",
            "Found 1 validated image filenames.\n",
            "Found 1 validated image filenames.\n",
            "Found 1 validated image filenames.\n",
            "Found 1 validated image filenames.\n",
            "Found 1 validated image filenames.\n"
          ]
        },
        {
          "output_type": "stream",
          "name": "stderr",
          "text": [
            "\rProcessing Images:  45%|████▌     | 2157/4752 [00:25<00:34, 74.29it/s]"
          ]
        },
        {
          "output_type": "stream",
          "name": "stdout",
          "text": [
            "Found 1 validated image filenames.\n",
            "Found 1 validated image filenames.\n",
            "Found 1 validated image filenames.\n",
            "Found 1 validated image filenames.\n",
            "Found 1 validated image filenames.\n",
            "Found 1 validated image filenames.\n",
            "Found 1 validated image filenames.\n",
            "Found 1 validated image filenames.\n"
          ]
        },
        {
          "output_type": "stream",
          "name": "stderr",
          "text": [
            "\rProcessing Images:  46%|████▌     | 2165/4752 [00:25<00:34, 74.22it/s]"
          ]
        },
        {
          "output_type": "stream",
          "name": "stdout",
          "text": [
            "Found 1 validated image filenames.\n",
            "Found 1 validated image filenames.\n",
            "Found 1 validated image filenames.\n",
            "Found 1 validated image filenames.\n",
            "Found 1 validated image filenames.\n",
            "Found 1 validated image filenames.\n",
            "Found 1 validated image filenames.\n",
            "Found 1 validated image filenames.\n"
          ]
        },
        {
          "output_type": "stream",
          "name": "stderr",
          "text": [
            "\rProcessing Images:  46%|████▌     | 2173/4752 [00:25<00:34, 74.94it/s]"
          ]
        },
        {
          "output_type": "stream",
          "name": "stdout",
          "text": [
            "Found 1 validated image filenames.\n",
            "Found 1 validated image filenames.\n",
            "Found 1 validated image filenames.\n",
            "Found 1 validated image filenames.\n",
            "Found 1 validated image filenames.\n",
            "Found 1 validated image filenames.\n",
            "Found 1 validated image filenames.\n",
            "Found 1 validated image filenames.\n"
          ]
        },
        {
          "output_type": "stream",
          "name": "stderr",
          "text": [
            "\rProcessing Images:  46%|████▌     | 2181/4752 [00:25<00:35, 71.96it/s]"
          ]
        },
        {
          "output_type": "stream",
          "name": "stdout",
          "text": [
            "Found 1 validated image filenames.\n",
            "Found 1 validated image filenames.\n",
            "Found 1 validated image filenames.\n",
            "Found 1 validated image filenames.\n",
            "Found 1 validated image filenames.\n",
            "Found 1 validated image filenames.\n",
            "Found 1 validated image filenames.\n",
            "Found 1 validated image filenames.\n"
          ]
        },
        {
          "output_type": "stream",
          "name": "stderr",
          "text": [
            "\rProcessing Images:  46%|████▌     | 2189/4752 [00:25<00:38, 67.40it/s]"
          ]
        },
        {
          "output_type": "stream",
          "name": "stdout",
          "text": [
            "Found 1 validated image filenames.\n",
            "Found 1 validated image filenames.\n",
            "Found 1 validated image filenames.\n",
            "Found 1 validated image filenames.\n",
            "Found 1 validated image filenames.\n",
            "Found 1 validated image filenames.\n",
            "Found 1 validated image filenames.\n"
          ]
        },
        {
          "output_type": "stream",
          "name": "stderr",
          "text": [
            "\rProcessing Images:  46%|████▌     | 2196/4752 [00:25<00:39, 64.52it/s]"
          ]
        },
        {
          "output_type": "stream",
          "name": "stdout",
          "text": [
            "Found 1 validated image filenames.\n",
            "Found 1 validated image filenames.\n",
            "Found 1 validated image filenames.\n",
            "Found 1 validated image filenames.\n",
            "Found 1 validated image filenames.\n",
            "Found 1 validated image filenames.\n",
            "Found 1 validated image filenames.\n"
          ]
        },
        {
          "output_type": "stream",
          "name": "stderr",
          "text": [
            "\rProcessing Images:  46%|████▋     | 2203/4752 [00:25<00:39, 65.04it/s]"
          ]
        },
        {
          "output_type": "stream",
          "name": "stdout",
          "text": [
            "Found 1 validated image filenames.\n",
            "Found 1 validated image filenames.\n",
            "Found 1 validated image filenames.\n",
            "Found 1 validated image filenames.\n",
            "Found 1 validated image filenames.\n",
            "Found 1 validated image filenames.\n",
            "Found 1 validated image filenames.\n"
          ]
        },
        {
          "output_type": "stream",
          "name": "stderr",
          "text": [
            "\rProcessing Images:  47%|████▋     | 2210/4752 [00:25<00:38, 65.72it/s]"
          ]
        },
        {
          "output_type": "stream",
          "name": "stdout",
          "text": [
            "Found 1 validated image filenames.\n",
            "Found 1 validated image filenames.\n",
            "Found 1 validated image filenames.\n",
            "Found 1 validated image filenames.\n",
            "Found 1 validated image filenames.\n",
            "Found 1 validated image filenames.\n",
            "Found 1 validated image filenames.\n",
            "Found 1 validated image filenames.\n"
          ]
        },
        {
          "output_type": "stream",
          "name": "stderr",
          "text": [
            "\rProcessing Images:  47%|████▋     | 2218/4752 [00:25<00:36, 69.23it/s]"
          ]
        },
        {
          "output_type": "stream",
          "name": "stdout",
          "text": [
            "Found 1 validated image filenames.\n",
            "Found 1 validated image filenames.\n",
            "Found 1 validated image filenames.\n",
            "Found 1 validated image filenames.\n",
            "Found 1 validated image filenames.\n",
            "Found 1 validated image filenames.\n",
            "Found 1 validated image filenames.\n",
            "Found 1 validated image filenames.\n"
          ]
        },
        {
          "output_type": "stream",
          "name": "stderr",
          "text": [
            "\rProcessing Images:  47%|████▋     | 2226/4752 [00:26<00:34, 72.23it/s]"
          ]
        },
        {
          "output_type": "stream",
          "name": "stdout",
          "text": [
            "Found 1 validated image filenames.\n",
            "Found 1 validated image filenames.\n",
            "Found 1 validated image filenames.\n",
            "Found 1 validated image filenames.\n",
            "Found 1 validated image filenames.\n",
            "Found 1 validated image filenames.\n",
            "Found 1 validated image filenames.\n",
            "Found 1 validated image filenames.\n",
            "Found 1 validated image filenames.\n"
          ]
        },
        {
          "output_type": "stream",
          "name": "stderr",
          "text": [
            "\rProcessing Images:  47%|████▋     | 2235/4752 [00:26<00:33, 75.04it/s]"
          ]
        },
        {
          "output_type": "stream",
          "name": "stdout",
          "text": [
            "Found 1 validated image filenames.\n",
            "Found 1 validated image filenames.\n",
            "Found 1 validated image filenames.\n",
            "Found 1 validated image filenames.\n",
            "Found 1 validated image filenames.\n",
            "Found 1 validated image filenames.\n",
            "Found 1 validated image filenames.\n",
            "Found 1 validated image filenames.\n"
          ]
        },
        {
          "output_type": "stream",
          "name": "stderr",
          "text": [
            "\rProcessing Images:  47%|████▋     | 2243/4752 [00:26<00:33, 75.61it/s]"
          ]
        },
        {
          "output_type": "stream",
          "name": "stdout",
          "text": [
            "Found 1 validated image filenames.\n",
            "Found 1 validated image filenames.\n",
            "Found 1 validated image filenames.\n",
            "Found 1 validated image filenames.\n",
            "Found 1 validated image filenames.\n",
            "Found 1 validated image filenames.\n",
            "Found 1 validated image filenames.\n",
            "Found 1 validated image filenames.\n"
          ]
        },
        {
          "output_type": "stream",
          "name": "stderr",
          "text": [
            "\rProcessing Images:  47%|████▋     | 2251/4752 [00:26<00:34, 73.05it/s]"
          ]
        },
        {
          "output_type": "stream",
          "name": "stdout",
          "text": [
            "Found 1 validated image filenames.\n",
            "Found 1 validated image filenames.\n",
            "Found 1 validated image filenames.\n",
            "Found 1 validated image filenames.\n",
            "Found 1 validated image filenames.\n",
            "Found 1 validated image filenames.\n",
            "Found 1 validated image filenames.\n",
            "Found 1 validated image filenames.\n"
          ]
        },
        {
          "output_type": "stream",
          "name": "stderr",
          "text": [
            "\rProcessing Images:  48%|████▊     | 2259/4752 [00:26<00:38, 65.39it/s]"
          ]
        },
        {
          "output_type": "stream",
          "name": "stdout",
          "text": [
            "Found 1 validated image filenames.\n",
            "Found 1 validated image filenames.\n",
            "Found 1 validated image filenames.\n",
            "Found 1 validated image filenames.\n",
            "Found 1 validated image filenames.\n",
            "Found 1 validated image filenames.\n",
            "Found 1 validated image filenames.\n"
          ]
        },
        {
          "output_type": "stream",
          "name": "stderr",
          "text": [
            "\rProcessing Images:  48%|████▊     | 2266/4752 [00:26<00:40, 61.28it/s]"
          ]
        },
        {
          "output_type": "stream",
          "name": "stdout",
          "text": [
            "Found 1 validated image filenames.\n",
            "Found 1 validated image filenames.\n",
            "Found 1 validated image filenames.\n",
            "Found 1 validated image filenames.\n",
            "Found 1 validated image filenames.\n",
            "Found 1 validated image filenames.\n",
            "Found 1 validated image filenames.\n"
          ]
        },
        {
          "output_type": "stream",
          "name": "stderr",
          "text": [
            "\rProcessing Images:  48%|████▊     | 2273/4752 [00:26<00:42, 57.66it/s]"
          ]
        },
        {
          "output_type": "stream",
          "name": "stdout",
          "text": [
            "Found 1 validated image filenames.\n",
            "Found 1 validated image filenames.\n",
            "Found 1 validated image filenames.\n",
            "Found 1 validated image filenames.\n",
            "Found 1 validated image filenames.\n",
            "Found 1 validated image filenames.\n"
          ]
        },
        {
          "output_type": "stream",
          "name": "stderr",
          "text": [
            "\rProcessing Images:  48%|████▊     | 2279/4752 [00:26<00:43, 57.13it/s]"
          ]
        },
        {
          "output_type": "stream",
          "name": "stdout",
          "text": [
            "Found 1 validated image filenames.\n",
            "Found 1 validated image filenames.\n",
            "Found 1 validated image filenames.\n",
            "Found 1 validated image filenames.\n",
            "Found 1 validated image filenames.\n",
            "Found 1 validated image filenames.\n",
            "Found 1 validated image filenames.\n"
          ]
        },
        {
          "output_type": "stream",
          "name": "stderr",
          "text": [
            "\rProcessing Images:  48%|████▊     | 2286/4752 [00:27<00:41, 58.72it/s]"
          ]
        },
        {
          "output_type": "stream",
          "name": "stdout",
          "text": [
            "Found 1 validated image filenames.\n",
            "Found 1 validated image filenames.\n",
            "Found 1 validated image filenames.\n",
            "Found 1 validated image filenames.\n",
            "Found 1 validated image filenames.\n",
            "Found 1 validated image filenames.\n"
          ]
        },
        {
          "output_type": "stream",
          "name": "stderr",
          "text": [
            "\rProcessing Images:  48%|████▊     | 2292/4752 [00:27<00:42, 57.57it/s]"
          ]
        },
        {
          "output_type": "stream",
          "name": "stdout",
          "text": [
            "Found 1 validated image filenames.\n",
            "Found 1 validated image filenames.\n",
            "Found 1 validated image filenames.\n",
            "Found 1 validated image filenames.\n",
            "Found 1 validated image filenames.\n",
            "Found 1 validated image filenames.\n"
          ]
        },
        {
          "output_type": "stream",
          "name": "stderr",
          "text": [
            "\rProcessing Images:  48%|████▊     | 2298/4752 [00:27<00:42, 57.15it/s]"
          ]
        },
        {
          "output_type": "stream",
          "name": "stdout",
          "text": [
            "Found 1 validated image filenames.\n",
            "Found 1 validated image filenames.\n",
            "Found 1 validated image filenames.\n",
            "Found 1 validated image filenames.\n",
            "Found 1 validated image filenames.\n",
            "Found 1 validated image filenames.\n"
          ]
        },
        {
          "output_type": "stream",
          "name": "stderr",
          "text": [
            "\rProcessing Images:  48%|████▊     | 2304/4752 [00:27<00:42, 57.84it/s]"
          ]
        },
        {
          "output_type": "stream",
          "name": "stdout",
          "text": [
            "Found 1 validated image filenames.\n",
            "Found 1 validated image filenames.\n",
            "Found 1 validated image filenames.\n",
            "Found 1 validated image filenames.\n",
            "Found 1 validated image filenames.\n",
            "Found 1 validated image filenames.\n",
            "Found 1 validated image filenames.\n"
          ]
        },
        {
          "output_type": "stream",
          "name": "stderr",
          "text": [
            "\rProcessing Images:  49%|████▊     | 2311/4752 [00:27<00:40, 60.81it/s]"
          ]
        },
        {
          "output_type": "stream",
          "name": "stdout",
          "text": [
            "Found 1 validated image filenames.\n",
            "Found 1 validated image filenames.\n",
            "Found 1 validated image filenames.\n",
            "Found 1 validated image filenames.\n",
            "Found 1 validated image filenames.\n",
            "Found 1 validated image filenames.\n",
            "Found 1 validated image filenames.\n"
          ]
        },
        {
          "output_type": "stream",
          "name": "stderr",
          "text": [
            "\rProcessing Images:  49%|████▉     | 2318/4752 [00:27<00:39, 62.32it/s]"
          ]
        },
        {
          "output_type": "stream",
          "name": "stdout",
          "text": [
            "Found 1 validated image filenames.\n",
            "Found 1 validated image filenames.\n",
            "Found 1 validated image filenames.\n",
            "Found 1 validated image filenames.\n",
            "Found 1 validated image filenames.\n",
            "Found 1 validated image filenames.\n",
            "Found 1 validated image filenames.\n"
          ]
        },
        {
          "output_type": "stream",
          "name": "stderr",
          "text": [
            "\rProcessing Images:  49%|████▉     | 2325/4752 [00:27<00:38, 62.72it/s]"
          ]
        },
        {
          "output_type": "stream",
          "name": "stdout",
          "text": [
            "Found 1 validated image filenames.\n",
            "Found 1 validated image filenames.\n",
            "Found 1 validated image filenames.\n",
            "Found 1 validated image filenames.\n",
            "Found 1 validated image filenames.\n",
            "Found 1 validated image filenames.\n",
            "Found 1 validated image filenames.\n",
            "Found 1 validated image filenames.\n"
          ]
        },
        {
          "output_type": "stream",
          "name": "stderr",
          "text": [
            "\rProcessing Images:  49%|████▉     | 2333/4752 [00:27<00:36, 65.56it/s]"
          ]
        },
        {
          "output_type": "stream",
          "name": "stdout",
          "text": [
            "Found 1 validated image filenames.\n",
            "Found 1 validated image filenames.\n",
            "Found 1 validated image filenames.\n",
            "Found 1 validated image filenames.\n",
            "Found 1 validated image filenames.\n",
            "Found 1 validated image filenames.\n",
            "Found 1 validated image filenames.\n",
            "Found 1 validated image filenames.\n"
          ]
        },
        {
          "output_type": "stream",
          "name": "stderr",
          "text": [
            "\rProcessing Images:  49%|████▉     | 2341/4752 [00:27<00:34, 69.28it/s]"
          ]
        },
        {
          "output_type": "stream",
          "name": "stdout",
          "text": [
            "Found 1 validated image filenames.\n",
            "Found 1 validated image filenames.\n",
            "Found 1 validated image filenames.\n",
            "Found 1 validated image filenames.\n",
            "Found 1 validated image filenames.\n",
            "Found 1 validated image filenames.\n",
            "Found 1 validated image filenames.\n",
            "Found 1 validated image filenames.\n"
          ]
        },
        {
          "output_type": "stream",
          "name": "stderr",
          "text": [
            "\rProcessing Images:  49%|████▉     | 2349/4752 [00:27<00:34, 70.11it/s]"
          ]
        },
        {
          "output_type": "stream",
          "name": "stdout",
          "text": [
            "Found 1 validated image filenames.\n",
            "Found 1 validated image filenames.\n",
            "Found 1 validated image filenames.\n",
            "Found 1 validated image filenames.\n",
            "Found 1 validated image filenames.\n",
            "Found 1 validated image filenames.\n",
            "Found 1 validated image filenames.\n",
            "Found 1 validated image filenames.\n"
          ]
        },
        {
          "output_type": "stream",
          "name": "stderr",
          "text": [
            "\rProcessing Images:  50%|████▉     | 2357/4752 [00:28<00:33, 70.91it/s]"
          ]
        },
        {
          "output_type": "stream",
          "name": "stdout",
          "text": [
            "Found 1 validated image filenames.\n",
            "Found 1 validated image filenames.\n",
            "Found 1 validated image filenames.\n",
            "Found 1 validated image filenames.\n",
            "Found 1 validated image filenames.\n",
            "Found 1 validated image filenames.\n",
            "Found 1 validated image filenames.\n",
            "Found 1 validated image filenames.\n",
            "Found 1 validated image filenames.\n"
          ]
        },
        {
          "output_type": "stream",
          "name": "stderr",
          "text": [
            "\rProcessing Images:  50%|████▉     | 2366/4752 [00:28<00:32, 74.12it/s]"
          ]
        },
        {
          "output_type": "stream",
          "name": "stdout",
          "text": [
            "Found 1 validated image filenames.\n",
            "Found 1 validated image filenames.\n",
            "Found 1 validated image filenames.\n",
            "Found 1 validated image filenames.\n",
            "Found 1 validated image filenames.\n",
            "Found 1 validated image filenames.\n",
            "Found 1 validated image filenames.\n",
            "Found 1 validated image filenames.\n"
          ]
        },
        {
          "output_type": "stream",
          "name": "stderr",
          "text": [
            "\rProcessing Images:  50%|████▉     | 2374/4752 [00:28<00:31, 75.21it/s]"
          ]
        },
        {
          "output_type": "stream",
          "name": "stdout",
          "text": [
            "Found 1 validated image filenames.\n",
            "Found 1 validated image filenames.\n",
            "Found 1 validated image filenames.\n",
            "Found 1 validated image filenames.\n",
            "Found 1 validated image filenames.\n",
            "Found 1 validated image filenames.\n",
            "Found 1 validated image filenames.\n",
            "Found 1 validated image filenames.\n"
          ]
        },
        {
          "output_type": "stream",
          "name": "stderr",
          "text": [
            "\rProcessing Images:  50%|█████     | 2382/4752 [00:28<00:33, 69.99it/s]"
          ]
        },
        {
          "output_type": "stream",
          "name": "stdout",
          "text": [
            "Found 1 validated image filenames.\n",
            "Found 1 validated image filenames.\n",
            "Found 1 validated image filenames.\n",
            "Found 1 validated image filenames.\n",
            "Found 1 validated image filenames.\n",
            "Found 1 validated image filenames.\n",
            "Found 1 validated image filenames.\n",
            "Found 1 validated image filenames.\n"
          ]
        },
        {
          "output_type": "stream",
          "name": "stderr",
          "text": [
            "\rProcessing Images:  50%|█████     | 2390/4752 [00:28<00:37, 63.55it/s]"
          ]
        },
        {
          "output_type": "stream",
          "name": "stdout",
          "text": [
            "Found 1 validated image filenames.\n",
            "Found 1 validated image filenames.\n",
            "Found 1 validated image filenames.\n",
            "Found 1 validated image filenames.\n",
            "Found 1 validated image filenames.\n",
            "Found 1 validated image filenames.\n",
            "Found 1 validated image filenames.\n"
          ]
        },
        {
          "output_type": "stream",
          "name": "stderr",
          "text": [
            "\rProcessing Images:  50%|█████     | 2397/4752 [00:28<00:39, 59.84it/s]"
          ]
        },
        {
          "output_type": "stream",
          "name": "stdout",
          "text": [
            "Found 1 validated image filenames.\n",
            "Found 1 validated image filenames.\n",
            "Found 1 validated image filenames.\n",
            "Found 1 validated image filenames.\n",
            "Found 1 validated image filenames.\n",
            "Found 1 validated image filenames.\n",
            "Found 1 validated image filenames.\n"
          ]
        },
        {
          "output_type": "stream",
          "name": "stderr",
          "text": [
            "\rProcessing Images:  51%|█████     | 2404/4752 [00:28<00:38, 60.42it/s]"
          ]
        },
        {
          "output_type": "stream",
          "name": "stdout",
          "text": [
            "Found 1 validated image filenames.\n",
            "Found 1 validated image filenames.\n",
            "Found 1 validated image filenames.\n",
            "Found 1 validated image filenames.\n",
            "Found 1 validated image filenames.\n",
            "Found 1 validated image filenames.\n",
            "Found 1 validated image filenames.\n",
            "Found 1 validated image filenames.\n"
          ]
        },
        {
          "output_type": "stream",
          "name": "stderr",
          "text": [
            "\rProcessing Images:  51%|█████     | 2412/4752 [00:28<00:35, 65.11it/s]"
          ]
        },
        {
          "output_type": "stream",
          "name": "stdout",
          "text": [
            "Found 1 validated image filenames.\n",
            "Found 1 validated image filenames.\n",
            "Found 1 validated image filenames.\n",
            "Found 1 validated image filenames.\n",
            "Found 1 validated image filenames.\n",
            "Found 1 validated image filenames.\n",
            "Found 1 validated image filenames.\n",
            "Found 1 validated image filenames.\n",
            "Found 1 validated image filenames.\n"
          ]
        },
        {
          "output_type": "stream",
          "name": "stderr",
          "text": [
            "\rProcessing Images:  51%|█████     | 2421/4752 [00:29<00:33, 70.21it/s]"
          ]
        },
        {
          "output_type": "stream",
          "name": "stdout",
          "text": [
            "Found 1 validated image filenames.\n",
            "Found 1 validated image filenames.\n",
            "Found 1 validated image filenames.\n",
            "Found 1 validated image filenames.\n",
            "Found 1 validated image filenames.\n",
            "Found 1 validated image filenames.\n",
            "Found 1 validated image filenames.\n",
            "Found 1 validated image filenames.\n"
          ]
        },
        {
          "output_type": "stream",
          "name": "stderr",
          "text": [
            "\rProcessing Images:  51%|█████     | 2429/4752 [00:29<00:33, 69.75it/s]"
          ]
        },
        {
          "output_type": "stream",
          "name": "stdout",
          "text": [
            "Found 1 validated image filenames.\n",
            "Found 1 validated image filenames.\n",
            "Found 1 validated image filenames.\n",
            "Found 1 validated image filenames.\n",
            "Found 1 validated image filenames.\n",
            "Found 1 validated image filenames.\n",
            "Found 1 validated image filenames.\n",
            "Found 1 validated image filenames.\n"
          ]
        },
        {
          "output_type": "stream",
          "name": "stderr",
          "text": [
            "\rProcessing Images:  51%|█████▏    | 2437/4752 [00:29<00:32, 70.18it/s]"
          ]
        },
        {
          "output_type": "stream",
          "name": "stdout",
          "text": [
            "Found 1 validated image filenames.\n",
            "Found 1 validated image filenames.\n",
            "Found 1 validated image filenames.\n",
            "Found 1 validated image filenames.\n",
            "Found 1 validated image filenames.\n",
            "Found 1 validated image filenames.\n",
            "Found 1 validated image filenames.\n",
            "Found 1 validated image filenames.\n"
          ]
        },
        {
          "output_type": "stream",
          "name": "stderr",
          "text": [
            "\rProcessing Images:  51%|█████▏    | 2445/4752 [00:29<00:35, 65.29it/s]"
          ]
        },
        {
          "output_type": "stream",
          "name": "stdout",
          "text": [
            "Found 1 validated image filenames.\n",
            "Found 1 validated image filenames.\n",
            "Found 1 validated image filenames.\n",
            "Found 1 validated image filenames.\n",
            "Found 1 validated image filenames.\n",
            "Found 1 validated image filenames.\n",
            "Found 1 validated image filenames.\n",
            "Found 1 validated image filenames.\n"
          ]
        },
        {
          "output_type": "stream",
          "name": "stderr",
          "text": [
            "\rProcessing Images:  52%|█████▏    | 2453/4752 [00:29<00:34, 67.25it/s]"
          ]
        },
        {
          "output_type": "stream",
          "name": "stdout",
          "text": [
            "Found 1 validated image filenames.\n",
            "Found 1 validated image filenames.\n",
            "Found 1 validated image filenames.\n",
            "Found 1 validated image filenames.\n",
            "Found 1 validated image filenames.\n",
            "Found 1 validated image filenames.\n",
            "Found 1 validated image filenames.\n",
            "Found 1 validated image filenames.\n"
          ]
        },
        {
          "output_type": "stream",
          "name": "stderr",
          "text": [
            "\rProcessing Images:  52%|█████▏    | 2461/4752 [00:29<00:32, 70.06it/s]"
          ]
        },
        {
          "output_type": "stream",
          "name": "stdout",
          "text": [
            "Found 1 validated image filenames.\n",
            "Found 1 validated image filenames.\n",
            "Found 1 validated image filenames.\n",
            "Found 1 validated image filenames.\n",
            "Found 1 validated image filenames.\n",
            "Found 1 validated image filenames.\n",
            "Found 1 validated image filenames.\n",
            "Found 1 validated image filenames.\n"
          ]
        },
        {
          "output_type": "stream",
          "name": "stderr",
          "text": [
            "\rProcessing Images:  52%|█████▏    | 2469/4752 [00:29<00:32, 71.10it/s]"
          ]
        },
        {
          "output_type": "stream",
          "name": "stdout",
          "text": [
            "Found 1 validated image filenames.\n",
            "Found 1 validated image filenames.\n",
            "Found 1 validated image filenames.\n",
            "Found 1 validated image filenames.\n",
            "Found 1 validated image filenames.\n",
            "Found 1 validated image filenames.\n",
            "Found 1 validated image filenames.\n",
            "Found 1 validated image filenames.\n"
          ]
        },
        {
          "output_type": "stream",
          "name": "stderr",
          "text": [
            "\rProcessing Images:  52%|█████▏    | 2477/4752 [00:29<00:33, 67.08it/s]"
          ]
        },
        {
          "output_type": "stream",
          "name": "stdout",
          "text": [
            "Found 1 validated image filenames.\n",
            "Found 1 validated image filenames.\n",
            "Found 1 validated image filenames.\n",
            "Found 1 validated image filenames.\n",
            "Found 1 validated image filenames.\n",
            "Found 1 validated image filenames.\n",
            "Found 1 validated image filenames.\n"
          ]
        },
        {
          "output_type": "stream",
          "name": "stderr",
          "text": [
            "\rProcessing Images:  52%|█████▏    | 2484/4752 [00:30<00:34, 65.43it/s]"
          ]
        },
        {
          "output_type": "stream",
          "name": "stdout",
          "text": [
            "Found 1 validated image filenames.\n",
            "Found 1 validated image filenames.\n",
            "Found 1 validated image filenames.\n",
            "Found 1 validated image filenames.\n",
            "Found 1 validated image filenames.\n",
            "Found 1 validated image filenames.\n",
            "Found 1 validated image filenames.\n",
            "Found 1 validated image filenames.\n",
            "Found 1 validated image filenames.\n",
            "Found 1 validated image filenames.\n"
          ]
        },
        {
          "output_type": "stream",
          "name": "stderr",
          "text": [
            "\rProcessing Images:  52%|█████▏    | 2494/4752 [00:30<00:31, 72.58it/s]"
          ]
        },
        {
          "output_type": "stream",
          "name": "stdout",
          "text": [
            "Found 1 validated image filenames.\n",
            "Found 1 validated image filenames.\n",
            "Found 1 validated image filenames.\n",
            "Found 1 validated image filenames.\n",
            "Found 1 validated image filenames.\n",
            "Found 1 validated image filenames.\n",
            "Found 1 validated image filenames.\n",
            "Found 1 validated image filenames.\n",
            "Found 1 validated image filenames.\n"
          ]
        },
        {
          "output_type": "stream",
          "name": "stderr",
          "text": [
            "\rProcessing Images:  53%|█████▎    | 2503/4752 [00:30<00:29, 75.08it/s]"
          ]
        },
        {
          "output_type": "stream",
          "name": "stdout",
          "text": [
            "Found 1 validated image filenames.\n",
            "Found 1 validated image filenames.\n",
            "Found 1 validated image filenames.\n",
            "Found 1 validated image filenames.\n",
            "Found 1 validated image filenames.\n",
            "Found 1 validated image filenames.\n",
            "Found 1 validated image filenames.\n",
            "Found 1 validated image filenames.\n"
          ]
        },
        {
          "output_type": "stream",
          "name": "stderr",
          "text": [
            "\rProcessing Images:  53%|█████▎    | 2511/4752 [00:30<00:30, 73.10it/s]"
          ]
        },
        {
          "output_type": "stream",
          "name": "stdout",
          "text": [
            "Found 1 validated image filenames.\n",
            "Found 1 validated image filenames.\n",
            "Found 1 validated image filenames.\n",
            "Found 1 validated image filenames.\n",
            "Found 1 validated image filenames.\n",
            "Found 1 validated image filenames.\n",
            "Found 1 validated image filenames.\n",
            "Found 1 validated image filenames.\n"
          ]
        },
        {
          "output_type": "stream",
          "name": "stderr",
          "text": [
            "\rProcessing Images:  53%|█████▎    | 2519/4752 [00:30<00:30, 73.63it/s]"
          ]
        },
        {
          "output_type": "stream",
          "name": "stdout",
          "text": [
            "Found 1 validated image filenames.\n",
            "Found 1 validated image filenames.\n",
            "Found 1 validated image filenames.\n",
            "Found 1 validated image filenames.\n",
            "Found 1 validated image filenames.\n",
            "Found 1 validated image filenames.\n",
            "Found 1 validated image filenames.\n",
            "Found 1 validated image filenames.\n"
          ]
        },
        {
          "output_type": "stream",
          "name": "stderr",
          "text": [
            "\rProcessing Images:  53%|█████▎    | 2527/4752 [00:30<00:30, 72.13it/s]"
          ]
        },
        {
          "output_type": "stream",
          "name": "stdout",
          "text": [
            "Found 1 validated image filenames.\n",
            "Found 1 validated image filenames.\n",
            "Found 1 validated image filenames.\n",
            "Found 1 validated image filenames.\n",
            "Found 1 validated image filenames.\n",
            "Found 1 validated image filenames.\n",
            "Found 1 validated image filenames.\n",
            "Found 1 validated image filenames.\n"
          ]
        },
        {
          "output_type": "stream",
          "name": "stderr",
          "text": [
            "\rProcessing Images:  53%|█████▎    | 2535/4752 [00:30<00:32, 67.74it/s]"
          ]
        },
        {
          "output_type": "stream",
          "name": "stdout",
          "text": [
            "Found 1 validated image filenames.\n",
            "Found 1 validated image filenames.\n",
            "Found 1 validated image filenames.\n",
            "Found 1 validated image filenames.\n",
            "Found 1 validated image filenames.\n",
            "Found 1 validated image filenames.\n",
            "Found 1 validated image filenames.\n",
            "Found 1 validated image filenames.\n",
            "Found 1 validated image filenames.\n"
          ]
        },
        {
          "output_type": "stream",
          "name": "stderr",
          "text": [
            "\rProcessing Images:  54%|█████▎    | 2544/4752 [00:30<00:30, 72.67it/s]"
          ]
        },
        {
          "output_type": "stream",
          "name": "stdout",
          "text": [
            "Found 1 validated image filenames.\n",
            "Found 1 validated image filenames.\n",
            "Found 1 validated image filenames.\n",
            "Found 1 validated image filenames.\n",
            "Found 1 validated image filenames.\n",
            "Found 1 validated image filenames.\n",
            "Found 1 validated image filenames.\n",
            "Found 1 validated image filenames.\n",
            "Found 1 validated image filenames.\n"
          ]
        },
        {
          "output_type": "stream",
          "name": "stderr",
          "text": [
            "\rProcessing Images:  54%|█████▎    | 2553/4752 [00:30<00:28, 75.99it/s]"
          ]
        },
        {
          "output_type": "stream",
          "name": "stdout",
          "text": [
            "Found 1 validated image filenames.\n",
            "Found 1 validated image filenames.\n",
            "Found 1 validated image filenames.\n",
            "Found 1 validated image filenames.\n",
            "Found 1 validated image filenames.\n",
            "Found 1 validated image filenames.\n",
            "Found 1 validated image filenames.\n",
            "Found 1 validated image filenames.\n",
            "Found 1 validated image filenames.\n"
          ]
        },
        {
          "output_type": "stream",
          "name": "stderr",
          "text": [
            "\rProcessing Images:  54%|█████▍    | 2562/4752 [00:31<00:28, 77.24it/s]"
          ]
        },
        {
          "output_type": "stream",
          "name": "stdout",
          "text": [
            "Found 1 validated image filenames.\n",
            "Found 1 validated image filenames.\n",
            "Found 1 validated image filenames.\n",
            "Found 1 validated image filenames.\n",
            "Found 1 validated image filenames.\n",
            "Found 1 validated image filenames.\n",
            "Found 1 validated image filenames.\n",
            "Found 1 validated image filenames.\n",
            "Found 1 validated image filenames.\n"
          ]
        },
        {
          "output_type": "stream",
          "name": "stderr",
          "text": [
            "\rProcessing Images:  54%|█████▍    | 2571/4752 [00:31<00:27, 79.50it/s]"
          ]
        },
        {
          "output_type": "stream",
          "name": "stdout",
          "text": [
            "Found 1 validated image filenames.\n",
            "Found 1 validated image filenames.\n",
            "Found 1 validated image filenames.\n",
            "Found 1 validated image filenames.\n",
            "Found 1 validated image filenames.\n",
            "Found 1 validated image filenames.\n",
            "Found 1 validated image filenames.\n",
            "Found 1 validated image filenames.\n",
            "Found 1 validated image filenames.\n"
          ]
        },
        {
          "output_type": "stream",
          "name": "stderr",
          "text": [
            "\rProcessing Images:  54%|█████▍    | 2580/4752 [00:31<00:27, 78.92it/s]"
          ]
        },
        {
          "output_type": "stream",
          "name": "stdout",
          "text": [
            "Found 1 validated image filenames.\n",
            "Found 1 validated image filenames.\n",
            "Found 1 validated image filenames.\n",
            "Found 1 validated image filenames.\n",
            "Found 1 validated image filenames.\n",
            "Found 1 validated image filenames.\n",
            "Found 1 validated image filenames.\n",
            "Found 1 validated image filenames.\n"
          ]
        },
        {
          "output_type": "stream",
          "name": "stderr",
          "text": [
            "\rProcessing Images:  54%|█████▍    | 2588/4752 [00:31<00:28, 77.03it/s]"
          ]
        },
        {
          "output_type": "stream",
          "name": "stdout",
          "text": [
            "Found 1 validated image filenames.\n",
            "Found 1 validated image filenames.\n",
            "Found 1 validated image filenames.\n",
            "Found 1 validated image filenames.\n",
            "Found 1 validated image filenames.\n",
            "Found 1 validated image filenames.\n",
            "Found 1 validated image filenames.\n",
            "Found 1 validated image filenames.\n"
          ]
        },
        {
          "output_type": "stream",
          "name": "stderr",
          "text": [
            "\rProcessing Images:  55%|█████▍    | 2596/4752 [00:31<00:29, 73.92it/s]"
          ]
        },
        {
          "output_type": "stream",
          "name": "stdout",
          "text": [
            "Found 1 validated image filenames.\n",
            "Found 1 validated image filenames.\n",
            "Found 1 validated image filenames.\n",
            "Found 1 validated image filenames.\n",
            "Found 1 validated image filenames.\n",
            "Found 1 validated image filenames.\n",
            "Found 1 validated image filenames.\n",
            "Found 1 validated image filenames.\n"
          ]
        },
        {
          "output_type": "stream",
          "name": "stderr",
          "text": [
            "\rProcessing Images:  55%|█████▍    | 2604/4752 [00:31<00:29, 72.94it/s]"
          ]
        },
        {
          "output_type": "stream",
          "name": "stdout",
          "text": [
            "Found 1 validated image filenames.\n",
            "Found 1 validated image filenames.\n",
            "Found 1 validated image filenames.\n",
            "Found 1 validated image filenames.\n",
            "Found 1 validated image filenames.\n",
            "Found 1 validated image filenames.\n",
            "Found 1 validated image filenames.\n",
            "Found 1 validated image filenames.\n"
          ]
        },
        {
          "output_type": "stream",
          "name": "stderr",
          "text": [
            "\rProcessing Images:  55%|█████▍    | 2612/4752 [00:31<00:29, 71.99it/s]"
          ]
        },
        {
          "output_type": "stream",
          "name": "stdout",
          "text": [
            "Found 1 validated image filenames.\n",
            "Found 1 validated image filenames.\n",
            "Found 1 validated image filenames.\n",
            "Found 1 validated image filenames.\n",
            "Found 1 validated image filenames.\n",
            "Found 1 validated image filenames.\n",
            "Found 1 validated image filenames.\n",
            "Found 1 validated image filenames.\n"
          ]
        },
        {
          "output_type": "stream",
          "name": "stderr",
          "text": [
            "\rProcessing Images:  55%|█████▌    | 2620/4752 [00:31<00:31, 67.47it/s]"
          ]
        },
        {
          "output_type": "stream",
          "name": "stdout",
          "text": [
            "Found 1 validated image filenames.\n",
            "Found 1 validated image filenames.\n",
            "Found 1 validated image filenames.\n",
            "Found 1 validated image filenames.\n",
            "Found 1 validated image filenames.\n",
            "Found 1 validated image filenames.\n",
            "Found 1 validated image filenames.\n"
          ]
        },
        {
          "output_type": "stream",
          "name": "stderr",
          "text": [
            "\rProcessing Images:  55%|█████▌    | 2627/4752 [00:31<00:32, 65.49it/s]"
          ]
        },
        {
          "output_type": "stream",
          "name": "stdout",
          "text": [
            "Found 1 validated image filenames.\n",
            "Found 1 validated image filenames.\n",
            "Found 1 validated image filenames.\n",
            "Found 1 validated image filenames.\n",
            "Found 1 validated image filenames.\n",
            "Found 1 validated image filenames.\n",
            "Found 1 validated image filenames.\n"
          ]
        },
        {
          "output_type": "stream",
          "name": "stderr",
          "text": [
            "\rProcessing Images:  55%|█████▌    | 2634/4752 [00:32<00:33, 62.86it/s]"
          ]
        },
        {
          "output_type": "stream",
          "name": "stdout",
          "text": [
            "Found 1 validated image filenames.\n",
            "Found 1 validated image filenames.\n",
            "Found 1 validated image filenames.\n",
            "Found 1 validated image filenames.\n",
            "Found 1 validated image filenames.\n",
            "Found 1 validated image filenames.\n",
            "Found 1 validated image filenames.\n"
          ]
        },
        {
          "output_type": "stream",
          "name": "stderr",
          "text": [
            "\rProcessing Images:  56%|█████▌    | 2641/4752 [00:32<00:32, 64.38it/s]"
          ]
        },
        {
          "output_type": "stream",
          "name": "stdout",
          "text": [
            "Found 1 validated image filenames.\n",
            "Found 1 validated image filenames.\n",
            "Found 1 validated image filenames.\n",
            "Found 1 validated image filenames.\n",
            "Found 1 validated image filenames.\n",
            "Found 1 validated image filenames.\n",
            "Found 1 validated image filenames.\n"
          ]
        },
        {
          "output_type": "stream",
          "name": "stderr",
          "text": [
            "\rProcessing Images:  56%|█████▌    | 2648/4752 [00:32<00:32, 63.92it/s]"
          ]
        },
        {
          "output_type": "stream",
          "name": "stdout",
          "text": [
            "Found 1 validated image filenames.\n",
            "Found 1 validated image filenames.\n",
            "Found 1 validated image filenames.\n",
            "Found 1 validated image filenames.\n",
            "Found 1 validated image filenames.\n",
            "Found 1 validated image filenames.\n",
            "Found 1 validated image filenames.\n"
          ]
        },
        {
          "output_type": "stream",
          "name": "stderr",
          "text": [
            "\rProcessing Images:  56%|█████▌    | 2655/4752 [00:32<00:32, 64.08it/s]"
          ]
        },
        {
          "output_type": "stream",
          "name": "stdout",
          "text": [
            "Found 1 validated image filenames.\n",
            "Found 1 validated image filenames.\n",
            "Found 1 validated image filenames.\n",
            "Found 1 validated image filenames.\n",
            "Found 1 validated image filenames.\n",
            "Found 1 validated image filenames.\n",
            "Found 1 validated image filenames.\n",
            "Found 1 validated image filenames.\n"
          ]
        },
        {
          "output_type": "stream",
          "name": "stderr",
          "text": [
            "\rProcessing Images:  56%|█████▌    | 2663/4752 [00:32<00:31, 67.04it/s]"
          ]
        },
        {
          "output_type": "stream",
          "name": "stdout",
          "text": [
            "Found 1 validated image filenames.\n",
            "Found 1 validated image filenames.\n",
            "Found 1 validated image filenames.\n",
            "Found 1 validated image filenames.\n",
            "Found 1 validated image filenames.\n",
            "Found 1 validated image filenames.\n",
            "Found 1 validated image filenames.\n"
          ]
        },
        {
          "output_type": "stream",
          "name": "stderr",
          "text": [
            "\rProcessing Images:  56%|█████▌    | 2670/4752 [00:32<00:31, 66.96it/s]"
          ]
        },
        {
          "output_type": "stream",
          "name": "stdout",
          "text": [
            "Found 1 validated image filenames.\n",
            "Found 1 validated image filenames.\n",
            "Found 1 validated image filenames.\n",
            "Found 1 validated image filenames.\n",
            "Found 1 validated image filenames.\n",
            "Found 1 validated image filenames.\n",
            "Found 1 validated image filenames.\n"
          ]
        },
        {
          "output_type": "stream",
          "name": "stderr",
          "text": [
            "\rProcessing Images:  56%|█████▋    | 2677/4752 [00:32<00:30, 67.24it/s]"
          ]
        },
        {
          "output_type": "stream",
          "name": "stdout",
          "text": [
            "Found 1 validated image filenames.\n",
            "Found 1 validated image filenames.\n",
            "Found 1 validated image filenames.\n",
            "Found 1 validated image filenames.\n",
            "Found 1 validated image filenames.\n",
            "Found 1 validated image filenames.\n",
            "Found 1 validated image filenames.\n"
          ]
        },
        {
          "output_type": "stream",
          "name": "stderr",
          "text": [
            "\rProcessing Images:  56%|█████▋    | 2684/4752 [00:32<00:30, 67.61it/s]"
          ]
        },
        {
          "output_type": "stream",
          "name": "stdout",
          "text": [
            "Found 1 validated image filenames.\n",
            "Found 1 validated image filenames.\n",
            "Found 1 validated image filenames.\n",
            "Found 1 validated image filenames.\n",
            "Found 1 validated image filenames.\n",
            "Found 1 validated image filenames.\n",
            "Found 1 validated image filenames.\n",
            "Found 1 validated image filenames.\n"
          ]
        },
        {
          "output_type": "stream",
          "name": "stderr",
          "text": [
            "\rProcessing Images:  57%|█████▋    | 2692/4752 [00:32<00:29, 70.10it/s]"
          ]
        },
        {
          "output_type": "stream",
          "name": "stdout",
          "text": [
            "Found 1 validated image filenames.\n",
            "Found 1 validated image filenames.\n",
            "Found 1 validated image filenames.\n",
            "Found 1 validated image filenames.\n",
            "Found 1 validated image filenames.\n",
            "Found 1 validated image filenames.\n",
            "Found 1 validated image filenames.\n",
            "Found 1 validated image filenames.\n",
            "Found 1 validated image filenames.\n"
          ]
        },
        {
          "output_type": "stream",
          "name": "stderr",
          "text": [
            "\rProcessing Images:  57%|█████▋    | 2701/4752 [00:33<00:27, 74.50it/s]"
          ]
        },
        {
          "output_type": "stream",
          "name": "stdout",
          "text": [
            "Found 1 validated image filenames.\n",
            "Found 1 validated image filenames.\n",
            "Found 1 validated image filenames.\n",
            "Found 1 validated image filenames.\n",
            "Found 1 validated image filenames.\n",
            "Found 1 validated image filenames.\n",
            "Found 1 validated image filenames.\n",
            "Found 1 validated image filenames.\n",
            "Found 1 validated image filenames.\n"
          ]
        },
        {
          "output_type": "stream",
          "name": "stderr",
          "text": [
            "\rProcessing Images:  57%|█████▋    | 2710/4752 [00:33<00:26, 76.87it/s]"
          ]
        },
        {
          "output_type": "stream",
          "name": "stdout",
          "text": [
            "Found 1 validated image filenames.\n",
            "Found 1 validated image filenames.\n",
            "Found 1 validated image filenames.\n",
            "Found 1 validated image filenames.\n",
            "Found 1 validated image filenames.\n",
            "Found 1 validated image filenames.\n",
            "Found 1 validated image filenames.\n",
            "Found 1 validated image filenames.\n",
            "Found 1 validated image filenames.\n"
          ]
        },
        {
          "output_type": "stream",
          "name": "stderr",
          "text": [
            "\rProcessing Images:  57%|█████▋    | 2719/4752 [00:33<00:25, 78.80it/s]"
          ]
        },
        {
          "output_type": "stream",
          "name": "stdout",
          "text": [
            "Found 1 validated image filenames.\n",
            "Found 1 validated image filenames.\n",
            "Found 1 validated image filenames.\n",
            "Found 1 validated image filenames.\n",
            "Found 1 validated image filenames.\n",
            "Found 1 validated image filenames.\n",
            "Found 1 validated image filenames.\n",
            "Found 1 validated image filenames.\n",
            "Found 1 validated image filenames.\n"
          ]
        },
        {
          "output_type": "stream",
          "name": "stderr",
          "text": [
            "\rProcessing Images:  57%|█████▋    | 2728/4752 [00:33<00:25, 79.35it/s]"
          ]
        },
        {
          "output_type": "stream",
          "name": "stdout",
          "text": [
            "Found 1 validated image filenames.\n",
            "Found 1 validated image filenames.\n",
            "Found 1 validated image filenames.\n",
            "Found 1 validated image filenames.\n",
            "Found 1 validated image filenames.\n",
            "Found 1 validated image filenames.\n",
            "Found 1 validated image filenames.\n",
            "Found 1 validated image filenames.\n"
          ]
        },
        {
          "output_type": "stream",
          "name": "stderr",
          "text": [
            "\rProcessing Images:  58%|█████▊    | 2736/4752 [00:33<00:28, 71.04it/s]"
          ]
        },
        {
          "output_type": "stream",
          "name": "stdout",
          "text": [
            "Found 1 validated image filenames.\n",
            "Found 1 validated image filenames.\n",
            "Found 1 validated image filenames.\n",
            "Found 1 validated image filenames.\n",
            "Found 1 validated image filenames.\n",
            "Found 1 validated image filenames.\n",
            "Found 1 validated image filenames.\n",
            "Found 1 validated image filenames.\n"
          ]
        },
        {
          "output_type": "stream",
          "name": "stderr",
          "text": [
            "\rProcessing Images:  58%|█████▊    | 2744/4752 [00:33<00:29, 68.41it/s]"
          ]
        },
        {
          "output_type": "stream",
          "name": "stdout",
          "text": [
            "Found 1 validated image filenames.\n",
            "Found 1 validated image filenames.\n",
            "Found 1 validated image filenames.\n",
            "Found 1 validated image filenames.\n",
            "Found 1 validated image filenames.\n",
            "Found 1 validated image filenames.\n",
            "Found 1 validated image filenames.\n",
            "Found 1 validated image filenames.\n"
          ]
        },
        {
          "output_type": "stream",
          "name": "stderr",
          "text": [
            "\rProcessing Images:  58%|█████▊    | 2752/4752 [00:33<00:28, 70.46it/s]"
          ]
        },
        {
          "output_type": "stream",
          "name": "stdout",
          "text": [
            "Found 1 validated image filenames.\n",
            "Found 1 validated image filenames.\n",
            "Found 1 validated image filenames.\n",
            "Found 1 validated image filenames.\n",
            "Found 1 validated image filenames.\n",
            "Found 1 validated image filenames.\n",
            "Found 1 validated image filenames.\n",
            "Found 1 validated image filenames.\n"
          ]
        },
        {
          "output_type": "stream",
          "name": "stderr",
          "text": [
            "\rProcessing Images:  58%|█████▊    | 2760/4752 [00:33<00:27, 72.84it/s]"
          ]
        },
        {
          "output_type": "stream",
          "name": "stdout",
          "text": [
            "Found 1 validated image filenames.\n",
            "Found 1 validated image filenames.\n",
            "Found 1 validated image filenames.\n",
            "Found 1 validated image filenames.\n",
            "Found 1 validated image filenames.\n",
            "Found 1 validated image filenames.\n",
            "Found 1 validated image filenames.\n",
            "Found 1 validated image filenames.\n",
            "Found 1 validated image filenames.\n"
          ]
        },
        {
          "output_type": "stream",
          "name": "stderr",
          "text": [
            "\rProcessing Images:  58%|█████▊    | 2769/4752 [00:33<00:26, 75.53it/s]"
          ]
        },
        {
          "output_type": "stream",
          "name": "stdout",
          "text": [
            "Found 1 validated image filenames.\n",
            "Found 1 validated image filenames.\n",
            "Found 1 validated image filenames.\n",
            "Found 1 validated image filenames.\n",
            "Found 1 validated image filenames.\n",
            "Found 1 validated image filenames.\n",
            "Found 1 validated image filenames.\n",
            "Found 1 validated image filenames.\n",
            "Found 1 validated image filenames.\n"
          ]
        },
        {
          "output_type": "stream",
          "name": "stderr",
          "text": [
            "\rProcessing Images:  58%|█████▊    | 2778/4752 [00:34<00:25, 78.72it/s]"
          ]
        },
        {
          "output_type": "stream",
          "name": "stdout",
          "text": [
            "Found 1 validated image filenames.\n",
            "Found 1 validated image filenames.\n",
            "Found 1 validated image filenames.\n",
            "Found 1 validated image filenames.\n",
            "Found 1 validated image filenames.\n",
            "Found 1 validated image filenames.\n",
            "Found 1 validated image filenames.\n",
            "Found 1 validated image filenames.\n",
            "Found 1 validated image filenames.\n"
          ]
        },
        {
          "output_type": "stream",
          "name": "stderr",
          "text": [
            "\rProcessing Images:  59%|█████▊    | 2787/4752 [00:34<00:24, 80.65it/s]"
          ]
        },
        {
          "output_type": "stream",
          "name": "stdout",
          "text": [
            "Found 1 validated image filenames.\n",
            "Found 1 validated image filenames.\n",
            "Found 1 validated image filenames.\n",
            "Found 1 validated image filenames.\n",
            "Found 1 validated image filenames.\n",
            "Found 1 validated image filenames.\n",
            "Found 1 validated image filenames.\n",
            "Found 1 validated image filenames.\n",
            "Found 1 validated image filenames.\n"
          ]
        },
        {
          "output_type": "stream",
          "name": "stderr",
          "text": [
            "\rProcessing Images:  59%|█████▉    | 2796/4752 [00:34<00:23, 82.68it/s]"
          ]
        },
        {
          "output_type": "stream",
          "name": "stdout",
          "text": [
            "Found 1 validated image filenames.\n",
            "Found 1 validated image filenames.\n",
            "Found 1 validated image filenames.\n",
            "Found 1 validated image filenames.\n",
            "Found 1 validated image filenames.\n",
            "Found 1 validated image filenames.\n",
            "Found 1 validated image filenames.\n",
            "Found 1 validated image filenames.\n",
            "Found 1 validated image filenames.\n"
          ]
        },
        {
          "output_type": "stream",
          "name": "stderr",
          "text": [
            "\rProcessing Images:  59%|█████▉    | 2805/4752 [00:34<00:23, 83.19it/s]"
          ]
        },
        {
          "output_type": "stream",
          "name": "stdout",
          "text": [
            "Found 1 validated image filenames.\n",
            "Found 1 validated image filenames.\n",
            "Found 1 validated image filenames.\n",
            "Found 1 validated image filenames.\n",
            "Found 1 validated image filenames.\n",
            "Found 1 validated image filenames.\n",
            "Found 1 validated image filenames.\n",
            "Found 1 validated image filenames.\n",
            "Found 1 validated image filenames.\n"
          ]
        },
        {
          "output_type": "stream",
          "name": "stderr",
          "text": [
            "\rProcessing Images:  59%|█████▉    | 2814/4752 [00:34<00:23, 83.33it/s]"
          ]
        },
        {
          "output_type": "stream",
          "name": "stdout",
          "text": [
            "Found 1 validated image filenames.\n",
            "Found 1 validated image filenames.\n",
            "Found 1 validated image filenames.\n",
            "Found 1 validated image filenames.\n",
            "Found 1 validated image filenames.\n",
            "Found 1 validated image filenames.\n",
            "Found 1 validated image filenames.\n",
            "Found 1 validated image filenames.\n",
            "Found 1 validated image filenames.\n"
          ]
        },
        {
          "output_type": "stream",
          "name": "stderr",
          "text": [
            "\rProcessing Images:  59%|█████▉    | 2823/4752 [00:34<00:24, 78.97it/s]"
          ]
        },
        {
          "output_type": "stream",
          "name": "stdout",
          "text": [
            "Found 1 validated image filenames.\n",
            "Found 1 validated image filenames.\n",
            "Found 1 validated image filenames.\n",
            "Found 1 validated image filenames.\n",
            "Found 1 validated image filenames.\n",
            "Found 1 validated image filenames.\n",
            "Found 1 validated image filenames.\n",
            "Found 1 validated image filenames.\n"
          ]
        },
        {
          "output_type": "stream",
          "name": "stderr",
          "text": [
            "\rProcessing Images:  60%|█████▉    | 2831/4752 [00:34<00:24, 77.30it/s]"
          ]
        },
        {
          "output_type": "stream",
          "name": "stdout",
          "text": [
            "Found 1 validated image filenames.\n",
            "Found 1 validated image filenames.\n",
            "Found 1 validated image filenames.\n",
            "Found 1 validated image filenames.\n",
            "Found 1 validated image filenames.\n",
            "Found 1 validated image filenames.\n",
            "Found 1 validated image filenames.\n",
            "Found 1 validated image filenames.\n"
          ]
        },
        {
          "output_type": "stream",
          "name": "stderr",
          "text": [
            "\rProcessing Images:  60%|█████▉    | 2839/4752 [00:34<00:25, 74.15it/s]"
          ]
        },
        {
          "output_type": "stream",
          "name": "stdout",
          "text": [
            "Found 1 validated image filenames.\n",
            "Found 1 validated image filenames.\n",
            "Found 1 validated image filenames.\n",
            "Found 1 validated image filenames.\n",
            "Found 1 validated image filenames.\n",
            "Found 1 validated image filenames.\n",
            "Found 1 validated image filenames.\n",
            "Found 1 validated image filenames.\n",
            "Found 1 validated image filenames.\n"
          ]
        },
        {
          "output_type": "stream",
          "name": "stderr",
          "text": [
            "\rProcessing Images:  60%|█████▉    | 2848/4752 [00:34<00:24, 77.05it/s]"
          ]
        },
        {
          "output_type": "stream",
          "name": "stdout",
          "text": [
            "Found 1 validated image filenames.\n",
            "Found 1 validated image filenames.\n",
            "Found 1 validated image filenames.\n",
            "Found 1 validated image filenames.\n",
            "Found 1 validated image filenames.\n",
            "Found 1 validated image filenames.\n",
            "Found 1 validated image filenames.\n",
            "Found 1 validated image filenames.\n",
            "Found 1 validated image filenames.\n",
            "Found 1 validated image filenames.\n"
          ]
        },
        {
          "output_type": "stream",
          "name": "stderr",
          "text": [
            "\rProcessing Images:  60%|██████    | 2858/4752 [00:35<00:23, 81.33it/s]"
          ]
        },
        {
          "output_type": "stream",
          "name": "stdout",
          "text": [
            "Found 1 validated image filenames.\n",
            "Found 1 validated image filenames.\n",
            "Found 1 validated image filenames.\n",
            "Found 1 validated image filenames.\n",
            "Found 1 validated image filenames.\n",
            "Found 1 validated image filenames.\n",
            "Found 1 validated image filenames.\n",
            "Found 1 validated image filenames.\n",
            "Found 1 validated image filenames.\n",
            "Found 1 validated image filenames.\n"
          ]
        },
        {
          "output_type": "stream",
          "name": "stderr",
          "text": [
            "\rProcessing Images:  60%|██████    | 2868/4752 [00:35<00:22, 84.09it/s]"
          ]
        },
        {
          "output_type": "stream",
          "name": "stdout",
          "text": [
            "Found 1 validated image filenames.\n",
            "Found 1 validated image filenames.\n",
            "Found 1 validated image filenames.\n",
            "Found 1 validated image filenames.\n",
            "Found 1 validated image filenames.\n",
            "Found 1 validated image filenames.\n",
            "Found 1 validated image filenames.\n",
            "Found 1 validated image filenames.\n",
            "Found 1 validated image filenames.\n"
          ]
        },
        {
          "output_type": "stream",
          "name": "stderr",
          "text": [
            "\rProcessing Images:  61%|██████    | 2877/4752 [00:35<00:22, 84.22it/s]"
          ]
        },
        {
          "output_type": "stream",
          "name": "stdout",
          "text": [
            "Found 1 validated image filenames.\n",
            "Found 1 validated image filenames.\n",
            "Found 1 validated image filenames.\n",
            "Found 1 validated image filenames.\n",
            "Found 1 validated image filenames.\n",
            "Found 1 validated image filenames.\n",
            "Found 1 validated image filenames.\n",
            "Found 1 validated image filenames.\n",
            "Found 1 validated image filenames.\n",
            "Found 1 validated image filenames.\n"
          ]
        },
        {
          "output_type": "stream",
          "name": "stderr",
          "text": [
            "\rProcessing Images:  61%|██████    | 2887/4752 [00:35<00:21, 86.23it/s]"
          ]
        },
        {
          "output_type": "stream",
          "name": "stdout",
          "text": [
            "Found 1 validated image filenames.\n",
            "Found 1 validated image filenames.\n",
            "Found 1 validated image filenames.\n",
            "Found 1 validated image filenames.\n",
            "Found 1 validated image filenames.\n",
            "Found 1 validated image filenames.\n",
            "Found 1 validated image filenames.\n",
            "Found 1 validated image filenames.\n",
            "Found 1 validated image filenames.\n"
          ]
        },
        {
          "output_type": "stream",
          "name": "stderr",
          "text": [
            "\rProcessing Images:  61%|██████    | 2896/4752 [00:35<00:22, 80.79it/s]"
          ]
        },
        {
          "output_type": "stream",
          "name": "stdout",
          "text": [
            "Found 1 validated image filenames.\n",
            "Found 1 validated image filenames.\n",
            "Found 1 validated image filenames.\n",
            "Found 1 validated image filenames.\n",
            "Found 1 validated image filenames.\n",
            "Found 1 validated image filenames.\n",
            "Found 1 validated image filenames.\n",
            "Found 1 validated image filenames.\n",
            "Found 1 validated image filenames.\n"
          ]
        },
        {
          "output_type": "stream",
          "name": "stderr",
          "text": [
            "\rProcessing Images:  61%|██████    | 2905/4752 [00:35<00:25, 73.25it/s]"
          ]
        },
        {
          "output_type": "stream",
          "name": "stdout",
          "text": [
            "Found 1 validated image filenames.\n",
            "Found 1 validated image filenames.\n",
            "Found 1 validated image filenames.\n",
            "Found 1 validated image filenames.\n",
            "Found 1 validated image filenames.\n",
            "Found 1 validated image filenames.\n",
            "Found 1 validated image filenames.\n",
            "Found 1 validated image filenames.\n"
          ]
        },
        {
          "output_type": "stream",
          "name": "stderr",
          "text": [
            "\rProcessing Images:  61%|██████▏   | 2913/4752 [00:35<00:24, 74.73it/s]"
          ]
        },
        {
          "output_type": "stream",
          "name": "stdout",
          "text": [
            "Found 1 validated image filenames.\n",
            "Found 1 validated image filenames.\n",
            "Found 1 validated image filenames.\n",
            "Found 1 validated image filenames.\n",
            "Found 1 validated image filenames.\n",
            "Found 1 validated image filenames.\n",
            "Found 1 validated image filenames.\n",
            "Found 1 validated image filenames.\n"
          ]
        },
        {
          "output_type": "stream",
          "name": "stderr",
          "text": [
            "\rProcessing Images:  61%|██████▏   | 2921/4752 [00:35<00:24, 75.80it/s]"
          ]
        },
        {
          "output_type": "stream",
          "name": "stdout",
          "text": [
            "Found 1 validated image filenames.\n",
            "Found 1 validated image filenames.\n",
            "Found 1 validated image filenames.\n",
            "Found 1 validated image filenames.\n",
            "Found 1 validated image filenames.\n",
            "Found 1 validated image filenames.\n",
            "Found 1 validated image filenames.\n",
            "Found 1 validated image filenames.\n",
            "Found 1 validated image filenames.\n"
          ]
        },
        {
          "output_type": "stream",
          "name": "stderr",
          "text": [
            "\rProcessing Images:  62%|██████▏   | 2930/4752 [00:35<00:22, 79.42it/s]"
          ]
        },
        {
          "output_type": "stream",
          "name": "stdout",
          "text": [
            "Found 1 validated image filenames.\n",
            "Found 1 validated image filenames.\n",
            "Found 1 validated image filenames.\n",
            "Found 1 validated image filenames.\n",
            "Found 1 validated image filenames.\n",
            "Found 1 validated image filenames.\n",
            "Found 1 validated image filenames.\n",
            "Found 1 validated image filenames.\n",
            "Found 1 validated image filenames.\n",
            "Found 1 validated image filenames.\n"
          ]
        },
        {
          "output_type": "stream",
          "name": "stderr",
          "text": [
            "\rProcessing Images:  62%|██████▏   | 2940/4752 [00:36<00:21, 83.97it/s]"
          ]
        },
        {
          "output_type": "stream",
          "name": "stdout",
          "text": [
            "Found 1 validated image filenames.\n",
            "Found 1 validated image filenames.\n",
            "Found 1 validated image filenames.\n",
            "Found 1 validated image filenames.\n",
            "Found 1 validated image filenames.\n",
            "Found 1 validated image filenames.\n",
            "Found 1 validated image filenames.\n",
            "Found 1 validated image filenames.\n",
            "Found 1 validated image filenames.\n",
            "Found 1 validated image filenames.\n"
          ]
        },
        {
          "output_type": "stream",
          "name": "stderr",
          "text": [
            "\rProcessing Images:  62%|██████▏   | 2950/4752 [00:36<00:20, 86.56it/s]"
          ]
        },
        {
          "output_type": "stream",
          "name": "stdout",
          "text": [
            "Found 1 validated image filenames.\n",
            "Found 1 validated image filenames.\n",
            "Found 1 validated image filenames.\n",
            "Found 1 validated image filenames.\n",
            "Found 1 validated image filenames.\n",
            "Found 1 validated image filenames.\n",
            "Found 1 validated image filenames.\n",
            "Found 1 validated image filenames.\n",
            "Found 1 validated image filenames.\n",
            "Found 1 validated image filenames.\n"
          ]
        },
        {
          "output_type": "stream",
          "name": "stderr",
          "text": [
            "\rProcessing Images:  62%|██████▏   | 2960/4752 [00:36<00:20, 88.37it/s]"
          ]
        },
        {
          "output_type": "stream",
          "name": "stdout",
          "text": [
            "Found 1 validated image filenames.\n",
            "Found 1 validated image filenames.\n",
            "Found 1 validated image filenames.\n",
            "Found 1 validated image filenames.\n",
            "Found 1 validated image filenames.\n",
            "Found 1 validated image filenames.\n",
            "Found 1 validated image filenames.\n",
            "Found 1 validated image filenames.\n",
            "Found 1 validated image filenames.\n"
          ]
        },
        {
          "output_type": "stream",
          "name": "stderr",
          "text": [
            "\rProcessing Images:  62%|██████▏   | 2969/4752 [00:36<00:20, 87.79it/s]"
          ]
        },
        {
          "output_type": "stream",
          "name": "stdout",
          "text": [
            "Found 1 validated image filenames.\n",
            "Found 1 validated image filenames.\n",
            "Found 1 validated image filenames.\n",
            "Found 1 validated image filenames.\n",
            "Found 1 validated image filenames.\n",
            "Found 1 validated image filenames.\n",
            "Found 1 validated image filenames.\n",
            "Found 1 validated image filenames.\n",
            "Found 1 validated image filenames.\n"
          ]
        },
        {
          "output_type": "stream",
          "name": "stderr",
          "text": [
            "\rProcessing Images:  63%|██████▎   | 2978/4752 [00:36<00:21, 84.10it/s]"
          ]
        },
        {
          "output_type": "stream",
          "name": "stdout",
          "text": [
            "Found 1 validated image filenames.\n",
            "Found 1 validated image filenames.\n",
            "Found 1 validated image filenames.\n",
            "Found 1 validated image filenames.\n",
            "Found 1 validated image filenames.\n",
            "Found 1 validated image filenames.\n",
            "Found 1 validated image filenames.\n",
            "Found 1 validated image filenames.\n",
            "Found 1 validated image filenames.\n"
          ]
        },
        {
          "output_type": "stream",
          "name": "stderr",
          "text": [
            "\rProcessing Images:  63%|██████▎   | 2987/4752 [00:36<00:21, 81.53it/s]"
          ]
        },
        {
          "output_type": "stream",
          "name": "stdout",
          "text": [
            "Found 1 validated image filenames.\n",
            "Found 1 validated image filenames.\n",
            "Found 1 validated image filenames.\n",
            "Found 1 validated image filenames.\n",
            "Found 1 validated image filenames.\n",
            "Found 1 validated image filenames.\n",
            "Found 1 validated image filenames.\n",
            "Found 1 validated image filenames.\n",
            "Found 1 validated image filenames.\n"
          ]
        },
        {
          "output_type": "stream",
          "name": "stderr",
          "text": [
            "\rProcessing Images:  63%|██████▎   | 2996/4752 [00:36<00:23, 76.23it/s]"
          ]
        },
        {
          "output_type": "stream",
          "name": "stdout",
          "text": [
            "Found 1 validated image filenames.\n",
            "Found 1 validated image filenames.\n",
            "Found 1 validated image filenames.\n",
            "Found 1 validated image filenames.\n",
            "Found 1 validated image filenames.\n",
            "Found 1 validated image filenames.\n",
            "Found 1 validated image filenames.\n",
            "Found 1 validated image filenames.\n",
            "Found 1 validated image filenames.\n"
          ]
        },
        {
          "output_type": "stream",
          "name": "stderr",
          "text": [
            "\rProcessing Images:  63%|██████▎   | 3005/4752 [00:36<00:22, 77.81it/s]"
          ]
        },
        {
          "output_type": "stream",
          "name": "stdout",
          "text": [
            "Found 1 validated image filenames.\n",
            "Found 1 validated image filenames.\n",
            "Found 1 validated image filenames.\n",
            "Found 1 validated image filenames.\n",
            "Found 1 validated image filenames.\n",
            "Found 1 validated image filenames.\n",
            "Found 1 validated image filenames.\n",
            "Found 1 validated image filenames.\n"
          ]
        },
        {
          "output_type": "stream",
          "name": "stderr",
          "text": [
            "\rProcessing Images:  63%|██████▎   | 3013/4752 [00:36<00:24, 71.41it/s]"
          ]
        },
        {
          "output_type": "stream",
          "name": "stdout",
          "text": [
            "Found 1 validated image filenames.\n",
            "Found 1 validated image filenames.\n",
            "Found 1 validated image filenames.\n",
            "Found 1 validated image filenames.\n",
            "Found 1 validated image filenames.\n",
            "Found 1 validated image filenames.\n",
            "Found 1 validated image filenames.\n",
            "Found 1 validated image filenames.\n"
          ]
        },
        {
          "output_type": "stream",
          "name": "stderr",
          "text": [
            "\rProcessing Images:  64%|██████▎   | 3021/4752 [00:37<00:23, 73.56it/s]"
          ]
        },
        {
          "output_type": "stream",
          "name": "stdout",
          "text": [
            "Found 1 validated image filenames.\n",
            "Found 1 validated image filenames.\n",
            "Found 1 validated image filenames.\n",
            "Found 1 validated image filenames.\n",
            "Found 1 validated image filenames.\n",
            "Found 1 validated image filenames.\n",
            "Found 1 validated image filenames.\n",
            "Found 1 validated image filenames.\n"
          ]
        },
        {
          "output_type": "stream",
          "name": "stderr",
          "text": [
            "\rProcessing Images:  64%|██████▎   | 3029/4752 [00:37<00:23, 74.45it/s]"
          ]
        },
        {
          "output_type": "stream",
          "name": "stdout",
          "text": [
            "Found 1 validated image filenames.\n",
            "Found 1 validated image filenames.\n",
            "Found 1 validated image filenames.\n",
            "Found 1 validated image filenames.\n",
            "Found 1 validated image filenames.\n",
            "Found 1 validated image filenames.\n",
            "Found 1 validated image filenames.\n",
            "Found 1 validated image filenames.\n",
            "Found 1 validated image filenames.\n"
          ]
        },
        {
          "output_type": "stream",
          "name": "stderr",
          "text": [
            "\rProcessing Images:  64%|██████▍   | 3038/4752 [00:37<00:21, 77.97it/s]"
          ]
        },
        {
          "output_type": "stream",
          "name": "stdout",
          "text": [
            "Found 1 validated image filenames.\n",
            "Found 1 validated image filenames.\n",
            "Found 1 validated image filenames.\n",
            "Found 1 validated image filenames.\n",
            "Found 1 validated image filenames.\n",
            "Found 1 validated image filenames.\n",
            "Found 1 validated image filenames.\n",
            "Found 1 validated image filenames.\n",
            "Found 1 validated image filenames.\n"
          ]
        },
        {
          "output_type": "stream",
          "name": "stderr",
          "text": [
            "\rProcessing Images:  64%|██████▍   | 3047/4752 [00:37<00:21, 79.49it/s]"
          ]
        },
        {
          "output_type": "stream",
          "name": "stdout",
          "text": [
            "Found 1 validated image filenames.\n",
            "Found 1 validated image filenames.\n",
            "Found 1 validated image filenames.\n",
            "Found 1 validated image filenames.\n",
            "Found 1 validated image filenames.\n",
            "Found 1 validated image filenames.\n",
            "Found 1 validated image filenames.\n",
            "Found 1 validated image filenames.\n",
            "Found 1 validated image filenames.\n"
          ]
        },
        {
          "output_type": "stream",
          "name": "stderr",
          "text": [
            "\rProcessing Images:  64%|██████▍   | 3056/4752 [00:37<00:20, 82.25it/s]"
          ]
        },
        {
          "output_type": "stream",
          "name": "stdout",
          "text": [
            "Found 1 validated image filenames.\n",
            "Found 1 validated image filenames.\n",
            "Found 1 validated image filenames.\n",
            "Found 1 validated image filenames.\n",
            "Found 1 validated image filenames.\n",
            "Found 1 validated image filenames.\n",
            "Found 1 validated image filenames.\n",
            "Found 1 validated image filenames.\n",
            "Found 1 validated image filenames.\n"
          ]
        },
        {
          "output_type": "stream",
          "name": "stderr",
          "text": [
            "\rProcessing Images:  64%|██████▍   | 3065/4752 [00:37<00:20, 83.89it/s]"
          ]
        },
        {
          "output_type": "stream",
          "name": "stdout",
          "text": [
            "Found 1 validated image filenames.\n",
            "Found 1 validated image filenames.\n",
            "Found 1 validated image filenames.\n",
            "Found 1 validated image filenames.\n",
            "Found 1 validated image filenames.\n",
            "Found 1 validated image filenames.\n",
            "Found 1 validated image filenames.\n",
            "Found 1 validated image filenames.\n",
            "Found 1 validated image filenames.\n",
            "Found 1 validated image filenames.\n"
          ]
        },
        {
          "output_type": "stream",
          "name": "stderr",
          "text": [
            "\rProcessing Images:  65%|██████▍   | 3075/4752 [00:37<00:19, 85.95it/s]"
          ]
        },
        {
          "output_type": "stream",
          "name": "stdout",
          "text": [
            "Found 1 validated image filenames.\n",
            "Found 1 validated image filenames.\n",
            "Found 1 validated image filenames.\n",
            "Found 1 validated image filenames.\n",
            "Found 1 validated image filenames.\n",
            "Found 1 validated image filenames.\n",
            "Found 1 validated image filenames.\n",
            "Found 1 validated image filenames.\n",
            "Found 1 validated image filenames.\n"
          ]
        },
        {
          "output_type": "stream",
          "name": "stderr",
          "text": [
            "\rProcessing Images:  65%|██████▍   | 3084/4752 [00:37<00:19, 85.17it/s]"
          ]
        },
        {
          "output_type": "stream",
          "name": "stdout",
          "text": [
            "Found 1 validated image filenames.\n",
            "Found 1 validated image filenames.\n",
            "Found 1 validated image filenames.\n",
            "Found 1 validated image filenames.\n",
            "Found 1 validated image filenames.\n",
            "Found 1 validated image filenames.\n",
            "Found 1 validated image filenames.\n",
            "Found 1 validated image filenames.\n",
            "Found 1 validated image filenames.\n"
          ]
        },
        {
          "output_type": "stream",
          "name": "stderr",
          "text": [
            "\rProcessing Images:  65%|██████▌   | 3093/4752 [00:37<00:19, 86.15it/s]"
          ]
        },
        {
          "output_type": "stream",
          "name": "stdout",
          "text": [
            "Found 1 validated image filenames.\n",
            "Found 1 validated image filenames.\n",
            "Found 1 validated image filenames.\n",
            "Found 1 validated image filenames.\n",
            "Found 1 validated image filenames.\n",
            "Found 1 validated image filenames.\n",
            "Found 1 validated image filenames.\n",
            "Found 1 validated image filenames.\n",
            "Found 1 validated image filenames.\n"
          ]
        },
        {
          "output_type": "stream",
          "name": "stderr",
          "text": [
            "\rProcessing Images:  65%|██████▌   | 3102/4752 [00:38<00:19, 85.31it/s]"
          ]
        },
        {
          "output_type": "stream",
          "name": "stdout",
          "text": [
            "Found 1 validated image filenames.\n",
            "Found 1 validated image filenames.\n",
            "Found 1 validated image filenames.\n",
            "Found 1 validated image filenames.\n",
            "Found 1 validated image filenames.\n",
            "Found 1 validated image filenames.\n",
            "Found 1 validated image filenames.\n",
            "Found 1 validated image filenames.\n",
            "Found 1 validated image filenames.\n",
            "Found 1 validated image filenames.\n"
          ]
        },
        {
          "output_type": "stream",
          "name": "stderr",
          "text": [
            "\rProcessing Images:  65%|██████▌   | 3112/4752 [00:38<00:18, 87.74it/s]"
          ]
        },
        {
          "output_type": "stream",
          "name": "stdout",
          "text": [
            "Found 1 validated image filenames.\n",
            "Found 1 validated image filenames.\n",
            "Found 1 validated image filenames.\n",
            "Found 1 validated image filenames.\n",
            "Found 1 validated image filenames.\n",
            "Found 1 validated image filenames.\n",
            "Found 1 validated image filenames.\n",
            "Found 1 validated image filenames.\n",
            "Found 1 validated image filenames.\n",
            "Found 1 validated image filenames.\n"
          ]
        },
        {
          "output_type": "stream",
          "name": "stderr",
          "text": [
            "\rProcessing Images:  66%|██████▌   | 3122/4752 [00:38<00:18, 89.73it/s]"
          ]
        },
        {
          "output_type": "stream",
          "name": "stdout",
          "text": [
            "Found 1 validated image filenames.\n",
            "Found 1 validated image filenames.\n",
            "Found 1 validated image filenames.\n",
            "Found 1 validated image filenames.\n",
            "Found 1 validated image filenames.\n",
            "Found 1 validated image filenames.\n",
            "Found 1 validated image filenames.\n",
            "Found 1 validated image filenames.\n",
            "Found 1 validated image filenames.\n"
          ]
        },
        {
          "output_type": "stream",
          "name": "stderr",
          "text": [
            "\rProcessing Images:  66%|██████▌   | 3131/4752 [00:38<00:18, 85.65it/s]"
          ]
        },
        {
          "output_type": "stream",
          "name": "stdout",
          "text": [
            "Found 1 validated image filenames.\n",
            "Found 1 validated image filenames.\n",
            "Found 1 validated image filenames.\n",
            "Found 1 validated image filenames.\n",
            "Found 1 validated image filenames.\n",
            "Found 1 validated image filenames.\n",
            "Found 1 validated image filenames.\n",
            "Found 1 validated image filenames.\n",
            "Found 1 validated image filenames.\n"
          ]
        },
        {
          "output_type": "stream",
          "name": "stderr",
          "text": [
            "\rProcessing Images:  66%|██████▌   | 3140/4752 [00:38<00:21, 73.66it/s]"
          ]
        },
        {
          "output_type": "stream",
          "name": "stdout",
          "text": [
            "Found 1 validated image filenames.\n",
            "Found 1 validated image filenames.\n",
            "Found 1 validated image filenames.\n",
            "Found 1 validated image filenames.\n",
            "Found 1 validated image filenames.\n",
            "Found 1 validated image filenames.\n",
            "Found 1 validated image filenames.\n",
            "Found 1 validated image filenames.\n"
          ]
        },
        {
          "output_type": "stream",
          "name": "stderr",
          "text": [
            "\rProcessing Images:  66%|██████▌   | 3148/4752 [00:38<00:22, 70.53it/s]"
          ]
        },
        {
          "output_type": "stream",
          "name": "stdout",
          "text": [
            "Found 1 validated image filenames.\n",
            "Found 1 validated image filenames.\n",
            "Found 1 validated image filenames.\n",
            "Found 1 validated image filenames.\n",
            "Found 1 validated image filenames.\n",
            "Found 1 validated image filenames.\n",
            "Found 1 validated image filenames.\n",
            "Found 1 validated image filenames.\n"
          ]
        },
        {
          "output_type": "stream",
          "name": "stderr",
          "text": [
            "\rProcessing Images:  66%|██████▋   | 3156/4752 [00:38<00:22, 71.03it/s]"
          ]
        },
        {
          "output_type": "stream",
          "name": "stdout",
          "text": [
            "Found 1 validated image filenames.\n",
            "Found 1 validated image filenames.\n",
            "Found 1 validated image filenames.\n",
            "Found 1 validated image filenames.\n",
            "Found 1 validated image filenames.\n",
            "Found 1 validated image filenames.\n",
            "Found 1 validated image filenames.\n",
            "Found 1 validated image filenames.\n"
          ]
        },
        {
          "output_type": "stream",
          "name": "stderr",
          "text": [
            "\rProcessing Images:  67%|██████▋   | 3164/4752 [00:38<00:22, 71.43it/s]"
          ]
        },
        {
          "output_type": "stream",
          "name": "stdout",
          "text": [
            "Found 1 validated image filenames.\n",
            "Found 1 validated image filenames.\n",
            "Found 1 validated image filenames.\n",
            "Found 1 validated image filenames.\n",
            "Found 1 validated image filenames.\n",
            "Found 1 validated image filenames.\n",
            "Found 1 validated image filenames.\n",
            "Found 1 validated image filenames.\n",
            "Found 1 validated image filenames.\n"
          ]
        },
        {
          "output_type": "stream",
          "name": "stderr",
          "text": [
            "\rProcessing Images:  67%|██████▋   | 3173/4752 [00:38<00:21, 74.81it/s]"
          ]
        },
        {
          "output_type": "stream",
          "name": "stdout",
          "text": [
            "Found 1 validated image filenames.\n",
            "Found 1 validated image filenames.\n",
            "Found 1 validated image filenames.\n",
            "Found 1 validated image filenames.\n",
            "Found 1 validated image filenames.\n",
            "Found 1 validated image filenames.\n",
            "Found 1 validated image filenames.\n",
            "Found 1 validated image filenames.\n",
            "Found 1 validated image filenames.\n"
          ]
        },
        {
          "output_type": "stream",
          "name": "stderr",
          "text": [
            "\rProcessing Images:  67%|██████▋   | 3182/4752 [00:39<00:20, 76.54it/s]"
          ]
        },
        {
          "output_type": "stream",
          "name": "stdout",
          "text": [
            "Found 1 validated image filenames.\n",
            "Found 1 validated image filenames.\n",
            "Found 1 validated image filenames.\n",
            "Found 1 validated image filenames.\n",
            "Found 1 validated image filenames.\n",
            "Found 1 validated image filenames.\n",
            "Found 1 validated image filenames.\n",
            "Found 1 validated image filenames.\n"
          ]
        },
        {
          "output_type": "stream",
          "name": "stderr",
          "text": [
            "\rProcessing Images:  67%|██████▋   | 3190/4752 [00:39<00:20, 76.96it/s]"
          ]
        },
        {
          "output_type": "stream",
          "name": "stdout",
          "text": [
            "Found 1 validated image filenames.\n",
            "Found 1 validated image filenames.\n",
            "Found 1 validated image filenames.\n",
            "Found 1 validated image filenames.\n",
            "Found 1 validated image filenames.\n",
            "Found 1 validated image filenames.\n",
            "Found 1 validated image filenames.\n",
            "Found 1 validated image filenames.\n"
          ]
        },
        {
          "output_type": "stream",
          "name": "stderr",
          "text": [
            "\rProcessing Images:  67%|██████▋   | 3198/4752 [00:39<00:20, 74.72it/s]"
          ]
        },
        {
          "output_type": "stream",
          "name": "stdout",
          "text": [
            "Found 1 validated image filenames.\n",
            "Found 1 validated image filenames.\n",
            "Found 1 validated image filenames.\n",
            "Found 1 validated image filenames.\n",
            "Found 1 validated image filenames.\n",
            "Found 1 validated image filenames.\n",
            "Found 1 validated image filenames.\n",
            "Found 1 validated image filenames.\n",
            "Found 1 validated image filenames.\n"
          ]
        },
        {
          "output_type": "stream",
          "name": "stderr",
          "text": [
            "\rProcessing Images:  67%|██████▋   | 3207/4752 [00:39<00:19, 77.64it/s]"
          ]
        },
        {
          "output_type": "stream",
          "name": "stdout",
          "text": [
            "Found 1 validated image filenames.\n",
            "Found 1 validated image filenames.\n",
            "Found 1 validated image filenames.\n",
            "Found 1 validated image filenames.\n",
            "Found 1 validated image filenames.\n",
            "Found 1 validated image filenames.\n",
            "Found 1 validated image filenames.\n",
            "Found 1 validated image filenames.\n"
          ]
        },
        {
          "output_type": "stream",
          "name": "stderr",
          "text": [
            "\rProcessing Images:  68%|██████▊   | 3215/4752 [00:39<00:20, 76.20it/s]"
          ]
        },
        {
          "output_type": "stream",
          "name": "stdout",
          "text": [
            "Found 1 validated image filenames.\n",
            "Found 1 validated image filenames.\n",
            "Found 1 validated image filenames.\n",
            "Found 1 validated image filenames.\n",
            "Found 1 validated image filenames.\n",
            "Found 1 validated image filenames.\n",
            "Found 1 validated image filenames.\n",
            "Found 1 validated image filenames.\n"
          ]
        },
        {
          "output_type": "stream",
          "name": "stderr",
          "text": [
            "\rProcessing Images:  68%|██████▊   | 3223/4752 [00:39<00:20, 75.89it/s]"
          ]
        },
        {
          "output_type": "stream",
          "name": "stdout",
          "text": [
            "Found 1 validated image filenames.\n",
            "Found 1 validated image filenames.\n",
            "Found 1 validated image filenames.\n",
            "Found 1 validated image filenames.\n",
            "Found 1 validated image filenames.\n",
            "Found 1 validated image filenames.\n",
            "Found 1 validated image filenames.\n",
            "Found 1 validated image filenames.\n"
          ]
        },
        {
          "output_type": "stream",
          "name": "stderr",
          "text": [
            "\rProcessing Images:  68%|██████▊   | 3231/4752 [00:39<00:20, 72.69it/s]"
          ]
        },
        {
          "output_type": "stream",
          "name": "stdout",
          "text": [
            "Found 1 validated image filenames.\n",
            "Found 1 validated image filenames.\n",
            "Found 1 validated image filenames.\n",
            "Found 1 validated image filenames.\n",
            "Found 1 validated image filenames.\n",
            "Found 1 validated image filenames.\n",
            "Found 1 validated image filenames.\n",
            "Found 1 validated image filenames.\n"
          ]
        },
        {
          "output_type": "stream",
          "name": "stderr",
          "text": [
            "\rProcessing Images:  68%|██████▊   | 3239/4752 [00:39<00:20, 74.06it/s]"
          ]
        },
        {
          "output_type": "stream",
          "name": "stdout",
          "text": [
            "Found 1 validated image filenames.\n",
            "Found 1 validated image filenames.\n",
            "Found 1 validated image filenames.\n",
            "Found 1 validated image filenames.\n",
            "Found 1 validated image filenames.\n",
            "Found 1 validated image filenames.\n",
            "Found 1 validated image filenames.\n",
            "Found 1 validated image filenames.\n"
          ]
        },
        {
          "output_type": "stream",
          "name": "stderr",
          "text": [
            "\rProcessing Images:  68%|██████▊   | 3247/4752 [00:39<00:19, 75.62it/s]"
          ]
        },
        {
          "output_type": "stream",
          "name": "stdout",
          "text": [
            "Found 1 validated image filenames.\n",
            "Found 1 validated image filenames.\n",
            "Found 1 validated image filenames.\n",
            "Found 1 validated image filenames.\n",
            "Found 1 validated image filenames.\n",
            "Found 1 validated image filenames.\n",
            "Found 1 validated image filenames.\n",
            "Found 1 validated image filenames.\n"
          ]
        },
        {
          "output_type": "stream",
          "name": "stderr",
          "text": [
            "\rProcessing Images:  68%|██████▊   | 3255/4752 [00:40<00:20, 73.35it/s]"
          ]
        },
        {
          "output_type": "stream",
          "name": "stdout",
          "text": [
            "Found 1 validated image filenames.\n",
            "Found 1 validated image filenames.\n",
            "Found 1 validated image filenames.\n",
            "Found 1 validated image filenames.\n",
            "Found 1 validated image filenames.\n",
            "Found 1 validated image filenames.\n",
            "Found 1 validated image filenames.\n",
            "Found 1 validated image filenames.\n"
          ]
        },
        {
          "output_type": "stream",
          "name": "stderr",
          "text": [
            "\rProcessing Images:  69%|██████▊   | 3263/4752 [00:40<00:19, 75.19it/s]"
          ]
        },
        {
          "output_type": "stream",
          "name": "stdout",
          "text": [
            "Found 1 validated image filenames.\n",
            "Found 1 validated image filenames.\n",
            "Found 1 validated image filenames.\n",
            "Found 1 validated image filenames.\n",
            "Found 1 validated image filenames.\n",
            "Found 1 validated image filenames.\n",
            "Found 1 validated image filenames.\n",
            "Found 1 validated image filenames.\n"
          ]
        },
        {
          "output_type": "stream",
          "name": "stderr",
          "text": [
            "\rProcessing Images:  69%|██████▉   | 3271/4752 [00:40<00:19, 74.40it/s]"
          ]
        },
        {
          "output_type": "stream",
          "name": "stdout",
          "text": [
            "Found 1 validated image filenames.\n",
            "Found 1 validated image filenames.\n",
            "Found 1 validated image filenames.\n",
            "Found 1 validated image filenames.\n",
            "Found 1 validated image filenames.\n",
            "Found 1 validated image filenames.\n",
            "Found 1 validated image filenames.\n",
            "Found 1 validated image filenames.\n"
          ]
        },
        {
          "output_type": "stream",
          "name": "stderr",
          "text": [
            "\rProcessing Images:  69%|██████▉   | 3279/4752 [00:40<00:19, 73.84it/s]"
          ]
        },
        {
          "output_type": "stream",
          "name": "stdout",
          "text": [
            "Found 1 validated image filenames.\n",
            "Found 1 validated image filenames.\n",
            "Found 1 validated image filenames.\n",
            "Found 1 validated image filenames.\n",
            "Found 1 validated image filenames.\n",
            "Found 1 validated image filenames.\n",
            "Found 1 validated image filenames.\n",
            "Found 1 validated image filenames.\n",
            "Found 1 validated image filenames.\n"
          ]
        },
        {
          "output_type": "stream",
          "name": "stderr",
          "text": [
            "\rProcessing Images:  69%|██████▉   | 3288/4752 [00:40<00:19, 75.75it/s]"
          ]
        },
        {
          "output_type": "stream",
          "name": "stdout",
          "text": [
            "Found 1 validated image filenames.\n",
            "Found 1 validated image filenames.\n",
            "Found 1 validated image filenames.\n",
            "Found 1 validated image filenames.\n",
            "Found 1 validated image filenames.\n",
            "Found 1 validated image filenames.\n",
            "Found 1 validated image filenames.\n",
            "Found 1 validated image filenames.\n",
            "Found 1 validated image filenames.\n"
          ]
        },
        {
          "output_type": "stream",
          "name": "stderr",
          "text": [
            "\rProcessing Images:  69%|██████▉   | 3297/4752 [00:40<00:18, 77.43it/s]"
          ]
        },
        {
          "output_type": "stream",
          "name": "stdout",
          "text": [
            "Found 1 validated image filenames.\n",
            "Found 1 validated image filenames.\n",
            "Found 1 validated image filenames.\n",
            "Found 1 validated image filenames.\n",
            "Found 1 validated image filenames.\n",
            "Found 1 validated image filenames.\n",
            "Found 1 validated image filenames.\n",
            "Found 1 validated image filenames.\n",
            "Found 1 validated image filenames.\n"
          ]
        },
        {
          "output_type": "stream",
          "name": "stderr",
          "text": [
            "\rProcessing Images:  70%|██████▉   | 3306/4752 [00:40<00:18, 80.07it/s]"
          ]
        },
        {
          "output_type": "stream",
          "name": "stdout",
          "text": [
            "Found 1 validated image filenames.\n",
            "Found 1 validated image filenames.\n",
            "Found 1 validated image filenames.\n",
            "Found 1 validated image filenames.\n",
            "Found 1 validated image filenames.\n",
            "Found 1 validated image filenames.\n",
            "Found 1 validated image filenames.\n",
            "Found 1 validated image filenames.\n",
            "Found 1 validated image filenames.\n"
          ]
        },
        {
          "output_type": "stream",
          "name": "stderr",
          "text": [
            "\rProcessing Images:  70%|██████▉   | 3315/4752 [00:40<00:17, 82.68it/s]"
          ]
        },
        {
          "output_type": "stream",
          "name": "stdout",
          "text": [
            "Found 1 validated image filenames.\n",
            "Found 1 validated image filenames.\n",
            "Found 1 validated image filenames.\n",
            "Found 1 validated image filenames.\n",
            "Found 1 validated image filenames.\n",
            "Found 1 validated image filenames.\n",
            "Found 1 validated image filenames.\n",
            "Found 1 validated image filenames.\n",
            "Found 1 validated image filenames.\n"
          ]
        },
        {
          "output_type": "stream",
          "name": "stderr",
          "text": [
            "\rProcessing Images:  70%|██████▉   | 3324/4752 [00:40<00:17, 83.32it/s]"
          ]
        },
        {
          "output_type": "stream",
          "name": "stdout",
          "text": [
            "Found 1 validated image filenames.\n",
            "Found 1 validated image filenames.\n",
            "Found 1 validated image filenames.\n",
            "Found 1 validated image filenames.\n",
            "Found 1 validated image filenames.\n",
            "Found 1 validated image filenames.\n",
            "Found 1 validated image filenames.\n",
            "Found 1 validated image filenames.\n",
            "Found 1 validated image filenames.\n"
          ]
        },
        {
          "output_type": "stream",
          "name": "stderr",
          "text": [
            "\rProcessing Images:  70%|███████   | 3333/4752 [00:41<00:16, 83.57it/s]"
          ]
        },
        {
          "output_type": "stream",
          "name": "stdout",
          "text": [
            "Found 1 validated image filenames.\n",
            "Found 1 validated image filenames.\n",
            "Found 1 validated image filenames.\n",
            "Found 1 validated image filenames.\n",
            "Found 1 validated image filenames.\n",
            "Found 1 validated image filenames.\n",
            "Found 1 validated image filenames.\n",
            "Found 1 validated image filenames.\n",
            "Found 1 validated image filenames.\n"
          ]
        },
        {
          "output_type": "stream",
          "name": "stderr",
          "text": [
            "\rProcessing Images:  70%|███████   | 3342/4752 [00:41<00:16, 85.38it/s]"
          ]
        },
        {
          "output_type": "stream",
          "name": "stdout",
          "text": [
            "Found 1 validated image filenames.\n",
            "Found 1 validated image filenames.\n",
            "Found 1 validated image filenames.\n",
            "Found 1 validated image filenames.\n",
            "Found 1 validated image filenames.\n",
            "Found 1 validated image filenames.\n",
            "Found 1 validated image filenames.\n",
            "Found 1 validated image filenames.\n",
            "Found 1 validated image filenames.\n"
          ]
        },
        {
          "output_type": "stream",
          "name": "stderr",
          "text": [
            "\rProcessing Images:  71%|███████   | 3351/4752 [00:41<00:17, 81.79it/s]"
          ]
        },
        {
          "output_type": "stream",
          "name": "stdout",
          "text": [
            "Found 1 validated image filenames.\n",
            "Found 1 validated image filenames.\n",
            "Found 1 validated image filenames.\n",
            "Found 1 validated image filenames.\n",
            "Found 1 validated image filenames.\n",
            "Found 1 validated image filenames.\n",
            "Found 1 validated image filenames.\n",
            "Found 1 validated image filenames.\n",
            "Found 1 validated image filenames.\n"
          ]
        },
        {
          "output_type": "stream",
          "name": "stderr",
          "text": [
            "\rProcessing Images:  71%|███████   | 3360/4752 [00:41<00:17, 78.30it/s]"
          ]
        },
        {
          "output_type": "stream",
          "name": "stdout",
          "text": [
            "Found 1 validated image filenames.\n",
            "Found 1 validated image filenames.\n",
            "Found 1 validated image filenames.\n",
            "Found 1 validated image filenames.\n",
            "Found 1 validated image filenames.\n",
            "Found 1 validated image filenames.\n",
            "Found 1 validated image filenames.\n",
            "Found 1 validated image filenames.\n"
          ]
        },
        {
          "output_type": "stream",
          "name": "stderr",
          "text": [
            "\rProcessing Images:  71%|███████   | 3368/4752 [00:41<00:19, 70.57it/s]"
          ]
        },
        {
          "output_type": "stream",
          "name": "stdout",
          "text": [
            "Found 1 validated image filenames.\n",
            "Found 1 validated image filenames.\n",
            "Found 1 validated image filenames.\n",
            "Found 1 validated image filenames.\n",
            "Found 1 validated image filenames.\n",
            "Found 1 validated image filenames.\n",
            "Found 1 validated image filenames.\n",
            "Found 1 validated image filenames.\n"
          ]
        },
        {
          "output_type": "stream",
          "name": "stderr",
          "text": [
            "\rProcessing Images:  71%|███████   | 3376/4752 [00:41<00:19, 71.18it/s]"
          ]
        },
        {
          "output_type": "stream",
          "name": "stdout",
          "text": [
            "Found 1 validated image filenames.\n",
            "Found 1 validated image filenames.\n",
            "Found 1 validated image filenames.\n",
            "Found 1 validated image filenames.\n",
            "Found 1 validated image filenames.\n",
            "Found 1 validated image filenames.\n",
            "Found 1 validated image filenames.\n",
            "Found 1 validated image filenames.\n",
            "Found 1 validated image filenames.\n"
          ]
        },
        {
          "output_type": "stream",
          "name": "stderr",
          "text": [
            "\rProcessing Images:  71%|███████   | 3385/4752 [00:41<00:18, 74.42it/s]"
          ]
        },
        {
          "output_type": "stream",
          "name": "stdout",
          "text": [
            "Found 1 validated image filenames.\n",
            "Found 1 validated image filenames.\n",
            "Found 1 validated image filenames.\n",
            "Found 1 validated image filenames.\n",
            "Found 1 validated image filenames.\n",
            "Found 1 validated image filenames.\n",
            "Found 1 validated image filenames.\n",
            "Found 1 validated image filenames.\n",
            "Found 1 validated image filenames.\n"
          ]
        },
        {
          "output_type": "stream",
          "name": "stderr",
          "text": [
            "\rProcessing Images:  71%|███████▏  | 3394/4752 [00:41<00:17, 76.58it/s]"
          ]
        },
        {
          "output_type": "stream",
          "name": "stdout",
          "text": [
            "Found 1 validated image filenames.\n",
            "Found 1 validated image filenames.\n",
            "Found 1 validated image filenames.\n",
            "Found 1 validated image filenames.\n",
            "Found 1 validated image filenames.\n",
            "Found 1 validated image filenames.\n",
            "Found 1 validated image filenames.\n",
            "Found 1 validated image filenames.\n",
            "Found 1 validated image filenames.\n"
          ]
        },
        {
          "output_type": "stream",
          "name": "stderr",
          "text": [
            "\rProcessing Images:  72%|███████▏  | 3403/4752 [00:41<00:16, 79.91it/s]"
          ]
        },
        {
          "output_type": "stream",
          "name": "stdout",
          "text": [
            "Found 1 validated image filenames.\n",
            "Found 1 validated image filenames.\n",
            "Found 1 validated image filenames.\n",
            "Found 1 validated image filenames.\n",
            "Found 1 validated image filenames.\n",
            "Found 1 validated image filenames.\n",
            "Found 1 validated image filenames.\n",
            "Found 1 validated image filenames.\n",
            "Found 1 validated image filenames.\n",
            "Found 1 validated image filenames.\n"
          ]
        },
        {
          "output_type": "stream",
          "name": "stderr",
          "text": [
            "\rProcessing Images:  72%|███████▏  | 3413/4752 [00:42<00:15, 84.83it/s]"
          ]
        },
        {
          "output_type": "stream",
          "name": "stdout",
          "text": [
            "Found 1 validated image filenames.\n",
            "Found 1 validated image filenames.\n",
            "Found 1 validated image filenames.\n",
            "Found 1 validated image filenames.\n",
            "Found 1 validated image filenames.\n",
            "Found 1 validated image filenames.\n",
            "Found 1 validated image filenames.\n",
            "Found 1 validated image filenames.\n",
            "Found 1 validated image filenames.\n",
            "Found 1 validated image filenames.\n"
          ]
        },
        {
          "output_type": "stream",
          "name": "stderr",
          "text": [
            "\rProcessing Images:  72%|███████▏  | 3423/4752 [00:42<00:15, 87.54it/s]"
          ]
        },
        {
          "output_type": "stream",
          "name": "stdout",
          "text": [
            "Found 1 validated image filenames.\n",
            "Found 1 validated image filenames.\n",
            "Found 1 validated image filenames.\n",
            "Found 1 validated image filenames.\n",
            "Found 1 validated image filenames.\n",
            "Found 1 validated image filenames.\n",
            "Found 1 validated image filenames.\n",
            "Found 1 validated image filenames.\n",
            "Found 1 validated image filenames.\n"
          ]
        },
        {
          "output_type": "stream",
          "name": "stderr",
          "text": [
            "\rProcessing Images:  72%|███████▏  | 3432/4752 [00:42<00:15, 87.59it/s]"
          ]
        },
        {
          "output_type": "stream",
          "name": "stdout",
          "text": [
            "Found 1 validated image filenames.\n",
            "Found 1 validated image filenames.\n",
            "Found 1 validated image filenames.\n",
            "Found 1 validated image filenames.\n",
            "Found 1 validated image filenames.\n",
            "Found 1 validated image filenames.\n",
            "Found 1 validated image filenames.\n",
            "Found 1 validated image filenames.\n",
            "Found 1 validated image filenames.\n",
            "Found 1 validated image filenames.\n"
          ]
        },
        {
          "output_type": "stream",
          "name": "stderr",
          "text": [
            "\rProcessing Images:  72%|███████▏  | 3442/4752 [00:42<00:14, 87.83it/s]"
          ]
        },
        {
          "output_type": "stream",
          "name": "stdout",
          "text": [
            "Found 1 validated image filenames.\n",
            "Found 1 validated image filenames.\n",
            "Found 1 validated image filenames.\n",
            "Found 1 validated image filenames.\n",
            "Found 1 validated image filenames.\n",
            "Found 1 validated image filenames.\n",
            "Found 1 validated image filenames.\n",
            "Found 1 validated image filenames.\n",
            "Found 1 validated image filenames.\n"
          ]
        },
        {
          "output_type": "stream",
          "name": "stderr",
          "text": [
            "\rProcessing Images:  73%|███████▎  | 3451/4752 [00:42<00:17, 73.67it/s]"
          ]
        },
        {
          "output_type": "stream",
          "name": "stdout",
          "text": [
            "Found 1 validated image filenames.\n",
            "Found 1 validated image filenames.\n",
            "Found 1 validated image filenames.\n",
            "Found 1 validated image filenames.\n",
            "Found 1 validated image filenames.\n",
            "Found 1 validated image filenames.\n",
            "Found 1 validated image filenames.\n",
            "Found 1 validated image filenames.\n"
          ]
        },
        {
          "output_type": "stream",
          "name": "stderr",
          "text": [
            "\rProcessing Images:  73%|███████▎  | 3459/4752 [00:42<00:18, 69.84it/s]"
          ]
        },
        {
          "output_type": "stream",
          "name": "stdout",
          "text": [
            "Found 1 validated image filenames.\n",
            "Found 1 validated image filenames.\n",
            "Found 1 validated image filenames.\n",
            "Found 1 validated image filenames.\n",
            "Found 1 validated image filenames.\n",
            "Found 1 validated image filenames.\n",
            "Found 1 validated image filenames.\n",
            "Found 1 validated image filenames.\n"
          ]
        },
        {
          "output_type": "stream",
          "name": "stderr",
          "text": [
            "\rProcessing Images:  73%|███████▎  | 3467/4752 [00:42<00:17, 72.16it/s]"
          ]
        },
        {
          "output_type": "stream",
          "name": "stdout",
          "text": [
            "Found 1 validated image filenames.\n",
            "Found 1 validated image filenames.\n",
            "Found 1 validated image filenames.\n",
            "Found 1 validated image filenames.\n",
            "Found 1 validated image filenames.\n",
            "Found 1 validated image filenames.\n",
            "Found 1 validated image filenames.\n",
            "Found 1 validated image filenames.\n"
          ]
        },
        {
          "output_type": "stream",
          "name": "stderr",
          "text": [
            "\rProcessing Images:  73%|███████▎  | 3475/4752 [00:42<00:17, 72.97it/s]"
          ]
        },
        {
          "output_type": "stream",
          "name": "stdout",
          "text": [
            "Found 1 validated image filenames.\n",
            "Found 1 validated image filenames.\n",
            "Found 1 validated image filenames.\n",
            "Found 1 validated image filenames.\n",
            "Found 1 validated image filenames.\n",
            "Found 1 validated image filenames.\n",
            "Found 1 validated image filenames.\n",
            "Found 1 validated image filenames.\n",
            "Found 1 validated image filenames.\n"
          ]
        },
        {
          "output_type": "stream",
          "name": "stderr",
          "text": [
            "\rProcessing Images:  73%|███████▎  | 3484/4752 [00:43<00:16, 76.61it/s]"
          ]
        },
        {
          "output_type": "stream",
          "name": "stdout",
          "text": [
            "Found 1 validated image filenames.\n",
            "Found 1 validated image filenames.\n",
            "Found 1 validated image filenames.\n",
            "Found 1 validated image filenames.\n",
            "Found 1 validated image filenames.\n",
            "Found 1 validated image filenames.\n",
            "Found 1 validated image filenames.\n",
            "Found 1 validated image filenames.\n",
            "Found 1 validated image filenames.\n",
            "Found 1 validated image filenames.\n"
          ]
        },
        {
          "output_type": "stream",
          "name": "stderr",
          "text": [
            "\rProcessing Images:  74%|███████▎  | 3494/4752 [00:43<00:15, 81.25it/s]"
          ]
        },
        {
          "output_type": "stream",
          "name": "stdout",
          "text": [
            "Found 1 validated image filenames.\n",
            "Found 1 validated image filenames.\n",
            "Found 1 validated image filenames.\n",
            "Found 1 validated image filenames.\n",
            "Found 1 validated image filenames.\n",
            "Found 1 validated image filenames.\n",
            "Found 1 validated image filenames.\n",
            "Found 1 validated image filenames.\n",
            "Found 1 validated image filenames.\n"
          ]
        },
        {
          "output_type": "stream",
          "name": "stderr",
          "text": [
            "\rProcessing Images:  74%|███████▎  | 3503/4752 [00:43<00:15, 82.36it/s]"
          ]
        },
        {
          "output_type": "stream",
          "name": "stdout",
          "text": [
            "Found 1 validated image filenames.\n",
            "Found 1 validated image filenames.\n",
            "Found 1 validated image filenames.\n",
            "Found 1 validated image filenames.\n",
            "Found 1 validated image filenames.\n",
            "Found 1 validated image filenames.\n",
            "Found 1 validated image filenames.\n",
            "Found 1 validated image filenames.\n",
            "Found 1 validated image filenames.\n"
          ]
        },
        {
          "output_type": "stream",
          "name": "stderr",
          "text": [
            "\rProcessing Images:  74%|███████▍  | 3512/4752 [00:43<00:15, 80.62it/s]"
          ]
        },
        {
          "output_type": "stream",
          "name": "stdout",
          "text": [
            "Found 1 validated image filenames.\n",
            "Found 1 validated image filenames.\n",
            "Found 1 validated image filenames.\n",
            "Found 1 validated image filenames.\n",
            "Found 1 validated image filenames.\n",
            "Found 1 validated image filenames.\n",
            "Found 1 validated image filenames.\n",
            "Found 1 validated image filenames.\n",
            "Found 1 validated image filenames.\n"
          ]
        },
        {
          "output_type": "stream",
          "name": "stderr",
          "text": [
            "\rProcessing Images:  74%|███████▍  | 3521/4752 [00:43<00:15, 81.77it/s]"
          ]
        },
        {
          "output_type": "stream",
          "name": "stdout",
          "text": [
            "Found 1 validated image filenames.\n",
            "Found 1 validated image filenames.\n",
            "Found 1 validated image filenames.\n",
            "Found 1 validated image filenames.\n",
            "Found 1 validated image filenames.\n",
            "Found 1 validated image filenames.\n",
            "Found 1 validated image filenames.\n",
            "Found 1 validated image filenames.\n",
            "Found 1 validated image filenames.\n",
            "Found 1 validated image filenames.\n"
          ]
        },
        {
          "output_type": "stream",
          "name": "stderr",
          "text": [
            "\rProcessing Images:  74%|███████▍  | 3531/4752 [00:43<00:14, 86.68it/s]"
          ]
        },
        {
          "output_type": "stream",
          "name": "stdout",
          "text": [
            "Found 1 validated image filenames.\n",
            "Found 1 validated image filenames.\n",
            "Found 1 validated image filenames.\n",
            "Found 1 validated image filenames.\n",
            "Found 1 validated image filenames.\n",
            "Found 1 validated image filenames.\n",
            "Found 1 validated image filenames.\n",
            "Found 1 validated image filenames.\n",
            "Found 1 validated image filenames.\n"
          ]
        },
        {
          "output_type": "stream",
          "name": "stderr",
          "text": [
            "\rProcessing Images:  74%|███████▍  | 3540/4752 [00:43<00:13, 86.88it/s]"
          ]
        },
        {
          "output_type": "stream",
          "name": "stdout",
          "text": [
            "Found 1 validated image filenames.\n",
            "Found 1 validated image filenames.\n",
            "Found 1 validated image filenames.\n",
            "Found 1 validated image filenames.\n",
            "Found 1 validated image filenames.\n",
            "Found 1 validated image filenames.\n",
            "Found 1 validated image filenames.\n",
            "Found 1 validated image filenames.\n",
            "Found 1 validated image filenames.\n"
          ]
        },
        {
          "output_type": "stream",
          "name": "stderr",
          "text": [
            "\rProcessing Images:  75%|███████▍  | 3549/4752 [00:43<00:13, 86.94it/s]"
          ]
        },
        {
          "output_type": "stream",
          "name": "stdout",
          "text": [
            "Found 1 validated image filenames.\n",
            "Found 1 validated image filenames.\n",
            "Found 1 validated image filenames.\n",
            "Found 1 validated image filenames.\n",
            "Found 1 validated image filenames.\n",
            "Found 1 validated image filenames.\n",
            "Found 1 validated image filenames.\n",
            "Found 1 validated image filenames.\n",
            "Found 1 validated image filenames.\n",
            "Found 1 validated image filenames.\n"
          ]
        },
        {
          "output_type": "stream",
          "name": "stderr",
          "text": [
            "\rProcessing Images:  75%|███████▍  | 3559/4752 [00:43<00:13, 89.60it/s]"
          ]
        },
        {
          "output_type": "stream",
          "name": "stdout",
          "text": [
            "Found 1 validated image filenames.\n",
            "Found 1 validated image filenames.\n",
            "Found 1 validated image filenames.\n",
            "Found 1 validated image filenames.\n",
            "Found 1 validated image filenames.\n",
            "Found 1 validated image filenames.\n",
            "Found 1 validated image filenames.\n",
            "Found 1 validated image filenames.\n",
            "Found 1 validated image filenames.\n",
            "Found 1 validated image filenames.\n",
            "Found 1 validated image filenames.\n"
          ]
        },
        {
          "output_type": "stream",
          "name": "stderr",
          "text": [
            "\rProcessing Images:  75%|███████▌  | 3570/4752 [00:43<00:12, 92.98it/s]"
          ]
        },
        {
          "output_type": "stream",
          "name": "stdout",
          "text": [
            "Found 1 validated image filenames.\n",
            "Found 1 validated image filenames.\n",
            "Found 1 validated image filenames.\n",
            "Found 1 validated image filenames.\n",
            "Found 1 validated image filenames.\n",
            "Found 1 validated image filenames.\n",
            "Found 1 validated image filenames.\n",
            "Found 1 validated image filenames.\n",
            "Found 1 validated image filenames.\n",
            "Found 1 validated image filenames.\n"
          ]
        },
        {
          "output_type": "stream",
          "name": "stderr",
          "text": [
            "\rProcessing Images:  75%|███████▌  | 3580/4752 [00:44<00:12, 92.88it/s]"
          ]
        },
        {
          "output_type": "stream",
          "name": "stdout",
          "text": [
            "Found 1 validated image filenames.\n",
            "Found 1 validated image filenames.\n",
            "Found 1 validated image filenames.\n",
            "Found 1 validated image filenames.\n",
            "Found 1 validated image filenames.\n",
            "Found 1 validated image filenames.\n",
            "Found 1 validated image filenames.\n",
            "Found 1 validated image filenames.\n",
            "Found 1 validated image filenames.\n",
            "Found 1 validated image filenames.\n"
          ]
        },
        {
          "output_type": "stream",
          "name": "stderr",
          "text": [
            "\rProcessing Images:  76%|███████▌  | 3590/4752 [00:44<00:13, 89.33it/s]"
          ]
        },
        {
          "output_type": "stream",
          "name": "stdout",
          "text": [
            "Found 1 validated image filenames.\n",
            "Found 1 validated image filenames.\n",
            "Found 1 validated image filenames.\n",
            "Found 1 validated image filenames.\n",
            "Found 1 validated image filenames.\n",
            "Found 1 validated image filenames.\n",
            "Found 1 validated image filenames.\n",
            "Found 1 validated image filenames.\n",
            "Found 1 validated image filenames.\n"
          ]
        },
        {
          "output_type": "stream",
          "name": "stderr",
          "text": [
            "\rProcessing Images:  76%|███████▌  | 3599/4752 [00:44<00:13, 84.81it/s]"
          ]
        },
        {
          "output_type": "stream",
          "name": "stdout",
          "text": [
            "Found 1 validated image filenames.\n",
            "Found 1 validated image filenames.\n",
            "Found 1 validated image filenames.\n",
            "Found 1 validated image filenames.\n",
            "Found 1 validated image filenames.\n",
            "Found 1 validated image filenames.\n",
            "Found 1 validated image filenames.\n",
            "Found 1 validated image filenames.\n",
            "Found 1 validated image filenames.\n"
          ]
        },
        {
          "output_type": "stream",
          "name": "stderr",
          "text": [
            "\rProcessing Images:  76%|███████▌  | 3608/4752 [00:44<00:13, 82.68it/s]"
          ]
        },
        {
          "output_type": "stream",
          "name": "stdout",
          "text": [
            "Found 1 validated image filenames.\n",
            "Found 1 validated image filenames.\n",
            "Found 1 validated image filenames.\n",
            "Found 1 validated image filenames.\n",
            "Found 1 validated image filenames.\n",
            "Found 1 validated image filenames.\n",
            "Found 1 validated image filenames.\n",
            "Found 1 validated image filenames.\n",
            "Found 1 validated image filenames.\n"
          ]
        },
        {
          "output_type": "stream",
          "name": "stderr",
          "text": [
            "\rProcessing Images:  76%|███████▌  | 3617/4752 [00:44<00:13, 81.54it/s]"
          ]
        },
        {
          "output_type": "stream",
          "name": "stdout",
          "text": [
            "Found 1 validated image filenames.\n",
            "Found 1 validated image filenames.\n",
            "Found 1 validated image filenames.\n",
            "Found 1 validated image filenames.\n",
            "Found 1 validated image filenames.\n",
            "Found 1 validated image filenames.\n",
            "Found 1 validated image filenames.\n",
            "Found 1 validated image filenames.\n",
            "Found 1 validated image filenames.\n"
          ]
        },
        {
          "output_type": "stream",
          "name": "stderr",
          "text": [
            "\rProcessing Images:  76%|███████▋  | 3626/4752 [00:44<00:13, 83.13it/s]"
          ]
        },
        {
          "output_type": "stream",
          "name": "stdout",
          "text": [
            "Found 1 validated image filenames.\n",
            "Found 1 validated image filenames.\n",
            "Found 1 validated image filenames.\n",
            "Found 1 validated image filenames.\n",
            "Found 1 validated image filenames.\n",
            "Found 1 validated image filenames.\n",
            "Found 1 validated image filenames.\n",
            "Found 1 validated image filenames.\n",
            "Found 1 validated image filenames.\n"
          ]
        },
        {
          "output_type": "stream",
          "name": "stderr",
          "text": [
            "\rProcessing Images:  76%|███████▋  | 3635/4752 [00:44<00:13, 80.39it/s]"
          ]
        },
        {
          "output_type": "stream",
          "name": "stdout",
          "text": [
            "Found 1 validated image filenames.\n",
            "Found 1 validated image filenames.\n",
            "Found 1 validated image filenames.\n",
            "Found 1 validated image filenames.\n",
            "Found 1 validated image filenames.\n",
            "Found 1 validated image filenames.\n",
            "Found 1 validated image filenames.\n",
            "Found 1 validated image filenames.\n",
            "Found 1 validated image filenames.\n"
          ]
        },
        {
          "output_type": "stream",
          "name": "stderr",
          "text": [
            "\rProcessing Images:  77%|███████▋  | 3644/4752 [00:44<00:15, 72.37it/s]"
          ]
        },
        {
          "output_type": "stream",
          "name": "stdout",
          "text": [
            "Found 1 validated image filenames.\n",
            "Found 1 validated image filenames.\n",
            "Found 1 validated image filenames.\n",
            "Found 1 validated image filenames.\n",
            "Found 1 validated image filenames.\n",
            "Found 1 validated image filenames.\n",
            "Found 1 validated image filenames.\n",
            "Found 1 validated image filenames.\n",
            "Found 1 validated image filenames.\n"
          ]
        },
        {
          "output_type": "stream",
          "name": "stderr",
          "text": [
            "\rProcessing Images:  77%|███████▋  | 3653/4752 [00:45<00:14, 76.80it/s]"
          ]
        },
        {
          "output_type": "stream",
          "name": "stdout",
          "text": [
            "Found 1 validated image filenames.\n",
            "Found 1 validated image filenames.\n",
            "Found 1 validated image filenames.\n",
            "Found 1 validated image filenames.\n",
            "Found 1 validated image filenames.\n",
            "Found 1 validated image filenames.\n",
            "Found 1 validated image filenames.\n",
            "Found 1 validated image filenames.\n",
            "Found 1 validated image filenames.\n",
            "Found 1 validated image filenames.\n"
          ]
        },
        {
          "output_type": "stream",
          "name": "stderr",
          "text": [
            "\rProcessing Images:  77%|███████▋  | 3663/4752 [00:45<00:13, 81.20it/s]"
          ]
        },
        {
          "output_type": "stream",
          "name": "stdout",
          "text": [
            "Found 1 validated image filenames.\n",
            "Found 1 validated image filenames.\n",
            "Found 1 validated image filenames.\n",
            "Found 1 validated image filenames.\n",
            "Found 1 validated image filenames.\n",
            "Found 1 validated image filenames.\n",
            "Found 1 validated image filenames.\n",
            "Found 1 validated image filenames.\n",
            "Found 1 validated image filenames.\n"
          ]
        },
        {
          "output_type": "stream",
          "name": "stderr",
          "text": [
            "\rProcessing Images:  77%|███████▋  | 3672/4752 [00:45<00:13, 82.70it/s]"
          ]
        },
        {
          "output_type": "stream",
          "name": "stdout",
          "text": [
            "Found 1 validated image filenames.\n",
            "Found 1 validated image filenames.\n",
            "Found 1 validated image filenames.\n",
            "Found 1 validated image filenames.\n",
            "Found 1 validated image filenames.\n",
            "Found 1 validated image filenames.\n",
            "Found 1 validated image filenames.\n",
            "Found 1 validated image filenames.\n",
            "Found 1 validated image filenames.\n"
          ]
        },
        {
          "output_type": "stream",
          "name": "stderr",
          "text": [
            "\rProcessing Images:  77%|███████▋  | 3681/4752 [00:45<00:13, 79.64it/s]"
          ]
        },
        {
          "output_type": "stream",
          "name": "stdout",
          "text": [
            "Found 1 validated image filenames.\n",
            "Found 1 validated image filenames.\n",
            "Found 1 validated image filenames.\n",
            "Found 1 validated image filenames.\n",
            "Found 1 validated image filenames.\n",
            "Found 1 validated image filenames.\n",
            "Found 1 validated image filenames.\n",
            "Found 1 validated image filenames.\n",
            "Found 1 validated image filenames.\n"
          ]
        },
        {
          "output_type": "stream",
          "name": "stderr",
          "text": [
            "\rProcessing Images:  78%|███████▊  | 3690/4752 [00:45<00:12, 82.34it/s]"
          ]
        },
        {
          "output_type": "stream",
          "name": "stdout",
          "text": [
            "Found 1 validated image filenames.\n",
            "Found 1 validated image filenames.\n",
            "Found 1 validated image filenames.\n",
            "Found 1 validated image filenames.\n",
            "Found 1 validated image filenames.\n",
            "Found 1 validated image filenames.\n",
            "Found 1 validated image filenames.\n",
            "Found 1 validated image filenames.\n",
            "Found 1 validated image filenames.\n"
          ]
        },
        {
          "output_type": "stream",
          "name": "stderr",
          "text": [
            "\rProcessing Images:  78%|███████▊  | 3699/4752 [00:45<00:12, 82.28it/s]"
          ]
        },
        {
          "output_type": "stream",
          "name": "stdout",
          "text": [
            "Found 1 validated image filenames.\n",
            "Found 1 validated image filenames.\n",
            "Found 1 validated image filenames.\n",
            "Found 1 validated image filenames.\n",
            "Found 1 validated image filenames.\n",
            "Found 1 validated image filenames.\n",
            "Found 1 validated image filenames.\n",
            "Found 1 validated image filenames.\n",
            "Found 1 validated image filenames.\n"
          ]
        },
        {
          "output_type": "stream",
          "name": "stderr",
          "text": [
            "\rProcessing Images:  78%|███████▊  | 3708/4752 [00:45<00:13, 79.54it/s]"
          ]
        },
        {
          "output_type": "stream",
          "name": "stdout",
          "text": [
            "Found 1 validated image filenames.\n",
            "Found 1 validated image filenames.\n",
            "Found 1 validated image filenames.\n",
            "Found 1 validated image filenames.\n",
            "Found 1 validated image filenames.\n",
            "Found 1 validated image filenames.\n",
            "Found 1 validated image filenames.\n",
            "Found 1 validated image filenames.\n",
            "Found 1 validated image filenames.\n"
          ]
        },
        {
          "output_type": "stream",
          "name": "stderr",
          "text": [
            "\rProcessing Images:  78%|███████▊  | 3717/4752 [00:45<00:13, 79.45it/s]"
          ]
        },
        {
          "output_type": "stream",
          "name": "stdout",
          "text": [
            "Found 1 validated image filenames.\n",
            "Found 1 validated image filenames.\n",
            "Found 1 validated image filenames.\n",
            "Found 1 validated image filenames.\n",
            "Found 1 validated image filenames.\n",
            "Found 1 validated image filenames.\n",
            "Found 1 validated image filenames.\n",
            "Found 1 validated image filenames.\n",
            "Found 1 validated image filenames.\n"
          ]
        },
        {
          "output_type": "stream",
          "name": "stderr",
          "text": [
            "\rProcessing Images:  78%|███████▊  | 3726/4752 [00:45<00:12, 81.99it/s]"
          ]
        },
        {
          "output_type": "stream",
          "name": "stdout",
          "text": [
            "Found 1 validated image filenames.\n",
            "Found 1 validated image filenames.\n",
            "Found 1 validated image filenames.\n",
            "Found 1 validated image filenames.\n",
            "Found 1 validated image filenames.\n",
            "Found 1 validated image filenames.\n",
            "Found 1 validated image filenames.\n",
            "Found 1 validated image filenames.\n",
            "Found 1 validated image filenames.\n"
          ]
        },
        {
          "output_type": "stream",
          "name": "stderr",
          "text": [
            "\rProcessing Images:  79%|███████▊  | 3735/4752 [00:46<00:12, 80.50it/s]"
          ]
        },
        {
          "output_type": "stream",
          "name": "stdout",
          "text": [
            "Found 1 validated image filenames.\n",
            "Found 1 validated image filenames.\n",
            "Found 1 validated image filenames.\n",
            "Found 1 validated image filenames.\n",
            "Found 1 validated image filenames.\n",
            "Found 1 validated image filenames.\n",
            "Found 1 validated image filenames.\n",
            "Found 1 validated image filenames.\n",
            "Found 1 validated image filenames.\n"
          ]
        },
        {
          "output_type": "stream",
          "name": "stderr",
          "text": [
            "\rProcessing Images:  79%|███████▉  | 3744/4752 [00:46<00:12, 81.12it/s]"
          ]
        },
        {
          "output_type": "stream",
          "name": "stdout",
          "text": [
            "Found 1 validated image filenames.\n",
            "Found 1 validated image filenames.\n",
            "Found 1 validated image filenames.\n",
            "Found 1 validated image filenames.\n",
            "Found 1 validated image filenames.\n",
            "Found 1 validated image filenames.\n",
            "Found 1 validated image filenames.\n",
            "Found 1 validated image filenames.\n",
            "Found 1 validated image filenames.\n"
          ]
        },
        {
          "output_type": "stream",
          "name": "stderr",
          "text": [
            "\rProcessing Images:  79%|███████▉  | 3753/4752 [00:46<00:12, 82.23it/s]"
          ]
        },
        {
          "output_type": "stream",
          "name": "stdout",
          "text": [
            "Found 1 validated image filenames.\n",
            "Found 1 validated image filenames.\n",
            "Found 1 validated image filenames.\n",
            "Found 1 validated image filenames.\n",
            "Found 1 validated image filenames.\n",
            "Found 1 validated image filenames.\n",
            "Found 1 validated image filenames.\n",
            "Found 1 validated image filenames.\n",
            "Found 1 validated image filenames.\n"
          ]
        },
        {
          "output_type": "stream",
          "name": "stderr",
          "text": [
            "\rProcessing Images:  79%|███████▉  | 3762/4752 [00:46<00:12, 80.85it/s]"
          ]
        },
        {
          "output_type": "stream",
          "name": "stdout",
          "text": [
            "Found 1 validated image filenames.\n",
            "Found 1 validated image filenames.\n",
            "Found 1 validated image filenames.\n",
            "Found 1 validated image filenames.\n",
            "Found 1 validated image filenames.\n",
            "Found 1 validated image filenames.\n",
            "Found 1 validated image filenames.\n",
            "Found 1 validated image filenames.\n",
            "Found 1 validated image filenames.\n"
          ]
        },
        {
          "output_type": "stream",
          "name": "stderr",
          "text": [
            "\rProcessing Images:  79%|███████▉  | 3771/4752 [00:46<00:12, 79.62it/s]"
          ]
        },
        {
          "output_type": "stream",
          "name": "stdout",
          "text": [
            "Found 1 validated image filenames.\n",
            "Found 1 validated image filenames.\n",
            "Found 1 validated image filenames.\n",
            "Found 1 validated image filenames.\n",
            "Found 1 validated image filenames.\n",
            "Found 1 validated image filenames.\n",
            "Found 1 validated image filenames.\n",
            "Found 1 validated image filenames.\n",
            "Found 1 validated image filenames.\n"
          ]
        },
        {
          "output_type": "stream",
          "name": "stderr",
          "text": [
            "\rProcessing Images:  80%|███████▉  | 3780/4752 [00:46<00:12, 80.98it/s]"
          ]
        },
        {
          "output_type": "stream",
          "name": "stdout",
          "text": [
            "Found 1 validated image filenames.\n",
            "Found 1 validated image filenames.\n",
            "Found 1 validated image filenames.\n",
            "Found 1 validated image filenames.\n",
            "Found 1 validated image filenames.\n",
            "Found 1 validated image filenames.\n",
            "Found 1 validated image filenames.\n",
            "Found 1 validated image filenames.\n",
            "Found 1 validated image filenames.\n"
          ]
        },
        {
          "output_type": "stream",
          "name": "stderr",
          "text": [
            "\rProcessing Images:  80%|███████▉  | 3789/4752 [00:46<00:11, 83.11it/s]"
          ]
        },
        {
          "output_type": "stream",
          "name": "stdout",
          "text": [
            "Found 1 validated image filenames.\n",
            "Found 1 validated image filenames.\n",
            "Found 1 validated image filenames.\n",
            "Found 1 validated image filenames.\n",
            "Found 1 validated image filenames.\n",
            "Found 1 validated image filenames.\n",
            "Found 1 validated image filenames.\n",
            "Found 1 validated image filenames.\n",
            "Found 1 validated image filenames.\n"
          ]
        },
        {
          "output_type": "stream",
          "name": "stderr",
          "text": [
            "\rProcessing Images:  80%|███████▉  | 3798/4752 [00:46<00:11, 82.35it/s]"
          ]
        },
        {
          "output_type": "stream",
          "name": "stdout",
          "text": [
            "Found 1 validated image filenames.\n",
            "Found 1 validated image filenames.\n",
            "Found 1 validated image filenames.\n",
            "Found 1 validated image filenames.\n",
            "Found 1 validated image filenames.\n",
            "Found 1 validated image filenames.\n",
            "Found 1 validated image filenames.\n",
            "Found 1 validated image filenames.\n",
            "Found 1 validated image filenames.\n"
          ]
        },
        {
          "output_type": "stream",
          "name": "stderr",
          "text": [
            "\rProcessing Images:  80%|████████  | 3807/4752 [00:46<00:11, 83.13it/s]"
          ]
        },
        {
          "output_type": "stream",
          "name": "stdout",
          "text": [
            "Found 1 validated image filenames.\n",
            "Found 1 validated image filenames.\n",
            "Found 1 validated image filenames.\n",
            "Found 1 validated image filenames.\n",
            "Found 1 validated image filenames.\n",
            "Found 1 validated image filenames.\n",
            "Found 1 validated image filenames.\n",
            "Found 1 validated image filenames.\n",
            "Found 1 validated image filenames.\n"
          ]
        },
        {
          "output_type": "stream",
          "name": "stderr",
          "text": [
            "\rProcessing Images:  80%|████████  | 3816/4752 [00:47<00:11, 83.49it/s]"
          ]
        },
        {
          "output_type": "stream",
          "name": "stdout",
          "text": [
            "Found 1 validated image filenames.\n",
            "Found 1 validated image filenames.\n",
            "Found 1 validated image filenames.\n",
            "Found 1 validated image filenames.\n",
            "Found 1 validated image filenames.\n",
            "Found 1 validated image filenames.\n",
            "Found 1 validated image filenames.\n",
            "Found 1 validated image filenames.\n",
            "Found 1 validated image filenames.\n"
          ]
        },
        {
          "output_type": "stream",
          "name": "stderr",
          "text": [
            "\rProcessing Images:  80%|████████  | 3825/4752 [00:47<00:11, 82.70it/s]"
          ]
        },
        {
          "output_type": "stream",
          "name": "stdout",
          "text": [
            "Found 1 validated image filenames.\n",
            "Found 1 validated image filenames.\n",
            "Found 1 validated image filenames.\n",
            "Found 1 validated image filenames.\n",
            "Found 1 validated image filenames.\n",
            "Found 1 validated image filenames.\n",
            "Found 1 validated image filenames.\n",
            "Found 1 validated image filenames.\n",
            "Found 1 validated image filenames.\n"
          ]
        },
        {
          "output_type": "stream",
          "name": "stderr",
          "text": [
            "\rProcessing Images:  81%|████████  | 3834/4752 [00:47<00:11, 81.12it/s]"
          ]
        },
        {
          "output_type": "stream",
          "name": "stdout",
          "text": [
            "Found 1 validated image filenames.\n",
            "Found 1 validated image filenames.\n",
            "Found 1 validated image filenames.\n",
            "Found 1 validated image filenames.\n",
            "Found 1 validated image filenames.\n",
            "Found 1 validated image filenames.\n",
            "Found 1 validated image filenames.\n",
            "Found 1 validated image filenames.\n",
            "Found 1 validated image filenames.\n"
          ]
        },
        {
          "output_type": "stream",
          "name": "stderr",
          "text": [
            "\rProcessing Images:  81%|████████  | 3843/4752 [00:47<00:10, 82.96it/s]"
          ]
        },
        {
          "output_type": "stream",
          "name": "stdout",
          "text": [
            "Found 1 validated image filenames.\n",
            "Found 1 validated image filenames.\n",
            "Found 1 validated image filenames.\n",
            "Found 1 validated image filenames.\n",
            "Found 1 validated image filenames.\n",
            "Found 1 validated image filenames.\n",
            "Found 1 validated image filenames.\n",
            "Found 1 validated image filenames.\n",
            "Found 1 validated image filenames.\n"
          ]
        },
        {
          "output_type": "stream",
          "name": "stderr",
          "text": [
            "\rProcessing Images:  81%|████████  | 3852/4752 [00:47<00:11, 81.36it/s]"
          ]
        },
        {
          "output_type": "stream",
          "name": "stdout",
          "text": [
            "Found 1 validated image filenames.\n",
            "Found 1 validated image filenames.\n",
            "Found 1 validated image filenames.\n",
            "Found 1 validated image filenames.\n",
            "Found 1 validated image filenames.\n",
            "Found 1 validated image filenames.\n",
            "Found 1 validated image filenames.\n",
            "Found 1 validated image filenames.\n",
            "Found 1 validated image filenames.\n"
          ]
        },
        {
          "output_type": "stream",
          "name": "stderr",
          "text": [
            "\rProcessing Images:  81%|████████▏ | 3861/4752 [00:47<00:10, 81.97it/s]"
          ]
        },
        {
          "output_type": "stream",
          "name": "stdout",
          "text": [
            "Found 1 validated image filenames.\n",
            "Found 1 validated image filenames.\n",
            "Found 1 validated image filenames.\n",
            "Found 1 validated image filenames.\n",
            "Found 1 validated image filenames.\n",
            "Found 1 validated image filenames.\n",
            "Found 1 validated image filenames.\n",
            "Found 1 validated image filenames.\n",
            "Found 1 validated image filenames.\n"
          ]
        },
        {
          "output_type": "stream",
          "name": "stderr",
          "text": [
            "\rProcessing Images:  81%|████████▏ | 3870/4752 [00:47<00:10, 82.36it/s]"
          ]
        },
        {
          "output_type": "stream",
          "name": "stdout",
          "text": [
            "Found 1 validated image filenames.\n",
            "Found 1 validated image filenames.\n",
            "Found 1 validated image filenames.\n",
            "Found 1 validated image filenames.\n",
            "Found 1 validated image filenames.\n",
            "Found 1 validated image filenames.\n",
            "Found 1 validated image filenames.\n",
            "Found 1 validated image filenames.\n",
            "Found 1 validated image filenames.\n"
          ]
        },
        {
          "output_type": "stream",
          "name": "stderr",
          "text": [
            "\rProcessing Images:  82%|████████▏ | 3879/4752 [00:47<00:10, 82.52it/s]"
          ]
        },
        {
          "output_type": "stream",
          "name": "stdout",
          "text": [
            "Found 1 validated image filenames.\n",
            "Found 1 validated image filenames.\n",
            "Found 1 validated image filenames.\n",
            "Found 1 validated image filenames.\n",
            "Found 1 validated image filenames.\n",
            "Found 1 validated image filenames.\n",
            "Found 1 validated image filenames.\n",
            "Found 1 validated image filenames.\n",
            "Found 1 validated image filenames.\n"
          ]
        },
        {
          "output_type": "stream",
          "name": "stderr",
          "text": [
            "\rProcessing Images:  82%|████████▏ | 3888/4752 [00:47<00:10, 80.97it/s]"
          ]
        },
        {
          "output_type": "stream",
          "name": "stdout",
          "text": [
            "Found 1 validated image filenames.\n",
            "Found 1 validated image filenames.\n",
            "Found 1 validated image filenames.\n",
            "Found 1 validated image filenames.\n",
            "Found 1 validated image filenames.\n",
            "Found 1 validated image filenames.\n",
            "Found 1 validated image filenames.\n",
            "Found 1 validated image filenames.\n",
            "Found 1 validated image filenames.\n"
          ]
        },
        {
          "output_type": "stream",
          "name": "stderr",
          "text": [
            "\rProcessing Images:  82%|████████▏ | 3897/4752 [00:48<00:10, 79.86it/s]"
          ]
        },
        {
          "output_type": "stream",
          "name": "stdout",
          "text": [
            "Found 1 validated image filenames.\n",
            "Found 1 validated image filenames.\n",
            "Found 1 validated image filenames.\n",
            "Found 1 validated image filenames.\n",
            "Found 1 validated image filenames.\n",
            "Found 1 validated image filenames.\n",
            "Found 1 validated image filenames.\n",
            "Found 1 validated image filenames.\n",
            "Found 1 validated image filenames.\n"
          ]
        },
        {
          "output_type": "stream",
          "name": "stderr",
          "text": [
            "\rProcessing Images:  82%|████████▏ | 3906/4752 [00:48<00:10, 81.85it/s]"
          ]
        },
        {
          "output_type": "stream",
          "name": "stdout",
          "text": [
            "Found 1 validated image filenames.\n",
            "Found 1 validated image filenames.\n",
            "Found 1 validated image filenames.\n",
            "Found 1 validated image filenames.\n",
            "Found 1 validated image filenames.\n",
            "Found 1 validated image filenames.\n",
            "Found 1 validated image filenames.\n",
            "Found 1 validated image filenames.\n",
            "Found 1 validated image filenames.\n"
          ]
        },
        {
          "output_type": "stream",
          "name": "stderr",
          "text": [
            "\rProcessing Images:  82%|████████▏ | 3915/4752 [00:48<00:10, 83.53it/s]"
          ]
        },
        {
          "output_type": "stream",
          "name": "stdout",
          "text": [
            "Found 1 validated image filenames.\n",
            "Found 1 validated image filenames.\n",
            "Found 1 validated image filenames.\n",
            "Found 1 validated image filenames.\n",
            "Found 1 validated image filenames.\n",
            "Found 1 validated image filenames.\n",
            "Found 1 validated image filenames.\n",
            "Found 1 validated image filenames.\n",
            "Found 1 validated image filenames.\n"
          ]
        },
        {
          "output_type": "stream",
          "name": "stderr",
          "text": [
            "\rProcessing Images:  83%|████████▎ | 3924/4752 [00:48<00:10, 79.59it/s]"
          ]
        },
        {
          "output_type": "stream",
          "name": "stdout",
          "text": [
            "Found 1 validated image filenames.\n",
            "Found 1 validated image filenames.\n",
            "Found 1 validated image filenames.\n",
            "Found 1 validated image filenames.\n",
            "Found 1 validated image filenames.\n",
            "Found 1 validated image filenames.\n",
            "Found 1 validated image filenames.\n",
            "Found 1 validated image filenames.\n",
            "Found 1 validated image filenames.\n"
          ]
        },
        {
          "output_type": "stream",
          "name": "stderr",
          "text": [
            "\rProcessing Images:  83%|████████▎ | 3933/4752 [00:48<00:10, 76.62it/s]"
          ]
        },
        {
          "output_type": "stream",
          "name": "stdout",
          "text": [
            "Found 1 validated image filenames.\n",
            "Found 1 validated image filenames.\n",
            "Found 1 validated image filenames.\n",
            "Found 1 validated image filenames.\n",
            "Found 1 validated image filenames.\n",
            "Found 1 validated image filenames.\n",
            "Found 1 validated image filenames.\n",
            "Found 1 validated image filenames.\n"
          ]
        },
        {
          "output_type": "stream",
          "name": "stderr",
          "text": [
            "\rProcessing Images:  83%|████████▎ | 3941/4752 [00:48<00:10, 75.09it/s]"
          ]
        },
        {
          "output_type": "stream",
          "name": "stdout",
          "text": [
            "Found 1 validated image filenames.\n",
            "Found 1 validated image filenames.\n",
            "Found 1 validated image filenames.\n",
            "Found 1 validated image filenames.\n",
            "Found 1 validated image filenames.\n",
            "Found 1 validated image filenames.\n",
            "Found 1 validated image filenames.\n",
            "Found 1 validated image filenames.\n"
          ]
        },
        {
          "output_type": "stream",
          "name": "stderr",
          "text": [
            "\rProcessing Images:  83%|████████▎ | 3949/4752 [00:48<00:10, 73.80it/s]"
          ]
        },
        {
          "output_type": "stream",
          "name": "stdout",
          "text": [
            "Found 1 validated image filenames.\n",
            "Found 1 validated image filenames.\n",
            "Found 1 validated image filenames.\n",
            "Found 1 validated image filenames.\n",
            "Found 1 validated image filenames.\n",
            "Found 1 validated image filenames.\n",
            "Found 1 validated image filenames.\n",
            "Found 1 validated image filenames.\n"
          ]
        },
        {
          "output_type": "stream",
          "name": "stderr",
          "text": [
            "\rProcessing Images:  83%|████████▎ | 3957/4752 [00:48<00:10, 75.24it/s]"
          ]
        },
        {
          "output_type": "stream",
          "name": "stdout",
          "text": [
            "Found 1 validated image filenames.\n",
            "Found 1 validated image filenames.\n",
            "Found 1 validated image filenames.\n",
            "Found 1 validated image filenames.\n",
            "Found 1 validated image filenames.\n",
            "Found 1 validated image filenames.\n",
            "Found 1 validated image filenames.\n",
            "Found 1 validated image filenames.\n"
          ]
        },
        {
          "output_type": "stream",
          "name": "stderr",
          "text": [
            "\rProcessing Images:  83%|████████▎ | 3965/4752 [00:48<00:10, 73.91it/s]"
          ]
        },
        {
          "output_type": "stream",
          "name": "stdout",
          "text": [
            "Found 1 validated image filenames.\n",
            "Found 1 validated image filenames.\n",
            "Found 1 validated image filenames.\n",
            "Found 1 validated image filenames.\n",
            "Found 1 validated image filenames.\n",
            "Found 1 validated image filenames.\n",
            "Found 1 validated image filenames.\n",
            "Found 1 validated image filenames.\n",
            "Found 1 validated image filenames.\n"
          ]
        },
        {
          "output_type": "stream",
          "name": "stderr",
          "text": [
            "\rProcessing Images:  84%|████████▎ | 3974/4752 [00:49<00:10, 76.51it/s]"
          ]
        },
        {
          "output_type": "stream",
          "name": "stdout",
          "text": [
            "Found 1 validated image filenames.\n",
            "Found 1 validated image filenames.\n",
            "Found 1 validated image filenames.\n",
            "Found 1 validated image filenames.\n",
            "Found 1 validated image filenames.\n",
            "Found 1 validated image filenames.\n",
            "Found 1 validated image filenames.\n",
            "Found 1 validated image filenames.\n",
            "Found 1 validated image filenames.\n",
            "Found 1 validated image filenames.\n"
          ]
        },
        {
          "output_type": "stream",
          "name": "stderr",
          "text": [
            "\rProcessing Images:  84%|████████▍ | 3984/4752 [00:49<00:09, 81.62it/s]"
          ]
        },
        {
          "output_type": "stream",
          "name": "stdout",
          "text": [
            "Found 1 validated image filenames.\n",
            "Found 1 validated image filenames.\n",
            "Found 1 validated image filenames.\n",
            "Found 1 validated image filenames.\n",
            "Found 1 validated image filenames.\n",
            "Found 1 validated image filenames.\n",
            "Found 1 validated image filenames.\n",
            "Found 1 validated image filenames.\n",
            "Found 1 validated image filenames.\n"
          ]
        },
        {
          "output_type": "stream",
          "name": "stderr",
          "text": [
            "\rProcessing Images:  84%|████████▍ | 3993/4752 [00:49<00:09, 82.86it/s]"
          ]
        },
        {
          "output_type": "stream",
          "name": "stdout",
          "text": [
            "Found 1 validated image filenames.\n",
            "Found 1 validated image filenames.\n",
            "Found 1 validated image filenames.\n",
            "Found 1 validated image filenames.\n",
            "Found 1 validated image filenames.\n",
            "Found 1 validated image filenames.\n",
            "Found 1 validated image filenames.\n",
            "Found 1 validated image filenames.\n",
            "Found 1 validated image filenames.\n",
            "Found 1 validated image filenames.\n"
          ]
        },
        {
          "output_type": "stream",
          "name": "stderr",
          "text": [
            "\rProcessing Images:  84%|████████▍ | 4003/4752 [00:49<00:08, 85.62it/s]"
          ]
        },
        {
          "output_type": "stream",
          "name": "stdout",
          "text": [
            "Found 1 validated image filenames.\n",
            "Found 1 validated image filenames.\n",
            "Found 1 validated image filenames.\n",
            "Found 1 validated image filenames.\n",
            "Found 1 validated image filenames.\n",
            "Found 1 validated image filenames.\n",
            "Found 1 validated image filenames.\n",
            "Found 1 validated image filenames.\n",
            "Found 1 validated image filenames.\n"
          ]
        },
        {
          "output_type": "stream",
          "name": "stderr",
          "text": [
            "\rProcessing Images:  84%|████████▍ | 4012/4752 [00:49<00:08, 84.01it/s]"
          ]
        },
        {
          "output_type": "stream",
          "name": "stdout",
          "text": [
            "Found 1 validated image filenames.\n",
            "Found 1 validated image filenames.\n",
            "Found 1 validated image filenames.\n",
            "Found 1 validated image filenames.\n",
            "Found 1 validated image filenames.\n",
            "Found 1 validated image filenames.\n",
            "Found 1 validated image filenames.\n",
            "Found 1 validated image filenames.\n",
            "Found 1 validated image filenames.\n"
          ]
        },
        {
          "output_type": "stream",
          "name": "stderr",
          "text": [
            "\rProcessing Images:  85%|████████▍ | 4021/4752 [00:49<00:09, 80.25it/s]"
          ]
        },
        {
          "output_type": "stream",
          "name": "stdout",
          "text": [
            "Found 1 validated image filenames.\n",
            "Found 1 validated image filenames.\n",
            "Found 1 validated image filenames.\n",
            "Found 1 validated image filenames.\n",
            "Found 1 validated image filenames.\n",
            "Found 1 validated image filenames.\n",
            "Found 1 validated image filenames.\n",
            "Found 1 validated image filenames.\n",
            "Found 1 validated image filenames.\n"
          ]
        },
        {
          "output_type": "stream",
          "name": "stderr",
          "text": [
            "\rProcessing Images:  85%|████████▍ | 4030/4752 [00:49<00:09, 77.13it/s]"
          ]
        },
        {
          "output_type": "stream",
          "name": "stdout",
          "text": [
            "Found 1 validated image filenames.\n",
            "Found 1 validated image filenames.\n",
            "Found 1 validated image filenames.\n",
            "Found 1 validated image filenames.\n",
            "Found 1 validated image filenames.\n",
            "Found 1 validated image filenames.\n",
            "Found 1 validated image filenames.\n",
            "Found 1 validated image filenames.\n"
          ]
        },
        {
          "output_type": "stream",
          "name": "stderr",
          "text": [
            "\rProcessing Images:  85%|████████▍ | 4038/4752 [00:49<00:09, 76.07it/s]"
          ]
        },
        {
          "output_type": "stream",
          "name": "stdout",
          "text": [
            "Found 1 validated image filenames.\n",
            "Found 1 validated image filenames.\n",
            "Found 1 validated image filenames.\n",
            "Found 1 validated image filenames.\n",
            "Found 1 validated image filenames.\n",
            "Found 1 validated image filenames.\n",
            "Found 1 validated image filenames.\n",
            "Found 1 validated image filenames.\n"
          ]
        },
        {
          "output_type": "stream",
          "name": "stderr",
          "text": [
            "\rProcessing Images:  85%|████████▌ | 4046/4752 [00:49<00:09, 75.35it/s]"
          ]
        },
        {
          "output_type": "stream",
          "name": "stdout",
          "text": [
            "Found 1 validated image filenames.\n",
            "Found 1 validated image filenames.\n",
            "Found 1 validated image filenames.\n",
            "Found 1 validated image filenames.\n",
            "Found 1 validated image filenames.\n",
            "Found 1 validated image filenames.\n",
            "Found 1 validated image filenames.\n",
            "Found 1 validated image filenames.\n"
          ]
        },
        {
          "output_type": "stream",
          "name": "stderr",
          "text": [
            "\rProcessing Images:  85%|████████▌ | 4054/4752 [00:50<00:09, 76.40it/s]"
          ]
        },
        {
          "output_type": "stream",
          "name": "stdout",
          "text": [
            "Found 1 validated image filenames.\n",
            "Found 1 validated image filenames.\n",
            "Found 1 validated image filenames.\n",
            "Found 1 validated image filenames.\n",
            "Found 1 validated image filenames.\n",
            "Found 1 validated image filenames.\n",
            "Found 1 validated image filenames.\n",
            "Found 1 validated image filenames.\n",
            "Found 1 validated image filenames.\n",
            "Found 1 validated image filenames.\n"
          ]
        },
        {
          "output_type": "stream",
          "name": "stderr",
          "text": [
            "\rProcessing Images:  86%|████████▌ | 4064/4752 [00:50<00:08, 81.43it/s]"
          ]
        },
        {
          "output_type": "stream",
          "name": "stdout",
          "text": [
            "Found 1 validated image filenames.\n",
            "Found 1 validated image filenames.\n",
            "Found 1 validated image filenames.\n",
            "Found 1 validated image filenames.\n",
            "Found 1 validated image filenames.\n",
            "Found 1 validated image filenames.\n",
            "Found 1 validated image filenames.\n",
            "Found 1 validated image filenames.\n",
            "Found 1 validated image filenames.\n",
            "Found 1 validated image filenames.\n",
            "Found 1 validated image filenames.\n"
          ]
        },
        {
          "output_type": "stream",
          "name": "stderr",
          "text": [
            "\rProcessing Images:  86%|████████▌ | 4075/4752 [00:50<00:07, 87.41it/s]"
          ]
        },
        {
          "output_type": "stream",
          "name": "stdout",
          "text": [
            "Found 1 validated image filenames.\n",
            "Found 1 validated image filenames.\n",
            "Found 1 validated image filenames.\n",
            "Found 1 validated image filenames.\n",
            "Found 1 validated image filenames.\n",
            "Found 1 validated image filenames.\n",
            "Found 1 validated image filenames.\n",
            "Found 1 validated image filenames.\n",
            "Found 1 validated image filenames.\n",
            "Found 1 validated image filenames.\n"
          ]
        },
        {
          "output_type": "stream",
          "name": "stderr",
          "text": [
            "\rProcessing Images:  86%|████████▌ | 4085/4752 [00:50<00:07, 88.98it/s]"
          ]
        },
        {
          "output_type": "stream",
          "name": "stdout",
          "text": [
            "Found 1 validated image filenames.\n",
            "Found 1 validated image filenames.\n",
            "Found 1 validated image filenames.\n",
            "Found 1 validated image filenames.\n",
            "Found 1 validated image filenames.\n",
            "Found 1 validated image filenames.\n",
            "Found 1 validated image filenames.\n",
            "Found 1 validated image filenames.\n",
            "Found 1 validated image filenames.\n"
          ]
        },
        {
          "output_type": "stream",
          "name": "stderr",
          "text": [
            "\rProcessing Images:  86%|████████▌ | 4094/4752 [00:50<00:07, 87.89it/s]"
          ]
        },
        {
          "output_type": "stream",
          "name": "stdout",
          "text": [
            "Found 1 validated image filenames.\n",
            "Found 1 validated image filenames.\n",
            "Found 1 validated image filenames.\n",
            "Found 1 validated image filenames.\n",
            "Found 1 validated image filenames.\n",
            "Found 1 validated image filenames.\n",
            "Found 1 validated image filenames.\n",
            "Found 1 validated image filenames.\n",
            "Found 1 validated image filenames.\n"
          ]
        },
        {
          "output_type": "stream",
          "name": "stderr",
          "text": [
            "\rProcessing Images:  86%|████████▋ | 4103/4752 [00:50<00:07, 86.14it/s]"
          ]
        },
        {
          "output_type": "stream",
          "name": "stdout",
          "text": [
            "Found 1 validated image filenames.\n",
            "Found 1 validated image filenames.\n",
            "Found 1 validated image filenames.\n",
            "Found 1 validated image filenames.\n",
            "Found 1 validated image filenames.\n",
            "Found 1 validated image filenames.\n",
            "Found 1 validated image filenames.\n",
            "Found 1 validated image filenames.\n",
            "Found 1 validated image filenames.\n"
          ]
        },
        {
          "output_type": "stream",
          "name": "stderr",
          "text": [
            "\rProcessing Images:  87%|████████▋ | 4112/4752 [00:50<00:07, 83.51it/s]"
          ]
        },
        {
          "output_type": "stream",
          "name": "stdout",
          "text": [
            "Found 1 validated image filenames.\n",
            "Found 1 validated image filenames.\n",
            "Found 1 validated image filenames.\n",
            "Found 1 validated image filenames.\n",
            "Found 1 validated image filenames.\n",
            "Found 1 validated image filenames.\n",
            "Found 1 validated image filenames.\n",
            "Found 1 validated image filenames.\n",
            "Found 1 validated image filenames.\n"
          ]
        },
        {
          "output_type": "stream",
          "name": "stderr",
          "text": [
            "\rProcessing Images:  87%|████████▋ | 4121/4752 [00:50<00:08, 73.71it/s]"
          ]
        },
        {
          "output_type": "stream",
          "name": "stdout",
          "text": [
            "Found 1 validated image filenames.\n",
            "Found 1 validated image filenames.\n",
            "Found 1 validated image filenames.\n",
            "Found 1 validated image filenames.\n",
            "Found 1 validated image filenames.\n",
            "Found 1 validated image filenames.\n",
            "Found 1 validated image filenames.\n",
            "Found 1 validated image filenames.\n"
          ]
        },
        {
          "output_type": "stream",
          "name": "stderr",
          "text": [
            "\rProcessing Images:  87%|████████▋ | 4129/4752 [00:50<00:08, 72.79it/s]"
          ]
        },
        {
          "output_type": "stream",
          "name": "stdout",
          "text": [
            "Found 1 validated image filenames.\n",
            "Found 1 validated image filenames.\n",
            "Found 1 validated image filenames.\n",
            "Found 1 validated image filenames.\n",
            "Found 1 validated image filenames.\n",
            "Found 1 validated image filenames.\n",
            "Found 1 validated image filenames.\n",
            "Found 1 validated image filenames.\n",
            "Found 1 validated image filenames.\n"
          ]
        },
        {
          "output_type": "stream",
          "name": "stderr",
          "text": [
            "\rProcessing Images:  87%|████████▋ | 4138/4752 [00:51<00:07, 76.75it/s]"
          ]
        },
        {
          "output_type": "stream",
          "name": "stdout",
          "text": [
            "Found 1 validated image filenames.\n",
            "Found 1 validated image filenames.\n",
            "Found 1 validated image filenames.\n",
            "Found 1 validated image filenames.\n",
            "Found 1 validated image filenames.\n",
            "Found 1 validated image filenames.\n",
            "Found 1 validated image filenames.\n",
            "Found 1 validated image filenames.\n",
            "Found 1 validated image filenames.\n"
          ]
        },
        {
          "output_type": "stream",
          "name": "stderr",
          "text": [
            "\rProcessing Images:  87%|████████▋ | 4147/4752 [00:51<00:07, 78.16it/s]"
          ]
        },
        {
          "output_type": "stream",
          "name": "stdout",
          "text": [
            "Found 1 validated image filenames.\n",
            "Found 1 validated image filenames.\n",
            "Found 1 validated image filenames.\n",
            "Found 1 validated image filenames.\n",
            "Found 1 validated image filenames.\n",
            "Found 1 validated image filenames.\n",
            "Found 1 validated image filenames.\n",
            "Found 1 validated image filenames.\n",
            "Found 1 validated image filenames.\n",
            "Found 1 validated image filenames.\n"
          ]
        },
        {
          "output_type": "stream",
          "name": "stderr",
          "text": [
            "\rProcessing Images:  87%|████████▋ | 4157/4752 [00:51<00:07, 81.90it/s]"
          ]
        },
        {
          "output_type": "stream",
          "name": "stdout",
          "text": [
            "Found 1 validated image filenames.\n",
            "Found 1 validated image filenames.\n",
            "Found 1 validated image filenames.\n",
            "Found 1 validated image filenames.\n",
            "Found 1 validated image filenames.\n",
            "Found 1 validated image filenames.\n",
            "Found 1 validated image filenames.\n",
            "Found 1 validated image filenames.\n",
            "Found 1 validated image filenames.\n",
            "Found 1 validated image filenames.\n"
          ]
        },
        {
          "output_type": "stream",
          "name": "stderr",
          "text": [
            "\rProcessing Images:  88%|████████▊ | 4167/4752 [00:51<00:06, 84.82it/s]"
          ]
        },
        {
          "output_type": "stream",
          "name": "stdout",
          "text": [
            "Found 1 validated image filenames.\n",
            "Found 1 validated image filenames.\n",
            "Found 1 validated image filenames.\n",
            "Found 1 validated image filenames.\n",
            "Found 1 validated image filenames.\n",
            "Found 1 validated image filenames.\n",
            "Found 1 validated image filenames.\n",
            "Found 1 validated image filenames.\n",
            "Found 1 validated image filenames.\n"
          ]
        },
        {
          "output_type": "stream",
          "name": "stderr",
          "text": [
            "\rProcessing Images:  88%|████████▊ | 4176/4752 [00:51<00:07, 80.95it/s]"
          ]
        },
        {
          "output_type": "stream",
          "name": "stdout",
          "text": [
            "Found 1 validated image filenames.\n",
            "Found 1 validated image filenames.\n",
            "Found 1 validated image filenames.\n",
            "Found 1 validated image filenames.\n",
            "Found 1 validated image filenames.\n",
            "Found 1 validated image filenames.\n",
            "Found 1 validated image filenames.\n",
            "Found 1 validated image filenames.\n",
            "Found 1 validated image filenames.\n"
          ]
        },
        {
          "output_type": "stream",
          "name": "stderr",
          "text": [
            "\rProcessing Images:  88%|████████▊ | 4185/4752 [00:51<00:07, 77.50it/s]"
          ]
        },
        {
          "output_type": "stream",
          "name": "stdout",
          "text": [
            "Found 1 validated image filenames.\n",
            "Found 1 validated image filenames.\n",
            "Found 1 validated image filenames.\n",
            "Found 1 validated image filenames.\n",
            "Found 1 validated image filenames.\n",
            "Found 1 validated image filenames.\n",
            "Found 1 validated image filenames.\n",
            "Found 1 validated image filenames.\n"
          ]
        },
        {
          "output_type": "stream",
          "name": "stderr",
          "text": [
            "\rProcessing Images:  88%|████████▊ | 4193/4752 [00:51<00:07, 74.91it/s]"
          ]
        },
        {
          "output_type": "stream",
          "name": "stdout",
          "text": [
            "Found 1 validated image filenames.\n",
            "Found 1 validated image filenames.\n",
            "Found 1 validated image filenames.\n",
            "Found 1 validated image filenames.\n",
            "Found 1 validated image filenames.\n",
            "Found 1 validated image filenames.\n",
            "Found 1 validated image filenames.\n",
            "Found 1 validated image filenames.\n"
          ]
        },
        {
          "output_type": "stream",
          "name": "stderr",
          "text": [
            "\rProcessing Images:  88%|████████▊ | 4201/4752 [00:51<00:07, 75.28it/s]"
          ]
        },
        {
          "output_type": "stream",
          "name": "stdout",
          "text": [
            "Found 1 validated image filenames.\n",
            "Found 1 validated image filenames.\n",
            "Found 1 validated image filenames.\n",
            "Found 1 validated image filenames.\n",
            "Found 1 validated image filenames.\n",
            "Found 1 validated image filenames.\n",
            "Found 1 validated image filenames.\n",
            "Found 1 validated image filenames.\n",
            "Found 1 validated image filenames.\n"
          ]
        },
        {
          "output_type": "stream",
          "name": "stderr",
          "text": [
            "\rProcessing Images:  89%|████████▊ | 4210/4752 [00:51<00:06, 78.05it/s]"
          ]
        },
        {
          "output_type": "stream",
          "name": "stdout",
          "text": [
            "Found 1 validated image filenames.\n",
            "Found 1 validated image filenames.\n",
            "Found 1 validated image filenames.\n",
            "Found 1 validated image filenames.\n",
            "Found 1 validated image filenames.\n",
            "Found 1 validated image filenames.\n",
            "Found 1 validated image filenames.\n",
            "Found 1 validated image filenames.\n",
            "Found 1 validated image filenames.\n"
          ]
        },
        {
          "output_type": "stream",
          "name": "stderr",
          "text": [
            "\rProcessing Images:  89%|████████▉ | 4219/4752 [00:52<00:06, 80.77it/s]"
          ]
        },
        {
          "output_type": "stream",
          "name": "stdout",
          "text": [
            "Found 1 validated image filenames.\n",
            "Found 1 validated image filenames.\n",
            "Found 1 validated image filenames.\n",
            "Found 1 validated image filenames.\n",
            "Found 1 validated image filenames.\n",
            "Found 1 validated image filenames.\n",
            "Found 1 validated image filenames.\n",
            "Found 1 validated image filenames.\n",
            "Found 1 validated image filenames.\n"
          ]
        },
        {
          "output_type": "stream",
          "name": "stderr",
          "text": [
            "\rProcessing Images:  89%|████████▉ | 4228/4752 [00:52<00:06, 81.45it/s]"
          ]
        },
        {
          "output_type": "stream",
          "name": "stdout",
          "text": [
            "Found 1 validated image filenames.\n",
            "Found 1 validated image filenames.\n",
            "Found 1 validated image filenames.\n",
            "Found 1 validated image filenames.\n",
            "Found 1 validated image filenames.\n",
            "Found 1 validated image filenames.\n",
            "Found 1 validated image filenames.\n",
            "Found 1 validated image filenames.\n",
            "Found 1 validated image filenames.\n"
          ]
        },
        {
          "output_type": "stream",
          "name": "stderr",
          "text": [
            "\rProcessing Images:  89%|████████▉ | 4237/4752 [00:52<00:06, 82.36it/s]"
          ]
        },
        {
          "output_type": "stream",
          "name": "stdout",
          "text": [
            "Found 1 validated image filenames.\n",
            "Found 1 validated image filenames.\n",
            "Found 1 validated image filenames.\n",
            "Found 1 validated image filenames.\n",
            "Found 1 validated image filenames.\n",
            "Found 1 validated image filenames.\n",
            "Found 1 validated image filenames.\n",
            "Found 1 validated image filenames.\n",
            "Found 1 validated image filenames.\n"
          ]
        },
        {
          "output_type": "stream",
          "name": "stderr",
          "text": [
            "\rProcessing Images:  89%|████████▉ | 4246/4752 [00:52<00:06, 80.52it/s]"
          ]
        },
        {
          "output_type": "stream",
          "name": "stdout",
          "text": [
            "Found 1 validated image filenames.\n",
            "Found 1 validated image filenames.\n",
            "Found 1 validated image filenames.\n",
            "Found 1 validated image filenames.\n",
            "Found 1 validated image filenames.\n",
            "Found 1 validated image filenames.\n",
            "Found 1 validated image filenames.\n",
            "Found 1 validated image filenames.\n",
            "Found 1 validated image filenames.\n"
          ]
        },
        {
          "output_type": "stream",
          "name": "stderr",
          "text": [
            "\rProcessing Images:  90%|████████▉ | 4255/4752 [00:52<00:06, 74.23it/s]"
          ]
        },
        {
          "output_type": "stream",
          "name": "stdout",
          "text": [
            "Found 1 validated image filenames.\n",
            "Found 1 validated image filenames.\n",
            "Found 1 validated image filenames.\n",
            "Found 1 validated image filenames.\n",
            "Found 1 validated image filenames.\n",
            "Found 1 validated image filenames.\n",
            "Found 1 validated image filenames.\n",
            "Found 1 validated image filenames.\n"
          ]
        },
        {
          "output_type": "stream",
          "name": "stderr",
          "text": [
            "\rProcessing Images:  90%|████████▉ | 4263/4752 [00:52<00:07, 69.13it/s]"
          ]
        },
        {
          "output_type": "stream",
          "name": "stdout",
          "text": [
            "Found 1 validated image filenames.\n",
            "Found 1 validated image filenames.\n",
            "Found 1 validated image filenames.\n",
            "Found 1 validated image filenames.\n",
            "Found 1 validated image filenames.\n",
            "Found 1 validated image filenames.\n",
            "Found 1 validated image filenames.\n",
            "Found 1 validated image filenames.\n"
          ]
        },
        {
          "output_type": "stream",
          "name": "stderr",
          "text": [
            "\rProcessing Images:  90%|████████▉ | 4271/4752 [00:52<00:07, 67.12it/s]"
          ]
        },
        {
          "output_type": "stream",
          "name": "stdout",
          "text": [
            "Found 1 validated image filenames.\n",
            "Found 1 validated image filenames.\n",
            "Found 1 validated image filenames.\n",
            "Found 1 validated image filenames.\n",
            "Found 1 validated image filenames.\n",
            "Found 1 validated image filenames.\n",
            "Found 1 validated image filenames.\n"
          ]
        },
        {
          "output_type": "stream",
          "name": "stderr",
          "text": [
            "\rProcessing Images:  90%|█████████ | 4278/4752 [00:52<00:07, 63.76it/s]"
          ]
        },
        {
          "output_type": "stream",
          "name": "stdout",
          "text": [
            "Found 1 validated image filenames.\n",
            "Found 1 validated image filenames.\n",
            "Found 1 validated image filenames.\n",
            "Found 1 validated image filenames.\n",
            "Found 1 validated image filenames.\n",
            "Found 1 validated image filenames.\n",
            "Found 1 validated image filenames.\n"
          ]
        },
        {
          "output_type": "stream",
          "name": "stderr",
          "text": [
            "\rProcessing Images:  90%|█████████ | 4285/4752 [00:53<00:07, 62.88it/s]"
          ]
        },
        {
          "output_type": "stream",
          "name": "stdout",
          "text": [
            "Found 1 validated image filenames.\n",
            "Found 1 validated image filenames.\n",
            "Found 1 validated image filenames.\n",
            "Found 1 validated image filenames.\n",
            "Found 1 validated image filenames.\n",
            "Found 1 validated image filenames.\n",
            "Found 1 validated image filenames.\n"
          ]
        },
        {
          "output_type": "stream",
          "name": "stderr",
          "text": [
            "\rProcessing Images:  90%|█████████ | 4292/4752 [00:53<00:07, 64.55it/s]"
          ]
        },
        {
          "output_type": "stream",
          "name": "stdout",
          "text": [
            "Found 1 validated image filenames.\n",
            "Found 1 validated image filenames.\n",
            "Found 1 validated image filenames.\n",
            "Found 1 validated image filenames.\n",
            "Found 1 validated image filenames.\n",
            "Found 1 validated image filenames.\n",
            "Found 1 validated image filenames.\n"
          ]
        },
        {
          "output_type": "stream",
          "name": "stderr",
          "text": [
            "\rProcessing Images:  90%|█████████ | 4299/4752 [00:53<00:06, 65.51it/s]"
          ]
        },
        {
          "output_type": "stream",
          "name": "stdout",
          "text": [
            "Found 1 validated image filenames.\n",
            "Found 1 validated image filenames.\n",
            "Found 1 validated image filenames.\n",
            "Found 1 validated image filenames.\n",
            "Found 1 validated image filenames.\n",
            "Found 1 validated image filenames.\n",
            "Found 1 validated image filenames.\n",
            "Found 1 validated image filenames.\n"
          ]
        },
        {
          "output_type": "stream",
          "name": "stderr",
          "text": [
            "\rProcessing Images:  91%|█████████ | 4307/4752 [00:53<00:06, 68.21it/s]"
          ]
        },
        {
          "output_type": "stream",
          "name": "stdout",
          "text": [
            "Found 1 validated image filenames.\n",
            "Found 1 validated image filenames.\n",
            "Found 1 validated image filenames.\n",
            "Found 1 validated image filenames.\n",
            "Found 1 validated image filenames.\n",
            "Found 1 validated image filenames.\n",
            "Found 1 validated image filenames.\n",
            "Found 1 validated image filenames.\n",
            "Found 1 validated image filenames.\n",
            "Found 1 validated image filenames.\n",
            "Found 1 validated image filenames.\n"
          ]
        },
        {
          "output_type": "stream",
          "name": "stderr",
          "text": [
            "\rProcessing Images:  91%|█████████ | 4318/4752 [00:53<00:05, 77.82it/s]"
          ]
        },
        {
          "output_type": "stream",
          "name": "stdout",
          "text": [
            "Found 1 validated image filenames.\n",
            "Found 1 validated image filenames.\n",
            "Found 1 validated image filenames.\n",
            "Found 1 validated image filenames.\n",
            "Found 1 validated image filenames.\n",
            "Found 1 validated image filenames.\n",
            "Found 1 validated image filenames.\n",
            "Found 1 validated image filenames.\n",
            "Found 1 validated image filenames.\n",
            "Found 1 validated image filenames.\n"
          ]
        },
        {
          "output_type": "stream",
          "name": "stderr",
          "text": [
            "\rProcessing Images:  91%|█████████ | 4328/4752 [00:53<00:05, 82.82it/s]"
          ]
        },
        {
          "output_type": "stream",
          "name": "stdout",
          "text": [
            "Found 1 validated image filenames.\n",
            "Found 1 validated image filenames.\n",
            "Found 1 validated image filenames.\n",
            "Found 1 validated image filenames.\n",
            "Found 1 validated image filenames.\n",
            "Found 1 validated image filenames.\n",
            "Found 1 validated image filenames.\n",
            "Found 1 validated image filenames.\n",
            "Found 1 validated image filenames.\n"
          ]
        },
        {
          "output_type": "stream",
          "name": "stderr",
          "text": [
            "\rProcessing Images:  91%|█████████▏| 4337/4752 [00:53<00:05, 82.67it/s]"
          ]
        },
        {
          "output_type": "stream",
          "name": "stdout",
          "text": [
            "Found 1 validated image filenames.\n",
            "Found 1 validated image filenames.\n",
            "Found 1 validated image filenames.\n",
            "Found 1 validated image filenames.\n",
            "Found 1 validated image filenames.\n",
            "Found 1 validated image filenames.\n",
            "Found 1 validated image filenames.\n",
            "Found 1 validated image filenames.\n",
            "Found 1 validated image filenames.\n"
          ]
        },
        {
          "output_type": "stream",
          "name": "stderr",
          "text": [
            "\rProcessing Images:  91%|█████████▏| 4346/4752 [00:53<00:05, 78.88it/s]"
          ]
        },
        {
          "output_type": "stream",
          "name": "stdout",
          "text": [
            "Found 1 validated image filenames.\n",
            "Found 1 validated image filenames.\n",
            "Found 1 validated image filenames.\n",
            "Found 1 validated image filenames.\n",
            "Found 1 validated image filenames.\n",
            "Found 1 validated image filenames.\n",
            "Found 1 validated image filenames.\n",
            "Found 1 validated image filenames.\n"
          ]
        },
        {
          "output_type": "stream",
          "name": "stderr",
          "text": [
            "\rProcessing Images:  92%|█████████▏| 4354/4752 [00:53<00:05, 75.59it/s]"
          ]
        },
        {
          "output_type": "stream",
          "name": "stdout",
          "text": [
            "Found 1 validated image filenames.\n",
            "Found 1 validated image filenames.\n",
            "Found 1 validated image filenames.\n",
            "Found 1 validated image filenames.\n",
            "Found 1 validated image filenames.\n",
            "Found 1 validated image filenames.\n",
            "Found 1 validated image filenames.\n",
            "Found 1 validated image filenames.\n"
          ]
        },
        {
          "output_type": "stream",
          "name": "stderr",
          "text": [
            "\rProcessing Images:  92%|█████████▏| 4362/4752 [00:54<00:05, 73.01it/s]"
          ]
        },
        {
          "output_type": "stream",
          "name": "stdout",
          "text": [
            "Found 1 validated image filenames.\n",
            "Found 1 validated image filenames.\n",
            "Found 1 validated image filenames.\n",
            "Found 1 validated image filenames.\n",
            "Found 1 validated image filenames.\n",
            "Found 1 validated image filenames.\n",
            "Found 1 validated image filenames.\n",
            "Found 1 validated image filenames.\n"
          ]
        },
        {
          "output_type": "stream",
          "name": "stderr",
          "text": [
            "\rProcessing Images:  92%|█████████▏| 4370/4752 [00:54<00:05, 74.59it/s]"
          ]
        },
        {
          "output_type": "stream",
          "name": "stdout",
          "text": [
            "Found 1 validated image filenames.\n",
            "Found 1 validated image filenames.\n",
            "Found 1 validated image filenames.\n",
            "Found 1 validated image filenames.\n",
            "Found 1 validated image filenames.\n",
            "Found 1 validated image filenames.\n",
            "Found 1 validated image filenames.\n",
            "Found 1 validated image filenames.\n"
          ]
        },
        {
          "output_type": "stream",
          "name": "stderr",
          "text": [
            "\rProcessing Images:  92%|█████████▏| 4378/4752 [00:54<00:04, 75.24it/s]"
          ]
        },
        {
          "output_type": "stream",
          "name": "stdout",
          "text": [
            "Found 1 validated image filenames.\n",
            "Found 1 validated image filenames.\n",
            "Found 1 validated image filenames.\n",
            "Found 1 validated image filenames.\n",
            "Found 1 validated image filenames.\n",
            "Found 1 validated image filenames.\n",
            "Found 1 validated image filenames.\n",
            "Found 1 validated image filenames.\n"
          ]
        },
        {
          "output_type": "stream",
          "name": "stderr",
          "text": [
            "\rProcessing Images:  92%|█████████▏| 4386/4752 [00:54<00:05, 73.13it/s]"
          ]
        },
        {
          "output_type": "stream",
          "name": "stdout",
          "text": [
            "Found 1 validated image filenames.\n",
            "Found 1 validated image filenames.\n",
            "Found 1 validated image filenames.\n",
            "Found 1 validated image filenames.\n",
            "Found 1 validated image filenames.\n",
            "Found 1 validated image filenames.\n",
            "Found 1 validated image filenames.\n",
            "Found 1 validated image filenames.\n"
          ]
        },
        {
          "output_type": "stream",
          "name": "stderr",
          "text": [
            "\rProcessing Images:  92%|█████████▏| 4394/4752 [00:54<00:04, 73.06it/s]"
          ]
        },
        {
          "output_type": "stream",
          "name": "stdout",
          "text": [
            "Found 1 validated image filenames.\n",
            "Found 1 validated image filenames.\n",
            "Found 1 validated image filenames.\n",
            "Found 1 validated image filenames.\n",
            "Found 1 validated image filenames.\n",
            "Found 1 validated image filenames.\n",
            "Found 1 validated image filenames.\n",
            "Found 1 validated image filenames.\n"
          ]
        },
        {
          "output_type": "stream",
          "name": "stderr",
          "text": [
            "\rProcessing Images:  93%|█████████▎| 4402/4752 [00:54<00:04, 72.85it/s]"
          ]
        },
        {
          "output_type": "stream",
          "name": "stdout",
          "text": [
            "Found 1 validated image filenames.\n",
            "Found 1 validated image filenames.\n",
            "Found 1 validated image filenames.\n",
            "Found 1 validated image filenames.\n",
            "Found 1 validated image filenames.\n",
            "Found 1 validated image filenames.\n",
            "Found 1 validated image filenames.\n",
            "Found 1 validated image filenames.\n",
            "Found 1 validated image filenames.\n"
          ]
        },
        {
          "output_type": "stream",
          "name": "stderr",
          "text": [
            "\rProcessing Images:  93%|█████████▎| 4411/4752 [00:54<00:04, 75.93it/s]"
          ]
        },
        {
          "output_type": "stream",
          "name": "stdout",
          "text": [
            "Found 1 validated image filenames.\n",
            "Found 1 validated image filenames.\n",
            "Found 1 validated image filenames.\n",
            "Found 1 validated image filenames.\n",
            "Found 1 validated image filenames.\n",
            "Found 1 validated image filenames.\n",
            "Found 1 validated image filenames.\n",
            "Found 1 validated image filenames.\n"
          ]
        },
        {
          "output_type": "stream",
          "name": "stderr",
          "text": [
            "\rProcessing Images:  93%|█████████▎| 4419/4752 [00:54<00:04, 76.73it/s]"
          ]
        },
        {
          "output_type": "stream",
          "name": "stdout",
          "text": [
            "Found 1 validated image filenames.\n",
            "Found 1 validated image filenames.\n",
            "Found 1 validated image filenames.\n",
            "Found 1 validated image filenames.\n",
            "Found 1 validated image filenames.\n",
            "Found 1 validated image filenames.\n",
            "Found 1 validated image filenames.\n",
            "Found 1 validated image filenames.\n"
          ]
        },
        {
          "output_type": "stream",
          "name": "stderr",
          "text": [
            "\rProcessing Images:  93%|█████████▎| 4427/4752 [00:54<00:04, 73.57it/s]"
          ]
        },
        {
          "output_type": "stream",
          "name": "stdout",
          "text": [
            "Found 1 validated image filenames.\n",
            "Found 1 validated image filenames.\n",
            "Found 1 validated image filenames.\n",
            "Found 1 validated image filenames.\n",
            "Found 1 validated image filenames.\n",
            "Found 1 validated image filenames.\n",
            "Found 1 validated image filenames.\n",
            "Found 1 validated image filenames.\n"
          ]
        },
        {
          "output_type": "stream",
          "name": "stderr",
          "text": [
            "\rProcessing Images:  93%|█████████▎| 4435/4752 [00:55<00:04, 73.88it/s]"
          ]
        },
        {
          "output_type": "stream",
          "name": "stdout",
          "text": [
            "Found 1 validated image filenames.\n",
            "Found 1 validated image filenames.\n",
            "Found 1 validated image filenames.\n",
            "Found 1 validated image filenames.\n",
            "Found 1 validated image filenames.\n",
            "Found 1 validated image filenames.\n",
            "Found 1 validated image filenames.\n",
            "Found 1 validated image filenames.\n"
          ]
        },
        {
          "output_type": "stream",
          "name": "stderr",
          "text": [
            "\rProcessing Images:  93%|█████████▎| 4443/4752 [00:55<00:04, 73.56it/s]"
          ]
        },
        {
          "output_type": "stream",
          "name": "stdout",
          "text": [
            "Found 1 validated image filenames.\n",
            "Found 1 validated image filenames.\n",
            "Found 1 validated image filenames.\n",
            "Found 1 validated image filenames.\n",
            "Found 1 validated image filenames.\n",
            "Found 1 validated image filenames.\n",
            "Found 1 validated image filenames.\n",
            "Found 1 validated image filenames.\n"
          ]
        },
        {
          "output_type": "stream",
          "name": "stderr",
          "text": [
            "\rProcessing Images:  94%|█████████▎| 4451/4752 [00:55<00:04, 73.92it/s]"
          ]
        },
        {
          "output_type": "stream",
          "name": "stdout",
          "text": [
            "Found 1 validated image filenames.\n",
            "Found 1 validated image filenames.\n",
            "Found 1 validated image filenames.\n",
            "Found 1 validated image filenames.\n",
            "Found 1 validated image filenames.\n",
            "Found 1 validated image filenames.\n",
            "Found 1 validated image filenames.\n",
            "Found 1 validated image filenames.\n"
          ]
        },
        {
          "output_type": "stream",
          "name": "stderr",
          "text": [
            "\rProcessing Images:  94%|█████████▍| 4459/4752 [00:55<00:03, 75.18it/s]"
          ]
        },
        {
          "output_type": "stream",
          "name": "stdout",
          "text": [
            "Found 1 validated image filenames.\n",
            "Found 1 validated image filenames.\n",
            "Found 1 validated image filenames.\n",
            "Found 1 validated image filenames.\n",
            "Found 1 validated image filenames.\n",
            "Found 1 validated image filenames.\n",
            "Found 1 validated image filenames.\n",
            "Found 1 validated image filenames.\n"
          ]
        },
        {
          "output_type": "stream",
          "name": "stderr",
          "text": [
            "\rProcessing Images:  94%|█████████▍| 4467/4752 [00:55<00:03, 72.67it/s]"
          ]
        },
        {
          "output_type": "stream",
          "name": "stdout",
          "text": [
            "Found 1 validated image filenames.\n",
            "Found 1 validated image filenames.\n",
            "Found 1 validated image filenames.\n",
            "Found 1 validated image filenames.\n",
            "Found 1 validated image filenames.\n",
            "Found 1 validated image filenames.\n",
            "Found 1 validated image filenames.\n",
            "Found 1 validated image filenames.\n"
          ]
        },
        {
          "output_type": "stream",
          "name": "stderr",
          "text": [
            "\rProcessing Images:  94%|█████████▍| 4475/4752 [00:55<00:03, 69.84it/s]"
          ]
        },
        {
          "output_type": "stream",
          "name": "stdout",
          "text": [
            "Found 1 validated image filenames.\n",
            "Found 1 validated image filenames.\n",
            "Found 1 validated image filenames.\n",
            "Found 1 validated image filenames.\n",
            "Found 1 validated image filenames.\n",
            "Found 1 validated image filenames.\n",
            "Found 1 validated image filenames.\n",
            "Found 1 validated image filenames.\n"
          ]
        },
        {
          "output_type": "stream",
          "name": "stderr",
          "text": [
            "\rProcessing Images:  94%|█████████▍| 4483/4752 [00:55<00:03, 67.31it/s]"
          ]
        },
        {
          "output_type": "stream",
          "name": "stdout",
          "text": [
            "Found 1 validated image filenames.\n",
            "Found 1 validated image filenames.\n",
            "Found 1 validated image filenames.\n",
            "Found 1 validated image filenames.\n",
            "Found 1 validated image filenames.\n",
            "Found 1 validated image filenames.\n",
            "Found 1 validated image filenames.\n",
            "Found 1 validated image filenames.\n"
          ]
        },
        {
          "output_type": "stream",
          "name": "stderr",
          "text": [
            "\rProcessing Images:  95%|█████████▍| 4491/4752 [00:55<00:03, 70.63it/s]"
          ]
        },
        {
          "output_type": "stream",
          "name": "stdout",
          "text": [
            "Found 1 validated image filenames.\n",
            "Found 1 validated image filenames.\n",
            "Found 1 validated image filenames.\n",
            "Found 1 validated image filenames.\n",
            "Found 1 validated image filenames.\n",
            "Found 1 validated image filenames.\n",
            "Found 1 validated image filenames.\n",
            "Found 1 validated image filenames.\n"
          ]
        },
        {
          "output_type": "stream",
          "name": "stderr",
          "text": [
            "\rProcessing Images:  95%|█████████▍| 4499/4752 [00:55<00:03, 72.50it/s]"
          ]
        },
        {
          "output_type": "stream",
          "name": "stdout",
          "text": [
            "Found 1 validated image filenames.\n",
            "Found 1 validated image filenames.\n",
            "Found 1 validated image filenames.\n",
            "Found 1 validated image filenames.\n",
            "Found 1 validated image filenames.\n",
            "Found 1 validated image filenames.\n",
            "Found 1 validated image filenames.\n",
            "Found 1 validated image filenames.\n"
          ]
        },
        {
          "output_type": "stream",
          "name": "stderr",
          "text": [
            "\rProcessing Images:  95%|█████████▍| 4507/4752 [00:56<00:03, 74.07it/s]"
          ]
        },
        {
          "output_type": "stream",
          "name": "stdout",
          "text": [
            "Found 1 validated image filenames.\n",
            "Found 1 validated image filenames.\n",
            "Found 1 validated image filenames.\n",
            "Found 1 validated image filenames.\n",
            "Found 1 validated image filenames.\n",
            "Found 1 validated image filenames.\n",
            "Found 1 validated image filenames.\n",
            "Found 1 validated image filenames.\n"
          ]
        },
        {
          "output_type": "stream",
          "name": "stderr",
          "text": [
            "\rProcessing Images:  95%|█████████▌| 4515/4752 [00:56<00:03, 74.80it/s]"
          ]
        },
        {
          "output_type": "stream",
          "name": "stdout",
          "text": [
            "Found 1 validated image filenames.\n",
            "Found 1 validated image filenames.\n",
            "Found 1 validated image filenames.\n",
            "Found 1 validated image filenames.\n",
            "Found 1 validated image filenames.\n",
            "Found 1 validated image filenames.\n",
            "Found 1 validated image filenames.\n",
            "Found 1 validated image filenames.\n",
            "Found 1 validated image filenames.\n"
          ]
        },
        {
          "output_type": "stream",
          "name": "stderr",
          "text": [
            "\rProcessing Images:  95%|█████████▌| 4524/4752 [00:56<00:02, 77.18it/s]"
          ]
        },
        {
          "output_type": "stream",
          "name": "stdout",
          "text": [
            "Found 1 validated image filenames.\n",
            "Found 1 validated image filenames.\n",
            "Found 1 validated image filenames.\n",
            "Found 1 validated image filenames.\n",
            "Found 1 validated image filenames.\n",
            "Found 1 validated image filenames.\n",
            "Found 1 validated image filenames.\n",
            "Found 1 validated image filenames.\n"
          ]
        },
        {
          "output_type": "stream",
          "name": "stderr",
          "text": [
            "\rProcessing Images:  95%|█████████▌| 4532/4752 [00:56<00:02, 76.02it/s]"
          ]
        },
        {
          "output_type": "stream",
          "name": "stdout",
          "text": [
            "Found 1 validated image filenames.\n",
            "Found 1 validated image filenames.\n",
            "Found 1 validated image filenames.\n",
            "Found 1 validated image filenames.\n",
            "Found 1 validated image filenames.\n",
            "Found 1 validated image filenames.\n",
            "Found 1 validated image filenames.\n",
            "Found 1 validated image filenames.\n"
          ]
        },
        {
          "output_type": "stream",
          "name": "stderr",
          "text": [
            "\rProcessing Images:  96%|█████████▌| 4540/4752 [00:56<00:03, 67.78it/s]"
          ]
        },
        {
          "output_type": "stream",
          "name": "stdout",
          "text": [
            "Found 1 validated image filenames.\n",
            "Found 1 validated image filenames.\n",
            "Found 1 validated image filenames.\n",
            "Found 1 validated image filenames.\n",
            "Found 1 validated image filenames.\n",
            "Found 1 validated image filenames.\n",
            "Found 1 validated image filenames.\n",
            "Found 1 validated image filenames.\n"
          ]
        },
        {
          "output_type": "stream",
          "name": "stderr",
          "text": [
            "\rProcessing Images:  96%|█████████▌| 4548/4752 [00:56<00:02, 69.54it/s]"
          ]
        },
        {
          "output_type": "stream",
          "name": "stdout",
          "text": [
            "Found 1 validated image filenames.\n",
            "Found 1 validated image filenames.\n",
            "Found 1 validated image filenames.\n",
            "Found 1 validated image filenames.\n",
            "Found 1 validated image filenames.\n",
            "Found 1 validated image filenames.\n",
            "Found 1 validated image filenames.\n",
            "Found 1 validated image filenames.\n"
          ]
        },
        {
          "output_type": "stream",
          "name": "stderr",
          "text": [
            "\rProcessing Images:  96%|█████████▌| 4556/4752 [00:56<00:02, 71.30it/s]"
          ]
        },
        {
          "output_type": "stream",
          "name": "stdout",
          "text": [
            "Found 1 validated image filenames.\n",
            "Found 1 validated image filenames.\n",
            "Found 1 validated image filenames.\n",
            "Found 1 validated image filenames.\n",
            "Found 1 validated image filenames.\n",
            "Found 1 validated image filenames.\n",
            "Found 1 validated image filenames.\n",
            "Found 1 validated image filenames.\n"
          ]
        },
        {
          "output_type": "stream",
          "name": "stderr",
          "text": [
            "\rProcessing Images:  96%|█████████▌| 4564/4752 [00:56<00:02, 72.95it/s]"
          ]
        },
        {
          "output_type": "stream",
          "name": "stdout",
          "text": [
            "Found 1 validated image filenames.\n",
            "Found 1 validated image filenames.\n",
            "Found 1 validated image filenames.\n",
            "Found 1 validated image filenames.\n",
            "Found 1 validated image filenames.\n",
            "Found 1 validated image filenames.\n",
            "Found 1 validated image filenames.\n",
            "Found 1 validated image filenames.\n",
            "Found 1 validated image filenames.\n"
          ]
        },
        {
          "output_type": "stream",
          "name": "stderr",
          "text": [
            "\rProcessing Images:  96%|█████████▌| 4573/4752 [00:56<00:02, 76.87it/s]"
          ]
        },
        {
          "output_type": "stream",
          "name": "stdout",
          "text": [
            "Found 1 validated image filenames.\n",
            "Found 1 validated image filenames.\n",
            "Found 1 validated image filenames.\n",
            "Found 1 validated image filenames.\n",
            "Found 1 validated image filenames.\n",
            "Found 1 validated image filenames.\n",
            "Found 1 validated image filenames.\n",
            "Found 1 validated image filenames.\n"
          ]
        },
        {
          "output_type": "stream",
          "name": "stderr",
          "text": [
            "\rProcessing Images:  96%|█████████▋| 4581/4752 [00:57<00:02, 76.84it/s]"
          ]
        },
        {
          "output_type": "stream",
          "name": "stdout",
          "text": [
            "Found 1 validated image filenames.\n",
            "Found 1 validated image filenames.\n",
            "Found 1 validated image filenames.\n",
            "Found 1 validated image filenames.\n",
            "Found 1 validated image filenames.\n",
            "Found 1 validated image filenames.\n",
            "Found 1 validated image filenames.\n",
            "Found 1 validated image filenames.\n"
          ]
        },
        {
          "output_type": "stream",
          "name": "stderr",
          "text": [
            "\rProcessing Images:  97%|█████████▋| 4589/4752 [00:57<00:02, 73.37it/s]"
          ]
        },
        {
          "output_type": "stream",
          "name": "stdout",
          "text": [
            "Found 1 validated image filenames.\n",
            "Found 1 validated image filenames.\n",
            "Found 1 validated image filenames.\n",
            "Found 1 validated image filenames.\n",
            "Found 1 validated image filenames.\n",
            "Found 1 validated image filenames.\n",
            "Found 1 validated image filenames.\n",
            "Found 1 validated image filenames.\n",
            "Found 1 validated image filenames.\n"
          ]
        },
        {
          "output_type": "stream",
          "name": "stderr",
          "text": [
            "\rProcessing Images:  97%|█████████▋| 4598/4752 [00:57<00:02, 75.74it/s]"
          ]
        },
        {
          "output_type": "stream",
          "name": "stdout",
          "text": [
            "Found 1 validated image filenames.\n",
            "Found 1 validated image filenames.\n",
            "Found 1 validated image filenames.\n",
            "Found 1 validated image filenames.\n",
            "Found 1 validated image filenames.\n",
            "Found 1 validated image filenames.\n",
            "Found 1 validated image filenames.\n",
            "Found 1 validated image filenames.\n"
          ]
        },
        {
          "output_type": "stream",
          "name": "stderr",
          "text": [
            "\rProcessing Images:  97%|█████████▋| 4606/4752 [00:57<00:01, 74.96it/s]"
          ]
        },
        {
          "output_type": "stream",
          "name": "stdout",
          "text": [
            "Found 1 validated image filenames.\n",
            "Found 1 validated image filenames.\n",
            "Found 1 validated image filenames.\n",
            "Found 1 validated image filenames.\n",
            "Found 1 validated image filenames.\n",
            "Found 1 validated image filenames.\n",
            "Found 1 validated image filenames.\n",
            "Found 1 validated image filenames.\n"
          ]
        },
        {
          "output_type": "stream",
          "name": "stderr",
          "text": [
            "\rProcessing Images:  97%|█████████▋| 4614/4752 [00:57<00:01, 72.30it/s]"
          ]
        },
        {
          "output_type": "stream",
          "name": "stdout",
          "text": [
            "Found 1 validated image filenames.\n",
            "Found 1 validated image filenames.\n",
            "Found 1 validated image filenames.\n",
            "Found 1 validated image filenames.\n",
            "Found 1 validated image filenames.\n",
            "Found 1 validated image filenames.\n",
            "Found 1 validated image filenames.\n",
            "Found 1 validated image filenames.\n"
          ]
        },
        {
          "output_type": "stream",
          "name": "stderr",
          "text": [
            "\rProcessing Images:  97%|█████████▋| 4622/4752 [00:57<00:01, 66.05it/s]"
          ]
        },
        {
          "output_type": "stream",
          "name": "stdout",
          "text": [
            "Found 1 validated image filenames.\n",
            "Found 1 validated image filenames.\n",
            "Found 1 validated image filenames.\n",
            "Found 1 validated image filenames.\n",
            "Found 1 validated image filenames.\n",
            "Found 1 validated image filenames.\n",
            "Found 1 validated image filenames.\n",
            "Found 1 validated image filenames.\n"
          ]
        },
        {
          "output_type": "stream",
          "name": "stderr",
          "text": [
            "\rProcessing Images:  97%|█████████▋| 4630/4752 [00:57<00:01, 68.41it/s]"
          ]
        },
        {
          "output_type": "stream",
          "name": "stdout",
          "text": [
            "Found 1 validated image filenames.\n",
            "Found 1 validated image filenames.\n",
            "Found 1 validated image filenames.\n",
            "Found 1 validated image filenames.\n",
            "Found 1 validated image filenames.\n",
            "Found 1 validated image filenames.\n",
            "Found 1 validated image filenames.\n",
            "Found 1 validated image filenames.\n",
            "Found 1 validated image filenames.\n"
          ]
        },
        {
          "output_type": "stream",
          "name": "stderr",
          "text": [
            "\rProcessing Images:  98%|█████████▊| 4639/4752 [00:57<00:01, 73.44it/s]"
          ]
        },
        {
          "output_type": "stream",
          "name": "stdout",
          "text": [
            "Found 1 validated image filenames.\n",
            "Found 1 validated image filenames.\n",
            "Found 1 validated image filenames.\n",
            "Found 1 validated image filenames.\n",
            "Found 1 validated image filenames.\n",
            "Found 1 validated image filenames.\n",
            "Found 1 validated image filenames.\n",
            "Found 1 validated image filenames.\n",
            "Found 1 validated image filenames.\n",
            "Found 1 validated image filenames.\n"
          ]
        },
        {
          "output_type": "stream",
          "name": "stderr",
          "text": [
            "\rProcessing Images:  98%|█████████▊| 4649/4752 [00:57<00:01, 78.71it/s]"
          ]
        },
        {
          "output_type": "stream",
          "name": "stdout",
          "text": [
            "Found 1 validated image filenames.\n",
            "Found 1 validated image filenames.\n",
            "Found 1 validated image filenames.\n",
            "Found 1 validated image filenames.\n",
            "Found 1 validated image filenames.\n",
            "Found 1 validated image filenames.\n",
            "Found 1 validated image filenames.\n",
            "Found 1 validated image filenames.\n",
            "Found 1 validated image filenames.\n",
            "Found 1 validated image filenames.\n"
          ]
        },
        {
          "output_type": "stream",
          "name": "stderr",
          "text": [
            "\rProcessing Images:  98%|█████████▊| 4659/4752 [00:58<00:01, 82.06it/s]"
          ]
        },
        {
          "output_type": "stream",
          "name": "stdout",
          "text": [
            "Found 1 validated image filenames.\n",
            "Found 1 validated image filenames.\n",
            "Found 1 validated image filenames.\n",
            "Found 1 validated image filenames.\n",
            "Found 1 validated image filenames.\n",
            "Found 1 validated image filenames.\n",
            "Found 1 validated image filenames.\n",
            "Found 1 validated image filenames.\n",
            "Found 1 validated image filenames.\n"
          ]
        },
        {
          "output_type": "stream",
          "name": "stderr",
          "text": [
            "\rProcessing Images:  98%|█████████▊| 4668/4752 [00:58<00:00, 84.12it/s]"
          ]
        },
        {
          "output_type": "stream",
          "name": "stdout",
          "text": [
            "Found 1 validated image filenames.\n",
            "Found 1 validated image filenames.\n",
            "Found 1 validated image filenames.\n",
            "Found 1 validated image filenames.\n",
            "Found 1 validated image filenames.\n",
            "Found 1 validated image filenames.\n",
            "Found 1 validated image filenames.\n",
            "Found 1 validated image filenames.\n",
            "Found 1 validated image filenames.\n"
          ]
        },
        {
          "output_type": "stream",
          "name": "stderr",
          "text": [
            "\rProcessing Images:  98%|█████████▊| 4677/4752 [00:58<00:00, 85.58it/s]"
          ]
        },
        {
          "output_type": "stream",
          "name": "stdout",
          "text": [
            "Found 1 validated image filenames.\n",
            "Found 1 validated image filenames.\n",
            "Found 1 validated image filenames.\n",
            "Found 1 validated image filenames.\n",
            "Found 1 validated image filenames.\n",
            "Found 1 validated image filenames.\n",
            "Found 1 validated image filenames.\n",
            "Found 1 validated image filenames.\n",
            "Found 1 validated image filenames.\n"
          ]
        },
        {
          "output_type": "stream",
          "name": "stderr",
          "text": [
            "\rProcessing Images:  99%|█████████▊| 4686/4752 [00:58<00:00, 83.95it/s]"
          ]
        },
        {
          "output_type": "stream",
          "name": "stdout",
          "text": [
            "Found 1 validated image filenames.\n",
            "Found 1 validated image filenames.\n",
            "Found 1 validated image filenames.\n",
            "Found 1 validated image filenames.\n",
            "Found 1 validated image filenames.\n",
            "Found 1 validated image filenames.\n",
            "Found 1 validated image filenames.\n",
            "Found 1 validated image filenames.\n",
            "Found 1 validated image filenames.\n"
          ]
        },
        {
          "output_type": "stream",
          "name": "stderr",
          "text": [
            "\rProcessing Images:  99%|█████████▉| 4695/4752 [00:58<00:00, 77.84it/s]"
          ]
        },
        {
          "output_type": "stream",
          "name": "stdout",
          "text": [
            "Found 1 validated image filenames.\n",
            "Found 1 validated image filenames.\n",
            "Found 1 validated image filenames.\n",
            "Found 1 validated image filenames.\n",
            "Found 1 validated image filenames.\n",
            "Found 1 validated image filenames.\n",
            "Found 1 validated image filenames.\n",
            "Found 1 validated image filenames.\n"
          ]
        },
        {
          "output_type": "stream",
          "name": "stderr",
          "text": [
            "\rProcessing Images:  99%|█████████▉| 4703/4752 [00:58<00:00, 71.63it/s]"
          ]
        },
        {
          "output_type": "stream",
          "name": "stdout",
          "text": [
            "Found 1 validated image filenames.\n",
            "Found 1 validated image filenames.\n",
            "Found 1 validated image filenames.\n",
            "Found 1 validated image filenames.\n",
            "Found 1 validated image filenames.\n",
            "Found 1 validated image filenames.\n",
            "Found 1 validated image filenames.\n",
            "Found 1 validated image filenames.\n"
          ]
        },
        {
          "output_type": "stream",
          "name": "stderr",
          "text": [
            "\rProcessing Images:  99%|█████████▉| 4711/4752 [00:58<00:00, 65.89it/s]"
          ]
        },
        {
          "output_type": "stream",
          "name": "stdout",
          "text": [
            "Found 1 validated image filenames.\n",
            "Found 1 validated image filenames.\n",
            "Found 1 validated image filenames.\n",
            "Found 1 validated image filenames.\n",
            "Found 1 validated image filenames.\n",
            "Found 1 validated image filenames.\n",
            "Found 1 validated image filenames.\n"
          ]
        },
        {
          "output_type": "stream",
          "name": "stderr",
          "text": [
            "\rProcessing Images:  99%|█████████▉| 4718/4752 [00:58<00:00, 65.89it/s]"
          ]
        },
        {
          "output_type": "stream",
          "name": "stdout",
          "text": [
            "Found 1 validated image filenames.\n",
            "Found 1 validated image filenames.\n",
            "Found 1 validated image filenames.\n",
            "Found 1 validated image filenames.\n",
            "Found 1 validated image filenames.\n",
            "Found 1 validated image filenames.\n",
            "Found 1 validated image filenames.\n",
            "Found 1 validated image filenames.\n"
          ]
        },
        {
          "output_type": "stream",
          "name": "stderr",
          "text": [
            "\rProcessing Images:  99%|█████████▉| 4726/4752 [00:58<00:00, 67.60it/s]"
          ]
        },
        {
          "output_type": "stream",
          "name": "stdout",
          "text": [
            "Found 1 validated image filenames.\n",
            "Found 1 validated image filenames.\n",
            "Found 1 validated image filenames.\n",
            "Found 1 validated image filenames.\n",
            "Found 1 validated image filenames.\n",
            "Found 1 validated image filenames.\n",
            "Found 1 validated image filenames.\n",
            "Found 1 validated image filenames.\n"
          ]
        },
        {
          "output_type": "stream",
          "name": "stderr",
          "text": [
            "\rProcessing Images: 100%|█████████▉| 4734/4752 [00:59<00:00, 69.62it/s]"
          ]
        },
        {
          "output_type": "stream",
          "name": "stdout",
          "text": [
            "Found 1 validated image filenames.\n",
            "Found 1 validated image filenames.\n",
            "Found 1 validated image filenames.\n",
            "Found 1 validated image filenames.\n",
            "Found 1 validated image filenames.\n",
            "Found 1 validated image filenames.\n",
            "Found 1 validated image filenames.\n",
            "Found 1 validated image filenames.\n",
            "Found 1 validated image filenames.\n"
          ]
        },
        {
          "output_type": "stream",
          "name": "stderr",
          "text": [
            "\rProcessing Images: 100%|█████████▉| 4743/4752 [00:59<00:00, 73.48it/s]"
          ]
        },
        {
          "output_type": "stream",
          "name": "stdout",
          "text": [
            "Found 1 validated image filenames.\n",
            "Found 1 validated image filenames.\n",
            "Found 1 validated image filenames.\n",
            "Found 1 validated image filenames.\n",
            "Found 1 validated image filenames.\n",
            "Found 1 validated image filenames.\n",
            "Found 1 validated image filenames.\n",
            "Found 1 validated image filenames.\n"
          ]
        },
        {
          "output_type": "stream",
          "name": "stderr",
          "text": [
            "\rProcessing Images: 100%|█████████▉| 4751/4752 [00:59<00:00, 72.95it/s]"
          ]
        },
        {
          "output_type": "stream",
          "name": "stdout",
          "text": [
            "Found 1 validated image filenames.\n"
          ]
        },
        {
          "output_type": "stream",
          "name": "stderr",
          "text": [
            "\rProcessing Images: 100%|██████████| 4752/4752 [00:59<00:00, 80.09it/s]\n"
          ]
        },
        {
          "output_type": "stream",
          "name": "stdout",
          "text": [
            "Train samples: 2851\n",
            "Validation samples: 950\n",
            "Test samples: 951\n"
          ]
        },
        {
          "output_type": "display_data",
          "data": {
            "text/plain": [
              "\u001b[1mModel: \"sequential_2\"\u001b[0m\n"
            ],
            "text/html": [
              "<pre style=\"white-space:pre;overflow-x:auto;line-height:normal;font-family:Menlo,'DejaVu Sans Mono',consolas,'Courier New',monospace\"><span style=\"font-weight: bold\">Model: \"sequential_2\"</span>\n",
              "</pre>\n"
            ]
          },
          "metadata": {}
        },
        {
          "output_type": "display_data",
          "data": {
            "text/plain": [
              "┏━━━━━━━━━━━━━━━━━━━━━━━━━━━━━━━━━━━━━━┳━━━━━━━━━━━━━━━━━━━━━━━━━━━━━┳━━━━━━━━━━━━━━━━━┓\n",
              "┃\u001b[1m \u001b[0m\u001b[1mLayer (type)                        \u001b[0m\u001b[1m \u001b[0m┃\u001b[1m \u001b[0m\u001b[1mOutput Shape               \u001b[0m\u001b[1m \u001b[0m┃\u001b[1m \u001b[0m\u001b[1m        Param #\u001b[0m\u001b[1m \u001b[0m┃\n",
              "┡━━━━━━━━━━━━━━━━━━━━━━━━━━━━━━━━━━━━━━╇━━━━━━━━━━━━━━━━━━━━━━━━━━━━━╇━━━━━━━━━━━━━━━━━┩\n",
              "│ conv2d_8 (\u001b[38;5;33mConv2D\u001b[0m)                    │ (\u001b[38;5;45mNone\u001b[0m, \u001b[38;5;34m126\u001b[0m, \u001b[38;5;34m126\u001b[0m, \u001b[38;5;34m32\u001b[0m)        │             \u001b[38;5;34m896\u001b[0m │\n",
              "├──────────────────────────────────────┼─────────────────────────────┼─────────────────┤\n",
              "│ batch_normalization_8                │ (\u001b[38;5;45mNone\u001b[0m, \u001b[38;5;34m126\u001b[0m, \u001b[38;5;34m126\u001b[0m, \u001b[38;5;34m32\u001b[0m)        │             \u001b[38;5;34m128\u001b[0m │\n",
              "│ (\u001b[38;5;33mBatchNormalization\u001b[0m)                 │                             │                 │\n",
              "├──────────────────────────────────────┼─────────────────────────────┼─────────────────┤\n",
              "│ max_pooling2d_8 (\u001b[38;5;33mMaxPooling2D\u001b[0m)       │ (\u001b[38;5;45mNone\u001b[0m, \u001b[38;5;34m63\u001b[0m, \u001b[38;5;34m63\u001b[0m, \u001b[38;5;34m32\u001b[0m)          │               \u001b[38;5;34m0\u001b[0m │\n",
              "├──────────────────────────────────────┼─────────────────────────────┼─────────────────┤\n",
              "│ conv2d_9 (\u001b[38;5;33mConv2D\u001b[0m)                    │ (\u001b[38;5;45mNone\u001b[0m, \u001b[38;5;34m61\u001b[0m, \u001b[38;5;34m61\u001b[0m, \u001b[38;5;34m64\u001b[0m)          │          \u001b[38;5;34m18,496\u001b[0m │\n",
              "├──────────────────────────────────────┼─────────────────────────────┼─────────────────┤\n",
              "│ batch_normalization_9                │ (\u001b[38;5;45mNone\u001b[0m, \u001b[38;5;34m61\u001b[0m, \u001b[38;5;34m61\u001b[0m, \u001b[38;5;34m64\u001b[0m)          │             \u001b[38;5;34m256\u001b[0m │\n",
              "│ (\u001b[38;5;33mBatchNormalization\u001b[0m)                 │                             │                 │\n",
              "├──────────────────────────────────────┼─────────────────────────────┼─────────────────┤\n",
              "│ max_pooling2d_9 (\u001b[38;5;33mMaxPooling2D\u001b[0m)       │ (\u001b[38;5;45mNone\u001b[0m, \u001b[38;5;34m30\u001b[0m, \u001b[38;5;34m30\u001b[0m, \u001b[38;5;34m64\u001b[0m)          │               \u001b[38;5;34m0\u001b[0m │\n",
              "├──────────────────────────────────────┼─────────────────────────────┼─────────────────┤\n",
              "│ conv2d_10 (\u001b[38;5;33mConv2D\u001b[0m)                   │ (\u001b[38;5;45mNone\u001b[0m, \u001b[38;5;34m28\u001b[0m, \u001b[38;5;34m28\u001b[0m, \u001b[38;5;34m128\u001b[0m)         │          \u001b[38;5;34m73,856\u001b[0m │\n",
              "├──────────────────────────────────────┼─────────────────────────────┼─────────────────┤\n",
              "│ batch_normalization_10               │ (\u001b[38;5;45mNone\u001b[0m, \u001b[38;5;34m28\u001b[0m, \u001b[38;5;34m28\u001b[0m, \u001b[38;5;34m128\u001b[0m)         │             \u001b[38;5;34m512\u001b[0m │\n",
              "│ (\u001b[38;5;33mBatchNormalization\u001b[0m)                 │                             │                 │\n",
              "├──────────────────────────────────────┼─────────────────────────────┼─────────────────┤\n",
              "│ max_pooling2d_10 (\u001b[38;5;33mMaxPooling2D\u001b[0m)      │ (\u001b[38;5;45mNone\u001b[0m, \u001b[38;5;34m14\u001b[0m, \u001b[38;5;34m14\u001b[0m, \u001b[38;5;34m128\u001b[0m)         │               \u001b[38;5;34m0\u001b[0m │\n",
              "├──────────────────────────────────────┼─────────────────────────────┼─────────────────┤\n",
              "│ conv2d_11 (\u001b[38;5;33mConv2D\u001b[0m)                   │ (\u001b[38;5;45mNone\u001b[0m, \u001b[38;5;34m12\u001b[0m, \u001b[38;5;34m12\u001b[0m, \u001b[38;5;34m256\u001b[0m)         │         \u001b[38;5;34m295,168\u001b[0m │\n",
              "├──────────────────────────────────────┼─────────────────────────────┼─────────────────┤\n",
              "│ batch_normalization_11               │ (\u001b[38;5;45mNone\u001b[0m, \u001b[38;5;34m12\u001b[0m, \u001b[38;5;34m12\u001b[0m, \u001b[38;5;34m256\u001b[0m)         │           \u001b[38;5;34m1,024\u001b[0m │\n",
              "│ (\u001b[38;5;33mBatchNormalization\u001b[0m)                 │                             │                 │\n",
              "├──────────────────────────────────────┼─────────────────────────────┼─────────────────┤\n",
              "│ max_pooling2d_11 (\u001b[38;5;33mMaxPooling2D\u001b[0m)      │ (\u001b[38;5;45mNone\u001b[0m, \u001b[38;5;34m6\u001b[0m, \u001b[38;5;34m6\u001b[0m, \u001b[38;5;34m256\u001b[0m)           │               \u001b[38;5;34m0\u001b[0m │\n",
              "├──────────────────────────────────────┼─────────────────────────────┼─────────────────┤\n",
              "│ flatten_2 (\u001b[38;5;33mFlatten\u001b[0m)                  │ (\u001b[38;5;45mNone\u001b[0m, \u001b[38;5;34m9216\u001b[0m)                │               \u001b[38;5;34m0\u001b[0m │\n",
              "├──────────────────────────────────────┼─────────────────────────────┼─────────────────┤\n",
              "│ dense_4 (\u001b[38;5;33mDense\u001b[0m)                      │ (\u001b[38;5;45mNone\u001b[0m, \u001b[38;5;34m128\u001b[0m)                 │       \u001b[38;5;34m1,179,776\u001b[0m │\n",
              "├──────────────────────────────────────┼─────────────────────────────┼─────────────────┤\n",
              "│ dropout_2 (\u001b[38;5;33mDropout\u001b[0m)                  │ (\u001b[38;5;45mNone\u001b[0m, \u001b[38;5;34m128\u001b[0m)                 │               \u001b[38;5;34m0\u001b[0m │\n",
              "├──────────────────────────────────────┼─────────────────────────────┼─────────────────┤\n",
              "│ dense_5 (\u001b[38;5;33mDense\u001b[0m)                      │ (\u001b[38;5;45mNone\u001b[0m, \u001b[38;5;34m9\u001b[0m)                   │           \u001b[38;5;34m1,161\u001b[0m │\n",
              "└──────────────────────────────────────┴─────────────────────────────┴─────────────────┘\n"
            ],
            "text/html": [
              "<pre style=\"white-space:pre;overflow-x:auto;line-height:normal;font-family:Menlo,'DejaVu Sans Mono',consolas,'Courier New',monospace\">┏━━━━━━━━━━━━━━━━━━━━━━━━━━━━━━━━━━━━━━┳━━━━━━━━━━━━━━━━━━━━━━━━━━━━━┳━━━━━━━━━━━━━━━━━┓\n",
              "┃<span style=\"font-weight: bold\"> Layer (type)                         </span>┃<span style=\"font-weight: bold\"> Output Shape                </span>┃<span style=\"font-weight: bold\">         Param # </span>┃\n",
              "┡━━━━━━━━━━━━━━━━━━━━━━━━━━━━━━━━━━━━━━╇━━━━━━━━━━━━━━━━━━━━━━━━━━━━━╇━━━━━━━━━━━━━━━━━┩\n",
              "│ conv2d_8 (<span style=\"color: #0087ff; text-decoration-color: #0087ff\">Conv2D</span>)                    │ (<span style=\"color: #00d7ff; text-decoration-color: #00d7ff\">None</span>, <span style=\"color: #00af00; text-decoration-color: #00af00\">126</span>, <span style=\"color: #00af00; text-decoration-color: #00af00\">126</span>, <span style=\"color: #00af00; text-decoration-color: #00af00\">32</span>)        │             <span style=\"color: #00af00; text-decoration-color: #00af00\">896</span> │\n",
              "├──────────────────────────────────────┼─────────────────────────────┼─────────────────┤\n",
              "│ batch_normalization_8                │ (<span style=\"color: #00d7ff; text-decoration-color: #00d7ff\">None</span>, <span style=\"color: #00af00; text-decoration-color: #00af00\">126</span>, <span style=\"color: #00af00; text-decoration-color: #00af00\">126</span>, <span style=\"color: #00af00; text-decoration-color: #00af00\">32</span>)        │             <span style=\"color: #00af00; text-decoration-color: #00af00\">128</span> │\n",
              "│ (<span style=\"color: #0087ff; text-decoration-color: #0087ff\">BatchNormalization</span>)                 │                             │                 │\n",
              "├──────────────────────────────────────┼─────────────────────────────┼─────────────────┤\n",
              "│ max_pooling2d_8 (<span style=\"color: #0087ff; text-decoration-color: #0087ff\">MaxPooling2D</span>)       │ (<span style=\"color: #00d7ff; text-decoration-color: #00d7ff\">None</span>, <span style=\"color: #00af00; text-decoration-color: #00af00\">63</span>, <span style=\"color: #00af00; text-decoration-color: #00af00\">63</span>, <span style=\"color: #00af00; text-decoration-color: #00af00\">32</span>)          │               <span style=\"color: #00af00; text-decoration-color: #00af00\">0</span> │\n",
              "├──────────────────────────────────────┼─────────────────────────────┼─────────────────┤\n",
              "│ conv2d_9 (<span style=\"color: #0087ff; text-decoration-color: #0087ff\">Conv2D</span>)                    │ (<span style=\"color: #00d7ff; text-decoration-color: #00d7ff\">None</span>, <span style=\"color: #00af00; text-decoration-color: #00af00\">61</span>, <span style=\"color: #00af00; text-decoration-color: #00af00\">61</span>, <span style=\"color: #00af00; text-decoration-color: #00af00\">64</span>)          │          <span style=\"color: #00af00; text-decoration-color: #00af00\">18,496</span> │\n",
              "├──────────────────────────────────────┼─────────────────────────────┼─────────────────┤\n",
              "│ batch_normalization_9                │ (<span style=\"color: #00d7ff; text-decoration-color: #00d7ff\">None</span>, <span style=\"color: #00af00; text-decoration-color: #00af00\">61</span>, <span style=\"color: #00af00; text-decoration-color: #00af00\">61</span>, <span style=\"color: #00af00; text-decoration-color: #00af00\">64</span>)          │             <span style=\"color: #00af00; text-decoration-color: #00af00\">256</span> │\n",
              "│ (<span style=\"color: #0087ff; text-decoration-color: #0087ff\">BatchNormalization</span>)                 │                             │                 │\n",
              "├──────────────────────────────────────┼─────────────────────────────┼─────────────────┤\n",
              "│ max_pooling2d_9 (<span style=\"color: #0087ff; text-decoration-color: #0087ff\">MaxPooling2D</span>)       │ (<span style=\"color: #00d7ff; text-decoration-color: #00d7ff\">None</span>, <span style=\"color: #00af00; text-decoration-color: #00af00\">30</span>, <span style=\"color: #00af00; text-decoration-color: #00af00\">30</span>, <span style=\"color: #00af00; text-decoration-color: #00af00\">64</span>)          │               <span style=\"color: #00af00; text-decoration-color: #00af00\">0</span> │\n",
              "├──────────────────────────────────────┼─────────────────────────────┼─────────────────┤\n",
              "│ conv2d_10 (<span style=\"color: #0087ff; text-decoration-color: #0087ff\">Conv2D</span>)                   │ (<span style=\"color: #00d7ff; text-decoration-color: #00d7ff\">None</span>, <span style=\"color: #00af00; text-decoration-color: #00af00\">28</span>, <span style=\"color: #00af00; text-decoration-color: #00af00\">28</span>, <span style=\"color: #00af00; text-decoration-color: #00af00\">128</span>)         │          <span style=\"color: #00af00; text-decoration-color: #00af00\">73,856</span> │\n",
              "├──────────────────────────────────────┼─────────────────────────────┼─────────────────┤\n",
              "│ batch_normalization_10               │ (<span style=\"color: #00d7ff; text-decoration-color: #00d7ff\">None</span>, <span style=\"color: #00af00; text-decoration-color: #00af00\">28</span>, <span style=\"color: #00af00; text-decoration-color: #00af00\">28</span>, <span style=\"color: #00af00; text-decoration-color: #00af00\">128</span>)         │             <span style=\"color: #00af00; text-decoration-color: #00af00\">512</span> │\n",
              "│ (<span style=\"color: #0087ff; text-decoration-color: #0087ff\">BatchNormalization</span>)                 │                             │                 │\n",
              "├──────────────────────────────────────┼─────────────────────────────┼─────────────────┤\n",
              "│ max_pooling2d_10 (<span style=\"color: #0087ff; text-decoration-color: #0087ff\">MaxPooling2D</span>)      │ (<span style=\"color: #00d7ff; text-decoration-color: #00d7ff\">None</span>, <span style=\"color: #00af00; text-decoration-color: #00af00\">14</span>, <span style=\"color: #00af00; text-decoration-color: #00af00\">14</span>, <span style=\"color: #00af00; text-decoration-color: #00af00\">128</span>)         │               <span style=\"color: #00af00; text-decoration-color: #00af00\">0</span> │\n",
              "├──────────────────────────────────────┼─────────────────────────────┼─────────────────┤\n",
              "│ conv2d_11 (<span style=\"color: #0087ff; text-decoration-color: #0087ff\">Conv2D</span>)                   │ (<span style=\"color: #00d7ff; text-decoration-color: #00d7ff\">None</span>, <span style=\"color: #00af00; text-decoration-color: #00af00\">12</span>, <span style=\"color: #00af00; text-decoration-color: #00af00\">12</span>, <span style=\"color: #00af00; text-decoration-color: #00af00\">256</span>)         │         <span style=\"color: #00af00; text-decoration-color: #00af00\">295,168</span> │\n",
              "├──────────────────────────────────────┼─────────────────────────────┼─────────────────┤\n",
              "│ batch_normalization_11               │ (<span style=\"color: #00d7ff; text-decoration-color: #00d7ff\">None</span>, <span style=\"color: #00af00; text-decoration-color: #00af00\">12</span>, <span style=\"color: #00af00; text-decoration-color: #00af00\">12</span>, <span style=\"color: #00af00; text-decoration-color: #00af00\">256</span>)         │           <span style=\"color: #00af00; text-decoration-color: #00af00\">1,024</span> │\n",
              "│ (<span style=\"color: #0087ff; text-decoration-color: #0087ff\">BatchNormalization</span>)                 │                             │                 │\n",
              "├──────────────────────────────────────┼─────────────────────────────┼─────────────────┤\n",
              "│ max_pooling2d_11 (<span style=\"color: #0087ff; text-decoration-color: #0087ff\">MaxPooling2D</span>)      │ (<span style=\"color: #00d7ff; text-decoration-color: #00d7ff\">None</span>, <span style=\"color: #00af00; text-decoration-color: #00af00\">6</span>, <span style=\"color: #00af00; text-decoration-color: #00af00\">6</span>, <span style=\"color: #00af00; text-decoration-color: #00af00\">256</span>)           │               <span style=\"color: #00af00; text-decoration-color: #00af00\">0</span> │\n",
              "├──────────────────────────────────────┼─────────────────────────────┼─────────────────┤\n",
              "│ flatten_2 (<span style=\"color: #0087ff; text-decoration-color: #0087ff\">Flatten</span>)                  │ (<span style=\"color: #00d7ff; text-decoration-color: #00d7ff\">None</span>, <span style=\"color: #00af00; text-decoration-color: #00af00\">9216</span>)                │               <span style=\"color: #00af00; text-decoration-color: #00af00\">0</span> │\n",
              "├──────────────────────────────────────┼─────────────────────────────┼─────────────────┤\n",
              "│ dense_4 (<span style=\"color: #0087ff; text-decoration-color: #0087ff\">Dense</span>)                      │ (<span style=\"color: #00d7ff; text-decoration-color: #00d7ff\">None</span>, <span style=\"color: #00af00; text-decoration-color: #00af00\">128</span>)                 │       <span style=\"color: #00af00; text-decoration-color: #00af00\">1,179,776</span> │\n",
              "├──────────────────────────────────────┼─────────────────────────────┼─────────────────┤\n",
              "│ dropout_2 (<span style=\"color: #0087ff; text-decoration-color: #0087ff\">Dropout</span>)                  │ (<span style=\"color: #00d7ff; text-decoration-color: #00d7ff\">None</span>, <span style=\"color: #00af00; text-decoration-color: #00af00\">128</span>)                 │               <span style=\"color: #00af00; text-decoration-color: #00af00\">0</span> │\n",
              "├──────────────────────────────────────┼─────────────────────────────┼─────────────────┤\n",
              "│ dense_5 (<span style=\"color: #0087ff; text-decoration-color: #0087ff\">Dense</span>)                      │ (<span style=\"color: #00d7ff; text-decoration-color: #00d7ff\">None</span>, <span style=\"color: #00af00; text-decoration-color: #00af00\">9</span>)                   │           <span style=\"color: #00af00; text-decoration-color: #00af00\">1,161</span> │\n",
              "└──────────────────────────────────────┴─────────────────────────────┴─────────────────┘\n",
              "</pre>\n"
            ]
          },
          "metadata": {}
        },
        {
          "output_type": "display_data",
          "data": {
            "text/plain": [
              "\u001b[1m Total params: \u001b[0m\u001b[38;5;34m1,571,273\u001b[0m (5.99 MB)\n"
            ],
            "text/html": [
              "<pre style=\"white-space:pre;overflow-x:auto;line-height:normal;font-family:Menlo,'DejaVu Sans Mono',consolas,'Courier New',monospace\"><span style=\"font-weight: bold\"> Total params: </span><span style=\"color: #00af00; text-decoration-color: #00af00\">1,571,273</span> (5.99 MB)\n",
              "</pre>\n"
            ]
          },
          "metadata": {}
        },
        {
          "output_type": "display_data",
          "data": {
            "text/plain": [
              "\u001b[1m Trainable params: \u001b[0m\u001b[38;5;34m1,570,313\u001b[0m (5.99 MB)\n"
            ],
            "text/html": [
              "<pre style=\"white-space:pre;overflow-x:auto;line-height:normal;font-family:Menlo,'DejaVu Sans Mono',consolas,'Courier New',monospace\"><span style=\"font-weight: bold\"> Trainable params: </span><span style=\"color: #00af00; text-decoration-color: #00af00\">1,570,313</span> (5.99 MB)\n",
              "</pre>\n"
            ]
          },
          "metadata": {}
        },
        {
          "output_type": "display_data",
          "data": {
            "text/plain": [
              "\u001b[1m Non-trainable params: \u001b[0m\u001b[38;5;34m960\u001b[0m (3.75 KB)\n"
            ],
            "text/html": [
              "<pre style=\"white-space:pre;overflow-x:auto;line-height:normal;font-family:Menlo,'DejaVu Sans Mono',consolas,'Courier New',monospace\"><span style=\"font-weight: bold\"> Non-trainable params: </span><span style=\"color: #00af00; text-decoration-color: #00af00\">960</span> (3.75 KB)\n",
              "</pre>\n"
            ]
          },
          "metadata": {}
        }
      ],
      "source": [
        "import os\n",
        "import numpy as np\n",
        "from sklearn.model_selection import train_test_split\n",
        "from tensorflow.keras.preprocessing.image import ImageDataGenerator\n",
        "import pandas as pd\n",
        "import matplotlib.pyplot as plt\n",
        "from tensorflow.keras.models import Sequential\n",
        "from tensorflow.keras.layers import Conv2D, MaxPooling2D, Flatten, Dense, Dropout, BatchNormalization\n",
        "from tensorflow.keras.optimizers import Adam\n",
        "\n",
        "# Download and unzip the dataset\n",
        "!wget https://archive.ics.uci.edu/static/public/908/realwaste.zip -O /content/realwaste.zip\n",
        "!unzip -q /content/realwaste.zip -d /content/dataset\n",
        "\n",
        "# Define dataset path\n",
        "dataset_path = '/content/dataset/realwaste-main/RealWaste'\n",
        "\n",
        "# List all images and their categories\n",
        "categories = os.listdir(dataset_path)\n",
        "image_paths = []\n",
        "labels = []\n",
        "\n",
        "# Collect all image paths and corresponding labels\n",
        "for label, category in enumerate(categories):\n",
        "    category_path = os.path.join(dataset_path, category)\n",
        "    for img_file in os.listdir(category_path):\n",
        "        image_paths.append(os.path.join(category_path, img_file))\n",
        "        labels.append(label)\n",
        "\n",
        "# Convert to numpy arrays\n",
        "image_paths = np.array(image_paths)\n",
        "labels = np.array(labels)\n",
        "\n",
        "# Define a function to preprocess all images\n",
        "from tqdm import tqdm  # Install via pip if not already installed\n",
        "def preprocess_all_images(image_paths, labels, target_size=(128, 128)):  # Adjusted size for faster processing\n",
        "    datagen = ImageDataGenerator(rescale=1.0 / 255)\n",
        "    processed_images = []\n",
        "    for i, path in tqdm(enumerate(image_paths), total=len(image_paths), desc=\"Processing Images\"):\n",
        "        img = datagen.flow_from_dataframe(\n",
        "            dataframe=pd.DataFrame({'filename': [path], 'class': [str(labels[i])]}),\n",
        "            x_col='filename',\n",
        "            y_col='class',\n",
        "            target_size=target_size,\n",
        "            batch_size=1,\n",
        "            class_mode=None,\n",
        "            shuffle=False\n",
        "        )[0]\n",
        "        processed_images.append(img[0])  # Extract the processed image array\n",
        "    return np.array(processed_images), labels\n",
        "\n",
        "# Preprocess all images\n",
        "processed_images, processed_labels = preprocess_all_images(image_paths, labels)\n",
        "\n",
        "# Split preprocessed data into train, validation, and test sets\n",
        "train_images, temp_images, train_labels, temp_labels = train_test_split(\n",
        "    processed_images, processed_labels, test_size=0.4, random_state=42\n",
        ")\n",
        "val_images, test_images, val_labels, test_labels = train_test_split(\n",
        "    temp_images, temp_labels, test_size=0.5, random_state=42\n",
        ")\n",
        "\n",
        "# Print split results\n",
        "print(f\"Train samples: {len(train_images)}\")\n",
        "print(f\"Validation samples: {len(val_images)}\")\n",
        "print(f\"Test samples: {len(test_images)}\")\n",
        "\n",
        "# Calculate the number of classes based on unique labels in the training data\n",
        "num_classes = len(np.unique(train_labels))  # Ensure train_labels is correctly passed here\n",
        "\n",
        "# Define the CNN model\n",
        "model = Sequential()\n",
        "\n",
        "# First Convolutional Layer\n",
        "model.add(Conv2D(32, (3, 3), activation='relu', input_shape=(128, 128, 3)))  # Updated input size\n",
        "model.add(BatchNormalization())  # Add BatchNormalization here\n",
        "model.add(MaxPooling2D(pool_size=(2, 2)))\n",
        "\n",
        "# Second Convolutional Layer\n",
        "model.add(Conv2D(64, (3, 3), activation='relu'))\n",
        "model.add(BatchNormalization())  # Add BatchNormalization here\n",
        "model.add(MaxPooling2D(pool_size=(2, 2)))\n",
        "\n",
        "# Third Convolutional Layer\n",
        "model.add(Conv2D(128, (3, 3), activation='relu'))\n",
        "model.add(BatchNormalization())  # Add BatchNormalization here\n",
        "model.add(MaxPooling2D(pool_size=(2, 2)))\n",
        "\n",
        "# Fourth Convolutional Layer\n",
        "model.add(Conv2D(256, (3, 3), activation='relu'))\n",
        "model.add(BatchNormalization())  # Add BatchNormalization here\n",
        "model.add(MaxPooling2D(pool_size=(2, 2)))\n",
        "\n",
        "# Flatten the output\n",
        "model.add(Flatten())\n",
        "\n",
        "# Fully Connected Layer\n",
        "model.add(Dense(128, activation='relu'))\n",
        "model.add(Dropout(0.5))  # Increase dropout here as well\n",
        "\n",
        "# Output Layer with softmax activation for multi-class classification\n",
        "model.add(Dense(num_classes, activation='softmax'))\n",
        "\n",
        "# Compile the model with Adam optimizer and sparse categorical crossentropy loss\n",
        "optimizer = Adam(learning_rate=0.0001)\n",
        "model.compile(optimizer=optimizer, loss='sparse_categorical_crossentropy', metrics=['accuracy'])\n",
        "\n",
        "# Summary of the model\n",
        "model.summary()\n"
      ]
    },
    {
      "cell_type": "code",
      "source": [
        "# Train the model\n",
        "history = model.fit(\n",
        "    x=train_images,\n",
        "    y=train_labels,\n",
        "    batch_size=32,\n",
        "    epochs=20,\n",
        "    validation_data=(val_images, val_labels)\n",
        ")\n",
        "\n",
        "# Plot training & validation loss and accuracy\n",
        "plt.figure(figsize=(12, 6))\n",
        "\n",
        "# Plot Training and Validation Loss\n",
        "plt.subplot(1, 2, 1)\n",
        "plt.plot(history.history['loss'], label='Training Loss')\n",
        "plt.plot(history.history['val_loss'], label='Validation Loss')\n",
        "plt.title('Training and Validation Loss')\n",
        "plt.xlabel('Epochs')\n",
        "plt.ylabel('Loss')\n",
        "plt.legend()\n",
        "\n",
        "# Plot Training and Validation Accuracy\n",
        "plt.subplot(1, 2, 2)\n",
        "plt.plot(history.history['accuracy'], label='Training Accuracy')\n",
        "plt.plot(history.history['val_accuracy'], label='Validation Accuracy')\n",
        "plt.title('Training and Validation Accuracy')\n",
        "plt.xlabel('Epochs')\n",
        "plt.ylabel('Accuracy')\n",
        "plt.legend()\n",
        "\n",
        "plt.show()"
      ],
      "metadata": {
        "colab": {
          "base_uri": "https://localhost:8080/"
        },
        "id": "5DmhQqJ-JVWB",
        "outputId": "e71e7254-44e7-4dc2-8d72-68bfa7ecb324"
      },
      "execution_count": null,
      "outputs": [
        {
          "output_type": "stream",
          "name": "stdout",
          "text": [
            "Epoch 1/20\n",
            "\u001b[1m90/90\u001b[0m \u001b[32m━━━━━━━━━━━━━━━━━━━━\u001b[0m\u001b[37m\u001b[0m \u001b[1m165s\u001b[0m 2s/step - accuracy: 0.2727 - loss: 2.6750 - val_accuracy: 0.0863 - val_loss: 4.1454\n",
            "Epoch 2/20\n",
            "\u001b[1m20/90\u001b[0m \u001b[32m━━━━\u001b[0m\u001b[37m━━━━━━━━━━━━━━━━\u001b[0m \u001b[1m2:08\u001b[0m 2s/step - accuracy: 0.5283 - loss: 1.3352"
          ]
        }
      ]
    },
    {
      "cell_type": "code",
      "source": [],
      "metadata": {
        "id": "J0611eMnHKgr"
      },
      "execution_count": null,
      "outputs": []
    }
  ],
  "metadata": {
    "colab": {
      "provenance": [],
      "authorship_tag": "ABX9TyPsGqnb082/DtlwNgmY58mw",
      "include_colab_link": true
    },
    "kernelspec": {
      "display_name": "Python 3",
      "name": "python3"
    },
    "language_info": {
      "name": "python"
    }
  },
  "nbformat": 4,
  "nbformat_minor": 0
}